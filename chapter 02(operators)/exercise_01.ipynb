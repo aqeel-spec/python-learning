{
 "cells": [
  {
   "cell_type": "markdown",
   "metadata": {},
   "source": [
    "# **E x e r c i s e 01**"
   ]
  },
  {
   "cell_type": "markdown",
   "metadata": {},
   "source": [
    "**2-3. Personal Message** :` Use a variable to represent a person’s name, and print\n",
    "a message to that person. Your message should be simple, such as, “Hello Eric,\n",
    "would you like to learn some Python today?”`"
   ]
  },
  {
   "cell_type": "code",
   "execution_count": 4,
   "metadata": {},
   "outputs": [
    {
     "name": "stdout",
     "output_type": "stream",
     "text": [
      "Hello Eric!, would you like to learn some Python today? \n"
     ]
    }
   ],
   "source": [
    "person_name : str = \"Eric\"\n",
    "message : str = \"would you like to learn some Python today?\"\n",
    "\n",
    "print(f\"Hello {person_name}!, {message} \")"
   ]
  },
  {
   "cell_type": "markdown",
   "metadata": {},
   "source": [
    "**2-4. Name Cases**: `Use a variable to represent a person’s name, and then print\n",
    "that person’s name in lowercase, uppercase, and title case.`"
   ]
  },
  {
   "cell_type": "code",
   "execution_count": 3,
   "metadata": {},
   "outputs": [
    {
     "name": "stdout",
     "output_type": "stream",
     "text": [
      "Hello, ERIC!\n",
      "Hello, eric!\n",
      "Hello, Eric!\n"
     ]
    }
   ],
   "source": [
    "print(f\"Hello, {person_name.upper()}!\")\n",
    "print(f\"Hello, {person_name.lower()}!\")\n",
    "print(f\"Hello, {person_name.title()}!\")"
   ]
  },
  {
   "cell_type": "markdown",
   "metadata": {},
   "source": [
    "**2-5. Famous Quote** : Find a quote from a famous person you admire. Print the\n",
    "quote and the name of its author. Your output should look something like the\n",
    "following, including the quotation marks:<br /><br />\n",
    "    &nbsp;Albert Einstein once said, “A person who never made a mistake never\n",
    "    tried anything new.”"
   ]
  },
  {
   "cell_type": "code",
   "execution_count": 9,
   "metadata": {},
   "outputs": [
    {
     "name": "stdout",
     "output_type": "stream",
     "text": [
      "Albert Einstein once said, \"A person who never made a mistake never tried anything new.\"\n"
     ]
    }
   ],
   "source": [
    "famous_person = \"Albert Einstein\"\n",
    "quote = \"A person who never made a mistake never tried anything new.\"\n",
    "\n",
    "print(f'{famous_person} once said, \"{quote}\"')\n"
   ]
  },
  {
   "cell_type": "markdown",
   "metadata": {},
   "source": [
    "**2-6. Famous Quote 2**: Repeat Exercise 2-5, but this time, represent the famous\n",
    "person’s name using a variable called famous_person. Then compose your message and \n",
    "represent it with a new variable called message. Print your message."
   ]
  },
  {
   "cell_type": "code",
   "execution_count": 10,
   "metadata": {},
   "outputs": [
    {
     "name": "stdout",
     "output_type": "stream",
     "text": [
      "Albert Einstein once said, \"A person who never made a mistake never tried anything new.\"\n"
     ]
    }
   ],
   "source": [
    "famous_person = \"Albert Einstein\"\n",
    "quote = \"A person who never made a mistake never tried anything new.\"\n",
    "# compose message with variables *quote* and *famous_person*\n",
    "message = f'{famous_person} once said, \"{quote}\"'\n",
    "print(message)"
   ]
  },
  {
   "cell_type": "markdown",
   "metadata": {},
   "source": [
    "## 2-7. Stripping Names\n",
    "\n",
    "Use a variable to represent a person's name, and include some whitespace characters at the beginning and end of the name. Make sure you use each character combination, `\\t` and `\\n`, at least once.\n",
    "\n",
    "Print the name once, with whitespace. Then print the name using all three stripping functions, `lstrip()`, `rstrip()`, and `strip()`.\n",
    "\n"
   ]
  },
  {
   "cell_type": "code",
   "execution_count": 13,
   "metadata": {},
   "outputs": [
    {
     "data": {
      "text/plain": [
       "'   Aqeel    '"
      ]
     },
     "metadata": {},
     "output_type": "display_data"
    },
    {
     "data": {
      "text/plain": [
       "'Aqeel    '"
      ]
     },
     "metadata": {},
     "output_type": "display_data"
    },
    {
     "data": {
      "text/plain": [
       "'Aqeel'"
      ]
     },
     "metadata": {},
     "output_type": "display_data"
    },
    {
     "data": {
      "text/plain": [
       "'Aqeel'"
      ]
     },
     "metadata": {},
     "output_type": "display_data"
    }
   ],
   "source": [
    "person_name = \"   Aqeel    \"\n",
    "display(person_name)\n",
    "\n",
    "person_name = person_name.lstrip()\n",
    "display(person_name) # remove whitespace from left side\n",
    "\"\\t\\n\"\n",
    "person_name = person_name.rstrip() # remove whitespace from right side\n",
    "display(person_name)\n",
    "\n",
    "person_name = person_name.strip() # remove whitespace from both sides\n",
    "display(person_name)\n",
    "\n"
   ]
  },
  {
   "cell_type": "markdown",
   "metadata": {},
   "source": [
    "**2-8. File Extensions** \n",
    "\n",
    "Python has a `removesuffix()` method that works exactly\n",
    "\n",
    "like `removeprefix()`. Assign the value 'python_notes.txt' to a variable called\n",
    "\n",
    "filename. Then use the `removesuffix()` method to display the filename without\n",
    "\n",
    "the file extension, like some file browsers do."
   ]
  },
  {
   "cell_type": "code",
   "execution_count": 15,
   "metadata": {},
   "outputs": [
    {
     "data": {
      "text/plain": [
       "'python_notes'"
      ]
     },
     "metadata": {},
     "output_type": "display_data"
    },
    {
     "name": "stdout",
     "output_type": "stream",
     "text": [
      "python_notes\n"
     ]
    }
   ],
   "source": [
    "filename = 'python_notes.txt'\n",
    "\n",
    "display(filename.removesuffix('.txt'))\n",
    "\n",
    "# OR\n",
    "print(filename.removesuffix('.txt'))"
   ]
  }
 ],
 "metadata": {
  "kernelspec": {
   "display_name": "p-learning",
   "language": "python",
   "name": "python3"
  },
  "language_info": {
   "codemirror_mode": {
    "name": "ipython",
    "version": 3
   },
   "file_extension": ".py",
   "mimetype": "text/x-python",
   "name": "python",
   "nbconvert_exporter": "python",
   "pygments_lexer": "ipython3",
   "version": "3.11.5"
  }
 },
 "nbformat": 4,
 "nbformat_minor": 2
}
