{
 "cells": [
  {
   "cell_type": "markdown",
   "metadata": {},
   "source": [
    "# **E x e r c i s e 02**"
   ]
  },
  {
   "cell_type": "markdown",
   "metadata": {},
   "source": [
    "**2-9. Number Eight**\n",
    "\n",
    "Write addition, subtraction, multiplication, and division\n",
    "operations that each result in the number 8. Be sure to enclose your operations\n",
    "in print() calls to see the results. You should create four lines that look like this:\n",
    "\n",
    "<hr/>\n",
    "print(5+3)\n",
    "<hr/>\n",
    "\n",
    "Your output should be four lines, with the number 8 appearing once on\n",
    "each line."
   ]
  },
  {
   "cell_type": "code",
   "execution_count": 1,
   "metadata": {},
   "outputs": [
    {
     "name": "stdout",
     "output_type": "stream",
     "text": [
      "8\n",
      "2\n",
      "15\n",
      "1.6666666666666667\n"
     ]
    }
   ],
   "source": [
    "print(5+3) # Addition\n",
    "print(5-3) # Subtraction\n",
    "print(5*3) # Multiplication\n",
    "print(5/3) # Division"
   ]
  },
  {
   "cell_type": "markdown",
   "metadata": {},
   "source": [
    "**2-10. Favorite Number**\n",
    "\n",
    "Use a `variable` to represent your `favorite number`. Then,\n",
    "\n",
    "using that variable, create a message that reveals your favorite number. Print\n",
    "that message."
   ]
  },
  {
   "cell_type": "code",
   "execution_count": 3,
   "metadata": {},
   "outputs": [
    {
     "name": "stdout",
     "output_type": "stream",
     "text": [
      " My favourite number is , 10 \n"
     ]
    }
   ],
   "source": [
    "fav_number = 10\n",
    "\n",
    "message = \"My favourite number is\"\n",
    "\n",
    "print(f\" {message} , {fav_number} \")\n",
    "\n"
   ]
  }
 ],
 "metadata": {
  "kernelspec": {
   "display_name": "p-learning",
   "language": "python",
   "name": "python3"
  },
  "language_info": {
   "codemirror_mode": {
    "name": "ipython",
    "version": 3
   },
   "file_extension": ".py",
   "mimetype": "text/x-python",
   "name": "python",
   "nbconvert_exporter": "python",
   "pygments_lexer": "ipython3",
   "version": "3.11.5"
  }
 },
 "nbformat": 4,
 "nbformat_minor": 2
}
