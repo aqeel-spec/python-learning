{
 "cells": [
  {
   "cell_type": "markdown",
   "metadata": {},
   "source": [
    "# **E x e r c i s e 03**"
   ]
  },
  {
   "cell_type": "markdown",
   "metadata": {},
   "source": [
    "**2-11. Adding Comments**\n",
    "\n",
    "Choose two of the programs you’ve written, and\n",
    "\n",
    "add at least one comment to each. If you don’t have anything specific to write\n",
    "\n",
    "because your programs are too simple at this point, just add your name and the\n",
    "\n",
    "current date at the top of each program file. Then write one sentence describing\n",
    "\n",
    "what the program does."
   ]
  },
  {
   "cell_type": "code",
   "execution_count": 1,
   "metadata": {},
   "outputs": [],
   "source": [
    "famous_person = \"Albert Einstein\" # He is the famous person in scientist world\n",
    "\n",
    "# His famous qote is given below\n",
    "famous_qote = \"A person who never made a mistake never tried anything new.\""
   ]
  }
 ],
 "metadata": {
  "kernelspec": {
   "display_name": "p-learning",
   "language": "python",
   "name": "python3"
  },
  "language_info": {
   "codemirror_mode": {
    "name": "ipython",
    "version": 3
   },
   "file_extension": ".py",
   "mimetype": "text/x-python",
   "name": "python",
   "nbconvert_exporter": "python",
   "pygments_lexer": "ipython3",
   "version": "3.11.5"
  }
 },
 "nbformat": 4,
 "nbformat_minor": 2
}
