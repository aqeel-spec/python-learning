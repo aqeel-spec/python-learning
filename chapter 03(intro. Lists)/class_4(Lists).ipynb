{
  "cells": [
    {
      "cell_type": "code",
      "execution_count": null,
      "metadata": {
        "id": "GrKpJKN8oFJs"
      },
      "outputs": [],
      "source": [
        "# create individual variales\n",
        "name1 : str = \"Qasim\"\n",
        "name2 : str = \"Sir Zia\"\n",
        "name3 : str = \"Sir Inam\""
      ]
    },
    {
      "cell_type": "code",
      "execution_count": null,
      "metadata": {
        "id": "9H7MnRSZog6K"
      },
      "outputs": [],
      "source": [
        "# names of list should be plural\n",
        "names = [\"Qasim\",\"Sir Zia\",\"Sir Inam\"]"
      ]
    },
    {
      "cell_type": "markdown",
      "metadata": {
        "id": "ZW9LHnMPohVI"
      },
      "source": [
        "# List\n",
        " * dynamic\n",
        " * hetrogenous data types (Multipe types)\n",
        " * index\n",
        "   * positive 0 to n-1\n",
        "   * negative -1 to length\n",
        " * Slicing\n",
        "     * variable `names[start:end:step]`\n",
        "     * start : int = include\n",
        "     * end : int = n - 1\n",
        "     * step sequence"
      ]
    },
    {
      "cell_type": "markdown",
      "metadata": {},
      "source": [
        "* **Youtube** chapter 03 Class-04 :  https://www.youtube.com/watch?v=NzFLZkVtwMw\n",
        "* **Book** : https://drive.google.com/file/d/1VK4PWzCusHeS57m1JI3BRnb1QzLfYftf/view?usp=sharing"
      ]
    },
    {
      "cell_type": "code",
      "execution_count": null,
      "metadata": {
        "id": "f2waBsxipP42"
      },
      "outputs": [],
      "source": [
        "from typing import Any"
      ]
    },
    {
      "cell_type": "code",
      "execution_count": null,
      "metadata": {
        "colab": {
          "base_uri": "https://localhost:8080/"
        },
        "id": "ABdgDogcpPqR",
        "outputId": "7d8d36db-22f3-42aa-d8e7-c92d958f66c4"
      },
      "outputs": [
        {
          "name": "stdout",
          "output_type": "stream",
          "text": [
            "Sir Qasim\n",
            "Sir Qasim\n",
            "Sir Zia\n"
          ]
        }
      ],
      "source": [
        "# Qoma separed values\n",
        "# Elements can be of any data types\n",
        "# Always start from left to right\n",
        "# l-to-r ->  0           1        2\n",
        "names = [\"Sir Qasim\",\"Sir Zia\",\"Sir Inam\"] # to find last index -> last_index = length-1\n",
        "# r-to-l <- -3       -2         -1\n",
        "print(names[0]) # Sir Qasim\n",
        "print(names[-3]) # Sir Qasim\n",
        "\n",
        "print(names[-2]) # Sir Zia\n"
      ]
    },
    {
      "cell_type": "code",
      "execution_count": null,
      "metadata": {
        "colab": {
          "base_uri": "https://localhost:8080/"
        },
        "id": "ffvzPjN9rc6O",
        "outputId": "553bff54-36fa-4c01-fbe4-84e866ac9612"
      },
      "outputs": [
        {
          "name": "stdout",
          "output_type": "stream",
          "text": [
            "Sir Zia\n"
          ]
        }
      ],
      "source": [
        "from typing import Any\n",
        "# ->                      0          1         2\n",
        "names : list[Any] = [\"Sir Qasim\",\"Sir Zia\",\"Sir Inam\"]\n",
        "# <-                     -3          -2       -1\n",
        "print(names[-2])"
      ]
    },
    {
      "cell_type": "code",
      "execution_count": null,
      "metadata": {
        "colab": {
          "base_uri": "https://localhost:8080/"
        },
        "id": "IbMHDtptsBCr",
        "outputId": "1d445c00-e2e4-4459-9995-4fb68dbd6d14"
      },
      "outputs": [
        {
          "name": "stdout",
          "output_type": "stream",
          "text": [
            "<class 'list'>\n",
            "<class 'int'>\n",
            "Founder of PIAIC '20'\n"
          ]
        }
      ],
      "source": [
        "names : list[Any] = [\"Sir Qasim\",\"Sir Zia\",\"Sir Inam\", 20 , True]\n",
        "# <-                     -3          -2       -1\n",
        "print(type(names))\n",
        "print(type(names[-2]))\n",
        "\n",
        "print(f\"Founder of PIAIC '{names[-2]}'\")"
      ]
    },
    {
      "cell_type": "code",
      "execution_count": null,
      "metadata": {
        "colab": {
          "base_uri": "https://localhost:8080/",
          "height": 35
        },
        "id": "e9xWhlyUuDiQ",
        "outputId": "9fb961f2-b430-4392-d255-d0616215602e"
      },
      "outputs": [
        {
          "data": {
            "application/vnd.google.colaboratory.intrinsic+json": {
              "type": "string"
            },
            "text/plain": [
              "'abce'"
            ]
          },
          "execution_count": 16,
          "metadata": {},
          "output_type": "execute_result"
        }
      ],
      "source": [
        "\"abce\""
      ]
    },
    {
      "cell_type": "code",
      "execution_count": null,
      "metadata": {
        "colab": {
          "base_uri": "https://localhost:8080/"
        },
        "id": "E-iqyqc_uBtI",
        "outputId": "159a96d2-1a18-437e-ef9e-b8678beeaeff"
      },
      "outputs": [
        {
          "data": {
            "text/plain": [
              "['a', 'b', 'c', 'e']"
            ]
          },
          "execution_count": 17,
          "metadata": {},
          "output_type": "execute_result"
        }
      ],
      "source": [
        "list(\"abce\")"
      ]
    },
    {
      "cell_type": "code",
      "execution_count": null,
      "metadata": {
        "colab": {
          "base_uri": "https://localhost:8080/"
        },
        "id": "OJGNTe4qsISK",
        "outputId": "46bc870c-2298-4e54-84fd-4014ad765747"
      },
      "outputs": [
        {
          "name": "stdout",
          "output_type": "stream",
          "text": [
            "['A', 'B', 'C', 'D', 'E', 'F', 'G', 'H', 'I', 'J', 'K', 'L', 'M', 'N', 'O', 'P', 'Q', 'R', 'S', 'T', 'U', 'B', 'V', 'W', 'X', 'Y', 'Z']\n"
          ]
        }
      ],
      "source": [
        "characters : list[str] = list(\"ABCDEFGHIJKLMNOPQRSTUBVWXYZ\")\n",
        "print(characters)"
      ]
    },
    {
      "cell_type": "code",
      "execution_count": null,
      "metadata": {
        "colab": {
          "base_uri": "https://localhost:8080/"
        },
        "id": "hKqgoNZjtygV",
        "outputId": "eecb90a2-b342-41c3-9b0e-791bf6bc23fb"
      },
      "outputs": [
        {
          "name": "stdout",
          "output_type": "stream",
          "text": [
            "['A', 'B']\n",
            "['A', 'B']\n",
            "['A', 'B']\n",
            "['A', 'B']\n",
            "['A', 'B']\n"
          ]
        }
      ],
      "source": [
        "#                           0     1    2   3    .    .    .                                                                .    .                        25\n",
        "characters : list[str] = ['A', 'B', 'C', 'D', 'E', 'F', 'G', 'H', 'I', 'J', 'K', 'L', 'M', 'N', 'O', 'P', 'Q', 'R', 'S', 'T', 'U' , 'V', 'W', 'X', 'Y', 'Z']\n",
        "#                         -26  -25   -24                                                                                                                   -1\n",
        "\n",
        "# default slicing go from left to right\n",
        "print(characters[0:2]) # 0 = include : index 2 - 1 = 1\n",
        "print(characters[:2]) # not pass any number = all\n",
        "print(characters[-26:-24]) # 0 - include : index -24-1 = -25\n",
        "\n",
        "print(characters[0:2:1]) # 0 = include : step 1\n",
        "print(characters[0:2:]) # 0 = include : no step but include ':' default take 1\n"
      ]
    },
    {
      "cell_type": "code",
      "execution_count": null,
      "metadata": {
        "colab": {
          "base_uri": "https://localhost:8080/"
        },
        "id": "ShyB__4gvno1",
        "outputId": "fa7db68b-d05f-4e56-c6c9-02ccf3ba2cfc"
      },
      "outputs": [
        {
          "name": "stdout",
          "output_type": "stream",
          "text": [
            "['A', 'B', 'C', 'D', 'E', 'F', 'G', 'H', 'I', 'J', 'K', 'L', 'M', 'N', 'O', 'P', 'Q', 'R', 'S', 'T', 'U', 'V', 'W', 'X', 'Y', 'Z']\n",
            "['A', 'C', 'E', 'G', 'I', 'K', 'M', 'O', 'Q', 'S', 'U', 'W', 'Y']\n"
          ]
        }
      ],
      "source": [
        "characters : list[str] = ['A', 'B', 'C', 'D', 'E', 'F', 'G', 'H', 'I', 'J', 'K', 'L', 'M', 'N', 'O', 'P', 'Q', 'R', 'S', 'T', 'U' , 'V', 'W', 'X', 'Y', 'Z']\n",
        "\n",
        "print(characters[::]) # Print all\n",
        "print(characters[::2]) # 2 step A , C"
      ]
    },
    {
      "cell_type": "code",
      "execution_count": null,
      "metadata": {
        "colab": {
          "base_uri": "https://localhost:8080/"
        },
        "id": "FKjFvMQryXG1",
        "outputId": "cb7f57ce-44d2-4b3c-b15d-5d0ede57e4d6"
      },
      "outputs": [
        {
          "name": "stdout",
          "output_type": "stream",
          "text": [
            "['Z', 'Y', 'X', 'W', 'V', 'U', 'T', 'S', 'R', 'Q', 'P', 'O', 'N', 'M', 'L', 'K', 'J', 'I', 'H', 'G', 'F', 'E', 'D', 'C', 'B', 'A']\n"
          ]
        }
      ],
      "source": [
        "characters : list[str] = ['A', 'B', 'C', 'D', 'E', 'F', 'G', 'H', 'I', 'J', 'K', 'L', 'M', 'N', 'O', 'P', 'Q', 'R', 'S', 'T', 'U' , 'V', 'W', 'X', 'Y', 'Z']\n",
        "\n",
        "\n",
        "print(characters[::-1]) # <- start left"
      ]
    },
    {
      "cell_type": "code",
      "execution_count": null,
      "metadata": {
        "colab": {
          "base_uri": "https://localhost:8080/"
        },
        "id": "PocyuqD2yqyU",
        "outputId": "435ebeb4-1825-4756-c6c9-821ad103d6c6"
      },
      "outputs": [
        {
          "name": "stdout",
          "output_type": "stream",
          "text": [
            "['B', 'C', 'D', 'E']\n"
          ]
        }
      ],
      "source": [
        "#                          0     1    2    3     4   5  6     7\n",
        "characters : list[str] = ['A', 'B', 'C', 'D', 'E', 'F', 'G', 'H']\n",
        "#                          -8    -7   -6  -5   -4   -3   -2    -1\n",
        "\n",
        "print(characters[1:-3]) # 'B', 'C', 'D', 'E'"
      ]
    },
    {
      "cell_type": "code",
      "execution_count": null,
      "metadata": {
        "colab": {
          "base_uri": "https://localhost:8080/"
        },
        "id": "QkVsKPLSzMUO",
        "outputId": "03b1d0cd-539f-43c8-8734-b9d2159aa72e"
      },
      "outputs": [
        {
          "name": "stdout",
          "output_type": "stream",
          "text": [
            "[]\n"
          ]
        }
      ],
      "source": [
        "#                          0     1    2    3     4   5  6     7\n",
        "characters : list[str] = ['A', 'B', 'C', 'D', 'E', 'F', 'G', 'H']\n",
        "#                          -8    -7   -6  -5   -4   -3   -2    -1\n",
        "# iteration slicing ->\n",
        "# step -> positive\n",
        "# step <- negative\n",
        "print(characters[-2:-5]) # <-"
      ]
    },
    {
      "cell_type": "code",
      "execution_count": null,
      "metadata": {
        "colab": {
          "base_uri": "https://localhost:8080/"
        },
        "id": "klXHE3ra0LDp",
        "outputId": "b1b2616d-b1b3-436e-a24d-57c16cfc774b"
      },
      "outputs": [
        {
          "name": "stdout",
          "output_type": "stream",
          "text": [
            "['G', 'F', 'E']\n"
          ]
        }
      ],
      "source": [
        "#                          0     1    2    3     4   5  6     7\n",
        "characters : list[str] = ['A', 'B', 'C', 'D', 'E', 'F', 'G', 'H']\n",
        "#                          -8    -7   -6  -5   -4   -3   -2    -1\n",
        "# iteration slicing ->\n",
        "# step -> positive\n",
        "# step <- negative\n",
        "print(characters[-2:-5:-1]) # <-\n",
        "\n",
        "# slicing is a power feature of numpy and python"
      ]
    },
    {
      "cell_type": "markdown",
      "metadata": {
        "id": "cjp5QwNj0wPc"
      },
      "source": [
        "### slicing is a power feature of numpy and python"
      ]
    },
    {
      "cell_type": "markdown",
      "metadata": {
        "id": "3Pwg2TMw04c5"
      },
      "source": [
        "# List methods"
      ]
    },
    {
      "cell_type": "code",
      "execution_count": null,
      "metadata": {
        "colab": {
          "base_uri": "https://localhost:8080/"
        },
        "id": "1PML-PwG20SV",
        "outputId": "2e067403-dcbb-40a3-d332-ab258b2ea0cf"
      },
      "outputs": [
        {
          "data": {
            "text/plain": [
              "['append',\n",
              " 'clear',\n",
              " 'copy',\n",
              " 'count',\n",
              " 'extend',\n",
              " 'index',\n",
              " 'insert',\n",
              " 'pop',\n",
              " 'remove',\n",
              " 'reverse',\n",
              " 'sort']"
            ]
          },
          "execution_count": 35,
          "metadata": {},
          "output_type": "execute_result"
        }
      ],
      "source": [
        "[i for i in dir(list) if \"__\" not in i]"
      ]
    },
    {
      "cell_type": "code",
      "execution_count": null,
      "metadata": {
        "colab": {
          "base_uri": "https://localhost:8080/",
          "height": 211
        },
        "id": "vs0gZOFs7JXZ",
        "outputId": "bb75b180-e436-4e15-8aad-51434c9c2c8a"
      },
      "outputs": [
        {
          "ename": "NameError",
          "evalue": "ignored",
          "output_type": "error",
          "traceback": [
            "\u001b[0;31m---------------------------------------------------------------------------\u001b[0m",
            "\u001b[0;31mNameError\u001b[0m                                 Traceback (most recent call last)",
            "\u001b[0;32m<ipython-input-54-b07bd2c2addb>\u001b[0m in \u001b[0;36m<cell line: 5>\u001b[0;34m()\u001b[0m\n\u001b[1;32m      3\u001b[0m \u001b[0;32mdel\u001b[0m \u001b[0ma\u001b[0m \u001b[0;31m# remove object from memory\u001b[0m\u001b[0;34m\u001b[0m\u001b[0;34m\u001b[0m\u001b[0m\n\u001b[1;32m      4\u001b[0m \u001b[0;34m\u001b[0m\u001b[0m\n\u001b[0;32m----> 5\u001b[0;31m \u001b[0mprint\u001b[0m\u001b[0;34m(\u001b[0m\u001b[0ma\u001b[0m\u001b[0;34m)\u001b[0m\u001b[0;34m\u001b[0m\u001b[0;34m\u001b[0m\u001b[0m\n\u001b[0m",
            "\u001b[0;31mNameError\u001b[0m: name 'a' is not defined"
          ]
        }
      ],
      "source": [
        "a : list[str] = [1,2,3]\n",
        "\n",
        "del a # remove object from memory\n",
        "\n",
        "print(a)"
      ]
    },
    {
      "cell_type": "code",
      "execution_count": null,
      "metadata": {
        "colab": {
          "base_uri": "https://localhost:8080/"
        },
        "id": "c0RDSY6n64uS",
        "outputId": "7b514e1d-6129-4f3b-9e66-a776cdd1b1ed"
      },
      "outputs": [
        {
          "name": "stdout",
          "output_type": "stream",
          "text": [
            "[]\n"
          ]
        }
      ],
      "source": [
        "a : list[str] = [1,2,3]\n",
        "\n",
        "a.clear() # remove all elements but object is remain\n",
        "\n",
        "print(a)"
      ]
    },
    {
      "cell_type": "markdown",
      "metadata": {
        "id": "DKl9XHZF3BpT"
      },
      "source": [
        "# Help\n",
        "* help (object)\n",
        "* object?\n",
        "* object??\n",
        "* ?object\n",
        "* ??object"
      ]
    },
    {
      "cell_type": "code",
      "execution_count": null,
      "metadata": {
        "colab": {
          "base_uri": "https://localhost:8080/"
        },
        "id": "oR5ko67-3PUc",
        "outputId": "2bdc11f7-aa07-4ecf-ccc8-6ecfd128c8df"
      },
      "outputs": [
        {
          "name": "stdout",
          "output_type": "stream",
          "text": [
            "Help on built-in function print in module builtins:\n",
            "\n",
            "print(...)\n",
            "    print(value, ..., sep=' ', end='\\n', file=sys.stdout, flush=False)\n",
            "    \n",
            "    Prints the values to a stream, or to sys.stdout by default.\n",
            "    Optional keyword arguments:\n",
            "    file:  a file-like object (stream); defaults to the current sys.stdout.\n",
            "    sep:   string inserted between values, default a space.\n",
            "    end:   string appended after the last value, default a newline.\n",
            "    flush: whether to forcibly flush the stream.\n",
            "\n"
          ]
        }
      ],
      "source": [
        "help(print)"
      ]
    },
    {
      "cell_type": "code",
      "execution_count": null,
      "metadata": {
        "id": "VBLmwqdq3T27"
      },
      "outputs": [],
      "source": [
        "?print # 01\n",
        "??print # 02 ..."
      ]
    },
    {
      "cell_type": "code",
      "execution_count": null,
      "metadata": {
        "colab": {
          "base_uri": "https://localhost:8080/"
        },
        "id": "myDu1YPD0Twn",
        "outputId": "a3100deb-4503-4abc-f7ce-9a5147c68b5f"
      },
      "outputs": [
        {
          "name": "stdout",
          "output_type": "stream",
          "text": [
            "['Sir Qasim', 'Sir Zia', 'Sir Inam', 20, True]\n",
            "['Sir Muhammad Qasim', 'Sir Zia', 'Sir Inam', 20, True]\n"
          ]
        }
      ],
      "source": [
        "# List methods\n",
        "names : list[Any] = [\"Sir Qasim\",\"Sir Zia\",\"Sir Inam\",20,True]\n",
        "\n",
        "\n",
        "print(names)\n",
        "\n",
        "names[0] = \"Sir Muhammad Qasim\" # Python is mutable -> editable\n",
        "print(names)"
      ]
    },
    {
      "cell_type": "code",
      "execution_count": null,
      "metadata": {
        "colab": {
          "base_uri": "https://localhost:8080/"
        },
        "id": "vAyfL7FS02l1",
        "outputId": "fec209fe-4f6f-47d4-d692-0191196fab53"
      },
      "outputs": [
        {
          "name": "stdout",
          "output_type": "stream",
          "text": [
            "['Sir Qasim', 'Sir Zia', 'Sir Inam', 20, True]\n",
            "['Sir Qasim', 'Sir Zia', 'Sir Inam', True]\n"
          ]
        }
      ],
      "source": [
        "# List methods           0            1        2\n",
        "names : list[Any] = [\"Sir Qasim\",\"Sir Zia\",\"Sir Inam\",20,True]\n",
        "#                       -3           -2        -1\n",
        "\n",
        "print(names)\n",
        "\n",
        "del names[3]  # delete 3 index element\n",
        "\n",
        "print(names)"
      ]
    },
    {
      "cell_type": "code",
      "execution_count": null,
      "metadata": {
        "colab": {
          "base_uri": "https://localhost:8080/",
          "height": 52
        },
        "id": "wCnF9Wji2OBq",
        "outputId": "f826c113-1c4c-455d-cdb1-39cd328ea7fc"
      },
      "outputs": [
        {
          "name": "stdout",
          "output_type": "stream",
          "text": [
            "Pakistan\n"
          ]
        },
        {
          "data": {
            "text/plain": [
              "None"
            ]
          },
          "metadata": {},
          "output_type": "display_data"
        }
      ],
      "source": [
        "a : str = print(\"Pakistan\") # non return function\n",
        "display(a)"
      ]
    },
    {
      "cell_type": "code",
      "execution_count": null,
      "metadata": {
        "colab": {
          "base_uri": "https://localhost:8080/",
          "height": 34
        },
        "id": "4MQPPuh52bFh",
        "outputId": "12c8b466-406d-4b81-a212-c2ebf6bda65e"
      },
      "outputs": [
        {
          "data": {
            "text/plain": [
              "133858035903680"
            ]
          },
          "metadata": {},
          "output_type": "display_data"
        }
      ],
      "source": [
        "a : str = id(names) # return function\n",
        "display(a)"
      ]
    },
    {
      "cell_type": "code",
      "execution_count": null,
      "metadata": {
        "colab": {
          "base_uri": "https://localhost:8080/"
        },
        "id": "g_TaXmHY2mG_",
        "outputId": "2b82518a-bc36-4b58-ea70-5363cd54ac8a"
      },
      "outputs": [
        {
          "data": {
            "text/plain": [
              "['Sir Qasim', 'Sir Zia', 'Sir Inam', True]"
            ]
          },
          "execution_count": 41,
          "metadata": {},
          "output_type": "execute_result"
        }
      ],
      "source": [
        "# List methods           0            1        2\n",
        "names : list[Any] = [\"Sir Qasim\",\"Sir Zia\",\"Sir Inam\",20,True]\n",
        "#                       -3           -2        -1\n",
        "\n",
        "del names[3]\n",
        "names\n"
      ]
    },
    {
      "cell_type": "markdown",
      "metadata": {
        "id": "BBtAK_Lp5DZo"
      },
      "source": [
        "### Pop"
      ]
    },
    {
      "cell_type": "code",
      "execution_count": null,
      "metadata": {
        "colab": {
          "base_uri": "https://localhost:8080/"
        },
        "id": "G4BeGTzC30B1",
        "outputId": "07840294-cc1f-4846-f143-d8664f516308"
      },
      "outputs": [
        {
          "name": "stdout",
          "output_type": "stream",
          "text": [
            "True\n"
          ]
        }
      ],
      "source": [
        "# List methods           0            1        2\n",
        "names : list[Any] = [\"Sir Qasim\",\"Sir Zia\",\"Sir Inam\",20,True]\n",
        "#                       -3           -2        -1\n",
        "\n",
        "# pop return method exp. TODO LIST\n",
        "a : str = names.pop() # delete last value\n",
        "\n",
        "print(a)"
      ]
    },
    {
      "cell_type": "markdown",
      "metadata": {
        "id": "MrBqTq1B552l"
      },
      "source": [
        "### Append method add element at last"
      ]
    },
    {
      "cell_type": "code",
      "execution_count": null,
      "metadata": {
        "colab": {
          "base_uri": "https://localhost:8080/"
        },
        "id": "NXCM3-7r5XTO",
        "outputId": "635c8e65-ade4-4519-fc5e-4d47f6e456cf"
      },
      "outputs": [
        {
          "name": "stdout",
          "output_type": "stream",
          "text": [
            "['Sir Zia', 'Sir Inam', 'Sir Qasim']\n"
          ]
        }
      ],
      "source": [
        "names : list[str] = []\n",
        "names.append(\"Sir Zia\")    # add element in last\n",
        "names.append(\"Sir Inam\")# add element in last\n",
        "names.append(\"Sir Qasim\")# add element in last\n",
        "\n",
        "print(names)"
      ]
    },
    {
      "cell_type": "code",
      "execution_count": null,
      "metadata": {
        "colab": {
          "base_uri": "https://localhost:8080/"
        },
        "id": "vFW5kpHC6chL",
        "outputId": "82646bb6-7084-434d-9073-8008eac60a2e"
      },
      "outputs": [
        {
          "name": "stdout",
          "output_type": "stream",
          "text": [
            "['a', 'b', 'c']\n",
            "['a', 'Sir Qasim', 'b', 'c']\n"
          ]
        }
      ],
      "source": [
        "names : list[str] = [\"a\",\"b\",\"c\"]\n",
        "\n",
        "print(names)\n",
        "names.insert(1,\"Sir Qasim\") # insert at particular position\n",
        "\n",
        "print(names)"
      ]
    },
    {
      "cell_type": "code",
      "execution_count": null,
      "metadata": {
        "colab": {
          "base_uri": "https://localhost:8080/"
        },
        "id": "PgntGgWQ381m",
        "outputId": "7dd7813f-995d-48f9-a097-688d7005b8ef"
      },
      "outputs": [
        {
          "name": "stdout",
          "output_type": "stream",
          "text": [
            "Pakistan Zinada Abad\n",
            "None\n"
          ]
        }
      ],
      "source": [
        "print(print(\"Pakistan Zinada Abad\"))"
      ]
    },
    {
      "cell_type": "code",
      "execution_count": null,
      "metadata": {
        "colab": {
          "base_uri": "https://localhost:8080/"
        },
        "id": "W84gnxra4kR7",
        "outputId": "eff04d27-3067-4ca0-89d2-4962379f2c95"
      },
      "outputs": [
        {
          "name": "stdout",
          "output_type": "stream",
          "text": [
            "Sir Qasim\n",
            "['Sir Zia', 'Sir Inam', 20, True]\n"
          ]
        }
      ],
      "source": [
        "# List methods           0            1        2\n",
        "names : list[Any] = [\"Sir Qasim\",\"Sir Zia\",\"Sir Inam\",20,True]\n",
        "#                       -3           -2        -1\n",
        "\n",
        "# pop return method exp. TODO LIST\n",
        "a : str = names.pop(0) # delete at particular index\n",
        "\n",
        "print(a)\n",
        "print(names)"
      ]
    },
    {
      "cell_type": "code",
      "execution_count": null,
      "metadata": {
        "colab": {
          "base_uri": "https://localhost:8080/"
        },
        "id": "TX93FQ1a5Lxg",
        "outputId": "6051da76-af6f-4091-a7e1-8a09dbedba95"
      },
      "outputs": [
        {
          "name": "stdout",
          "output_type": "stream",
          "text": [
            "['a', 'b', 'c']\n",
            "['a', 'b', 'c']\n"
          ]
        }
      ],
      "source": [
        "a : list[str] = [\"a\",\"b\",\"c\"]\n",
        "\n",
        "b = a\n",
        "\n",
        "print(a)\n",
        "print(b)"
      ]
    },
    {
      "cell_type": "code",
      "execution_count": null,
      "metadata": {
        "colab": {
          "base_uri": "https://localhost:8080/"
        },
        "id": "R7EYASsu7fqU",
        "outputId": "4a57bda1-c1ca-49d3-bbeb-ef8c65a026ce"
      },
      "outputs": [
        {
          "name": "stdout",
          "output_type": "stream",
          "text": [
            "['a', 'b', 'c']\n",
            "['a', 'b', 'c']\n",
            "['Pakistan', 'b', 'c']\n",
            "['Pakistan', 'b', 'c']\n"
          ]
        }
      ],
      "source": [
        "a : list[str] = [\"a\",\"b\",\"c\"]\n",
        "\n",
        "b = a # shallow copy\n",
        "\n",
        "print(a)\n",
        "print(b)\n",
        "\n",
        "b[0] = 'Pakistan' # changes only b variable but both variable updated\n",
        "\n",
        "print(a)\n",
        "print(b)"
      ]
    },
    {
      "cell_type": "code",
      "execution_count": null,
      "metadata": {
        "colab": {
          "base_uri": "https://localhost:8080/"
        },
        "id": "wcRml7tE7n1L",
        "outputId": "b8fd4e2d-5dd9-4413-88e3-4f59eb9b3ecf"
      },
      "outputs": [
        {
          "name": "stdout",
          "output_type": "stream",
          "text": [
            "a :  ['a', 'b', 'c']\n",
            "b :  ['a', 'b', 'c']\n",
            "['a', 'b', 'c']\n",
            "['Pakistan', 'b', 'c']\n"
          ]
        }
      ],
      "source": [
        "a : list[str] = [\"a\",\"b\",\"c\"]\n",
        "\n",
        "b = a.copy() # deep copy\n",
        "\n",
        "\n",
        "\n",
        "print(\"a : \",a)\n",
        "print(\"b : \",b)\n",
        "\n",
        "b[0] = 'Pakistan' # changes only b variable but both variable updated\n",
        "\n",
        "print(a)\n",
        "print(b)"
      ]
    },
    {
      "cell_type": "markdown",
      "metadata": {
        "id": "YOKdfMdp8uNo"
      },
      "source": []
    },
    {
      "cell_type": "code",
      "execution_count": null,
      "metadata": {
        "colab": {
          "base_uri": "https://localhost:8080/"
        },
        "id": "OQisPr-d7615",
        "outputId": "0170d12a-e0b1-4ece-81a7-070e12ca19f4"
      },
      "outputs": [
        {
          "name": "stdout",
          "output_type": "stream",
          "text": [
            "2\n",
            "3\n"
          ]
        }
      ],
      "source": [
        "# count\n",
        "names : list[str] = ['a','a','a','b','c','c']\n",
        "print(names.count(\"c\"))\n",
        "print(names.count(\"a\"))\n",
        "\n",
        "\n",
        "\n"
      ]
    },
    {
      "cell_type": "code",
      "execution_count": null,
      "metadata": {
        "colab": {
          "base_uri": "https://localhost:8080/"
        },
        "id": "zpY_6DNO8yUX",
        "outputId": "c87bcdd9-1d06-4973-ca65-f10a76b47175"
      },
      "outputs": [
        {
          "data": {
            "text/plain": [
              "['Sir Zia', 'Sir Muhammad Qasim', 'Sir Zia', 'Dir Noman']"
            ]
          },
          "execution_count": 65,
          "metadata": {},
          "output_type": "execute_result"
        }
      ],
      "source": [
        "# count\n",
        "names : list[str] = ['Sir Zia','Sir Muhammad Qasim'] # etAI founder members\n",
        "\n",
        "new_faculty_mambers : list[str] = ['Sir Zia','Dir Noman']\n",
        "\n",
        "# names.append(new_faculty_mambers) # add in last index as it is\n",
        "\n",
        "names.extend(new_faculty_mambers) # destrucure all values\n",
        "\n",
        "names\n"
      ]
    },
    {
      "cell_type": "code",
      "execution_count": null,
      "metadata": {
        "colab": {
          "base_uri": "https://localhost:8080/"
        },
        "id": "d9WwLMT99OCD",
        "outputId": "e4d4632a-b369-44a5-de36-93af3ea89c22"
      },
      "outputs": [
        {
          "data": {
            "text/plain": [
              "['Sir Zia', 'Sir Zia', 'Dir Noman']"
            ]
          },
          "execution_count": 67,
          "metadata": {},
          "output_type": "execute_result"
        }
      ],
      "source": [
        "names : list[str] = ['Sir Zia', 'Sir Muhammad Qasim', 'Sir Zia', 'Dir Noman']\n",
        "\n",
        "names.remove(\"Sir Muhammad Qasim\") # remove with text valie\n",
        "\n",
        "names"
      ]
    },
    {
      "cell_type": "code",
      "execution_count": null,
      "metadata": {
        "colab": {
          "base_uri": "https://localhost:8080/"
        },
        "id": "8-7XiPX999nU",
        "outputId": "8af386e9-3c92-43ff-ca1c-236c25d1b7a5"
      },
      "outputs": [
        {
          "data": {
            "text/plain": [
              "1"
            ]
          },
          "execution_count": 69,
          "metadata": {},
          "output_type": "execute_result"
        }
      ],
      "source": [
        "names : list[str] = ['Sir Zia', 'Sir Muhammad Qasim', 'Sir Zia', 'Dir Noman']\n",
        "\n",
        "names.index(\"Sir Muhammad Qasim\") # remove with text valie\n",
        "\n",
        "# names"
      ]
    },
    {
      "cell_type": "code",
      "execution_count": null,
      "metadata": {
        "colab": {
          "base_uri": "https://localhost:8080/"
        },
        "id": "PiqDpl-V-Lcq",
        "outputId": "bfe0cae5-0e74-4ef5-8b1c-5ec041efe9bd"
      },
      "outputs": [
        {
          "data": {
            "text/plain": [
              "0"
            ]
          },
          "execution_count": 70,
          "metadata": {},
          "output_type": "execute_result"
        }
      ],
      "source": [
        "names : list[str] = ['Sir Zia', 'Sir Muhammad Qasim', 'Sir Zia', 'Dir Noman']\n",
        "\n",
        "names.index(\"Sir Zia\") # find occurence from start\n",
        "\n"
      ]
    },
    {
      "cell_type": "code",
      "execution_count": null,
      "metadata": {
        "colab": {
          "base_uri": "https://localhost:8080/"
        },
        "id": "1uwaT1a5-d64",
        "outputId": "1c994bbd-b88e-4d30-f38c-fbebd49cc722"
      },
      "outputs": [
        {
          "data": {
            "text/plain": [
              "2"
            ]
          },
          "execution_count": 71,
          "metadata": {},
          "output_type": "execute_result"
        }
      ],
      "source": [
        "names : list[str] = ['Sir Zia', 'Sir Muhammad Qasim', 'Sir Zia', 'Dir Noman']\n",
        "\n",
        "names.index(\"Sir Zia\",2) # find occurence from after 2 index\n",
        "\n"
      ]
    },
    {
      "cell_type": "code",
      "execution_count": null,
      "metadata": {
        "colab": {
          "base_uri": "https://localhost:8080/"
        },
        "id": "RRYzlP67-jcA",
        "outputId": "0b56ecb7-ae5d-419b-cc04-65f8957fa8ef"
      },
      "outputs": [
        {
          "data": {
            "text/plain": [
              "2"
            ]
          },
          "execution_count": 74,
          "metadata": {},
          "output_type": "execute_result"
        }
      ],
      "source": [
        "\n",
        "#                         0             1                2             3\n",
        "names : list[str] = ['Sir Zia', 'Sir Muhammad Qasim', 'Sir Zia', 'Dir Noman']\n",
        "#                        -4              -3              -2         -1\n",
        "\n",
        "names.index(\"Sir Zia\",-3) # find occurence from after 2 index\n",
        "\n"
      ]
    },
    {
      "cell_type": "code",
      "execution_count": null,
      "metadata": {
        "colab": {
          "base_uri": "https://localhost:8080/"
        },
        "id": "o8VOhKJc-1uS",
        "outputId": "5c14e874-fd04-4785-a19b-68ebc6d59b2d"
      },
      "outputs": [
        {
          "name": "stdout",
          "output_type": "stream",
          "text": [
            "['Sir Zia', 'Sir Muhammad Qasim', 'Sir Zia', 'Dir Noman']\n",
            "['Dir Noman', 'Sir Zia', 'Sir Muhammad Qasim', 'Sir Zia']\n"
          ]
        }
      ],
      "source": [
        "names : list[str] = ['Sir Zia', 'Sir Muhammad Qasim', 'Sir Zia', 'Dir Noman']\n",
        "\n",
        "print(names)\n",
        "names.reverse() # in-memory = change real data\n",
        "print(names)\n",
        "\n"
      ]
    },
    {
      "cell_type": "code",
      "execution_count": null,
      "metadata": {
        "colab": {
          "base_uri": "https://localhost:8080/"
        },
        "id": "Z-qb8j8Z_KPz",
        "outputId": "87d3be36-60ad-4bf7-a6d2-96a447fcd64c"
      },
      "outputs": [
        {
          "name": "stdout",
          "output_type": "stream",
          "text": [
            "['A', 'B', 'C', 'D', 'E', 'F']\n",
            "['F', 'E', 'D', 'C', 'B', 'A']\n"
          ]
        }
      ],
      "source": [
        "names : list[str] = list(\"ABCDEF\")\n",
        "print(names)\n",
        "names.reverse() # in-memory = change real data\n",
        "print(names)\n",
        "\n"
      ]
    },
    {
      "cell_type": "code",
      "execution_count": null,
      "metadata": {
        "colab": {
          "base_uri": "https://localhost:8080/"
        },
        "id": "MVRzEY_2_Ul0",
        "outputId": "afdbc2f0-4fc3-44dd-a72c-f36e37b178c5"
      },
      "outputs": [
        {
          "name": "stdout",
          "output_type": "stream",
          "text": [
            "['A', 'C', 'B', 'D', 'E', 'F']\n",
            "['A', 'B', 'C', 'D', 'E', 'F']\n"
          ]
        }
      ],
      "source": [
        "names : list[str] = list(\"ACBDEF\")\n",
        "print(names)\n",
        "names.sort() # in-memory = change real data sort\n",
        "print(names)\n",
        "\n"
      ]
    },
    {
      "cell_type": "code",
      "execution_count": null,
      "metadata": {
        "colab": {
          "base_uri": "https://localhost:8080/"
        },
        "id": "YPH7kOpyC2K0",
        "outputId": "0ca97d30-a14d-49e0-a882-39f8ed5fdc1c"
      },
      "outputs": [
        {
          "name": "stdout",
          "output_type": "stream",
          "text": [
            "['A', 'C', 'B', 'D', 'E', 'F']\n",
            "['F', 'E', 'D', 'C', 'B', 'A']\n"
          ]
        }
      ],
      "source": [
        "names : list[str] = list(\"ACBDEF\")\n",
        "print(names)\n",
        "names.sort(reverse=True) # in-memory = change real data sort\n",
        "print(names)\n"
      ]
    },
    {
      "cell_type": "code",
      "execution_count": null,
      "metadata": {
        "colab": {
          "base_uri": "https://localhost:8080/"
        },
        "id": "DFIZE5NR_ZYq",
        "outputId": "38baa7b7-ffe7-4722-9048-ba5a3c74d7f5"
      },
      "outputs": [
        {
          "name": "stdout",
          "output_type": "stream",
          "text": [
            "['A', 'C', 'B', 'D', 'E', 'F']\n",
            "['F', 'E', 'D', 'C', 'B', 'A']\n"
          ]
        }
      ],
      "source": [
        "names : list[str] = list(\"ACBDEF\")\n",
        "print(names)\n",
        "names.sort(reverse=True) # in-memory = change real data sort\n",
        "print(names)\n",
        "\n"
      ]
    },
    {
      "cell_type": "code",
      "execution_count": 1,
      "metadata": {
        "colab": {
          "base_uri": "https://localhost:8080/"
        },
        "id": "XVVPeOd3_qpy",
        "outputId": "5947af05-df0e-42f8-c36b-4136752794c9"
      },
      "outputs": [
        {
          "name": "stdout",
          "output_type": "stream",
          "text": [
            "['apple', 'banana', 'cherry']\n"
          ]
        }
      ],
      "source": [
        "thislist = list((\"apple\", \"banana\", \"cherry\")) # note the double round-brackets\n",
        "print(thislist)"
      ]
    },
    {
      "cell_type": "code",
      "execution_count": null,
      "metadata": {
        "id": "_QwUqDcBcBWl"
      },
      "outputs": [],
      "source": []
    },
    {
      "cell_type": "markdown",
      "metadata": {
        "id": "PNfCP1eqfOq-"
      },
      "source": []
    },
    {
      "cell_type": "markdown",
      "metadata": {},
      "source": [
        "## **<p align='center'>Try it yourself</p>**"
      ]
    },
    {
      "cell_type": "markdown",
      "metadata": {},
      "source": [
        "* All the solved exercise chapter wise are in separate files"
      ]
    },
    {
      "cell_type": "markdown",
      "metadata": {},
      "source": [
        "Try these short programs to get some firsthand experience with `Python’s lists`.\n",
        "\n",
        "You might want to create a new folder for each `chapter’s exercises`, to keep\n",
        "\n",
        "them organized."
      ]
    }
  ],
  "metadata": {
    "colab": {
      "provenance": []
    },
    "kernelspec": {
      "display_name": "Python 3",
      "name": "python3"
    },
    "language_info": {
      "name": "python"
    }
  },
  "nbformat": 4,
  "nbformat_minor": 0
}
