{
 "cells": [
  {
   "cell_type": "markdown",
   "metadata": {},
   "source": [
    "# **E x e r c i s e 01**"
   ]
  },
  {
   "cell_type": "markdown",
   "metadata": {},
   "source": [
    "Try these short programs to get some firsthand experience with `Python’s lists`.\n",
    "\n",
    "You might want to create a new folder for each `chapter’s exercises`, to keep\n",
    "\n",
    "them organized."
   ]
  },
  {
   "cell_type": "markdown",
   "metadata": {},
   "source": [
    "**3-1. Names**\n",
    "\n",
    "Store the names of a few of your friends in a `list` called `names`. Print\n",
    "\n",
    "each `person’s name` by accessing each element in the list, one at a time."
   ]
  },
  {
   "cell_type": "code",
   "execution_count": 3,
   "metadata": {},
   "outputs": [
    {
     "name": "stdout",
     "output_type": "stream",
     "text": [
      "Joseph\n",
      "Glenn\n",
      "Sally\n"
     ]
    }
   ],
   "source": [
    "# Solution 01\n",
    "names : list[str] = ['Joseph', 'Glenn', 'Sally']\n",
    "\n",
    "print(names[0])\n",
    "print(names[1])\n",
    "print(names[2])\n"
   ]
  },
  {
   "cell_type": "code",
   "execution_count": 4,
   "metadata": {},
   "outputs": [
    {
     "name": "stdout",
     "output_type": "stream",
     "text": [
      "Joseph\n",
      "Glenn\n",
      "Sally\n"
     ]
    }
   ],
   "source": [
    "# Solution 02 \n",
    "names : list[str] = ['Joseph', 'Glenn', 'Sally']\n",
    "\n",
    "print(names[-3])\n",
    "print(names[-2])\n",
    "print(names[-1])\n"
   ]
  },
  {
   "cell_type": "code",
   "execution_count": 14,
   "metadata": {},
   "outputs": [
    {
     "name": "stdout",
     "output_type": "stream",
     "text": [
      "Joseph\n",
      "Glenn\n",
      "Sally\n"
     ]
    }
   ],
   "source": [
    "# Solution 03\n",
    "names : list[str] = ['Joseph', 'Glenn', 'Sally']\n",
    "\n",
    "for name in names:\n",
    "  print(name)"
   ]
  },
  {
   "cell_type": "code",
   "execution_count": 2,
   "metadata": {},
   "outputs": [
    {
     "name": "stdout",
     "output_type": "stream",
     "text": [
      "Happy New Year: Joseph\n",
      "Happy New Year: Glenn\n",
      "Happy New Year: Sally\n",
      "Done!\n"
     ]
    }
   ],
   "source": [
    "# Solution 04\n",
    "names : list[str] = ['Joseph', 'Glenn', 'Sally']\n",
    "for name in names:\n",
    "    print('Happy New Year:', name)\n",
    "print('Done!')"
   ]
  },
  {
   "cell_type": "markdown",
   "metadata": {},
   "source": [
    "**3-2. Greetings**\n",
    "\n",
    "Start with the list you used in Exercise 3-1, but instead of just\n",
    "\n",
    "printing each person’s name, print a message to them. The text of each message \n",
    "\n",
    "should be the same, but each message should be personalized with the person’s name."
   ]
  },
  {
   "cell_type": "code",
   "execution_count": 1,
   "metadata": {},
   "outputs": [
    {
     "name": "stdout",
     "output_type": "stream",
     "text": [
      "Happy New Year: Joseph\n",
      "Happy New Year: Glenn\n",
      "Happy New Year: Sally\n",
      "Done!\n"
     ]
    }
   ],
   "source": [
    "# Solution 01\n",
    "names : list[str] = ['Joseph', 'Glenn', 'Sally']\n",
    "for name in names:\n",
    "    print('Happy New Year:', name)\n",
    "print('Done!')"
   ]
  },
  {
   "cell_type": "code",
   "execution_count": 2,
   "metadata": {},
   "outputs": [
    {
     "name": "stdout",
     "output_type": "stream",
     "text": [
      "Hello, Joseph!\n",
      "Hello, Glenn!\n",
      "Hello, Sally!\n"
     ]
    }
   ],
   "source": [
    "# Solution 02\n",
    "names : list[str] = ['Joseph', 'Glenn', 'Sally']\n",
    "\n",
    "for name in names:\n",
    "  print(f\"Hello, {name}!\")\n"
   ]
  },
  {
   "cell_type": "markdown",
   "metadata": {},
   "source": [
    "**3-3. Your Own List**\n",
    "\n",
    "Think of your favorite mode of transportation, such as a\n",
    "\n",
    "motorcycle or a car, and make a` list` that stores several examples. Use your list\n",
    "\n",
    "to print a series of statements about these items, such as `“I would like to own a\n",
    "Honda motorcycle.”`"
   ]
  },
  {
   "cell_type": "code",
   "execution_count": 7,
   "metadata": {},
   "outputs": [
    {
     "name": "stdout",
     "output_type": "stream",
     "text": [
      "\n",
      "I would like to own a 'BMW' car.\n",
      "\n",
      "I would like to own a 'Mercedes' car.\n",
      "\n",
      "I would like to own a 'Audi' car.\n"
     ]
    }
   ],
   "source": [
    "fav_cars : list[str] = [\"BMW\", \"Mercedes\", \"Audi\"]\n",
    "\n",
    "for car in fav_cars: \n",
    "    print(f\"\\nI would like to own a '{car}' car.\")"
   ]
  }
 ],
 "metadata": {
  "kernelspec": {
   "display_name": "p-learning",
   "language": "python",
   "name": "python3"
  },
  "language_info": {
   "codemirror_mode": {
    "name": "ipython",
    "version": 3
   },
   "file_extension": ".py",
   "mimetype": "text/x-python",
   "name": "python",
   "nbconvert_exporter": "python",
   "pygments_lexer": "ipython3",
   "version": "3.11.5"
  }
 },
 "nbformat": 4,
 "nbformat_minor": 2
}
