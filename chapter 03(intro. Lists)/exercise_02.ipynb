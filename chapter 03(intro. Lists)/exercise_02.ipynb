{
 "cells": [
  {
   "cell_type": "markdown",
   "metadata": {},
   "source": [
    "# **E x e r c i s e 02**"
   ]
  },
  {
   "cell_type": "markdown",
   "metadata": {},
   "source": [
    "The following exercises are a bit more complex than those in Chapter 2, but\n",
    "\n",
    "they give you an opportunity to use lists in all of the ways described."
   ]
  },
  {
   "cell_type": "markdown",
   "metadata": {},
   "source": [
    "**3-4. Guest List**\n",
    "\n",
    "If you could invite anyone, living or deceased, to dinner, who\n",
    "\n",
    "would you invite? Make a list that includes at least three people you’d like to\n",
    "\n",
    "invite to dinner. Then use your list to print a message to each person, inviting\n",
    "\n",
    "them to dinner."
   ]
  },
  {
   "cell_type": "code",
   "execution_count": 2,
   "metadata": {},
   "outputs": [
    {
     "name": "stdout",
     "output_type": "stream",
     "text": [
      "Dear Tahir, you are invited to dinner.\n",
      "Dear Usman, you are invited to dinner.\n",
      "Dear Usama, you are invited to dinner.\n",
      "Dear Umar, you are invited to dinner.\n"
     ]
    }
   ],
   "source": [
    "guest_list = [\"Tahir\",\"Usman\",\"Usama\",\"Umar\"]\n",
    "\n",
    "for name in guest_list:\n",
    "    print(f\"Dear {name}, you are invited to dinner.\")\n",
    "    "
   ]
  },
  {
   "cell_type": "markdown",
   "metadata": {},
   "source": [
    "**3-5. Changing Guest List** \n",
    "\n",
    "You just heard that one of your guests can’t make the\n",
    "\n",
    "dinner, so you need to send out a new set of invitations. You’ll have to think of\n",
    "\n",
    "someone else to invite.\n",
    "\n",
    "* Start with your program from Exercise 3-4. Add a print() call at the end of\n",
    "your program, stating the name of the guest who can’t make it.\n",
    "\n",
    "* Modify your list, replacing the name of the guest who can’t make it with the\n",
    "name of the new person you are inviting.\n",
    "\n",
    "* Print a second set of invitation messages, one for each person who is still in\n",
    "your list."
   ]
  },
  {
   "cell_type": "code",
   "execution_count": 7,
   "metadata": {},
   "outputs": [
    {
     "name": "stdout",
     "output_type": "stream",
     "text": [
      "Dear Tahir, you are invited to dinner.\n",
      "Dear Usman, you are invited to dinner.\n",
      "Dear Usama, you are invited to dinner.\n",
      "Dear Umar, you are invited to dinner.\n",
      "\n",
      "Unfortunately, Usman can't make it to dinner.\n",
      "\n",
      "Updated Guest List:\n",
      "\n",
      "Dear Tahir, you are  invited to dinner.\n",
      "Dear Ali, you are  invited to dinner.\n",
      "Dear Usama, you are  invited to dinner.\n",
      "Dear Umar, you are  invited to dinner.\n"
     ]
    }
   ],
   "source": [
    "guest_list = [\"Tahir\",\"Usman\",\"Usama\",\"Umar\"]\n",
    "\n",
    "for name in guest_list:\n",
    "    print(f\"Dear {name}, you are invited to dinner.\")\n",
    "\n",
    "print(f\"\\nUnfortunately, {guest_list[1]} can't make it to dinner.\")\n",
    "\n",
    "# Modyfing guest list\n",
    "guest_list[1] = \"Ali\"\n",
    "\n",
    "# Printing the updated list\n",
    "print(\"\\nUpdated Guest List:\\n\")\n",
    "\n",
    "for name in guest_list:\n",
    "    print(f\"Dear {name}, you are  invited to dinner.\")\n",
    "\n",
    "    \n",
    "    \n",
    "    "
   ]
  },
  {
   "cell_type": "markdown",
   "metadata": {},
   "source": [
    "**3-6. More Guests**\n",
    "\n",
    "You just found a bigger dinner table, so now more space is\n",
    "\n",
    "available. Think of three more guests to invite to dinner.\n",
    "\n",
    "* Start with your program from Exercise 3-4 or 3-5. Add a print() call to the\n",
    "end of your program, informing people that you found a bigger table.\n",
    "* Use insert() to add one new guest to the beginning of your list.\n",
    "* Use insert() to add one new guest to the middle of your list.\n",
    "* Use append() to add one new guest to the end of your list.\n",
    "* Print a new set of invitation messages, one for each person in your list."
   ]
  },
  {
   "cell_type": "code",
   "execution_count": 12,
   "metadata": {},
   "outputs": [
    {
     "name": "stdout",
     "output_type": "stream",
     "text": [
      "\n",
      "Dear Tahir, you are invited to dinner.\n",
      "\n",
      "Dear Usman, you are invited to dinner.\n",
      "\n",
      "Dear Usama, you are invited to dinner.\n",
      "\n",
      "Dear Umar, you are invited to dinner.\n",
      "\n",
      "\t\t\tGood News! We found a bigger dinner table!\n",
      "\n",
      "Dear Ali, you are invited to dinner.\n",
      "\n",
      "Dear Tahir, you are invited to dinner.\n",
      "\n",
      "Dear Zahid, you are invited to dinner.\n",
      "\n",
      "Dear Usman, you are invited to dinner.\n",
      "\n",
      "Dear Usama, you are invited to dinner.\n",
      "\n",
      "Dear Umar, you are invited to dinner.\n",
      "\n",
      "Dear Hassan, you are invited to dinner.\n"
     ]
    }
   ],
   "source": [
    "guest_list = [\"Tahir\",\"Usman\",\"Usama\",\"Umar\"]\n",
    "\n",
    "for guest in guest_list:\n",
    "    print(f\"\\nDear {guest}, you are invited to dinner.\")\n",
    "    \n",
    "\n",
    "\n",
    "# More Guests\n",
    "print(\"\\n\\t\\t\\tGood News! We found a bigger dinner table!\")\n",
    "\n",
    "# Adding new guests to the beginning of the list\n",
    "guest_list.insert(0,\"Ali\")\n",
    "\n",
    "# Adding new guests to the middle of the list\n",
    "guest_list.insert(int(len(guest_list)/2),\"Zahid\")\n",
    "\n",
    "# Adding new guests to the end of the list\n",
    "guest_list.append(\"Hassan\")\n",
    "\n",
    "for guest in guest_list:\n",
    "    print(f\"\\nDear {guest}, you are invited to dinner.\")\n",
    "\n",
    "\n"
   ]
  },
  {
   "cell_type": "markdown",
   "metadata": {},
   "source": [
    "**3-7. Shrinking Guest List**\n",
    "\n",
    "You just found out that your new dinner table won’t\n",
    "\n",
    "arrive in time for the dinner, and now you have space for only two guests.\n",
    "\n",
    "* Start with your program from Exercise 3-6. Add a new line that prints a\n",
    "message saying that you can invite only two people for dinner.\n",
    "* Use pop() to remove guests from your list one at a time until only two\n",
    "names remain in your list. Each time you pop a name from your list, print a\n",
    "message to that person letting them know you’re sorry you can’t invite them\n",
    "to dinner.\n",
    "* Print a message to each of the two people still on your list, letting them\n",
    "know they’re still invited.\n",
    "* Use del to remove the last two names from your list, so you have an empty\n",
    "list. Print your list to make sure you actually have an empty list at the end of\n",
    "your program."
   ]
  },
  {
   "cell_type": "code",
   "execution_count": 27,
   "metadata": {},
   "outputs": [
    {
     "name": "stdout",
     "output_type": "stream",
     "text": [
      "Dear Tahir, please come to dinner.\n",
      "Dear Usman, please come to dinner.\n",
      "Dear Usama, please come to dinner.\n",
      "Dear Umar, please come to dinner.\n",
      "\n",
      "\t\t\t----------------------------------------------------------\n",
      "\n",
      "\t\t\tUnfortunately, We can invite only two people to dinner .\n",
      "\n",
      "\t\t\t----------------------------------------------------------\n",
      "\n",
      "\t\t\tSorry Umar, we can not invite you to dinner.\n",
      "\n",
      "\n",
      "\t\t\tSorry Usama, we can not invite you to dinner.\n",
      "\n",
      "\n",
      "\t\t\t----------------------------------------------------------\n",
      "\n",
      "Dear Tahir, you are still invited to dinner \n",
      "Dear Tahir, please come to dinner.\n",
      "\n",
      "Dear Usman, you are still invited to dinner \n",
      "Dear Usman, please come to dinner.\n"
     ]
    }
   ],
   "source": [
    "guest_list = [\"Tahir\",\"Usman\",\"Usama\",\"Umar\"]\n",
    "\n",
    "for guest in guest_list:\n",
    "    print(f'Dear {guest}, please come to dinner.')\n",
    "\n",
    "print(\"\\n\\t\\t\\t----------------------------------------------------------\")\n",
    "print('\\n\\t\\t\\tUnfortunately, We can invite only two people to dinner .')\n",
    "print(\"\\n\\t\\t\\t----------------------------------------------------------\")\n",
    "\n",
    "\n",
    "while len(guest_list) > 2 :\n",
    "    guest = guest_list.pop()\n",
    "    print(f'\\n\\t\\t\\tSorry {guest}, we can not invite you to dinner.\\n')\n",
    "\n",
    "print(\"\\n\\t\\t\\t----------------------------------------------------------\")\n",
    "\n",
    "\n",
    "for guest in guest_list:\n",
    "    print(f'\\nDear {guest}, you are still invited to dinner ')\n",
    "    print(f'Dear {guest}, please come to dinner.')\n",
    "\n",
    "\n"
   ]
  },
  {
   "cell_type": "markdown",
   "metadata": {},
   "source": [
    "**NOTE**\n",
    "\n",
    "Sorting a list alphabetically is a bit more complicated when all the values are not in\n",
    "\n",
    "lowercase. There are several ways to interpret capital letters when determining a sort\n",
    "\n",
    "order, and specifying the exact order can be more complex than we want to deal with\n",
    "\n",
    "at this time. However, most approaches to sorting will build directly on what you\n",
    "\n",
    "learned in this section."
   ]
  }
 ],
 "metadata": {
  "kernelspec": {
   "display_name": "p-learning",
   "language": "python",
   "name": "python3"
  },
  "language_info": {
   "codemirror_mode": {
    "name": "ipython",
    "version": 3
   },
   "file_extension": ".py",
   "mimetype": "text/x-python",
   "name": "python",
   "nbconvert_exporter": "python",
   "pygments_lexer": "ipython3",
   "version": "3.11.5"
  }
 },
 "nbformat": 4,
 "nbformat_minor": 2
}
