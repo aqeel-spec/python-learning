{
 "cells": [
  {
   "cell_type": "markdown",
   "metadata": {},
   "source": [
    "# **E x e r c i s e 02**"
   ]
  },
  {
   "cell_type": "markdown",
   "metadata": {},
   "source": [
    "**NOTE**\n",
    "\n",
    "&nbsp;Python counts the items in a list starting with one, so you shouldn’t run into any\n",
    "\n",
    "&nbsp;off-by-one errors when determining the length of a list."
   ]
  },
  {
   "cell_type": "markdown",
   "metadata": {},
   "source": [
    "**3-8. Seeing the World**\n",
    "\n",
    "Think of at least five places in the world you’d like\n",
    "to visit.\n",
    "\n",
    "* Store the locations in a list. Make sure the list is not in alphabetical order.\n",
    "* Print your list in its original order. Don’t worry about printing the list neatly;\n",
    "just print it as a raw Python list.\n",
    "* Use sorted() to print your list in alphabetical order without modifying the\n",
    "actual list.\n",
    "* Show that your list is still in its original order by printing it.\n",
    "* Use sorted() to print your list in reverse-alphabetical order without chang-\n",
    "ing the order of the original list.\n",
    "* Show that your list is still in its original order by printing it again.\n",
    "* Use reverse() to change the order of your list. Print the list to show that its\n",
    "order has changed.\n",
    "* Use reverse() to change the order of your list again. Print the list to show\n",
    "it’s back to its original order.\n",
    "* Use sort() to change your list so it’s stored in alphabetical order. Print the\n",
    "list to show that its order has been changed.\n",
    "* Use sort() to change your list so it’s stored in reverse-alphabetical order.\n",
    "Print the list to show that its order has changed."
   ]
  },
  {
   "cell_type": "code",
   "execution_count": 8,
   "metadata": {},
   "outputs": [
    {
     "name": "stdout",
     "output_type": "stream",
     "text": [
      "['New York', 'Paris', 'London', 'Tokyo', 'Berlin']\n",
      "\n",
      "\t\tSorted list\n",
      "\n",
      "\t\t\t----------------------------------------------------------\n",
      "\n",
      "\t\t\t ['Berlin', 'London', 'New York', 'Paris', 'Tokyo']\n",
      "\n",
      "\t\t\t----------------------------------------------------------\n",
      "\n",
      "\t\tOriginal  list\n",
      "\n",
      "\t\t\t ['New York', 'Paris', 'London', 'Tokyo', 'Berlin']\n",
      "\n",
      "\t\t\t----------------------------------------------------------\n",
      "\n",
      "\t\tReverse sorted list\n",
      "\n",
      "\t\t\t ['Tokyo', 'Paris', 'New York', 'London', 'Berlin']\n",
      "\n",
      "\t\tUse reverse() list\n",
      "\n",
      "\t\t\t None\n",
      "\n",
      "\t\t\t----------------------------------------------------------\n",
      "\n",
      "\t\tAgain use reverse() list\n",
      "\n",
      "\t\t\t None\n",
      "\n",
      "\t\t\t----------------------------------------------------------\n"
     ]
    }
   ],
   "source": [
    "places_to_visit = ['New York', 'Paris', 'London', 'Tokyo', 'Berlin']\n",
    "\n",
    "print(places_to_visit)\n",
    "\n",
    "print(\"\\n\\t\\tSorted list\")\n",
    "print(\"\\n\\t\\t\\t----------------------------------------------------------\")\n",
    "print(f\"\\n\\t\\t\\t {sorted(places_to_visit)}\")\n",
    "print(\"\\n\\t\\t\\t----------------------------------------------------------\")\n",
    "\n",
    "print(\"\\n\\t\\tOriginal  list\")\n",
    "print(f\"\\n\\t\\t\\t {places_to_visit}\")\n",
    "print(\"\\n\\t\\t\\t----------------------------------------------------------\")\n",
    "\n",
    "print(\"\\n\\t\\tReverse sorted list\")\n",
    "print(f\"\\n\\t\\t\\t {sorted(places_to_visit, reverse=True)}\")\n",
    "\n",
    "print(\"\\n\\t\\tUse reverse() list\")\n",
    "print(f\"\\n\\t\\t\\t {places_to_visit.reverse()}\")\n",
    "print(\"\\n\\t\\t\\t----------------------------------------------------------\")\n",
    "\n",
    "print(\"\\n\\t\\tAgain use reverse() list\")\n",
    "print(f\"\\n\\t\\t\\t {places_to_visit.reverse()}\")\n",
    "print(\"\\n\\t\\t\\t----------------------------------------------------------\")\n"
   ]
  },
  {
   "cell_type": "code",
   "execution_count": 9,
   "metadata": {},
   "outputs": [
    {
     "name": "stdout",
     "output_type": "stream",
     "text": [
      "Original Order:\n",
      "['Paris', 'Tokyo', 'Bali', 'New York', 'Rome']\n",
      "\n",
      "Alphabetical Order:\n",
      "['Bali', 'New York', 'Paris', 'Rome', 'Tokyo']\n",
      "\n",
      "Original Order:\n",
      "['Paris', 'Tokyo', 'Bali', 'New York', 'Rome']\n",
      "\n",
      "Reverse Alphabetical Order:\n",
      "['Tokyo', 'Rome', 'Paris', 'New York', 'Bali']\n",
      "\n",
      "Original Order:\n",
      "['Paris', 'Tokyo', 'Bali', 'New York', 'Rome']\n",
      "\n",
      "List After First Reverse:\n",
      "['Rome', 'New York', 'Bali', 'Tokyo', 'Paris']\n",
      "\n",
      "List After Second Reverse:\n",
      "['Paris', 'Tokyo', 'Bali', 'New York', 'Rome']\n",
      "\n",
      "List After Sorting Alphabetically:\n",
      "['Bali', 'New York', 'Paris', 'Rome', 'Tokyo']\n",
      "\n",
      "List After Sorting in Reverse Alphabetical Order:\n",
      "['Tokyo', 'Rome', 'Paris', 'New York', 'Bali']\n"
     ]
    }
   ],
   "source": [
    "# Store the locations in a list\n",
    "places_to_visit = ['Paris', 'Tokyo', 'Bali', 'New York', 'Rome']\n",
    "\n",
    "# Print the list in its original order\n",
    "print(\"Original Order:\")\n",
    "print(places_to_visit)\n",
    "\n",
    "# Print the list in alphabetical order without modifying the actual list\n",
    "print(\"\\nAlphabetical Order:\")\n",
    "print(sorted(places_to_visit))\n",
    "\n",
    "# Show that the list is still in its original order\n",
    "print(\"\\nOriginal Order:\")\n",
    "print(places_to_visit)\n",
    "\n",
    "# Print the list in reverse-alphabetical order without changing the order of the original list\n",
    "print(\"\\nReverse Alphabetical Order:\")\n",
    "print(sorted(places_to_visit, reverse=True))\n",
    "\n",
    "# Show that the list is still in its original order\n",
    "print(\"\\nOriginal Order:\")\n",
    "print(places_to_visit)\n",
    "\n",
    "# Change the order of the list using reverse()\n",
    "places_to_visit.reverse()\n",
    "print(\"\\nList After First Reverse:\")\n",
    "print(places_to_visit)\n",
    "\n",
    "# Change the order of the list again using reverse()\n",
    "places_to_visit.reverse()\n",
    "print(\"\\nList After Second Reverse:\")\n",
    "print(places_to_visit)\n",
    "\n",
    "# Change the list to be stored in alphabetical order using sort()\n",
    "places_to_visit.sort()\n",
    "print(\"\\nList After Sorting Alphabetically:\")\n",
    "print(places_to_visit)\n",
    "\n",
    "# Change the list to be stored in reverse alphabetical order using sort()\n",
    "places_to_visit.sort(reverse=True)\n",
    "print(\"\\nList After Sorting in Reverse Alphabetical Order:\")\n",
    "print(places_to_visit)\n"
   ]
  },
  {
   "cell_type": "markdown",
   "metadata": {},
   "source": [
    "**3-9. Dinner Guests**\n",
    "\n",
    "Working with one of the programs from Exercises 3-4\n",
    "\n",
    "through 3-7 (pages 41–42), use len() to print a message indicating the number\n",
    "\n",
    "of people you’re inviting to dinner."
   ]
  },
  {
   "cell_type": "code",
   "execution_count": 10,
   "metadata": {},
   "outputs": [
    {
     "name": "stdout",
     "output_type": "stream",
     "text": [
      "4 people are invited to dinner\n"
     ]
    }
   ],
   "source": [
    "guest_list = [\"Tahir\",\"Usman\",\"Usama\",\"Umar\"]\n",
    "\n",
    "print(f\"{len(guest_list)} people are invited to dinner\")"
   ]
  },
  {
   "cell_type": "markdown",
   "metadata": {},
   "source": [
    "**3-10. Every Function**\n",
    "\n",
    "Think of things you could store in a list. For example, you\n",
    "\n",
    "could make a list of mountains, rivers, countries, cities, languages, or anything\n",
    "\n",
    "else you’d like. Write a program that creates a list containing these items and\n",
    "\n",
    "then uses each function introduced in this chapter at least once."
   ]
  },
  {
   "cell_type": "code",
   "execution_count": 11,
   "metadata": {},
   "outputs": [
    {
     "name": "stdout",
     "output_type": "stream",
     "text": [
      "List of countries: ['Japan', 'India', 'Germany', 'France', 'China', 'Australia']\n",
      "Popped country: Canada\n",
      "Index of 'Germany': 2\n",
      "Count of 'France': 1\n",
      "Length of the list: 6\n"
     ]
    }
   ],
   "source": [
    "# Create a list of countries\n",
    "countries = ['Germany', 'France', 'India', 'Brazil', 'China', 'Australia']\n",
    "\n",
    "# Append: Add a new country to the list\n",
    "countries.append('Canada')\n",
    "\n",
    "# Insert: Insert a country at a specific position\n",
    "countries.insert(2, 'Japan')\n",
    "\n",
    "# Remove: Remove a specific country from the list\n",
    "countries.remove('Brazil')\n",
    "\n",
    "# Pop: Remove the last country from the list and store it in a variable\n",
    "popped_country = countries.pop()\n",
    "\n",
    "# Sort: Sort the countries in alphabetical order\n",
    "countries.sort()\n",
    "\n",
    "# Reverse: Reverse the order of the countries in the list\n",
    "countries.reverse()\n",
    "\n",
    "# Index: Find the index of a specific country in the list\n",
    "index_of_germany = countries.index('Germany')\n",
    "\n",
    "# Count: Count the number of occurrences of a specific country in the list\n",
    "count_of_france = countries.count('France')\n",
    "\n",
    "# Len: Find the length of the list\n",
    "length_of_list = len(countries)\n",
    "\n",
    "# Print the list and the results of the function calls\n",
    "print(\"List of countries:\", countries)\n",
    "print(\"Popped country:\", popped_country)\n",
    "print(\"Index of 'Germany':\", index_of_germany)\n",
    "print(\"Count of 'France':\", count_of_france)\n",
    "print(\"Length of the list:\", length_of_list)\n"
   ]
  },
  {
   "cell_type": "code",
   "execution_count": null,
   "metadata": {},
   "outputs": [],
   "source": []
  }
 ],
 "metadata": {
  "kernelspec": {
   "display_name": "p-learning",
   "language": "python",
   "name": "python3"
  },
  "language_info": {
   "codemirror_mode": {
    "name": "ipython",
    "version": 3
   },
   "file_extension": ".py",
   "mimetype": "text/x-python",
   "name": "python",
   "nbconvert_exporter": "python",
   "pygments_lexer": "ipython3",
   "version": "3.11.5"
  }
 },
 "nbformat": 4,
 "nbformat_minor": 2
}
