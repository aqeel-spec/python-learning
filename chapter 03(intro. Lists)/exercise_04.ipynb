{
 "cells": [
  {
   "cell_type": "markdown",
   "metadata": {},
   "source": [
    "# **E x e r c i s e 02**"
   ]
  },
  {
   "cell_type": "markdown",
   "metadata": {},
   "source": [
    "**3-11. Intentional Error**\n",
    "\n",
    "If you haven’t received an index error in one of your programs yet, \n",
    "\n",
    "try to make one happen. Change an index in one of your programs\n",
    "\n",
    "to produce an index error. Make sure you correct the error before closing the\n",
    "\n",
    "program."
   ]
  },
  {
   "cell_type": "code",
   "execution_count": 1,
   "metadata": {},
   "outputs": [
    {
     "name": "stdout",
     "output_type": "stream",
     "text": [
      "An index error occurred: list index out of range\n",
      "4\n"
     ]
    }
   ],
   "source": [
    "# Creating a list of numbers\n",
    "numbers = [1, 2, 3, 4, 5]\n",
    "\n",
    "# Intentionally causing an index error by trying to access an index that is out of range\n",
    "try:\n",
    "    print(numbers[10])  # Accessing index 10, which is beyond the range of the list\n",
    "except IndexError as e:\n",
    "    print(f\"An index error occurred: {e}\")\n",
    "\n",
    "# Correcting the error by accessing an index within the range of the list\n",
    "try:\n",
    "    print(numbers[3])  # Accessing index 3, which is within the range of the list\n",
    "except IndexError as e:\n",
    "    print(f\"An index error occurred: {e}\")\n"
   ]
  },
  {
   "cell_type": "code",
   "execution_count": null,
   "metadata": {},
   "outputs": [],
   "source": []
  }
 ],
 "metadata": {
  "kernelspec": {
   "display_name": "p-learning",
   "language": "python",
   "name": "python3"
  },
  "language_info": {
   "codemirror_mode": {
    "name": "ipython",
    "version": 3
   },
   "file_extension": ".py",
   "mimetype": "text/x-python",
   "name": "python",
   "nbconvert_exporter": "python",
   "pygments_lexer": "ipython3",
   "version": "3.11.5"
  }
 },
 "nbformat": 4,
 "nbformat_minor": 2
}
