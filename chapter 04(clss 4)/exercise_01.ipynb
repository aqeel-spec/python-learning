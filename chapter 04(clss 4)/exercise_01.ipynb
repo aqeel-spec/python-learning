{
 "cells": [
  {
   "cell_type": "markdown",
   "metadata": {},
   "source": [
    "# **E x e r c i s e 01**"
   ]
  },
  {
   "cell_type": "markdown",
   "metadata": {},
   "source": [
    "**4-1. Pizzas**\n",
    "\n",
    "Think of at least three kinds of your favorite pizza. Store these\n",
    "\n",
    "pizza names in a list, and then use a for loop to print the name of each pizza.\n",
    "\n",
    "* Modify your for loop to print a sentence using the name of the pizza,\n",
    "instead of printing just the name of the pizza. For each pizza, you should\n",
    "have one line of output containing a simple statement like I like pep-\n",
    "peroni pizza.\n",
    "* Add a line at the end of your program, outside the for loop, that states\n",
    "how much you like pizza. The output should consist of three or more lines\n",
    "about the kinds of pizza you like and then an additional sentence, such as\n",
    "I really love pizza!"
   ]
  },
  {
   "cell_type": "code",
   "execution_count": 19,
   "metadata": {},
   "outputs": [
    {
     "name": "stdout",
     "output_type": "stream",
     "text": [
      "\n",
      "I like Pepperoni pizza.\n",
      "How much you like pizza? \n",
      "\n",
      "I really love pepperoni pizza.\n",
      "I really love cheese pizza.\n",
      "I really love sausage pizza.\n",
      "I really love veggie pizza.\n",
      "\n",
      "######################################\n",
      "|Pepperoni pizza costs :\t $2 |\n",
      "-------------------------------------\n",
      "\n",
      "######################################\n",
      "|Cheese pizza costs :\t $3 |\n",
      "-------------------------------------\n",
      "\n",
      "######################################\n",
      "|Sausage pizza costs :\t $4 |\n",
      "-------------------------------------\n",
      "\n",
      "######################################\n",
      "|Veggie pizza costs :\t $5 |\n",
      "-------------------------------------\n"
     ]
    }
   ],
   "source": [
    "pizza_names : list[str] = [\"pepperoni\", \"cheese\", \"sausage\", \"veggie\"]\n",
    "pizza_prices = [2, 3, 4, 5]\n",
    "\n",
    "for pizza in pizza_names:\n",
    "    if pizza == \"pepperoni\":\n",
    "        print(f\"\\nI like {pizza.title()} pizza.\")\n",
    "\n",
    "print(f\"How much you like pizza? \\n\")\n",
    "for pizza in pizza_names:\n",
    "    print(f\"I really love {pizza} pizza.\")\n",
    "\n",
    "# Extra step to print the price of pizza\n",
    "for pizza in pizza_names:\n",
    "    print(\"\\n######################################\")\n",
    "    print(f\"|{pizza.title()} pizza costs :\\t ${pizza_prices[pizza_names.index(pizza)]} |\")\n",
    "    print(\"-------------------------------------\")\n",
    "\n"
   ]
  },
  {
   "cell_type": "markdown",
   "metadata": {},
   "source": [
    "**4-2. Animals**\n",
    "\n",
    "Think of at least three different animals that have a common characteristic. \n",
    "\n",
    "Store the names of these animals in a list, and then use a for loop to\n",
    "\n",
    "print out the name of each animal.\n",
    "\n",
    "* Modify your program to print a statement about each animal, such as A\n",
    "dog would make a great pet.\n",
    "* Add a line at the end of your program, stating what these animals have in\n",
    "common. You could print a sentence, such as Any of these animals would\n",
    "make a great pet!"
   ]
  },
  {
   "cell_type": "code",
   "execution_count": 21,
   "metadata": {},
   "outputs": [
    {
     "name": "stdout",
     "output_type": "stream",
     "text": [
      "List of animals:\n",
      "Dog\n",
      "Cat\n",
      "Rabbit\n",
      "\n",
      "Characteristics of animals:\n",
      "A dog would make a great pet.\n",
      "A cat would make a great pet.\n",
      "A rabbit would make a great pet.\n",
      "\n",
      "Common characteristic:\n",
      "Any of these animals would make a great pet!\n"
     ]
    }
   ],
   "source": [
    "# Define a list of animals\n",
    "animals = ['Dog', 'Cat', 'Rabbit']\n",
    "\n",
    "# Use a for loop to print the name of each animal\n",
    "print(\"List of animals:\")\n",
    "for animal in animals:\n",
    "    print(animal)\n",
    "\n",
    "# Print a statement about each animal\n",
    "print(\"\\nCharacteristics of animals:\")\n",
    "for animal in animals:\n",
    "    print(f\"A {animal.lower()} would make a great pet.\")\n",
    "\n",
    "# Print a statement about what these animals have in common\n",
    "print(\"\\nCommon characteristic:\")\n",
    "print(\"Any of these animals would make a great pet!\")\n"
   ]
  }
 ],
 "metadata": {
  "kernelspec": {
   "display_name": "p-learning",
   "language": "python",
   "name": "python3"
  },
  "language_info": {
   "codemirror_mode": {
    "name": "ipython",
    "version": 3
   },
   "file_extension": ".py",
   "mimetype": "text/x-python",
   "name": "python",
   "nbconvert_exporter": "python",
   "pygments_lexer": "ipython3",
   "version": "3.11.5"
  }
 },
 "nbformat": 4,
 "nbformat_minor": 2
}
