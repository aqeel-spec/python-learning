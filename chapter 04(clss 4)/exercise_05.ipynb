{
 "cells": [
  {
   "cell_type": "markdown",
   "metadata": {},
   "source": [
    "# **E x e r c i s e 04**"
   ]
  },
  {
   "cell_type": "markdown",
   "metadata": {},
   "source": [
    "## **4-13. Buffet**\n",
    "\n",
    "A buffet-style restaurant offers only five basic foods. Think of five\n",
    "\n",
    "simple foods, and store them in a tuple.\n",
    "* Use a for loop to print each food the restaurant offers.\n",
    "* Try to modify one of the items, and make sure that Python rejects the\n",
    "change.\n",
    "* The restaurant changes its menu, replacing two of the items with different\n",
    "foods. Add a line that rewrites the tuple, and then use a for loop to print\n",
    "each of the items on the revised menu."
   ]
  },
  {
   "cell_type": "code",
   "execution_count": 10,
   "metadata": {},
   "outputs": [
    {
     "name": "stdout",
     "output_type": "stream",
     "text": [
      "pizza\n",
      "pasta\n",
      "salad\n",
      "steak\n",
      "soup\n"
     ]
    },
    {
     "ename": "TypeError",
     "evalue": "'tuple' object does not support item assignment",
     "output_type": "error",
     "traceback": [
      "\u001b[0;31m---------------------------------------------------------------------------\u001b[0m",
      "\u001b[0;31mTypeError\u001b[0m                                 Traceback (most recent call last)",
      "\u001b[1;32m/home/shahzad/Documents/GitHub/python-learning/chapter 04(clss 4)/exercise_05.ipynb Cell 3\u001b[0m line \u001b[0;36m8\n\u001b[1;32m      <a href='vscode-notebook-cell:/home/shahzad/Documents/GitHub/python-learning/chapter%2004%28clss%204%29/exercise_05.ipynb#W2sZmlsZQ%3D%3D?line=5'>6</a>\u001b[0m     \u001b[39mprint\u001b[39m(food)\n\u001b[1;32m      <a href='vscode-notebook-cell:/home/shahzad/Documents/GitHub/python-learning/chapter%2004%28clss%204%29/exercise_05.ipynb#W2sZmlsZQ%3D%3D?line=6'>7</a>\u001b[0m \u001b[39m# Change the first food \u001b[39;00m\n\u001b[0;32m----> <a href='vscode-notebook-cell:/home/shahzad/Documents/GitHub/python-learning/chapter%2004%28clss%204%29/exercise_05.ipynb#W2sZmlsZQ%3D%3D?line=7'>8</a>\u001b[0m simple_foods[\u001b[39m0\u001b[39;49m] \u001b[39m=\u001b[39m \u001b[39m\"\u001b[39m\u001b[39mburger\u001b[39m\u001b[39m\"\u001b[39m \u001b[39m# Python will reject the change\u001b[39;00m\n\u001b[1;32m     <a href='vscode-notebook-cell:/home/shahzad/Documents/GitHub/python-learning/chapter%2004%28clss%204%29/exercise_05.ipynb#W2sZmlsZQ%3D%3D?line=9'>10</a>\u001b[0m \u001b[39m# change menu , replacing of two items\u001b[39;00m\n\u001b[1;32m     <a href='vscode-notebook-cell:/home/shahzad/Documents/GitHub/python-learning/chapter%2004%28clss%204%29/exercise_05.ipynb#W2sZmlsZQ%3D%3D?line=10'>11</a>\u001b[0m \u001b[39m# change items : burger , chips \u001b[39;00m\n\u001b[1;32m     <a href='vscode-notebook-cell:/home/shahzad/Documents/GitHub/python-learning/chapter%2004%28clss%204%29/exercise_05.ipynb#W2sZmlsZQ%3D%3D?line=11'>12</a>\u001b[0m \n\u001b[1;32m     <a href='vscode-notebook-cell:/home/shahzad/Documents/GitHub/python-learning/chapter%2004%28clss%204%29/exercise_05.ipynb#W2sZmlsZQ%3D%3D?line=12'>13</a>\u001b[0m \u001b[39m# rewrite the tuple\u001b[39;00m\n\u001b[1;32m     <a href='vscode-notebook-cell:/home/shahzad/Documents/GitHub/python-learning/chapter%2004%28clss%204%29/exercise_05.ipynb#W2sZmlsZQ%3D%3D?line=13'>14</a>\u001b[0m simple_foods : \u001b[39mtuple\u001b[39m[\u001b[39mstr\u001b[39m] \u001b[39m=\u001b[39m (\u001b[39m\"\u001b[39m\u001b[39mburger\u001b[39m\u001b[39m\"\u001b[39m, \u001b[39m\"\u001b[39m\u001b[39mpasta\u001b[39m\u001b[39m\"\u001b[39m, \u001b[39m\"\u001b[39m\u001b[39msalad\u001b[39m\u001b[39m\"\u001b[39m, \u001b[39m\"\u001b[39m\u001b[39mchips\u001b[39m\u001b[39m\"\u001b[39m, \u001b[39m\"\u001b[39m\u001b[39msoup\u001b[39m\u001b[39m\"\u001b[39m)\n",
      "\u001b[0;31mTypeError\u001b[0m: 'tuple' object does not support item assignment"
     ]
    }
   ],
   "source": [
    "# Five simple foods \n",
    "simple_foods : tuple[str] = (\"pizza\", \"pasta\", \"salad\", \"steak\", \"soup\")\n",
    "\n",
    "# for loop to print each food\n",
    "for food in simple_foods:\n",
    "    print(food)\n",
    "# Change the first food \n",
    "simple_foods[0] = \"burger\" # Python will reject the change\n",
    "\n",
    "# change menu , replacing of two items\n",
    "# change items : burger , chips \n",
    "\n",
    "# rewrite the tuple\n",
    "simple_foods : tuple[str] = (\"burger\", \"pasta\", \"salad\", \"chips\", \"soup\")\n",
    "\n",
    "# Changed list\n",
    "# print the tuple\n",
    "print(\"\\nChanged list is:\")\n",
    "for food in simple_foods:\n",
    "    print(food.title())\n",
    "\n"
   ]
  },
  {
   "cell_type": "code",
   "execution_count": 12,
   "metadata": {},
   "outputs": [
    {
     "name": "stdout",
     "output_type": "stream",
     "text": [
      "The food menu is:\n",
      "pizza\n",
      "pasta\n",
      "salad\n",
      "steak\n",
      "soup\n",
      "\n",
      "Modified food menu  is:\n",
      "Burger\n",
      "Pasta\n",
      "Salad\n",
      "Chips\n",
      "Soup\n"
     ]
    }
   ],
   "source": [
    "# Five simple foods \n",
    "simple_foods : tuple[str] = (\"pizza\", \"pasta\", \"salad\", \"steak\", \"soup\")\n",
    "\n",
    "# for loop to print each food\n",
    "print(\"The food menu is:\")\n",
    "for food in simple_foods:\n",
    "    print(food)\n",
    "\n",
    "# Change the first food  -> it will generate error\n",
    "#simple_foods[0] = \"burger\" # Python will reject the change\n",
    "\n",
    "# change menu , replacing of two items\n",
    "# change items : burger , chips \n",
    "\n",
    "# rewrite the tuple\n",
    "simple_foods : tuple[str] = (\"burger\", \"pasta\", \"salad\", \"chips\", \"soup\")\n",
    "\n",
    "# Changed list\n",
    "# print the tuple\n",
    "print(\"\\nModified food menu  is:\")\n",
    "for food in simple_foods:\n",
    "    print(food.title())\n",
    "\n"
   ]
  }
 ],
 "metadata": {
  "kernelspec": {
   "display_name": "p-learning",
   "language": "python",
   "name": "python3"
  },
  "language_info": {
   "codemirror_mode": {
    "name": "ipython",
    "version": 3
   },
   "file_extension": ".py",
   "mimetype": "text/x-python",
   "name": "python",
   "nbconvert_exporter": "python",
   "pygments_lexer": "ipython3",
   "version": "3.11.5"
  }
 },
 "nbformat": 4,
 "nbformat_minor": 2
}
