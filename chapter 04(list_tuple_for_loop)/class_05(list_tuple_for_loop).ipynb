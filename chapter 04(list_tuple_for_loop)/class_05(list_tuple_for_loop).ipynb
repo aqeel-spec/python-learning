{
  "cells": [
    {
      "cell_type": "markdown",
      "metadata": {},
      "source": [
        "# Chapter #04: **WORKING WITH LISTS** "
      ]
    },
    {
      "cell_type": "markdown",
      "metadata": {
        "id": "eGusXamC1R6W"
      },
      "source": [
        "# List(list,tuple, for loop)\n",
        "* Iteration operations with loop\n",
        "* apply any operation on element"
      ]
    },
    {
      "cell_type": "code",
      "execution_count": null,
      "metadata": {
        "colab": {
          "base_uri": "https://localhost:8080/"
        },
        "id": "_UTLdES01Zq4",
        "outputId": "62bb3861-2a93-4212-f4ef-e6a65c15dca9"
      },
      "outputs": [
        {
          "name": "stdout",
          "output_type": "stream",
          "text": [
            "['Sir Zia', 'Sir Qasim', 'Dr Noman']\n"
          ]
        }
      ],
      "source": [
        "names : list[str] = ['Sir Zia', 'Sir Qasim', 'Dr Noman']\n",
        "\n",
        "print(names)"
      ]
    },
    {
      "cell_type": "code",
      "execution_count": null,
      "metadata": {
        "colab": {
          "base_uri": "https://localhost:8080/"
        },
        "id": "uBnp6W6h1rbC",
        "outputId": "aff85c08-b719-4b92-dd17-a021d22dff4e"
      },
      "outputs": [
        {
          "name": "stdout",
          "output_type": "stream",
          "text": [
            "Sir Zia\n",
            "Sir Qasim\n",
            "Dr Noman\n"
          ]
        }
      ],
      "source": [
        "names : list[str] = ['Sir Zia', 'Sir Qasim', 'Dr Noman']\n",
        "\n",
        "for name in names :\n",
        "  print(name)\n",
        "\n",
        "# Sir zia\n",
        "# Sir Qasim\n",
        "# Sir Noman"
      ]
    },
    {
      "cell_type": "markdown",
      "metadata": {
        "id": "A7KXEWU33mTb"
      },
      "source": [
        "```\n",
        "# Old methods\n",
        "names : list[str] = ['Sir Zia', 'Sir Qasim', 'Dr Noman']\n",
        "\n",
        "for ( i = 0 ;  i < names.length ; i++ ) {\n",
        "  names[i]\n",
        "}\n",
        "\n",
        "```"
      ]
    },
    {
      "cell_type": "code",
      "execution_count": null,
      "metadata": {
        "colab": {
          "base_uri": "https://localhost:8080/"
        },
        "id": "bx_OFP9J2WbB",
        "outputId": "b31d720b-da8b-4438-e511-67269708239a"
      },
      "outputs": [
        {
          "name": "stdout",
          "output_type": "stream",
          "text": [
            "Sir Zia\n",
            "Sir Qasim\n",
            "Dr Noman\n"
          ]
        }
      ],
      "source": [
        "# Old methods\n",
        "names : list[str] = ['Sir Zia', 'Sir Qasim', 'Dr Noman']\n",
        "\n",
        "i : int = 0 # counter = 0\n",
        "\n",
        "while i < len(names): # names length = 3\n",
        "  print(names[i])\n",
        "  i += 1\n"
      ]
    },
    {
      "cell_type": "code",
      "execution_count": null,
      "metadata": {
        "colab": {
          "base_uri": "https://localhost:8080/"
        },
        "id": "i_3wnBLi3TR1",
        "outputId": "634c1794-fd6c-4a11-a34d-406853beb97e"
      },
      "outputs": [
        {
          "name": "stdout",
          "output_type": "stream",
          "text": [
            "Sir Zia\n",
            "Sir Qasim\n",
            "Dr Noman\n"
          ]
        }
      ],
      "source": [
        "\n",
        "names : list[str] = ['Sir Zia', 'Sir Qasim', 'Dr Noman']\n",
        "\n",
        "for name in names :\n",
        "  print(name)\n",
        "\n"
      ]
    },
    {
      "cell_type": "code",
      "execution_count": null,
      "metadata": {
        "colab": {
          "base_uri": "https://localhost:8080/"
        },
        "id": "oOebUgtM4VQr",
        "outputId": "a0db5d4f-1690-4cb1-96b8-ef5d6789ab40"
      },
      "outputs": [
        {
          "name": "stdout",
          "output_type": "stream",
          "text": [
            "Welcome Dear Teacher Sir Zia\n",
            "Welcome Dear Teacher Sir Qasim\n",
            "Welcome Dear Teacher Dr Noman\n"
          ]
        }
      ],
      "source": [
        "for name in names :\n",
        "  print(f\"Welcome Dear Teacher {name.title()}\")"
      ]
    },
    {
      "cell_type": "markdown",
      "metadata": {
        "id": "0nvAUw8F4YRc"
      },
      "source": [
        "```\n",
        " for `name` in `names` `:` #  \n",
        "\n",
        "```"
      ]
    },
    {
      "cell_type": "code",
      "execution_count": null,
      "metadata": {
        "colab": {
          "base_uri": "https://localhost:8080/"
        },
        "id": "hKfuLO_54toN",
        "outputId": "2c2df128-5ee2-44a4-cd69-ec159f4084cb"
      },
      "outputs": [
        {
          "name": "stdout",
          "output_type": "stream",
          "text": [
            "Welcome Dear Teacher Sir Zia\n",
            "PIAIC Gen AI Team\n",
            "\n",
            "Welcome Dear Teacher Sir Qasim\n",
            "PIAIC Gen AI Team\n",
            "\n",
            "Welcome Dear Teacher Dr Noman\n",
            "PIAIC Gen AI Team\n",
            "\n"
          ]
        }
      ],
      "source": [
        "names : list[str] = ['Sir Zia', 'Sir Qasim', 'Dr Noman']\n",
        "\n",
        "\n",
        "for name in names :\n",
        "  print(f\"Welcome Dear Teacher {name.title()}\")\n",
        "\n",
        "  print(\"PIAIC Gen AI Team\\n\")"
      ]
    },
    {
      "cell_type": "code",
      "execution_count": null,
      "metadata": {
        "colab": {
          "base_uri": "https://localhost:8080/"
        },
        "id": "pkCrfbvx5JVi",
        "outputId": "6202a2d5-f2ed-4101-a9c9-d07e1b4769c1"
      },
      "outputs": [
        {
          "name": "stdout",
          "output_type": "stream",
          "text": [
            "Welcome Dear Teacher Sir Zia\n",
            "PIAIC Gen AI Team\n",
            "\n",
            "Welcome Dear Teacher Sir Qasim\n",
            "PIAIC Gen AI Team\n",
            "\n",
            "Welcome Dear Teacher Dr Noman\n",
            "PIAIC Gen AI Team\n",
            "\n",
            "Pakistan zinda bad\n"
          ]
        }
      ],
      "source": [
        "names : list[str] = ['Sir Zia', 'Sir Qasim', 'Dr Noman']\n",
        "\n",
        "\n",
        "for name in names :\n",
        "  print(f\"Welcome Dear Teacher {name.title()}\")\n",
        "  print(\"PIAIC Gen AI Team\\n\")\n",
        "\n",
        "print(\"Pakistan zinda bad\")"
      ]
    },
    {
      "cell_type": "code",
      "execution_count": null,
      "metadata": {
        "colab": {
          "base_uri": "https://localhost:8080/"
        },
        "id": "mWxKS6d35W3e",
        "outputId": "23301062-8a14-47ee-e4dd-1e9c0fbf5da1"
      },
      "outputs": [
        {
          "name": "stdout",
          "output_type": "stream",
          "text": [
            "Welcome Dear Teacher Sir Qasim\n",
            "PIAIC Gen AI Team\n",
            "\n",
            "Welcome Dear Teacher Dr Noman\n",
            "PIAIC Gen AI Team\n",
            "\n",
            "Pakistan zinda bad\n"
          ]
        }
      ],
      "source": [
        "names : list[str] = ['Sir Zia', 'Sir Qasim', 'Dr Noman']\n",
        "\n",
        "\n",
        "for name in names[-2:] :\n",
        "  print(f\"Welcome Dear Teacher {name.title()}\")\n",
        "  print(\"PIAIC Gen AI Team\\n\")\n",
        "\n",
        "print(\"Pakistan zinda bad\")"
      ]
    },
    {
      "cell_type": "code",
      "execution_count": null,
      "metadata": {
        "colab": {
          "base_uri": "https://localhost:8080/"
        },
        "id": "gsr_aIRO5u2P",
        "outputId": "4e0291b2-b85b-4535-caf0-8e0a684a89a9"
      },
      "outputs": [
        {
          "name": "stdout",
          "output_type": "stream",
          "text": [
            "Welcome Dear Teacher Dr Noman\n",
            "PIAIC Gen AI Team\n",
            "\n",
            "Welcome Dear Teacher Sir Qasim\n",
            "PIAIC Gen AI Team\n",
            "\n",
            "Welcome Dear Teacher Sir Zia\n",
            "PIAIC Gen AI Team\n",
            "\n",
            "Pakistan zinda bad\n"
          ]
        }
      ],
      "source": [
        "names : list[str] = ['Sir Zia', 'Sir Qasim', 'Dr Noman']\n",
        "\n",
        "\n",
        "for name in names[::-1] :\n",
        "  print(f\"Welcome Dear Teacher {name.title()}\")\n",
        "  print(\"PIAIC Gen AI Team\\n\")\n",
        "print(\"Pakistan zinda bad\")"
      ]
    },
    {
      "cell_type": "code",
      "execution_count": null,
      "metadata": {
        "colab": {
          "base_uri": "https://localhost:8080/"
        },
        "id": "2c9ZYlG45_X1",
        "outputId": "78924ddb-6a4c-4cbe-ffb0-e97b474d98dc"
      },
      "outputs": [
        {
          "name": "stdout",
          "output_type": "stream",
          "text": [
            "('Sir Qasim', '123')\n",
            "('Sir Zia', '344')\n",
            "('ilyyas', '789')\n"
          ]
        }
      ],
      "source": [
        "\n",
        "data_base : list[tuple[str,str]] = [\n",
        "                                    (\"Sir Qasim\",\"123\"),\n",
        "                                    (\"Sir Zia\",'344'),\n",
        "                                    ('ilyyas','789')\n",
        "                                    ]\n",
        "\n",
        "for row in data_base:\n",
        "  print(row)"
      ]
    },
    {
      "cell_type": "code",
      "execution_count": null,
      "metadata": {
        "colab": {
          "base_uri": "https://localhost:8080/"
        },
        "id": "o8lb_kO76zDX",
        "outputId": "285473e6-527c-4ad2-9aba-785d1e31106e"
      },
      "outputs": [
        {
          "name": "stdout",
          "output_type": "stream",
          "text": [
            "Sir Qasim 123\n",
            "Sir Zia 344\n",
            "ilyyas 789\n"
          ]
        }
      ],
      "source": [
        "\n",
        "data_base : list[tuple[str,str]] = [\n",
        "                                    (\"Sir Qasim\",\"123\"),\n",
        "                                    (\"Sir Zia\",'344'),\n",
        "                                    ('ilyyas','789')\n",
        "                                    ]\n",
        "\n",
        "for row in data_base:\n",
        "  user , password = row\n",
        "  print(user, password)"
      ]
    },
    {
      "cell_type": "code",
      "execution_count": null,
      "metadata": {
        "colab": {
          "base_uri": "https://localhost:8080/"
        },
        "id": "JiIdPvz8z9m9",
        "outputId": "304d5fd0-17e2-4a56-c985-f085f23bdceb"
      },
      "outputs": [
        {
          "name": "stdout",
          "output_type": "stream",
          "text": [
            "Username : Sir Qasim , && Password : 123\n",
            "Username : Sir Zia , && Password : 344\n",
            "Username : ilyyas , && Password : 789\n"
          ]
        }
      ],
      "source": [
        "data_base : list[tuple[str,str]] = [\n",
        "                                    (\"Sir Qasim\",\"123\"),\n",
        "                                    (\"Sir Zia\",'344'),\n",
        "                                    ('ilyyas','789')\n",
        "                                    ]\n",
        "\n",
        "for row in data_base:\n",
        "  user , password = row\n",
        "  print(f\"Username : {user} , && Password : {password}\")"
      ]
    },
    {
      "cell_type": "code",
      "execution_count": null,
      "metadata": {
        "colab": {
          "base_uri": "https://localhost:8080/"
        },
        "id": "OTTEcKOs7b3h",
        "outputId": "82e79b42-42d1-42b2-a93a-809ae5f0742f"
      },
      "outputs": [
        {
          "name": "stdout",
          "output_type": "stream",
          "text": [
            "ENter user name : asdfas\n",
            "asdfas\n"
          ]
        }
      ],
      "source": [
        "input_user : str = input(\"ENter user name : \")\n",
        "print(input_user)"
      ]
    },
    {
      "cell_type": "code",
      "execution_count": null,
      "metadata": {
        "colab": {
          "base_uri": "https://localhost:8080/"
        },
        "id": "tqGbLgzp7McN",
        "outputId": "d530cf7b-7fc5-40f6-b227-6e5c1dfc9b57"
      },
      "outputs": [
        {
          "name": "stdout",
          "output_type": "stream",
          "text": [
            "Enter user name : afasdf\n",
            "Enter user password : asdfasd\n",
            "Not found or Invalid name\n"
          ]
        }
      ],
      "source": [
        "\n",
        "data_base : list[tuple[str,str]] = [\n",
        "                                    (\"sirqasim\",\"123\"),\n",
        "                                    (\"sirzia\",'344'),\n",
        "                                    ('ilyyas','789')\n",
        "                                    ]\n",
        "input_user : str = input(\"Enter user name : \")\n",
        "input_password : str = input(\"Enter user password : \")\n",
        "\n",
        "for row in data_base:\n",
        "  user , password = row\n",
        "\n",
        "  if input_user == user and input_password == password:\n",
        "    print(\"valid user\")\n",
        "    break\n",
        "\n",
        "else:\n",
        "  print(\"Not found or Invalid name\")"
      ]
    },
    {
      "cell_type": "code",
      "execution_count": null,
      "metadata": {
        "colab": {
          "base_uri": "https://localhost:8080/"
        },
        "id": "Hl2WjbYd8IY_",
        "outputId": "351478ab-2e14-4750-e3a9-4359499736f7"
      },
      "outputs": [
        {
          "name": "stdout",
          "output_type": "stream",
          "text": [
            "Sir Zia\n",
            "Sir Qasim\n",
            "Dr Noman\n",
            "Hello world\n"
          ]
        }
      ],
      "source": [
        "names : list[str] = ['Sir Zia', 'Sir Qasim', 'Dr Noman']\n",
        "\n",
        "\n",
        "for name in names :\n",
        "  print(name)\n",
        "else :\n",
        "  print(\"Hello world\")"
      ]
    },
    {
      "cell_type": "code",
      "execution_count": null,
      "metadata": {
        "colab": {
          "base_uri": "https://localhost:8080/"
        },
        "id": "SJCSu0zl-4wZ",
        "outputId": "83ccc8d1-5d2b-465c-dbb4-650d8eb17ef8"
      },
      "outputs": [
        {
          "name": "stdout",
          "output_type": "stream",
          "text": [
            "Sir Zia\n"
          ]
        }
      ],
      "source": [
        "names : list[str] = ['Sir Zia', 'Sir Qasim', 'Dr Noman']\n",
        "\n",
        "\n",
        "for name in names :\n",
        "  print(name)\n",
        "  break\n",
        "else :\n",
        "  print(\"Hello world\")"
      ]
    },
    {
      "cell_type": "code",
      "execution_count": null,
      "metadata": {
        "colab": {
          "base_uri": "https://localhost:8080/"
        },
        "id": "hp-7mEeo-8Zb",
        "outputId": "ab4358f2-d924-45c9-c830-90c475bd280a"
      },
      "outputs": [
        {
          "name": "stdout",
          "output_type": "stream",
          "text": [
            "Sir Zia\n",
            "Sir Qasim\n",
            "Dr Noman\n",
            "Hello world\n"
          ]
        }
      ],
      "source": [
        "names : list[str] = ['Sir Zia', 'Sir Qasim', 'Dr Noman']\n",
        "\n",
        "\n",
        "for name in names :\n",
        "  print(name)\n",
        "\n",
        "print(\"Hello world\")"
      ]
    },
    {
      "cell_type": "code",
      "execution_count": null,
      "metadata": {
        "colab": {
          "base_uri": "https://localhost:8080/"
        },
        "id": "c3FfaAsw-LSd",
        "outputId": "6458e072-9979-491f-f7d5-5be66639703c"
      },
      "outputs": [
        {
          "name": "stdout",
          "output_type": "stream",
          "text": [
            "Sir Zia\n",
            "Hello world\n"
          ]
        }
      ],
      "source": [
        "names : list[str] = ['Sir Zia', 'Sir Qasim', 'Dr Noman']\n",
        "\n",
        "\n",
        "for name in names :\n",
        "  print(name)\n",
        "  break\n",
        "\n",
        "print(\"Hello world\")"
      ]
    },
    {
      "cell_type": "code",
      "execution_count": null,
      "metadata": {
        "colab": {
          "base_uri": "https://localhost:8080/",
          "height": 141
        },
        "id": "LMwOqvbR-Qjo",
        "outputId": "f900f123-0efe-473b-fefa-f88a9b1152bd"
      },
      "outputs": [
        {
          "ename": "IndentationError",
          "evalue": "ignored",
          "output_type": "error",
          "traceback": [
            "\u001b[0;36m  File \u001b[0;32m\"<ipython-input-26-942cb5e3bba0>\"\u001b[0;36m, line \u001b[0;32m5\u001b[0m\n\u001b[0;31m    print(name)\u001b[0m\n\u001b[0m    ^\u001b[0m\n\u001b[0;31mIndentationError\u001b[0m\u001b[0;31m:\u001b[0m expected an indented block after 'for' statement on line 4\n"
          ]
        }
      ],
      "source": [
        "names : list[str] = ['Sir Zia', 'Sir Qasim', 'Dr Noman']\n",
        "\n",
        "\n",
        "for name in names :\n",
        "print(name)"
      ]
    },
    {
      "cell_type": "code",
      "execution_count": null,
      "metadata": {
        "colab": {
          "base_uri": "https://localhost:8080/",
          "height": 141
        },
        "id": "FXKfEx6x_IyG",
        "outputId": "2adb7577-4218-49c6-e651-a431f5956db2"
      },
      "outputs": [
        {
          "ename": "SyntaxError",
          "evalue": "ignored",
          "output_type": "error",
          "traceback": [
            "\u001b[0;36m  File \u001b[0;32m\"<ipython-input-27-31efae439524>\"\u001b[0;36m, line \u001b[0;32m4\u001b[0m\n\u001b[0;31m    for name in names\u001b[0m\n\u001b[0m                      ^\u001b[0m\n\u001b[0;31mSyntaxError\u001b[0m\u001b[0;31m:\u001b[0m expected ':'\n"
          ]
        }
      ],
      "source": [
        "names : list[str] = ['Sir Zia', 'Sir Qasim', 'Dr Noman']\n",
        "\n",
        "\n",
        "for name in names\n",
        "  print(name)"
      ]
    },
    {
      "cell_type": "code",
      "execution_count": null,
      "metadata": {
        "colab": {
          "base_uri": "https://localhost:8080/",
          "height": 141
        },
        "id": "3e4RHtkdAg3j",
        "outputId": "5835ebf0-6e55-4746-af20-b8ffde769adb"
      },
      "outputs": [
        {
          "ename": "SyntaxError",
          "evalue": "ignored",
          "output_type": "error",
          "traceback": [
            "\u001b[0;36m  File \u001b[0;32m\"<ipython-input-30-0876b4fe22c4>\"\u001b[0;36m, line \u001b[0;32m3\u001b[0m\n\u001b[0;31m    for magician : str in magicians :\u001b[0m\n\u001b[0m                 ^\u001b[0m\n\u001b[0;31mSyntaxError\u001b[0m\u001b[0;31m:\u001b[0m invalid syntax\n"
          ]
        }
      ],
      "source": [
        "magicians = ['alice','david','carolina']\n",
        "\n",
        "for magician : str in magicians :\n",
        "  print(f\"{magician.title()}, that was a great trick! \")\n",
        "\n",
        "print(f\"\\nI cannot see your next trick, {magician.title()}.\\n\")"
      ]
    },
    {
      "cell_type": "code",
      "execution_count": null,
      "metadata": {
        "colab": {
          "base_uri": "https://localhost:8080/"
        },
        "id": "wwUo_DuR_Lg1",
        "outputId": "98780958-8fad-4bad-b096-d4240e553a1f"
      },
      "outputs": [
        {
          "name": "stdout",
          "output_type": "stream",
          "text": [
            "Alice, that was a great trick! \n",
            "David, that was a great trick! \n",
            "Carolina, that was a great trick! \n",
            "\n",
            "I cannot see your next trick, Carolina.\n",
            "\n"
          ]
        }
      ],
      "source": [
        "magicians = ['alice','david','carolina']\n",
        "\n",
        "for magician  in magicians :\n",
        "  print(f\"{magician.title()}, that was a great trick! \")\n",
        "\n",
        "# last variable also accessible from outside of the loop\n",
        "print(f\"\\nI cannot see your next trick, {magician.title()}.\\n\")"
      ]
    },
    {
      "cell_type": "code",
      "execution_count": null,
      "metadata": {
        "colab": {
          "base_uri": "https://localhost:8080/",
          "height": 141
        },
        "id": "ARtDQZ3CAVCf",
        "outputId": "68037eeb-e73c-45d5-ca9d-482eb46270cd"
      },
      "outputs": [
        {
          "ename": "IndentationError",
          "evalue": "ignored",
          "output_type": "error",
          "traceback": [
            "\u001b[0;36m  File \u001b[0;32m\"<ipython-input-32-bbd658bfd472>\"\u001b[0;36m, line \u001b[0;32m2\u001b[0m\n\u001b[0;31m    print(message)\u001b[0m\n\u001b[0m    ^\u001b[0m\n\u001b[0;31mIndentationError\u001b[0m\u001b[0;31m:\u001b[0m unexpected indent\n"
          ]
        }
      ],
      "source": [
        "message = \"Hello Python world!\"\n",
        "   print(message)"
      ]
    },
    {
      "cell_type": "code",
      "execution_count": null,
      "metadata": {
        "colab": {
          "base_uri": "https://localhost:8080/",
          "height": 141
        },
        "id": "A-hMGAKoBRql",
        "outputId": "abee6b8e-65dd-4ac5-df31-888e1136f020"
      },
      "outputs": [
        {
          "ename": "IndentationError",
          "evalue": "ignored",
          "output_type": "error",
          "traceback": [
            "\u001b[0;36m  File \u001b[0;32m\"<ipython-input-33-f718f9c5ce5d>\"\u001b[0;36m, line \u001b[0;32m2\u001b[0m\n\u001b[0;31m    print(message)\u001b[0m\n\u001b[0m    ^\u001b[0m\n\u001b[0;31mIndentationError\u001b[0m\u001b[0;31m:\u001b[0m unexpected indent\n"
          ]
        }
      ],
      "source": [
        "message = \"Hello Python world!\"\n",
        "  print(message)"
      ]
    },
    {
      "cell_type": "code",
      "execution_count": null,
      "metadata": {
        "colab": {
          "base_uri": "https://localhost:8080/"
        },
        "id": "pRGy1i78BWSb",
        "outputId": "e686d27c-b832-45f9-da29-c0e633d57c71"
      },
      "outputs": [
        {
          "name": "stdout",
          "output_type": "stream",
          "text": [
            "Alice, that was a great trick! \n",
            "I cannot see your next trick, Alice.\n",
            "\n",
            "David, that was a great trick! \n",
            "I cannot see your next trick, David.\n",
            "\n",
            "Carolina, that was a great trick! \n",
            "I cannot see your next trick, Carolina.\n",
            "\n",
            "Thank you for everyone , that was a great trik\n"
          ]
        }
      ],
      "source": [
        "magicians : list[str,str] = ['alice','david','carolina']\n",
        "\n",
        "for magician  in magicians :\n",
        "  print(f\"{magician.title()}, that was a great trick! \")\n",
        "  print(f\"I cannot see your next trick, {magician.title()}.\\n\")\n",
        "\n",
        "\n",
        "print(f\"Thank you for everyone , that was a great trik\")"
      ]
    },
    {
      "cell_type": "code",
      "execution_count": null,
      "metadata": {
        "colab": {
          "base_uri": "https://localhost:8080/"
        },
        "id": "qW-ijnOWDGnX",
        "outputId": "16d3db18-6588-441f-b407-dbbd265e0198"
      },
      "outputs": [
        {
          "data": {
            "text/plain": [
              "[(0, 'alice'), (1, 'david'), (2, 'carolina')]"
            ]
          },
          "execution_count": 44,
          "metadata": {},
          "output_type": "execute_result"
        }
      ],
      "source": [
        "#                 0      1         2\n",
        "\n",
        "magicians = ['alice','david','carolina']\n",
        "\n",
        "list(enumerate(magicians)) # return also"
      ]
    },
    {
      "cell_type": "code",
      "execution_count": null,
      "metadata": {
        "colab": {
          "base_uri": "https://localhost:8080/"
        },
        "id": "PyO__FJZDUnu",
        "outputId": "eaa56f8d-13ce-4ca5-9a96-08dcd3ddc40c"
      },
      "outputs": [
        {
          "name": "stdout",
          "output_type": "stream",
          "text": [
            "0 alice\n",
            "1 david\n",
            "2 carolina\n"
          ]
        }
      ],
      "source": [
        "#                 0      1         2\n",
        "\n",
        "magicians = ['alice','david','carolina']\n",
        "\n",
        "for index, name in enumerate(magicians):  # enumerate\n",
        "  print(index,name)"
      ]
    },
    {
      "cell_type": "markdown",
      "metadata": {
        "id": "s-8UOR7vB4tl"
      },
      "source": [
        "# Numbers with loop\n",
        "* range(start,end,step)"
      ]
    },
    {
      "cell_type": "code",
      "execution_count": null,
      "metadata": {
        "colab": {
          "base_uri": "https://localhost:8080/"
        },
        "id": "prSUSaWGBuEh",
        "outputId": "d51a1d3f-f44d-473c-ba0c-9b7d749f094e"
      },
      "outputs": [
        {
          "data": {
            "text/plain": [
              "range(0, 10)"
            ]
          },
          "execution_count": 37,
          "metadata": {},
          "output_type": "execute_result"
        }
      ],
      "source": [
        "range(10)"
      ]
    },
    {
      "cell_type": "code",
      "execution_count": null,
      "metadata": {
        "colab": {
          "base_uri": "https://localhost:8080/"
        },
        "id": "lvSPTtvmCDGK",
        "outputId": "ac78e4ea-9a60-47d9-b407-31639dbb4072"
      },
      "outputs": [
        {
          "data": {
            "text/plain": [
              "[0, 1, 2, 3, 4, 5, 6, 7, 8, 9]"
            ]
          },
          "execution_count": 40,
          "metadata": {},
          "output_type": "execute_result"
        }
      ],
      "source": [
        "list(range(10)) # starting=0 , ending =  n - 1"
      ]
    },
    {
      "cell_type": "code",
      "execution_count": null,
      "metadata": {
        "colab": {
          "base_uri": "https://localhost:8080/"
        },
        "id": "faXSXDAHCHkH",
        "outputId": "f8bdf5e9-3ecf-408c-9b0d-e2b0c8fdb7b2"
      },
      "outputs": [
        {
          "data": {
            "text/plain": [
              "[2, 3, 4, 5, 6, 7, 8, 9]"
            ]
          },
          "execution_count": 41,
          "metadata": {},
          "output_type": "execute_result"
        }
      ],
      "source": [
        "list(range(2,10)) # starting=2 , ending =  n - 1"
      ]
    },
    {
      "cell_type": "code",
      "execution_count": null,
      "metadata": {
        "colab": {
          "base_uri": "https://localhost:8080/"
        },
        "id": "7PdqGENHCVfu",
        "outputId": "c506fa39-5fc3-4d91-d515-1e341ec507f3"
      },
      "outputs": [
        {
          "data": {
            "text/plain": [
              "[2, 4, 6, 8, 10, 12, 14, 16, 18, 20]"
            ]
          },
          "execution_count": 42,
          "metadata": {},
          "output_type": "execute_result"
        }
      ],
      "source": [
        "list(range(2,21,2)) # starting=2 , ending =  n - 1, step=2"
      ]
    },
    {
      "cell_type": "code",
      "execution_count": null,
      "metadata": {
        "colab": {
          "base_uri": "https://localhost:8080/"
        },
        "id": "tuIlRNv2Cd53",
        "outputId": "3fea3aca-200c-4a60-e8e5-c24367ce9c78"
      },
      "outputs": [
        {
          "name": "stdout",
          "output_type": "stream",
          "text": [
            "2\n",
            "4\n",
            "6\n",
            "8\n",
            "10\n",
            "12\n",
            "14\n",
            "16\n",
            "18\n",
            "20\n"
          ]
        }
      ],
      "source": [
        "for n in range(2,21,2):\n",
        "  print(n)"
      ]
    },
    {
      "cell_type": "code",
      "execution_count": null,
      "metadata": {
        "colab": {
          "base_uri": "https://localhost:8080/"
        },
        "id": "3ZIFtqQsC82F",
        "outputId": "8f05c46b-2a22-413b-fd95-41768f34c625"
      },
      "outputs": [
        {
          "name": "stdout",
          "output_type": "stream",
          "text": [
            "1\n",
            "2\n",
            "3\n",
            "4\n",
            "5\n",
            "6\n",
            "7\n",
            "8\n",
            "9\n",
            "10\n"
          ]
        }
      ],
      "source": [
        "for n in range(1,11):\n",
        "  print(n)"
      ]
    },
    {
      "cell_type": "code",
      "execution_count": null,
      "metadata": {
        "colab": {
          "base_uri": "https://localhost:8080/"
        },
        "id": "7RkrPtfuDvC-",
        "outputId": "9fdad351-3f13-4bb3-ef79-b8ad5505160e"
      },
      "outputs": [
        {
          "name": "stdout",
          "output_type": "stream",
          "text": [
            "2 X 1 = 2\n",
            "2 X 2 = 4\n",
            "2 X 3 = 6\n",
            "2 X 4 = 8\n",
            "2 X 5 = 10\n",
            "2 X 6 = 12\n",
            "2 X 7 = 14\n",
            "2 X 8 = 16\n",
            "2 X 9 = 18\n",
            "2 X 10 = 20\n"
          ]
        }
      ],
      "source": [
        "for n in range(1,11):\n",
        "  print(f\"{2} X {n} = {n*2}\")"
      ]
    },
    {
      "cell_type": "code",
      "execution_count": null,
      "metadata": {
        "colab": {
          "base_uri": "https://localhost:8080/"
        },
        "id": "v_94VbNjD6EC",
        "outputId": "31cff1ab-4e0b-4b5b-cecd-6c0fa2b0bb4e"
      },
      "outputs": [
        {
          "name": "stdout",
          "output_type": "stream",
          "text": [
            "[1, 4, 9, 16, 25, 36, 49, 64, 81, 100]\n"
          ]
        }
      ],
      "source": [
        "squares : list[str] = []\n",
        "\n",
        "for value in range(1,11):\n",
        "  square = value ** 2\n",
        "  squares.append(square)\n",
        "\n",
        "print(squares)"
      ]
    },
    {
      "cell_type": "code",
      "execution_count": null,
      "metadata": {
        "colab": {
          "base_uri": "https://localhost:8080/"
        },
        "id": "I7KXHqSR1vgP",
        "outputId": "84510897-ea16-4ff7-9867-b38d7d473bf3"
      },
      "outputs": [
        {
          "name": "stdout",
          "output_type": "stream",
          "text": [
            "[1, 4, 9, 16, 25, 36, 49, 64, 81, 100]\n",
            "\n",
            "1^2 = 1\n",
            "\n",
            "2^2 = 4\n",
            "\n",
            "3^2 = 9\n",
            "\n",
            "4^2 = 16\n",
            "\n",
            "5^2 = 25\n",
            "\n",
            "6^2 = 36\n",
            "\n",
            "7^2 = 49\n",
            "\n",
            "8^2 = 64\n",
            "\n",
            "9^2 = 81\n",
            "\n",
            "10^2 = 100\n"
          ]
        }
      ],
      "source": [
        "squares : list[str] = []\n",
        "\n",
        "for value in range(1,11):\n",
        "  square = value ** 2\n",
        "  squares.append(square)\n",
        "\n",
        "print(squares)\n",
        "# use this technique make a table\n",
        "for index, sq in enumerate(squares) :\n",
        "  print(f\"\\n{index+1}^2 = {sq}\")\n"
      ]
    },
    {
      "cell_type": "markdown",
      "metadata": {
        "id": "oQatlJDiEksi"
      },
      "source": [
        "# List comprehensive (short)\n",
        "\n",
        "```\n",
        "for item in item_list:\n",
        "   loop_body\n",
        "```\n",
        "\n",
        "### Comprehensive Style\n",
        "\n",
        "```\n",
        "loop_body for item in item_list\n",
        "```"
      ]
    },
    {
      "cell_type": "code",
      "execution_count": null,
      "metadata": {
        "colab": {
          "base_uri": "https://localhost:8080/"
        },
        "id": "E3m-j3UaEfwE",
        "outputId": "23c5df55-2e39-41d7-8938-ba7e5f24c055"
      },
      "outputs": [
        {
          "data": {
            "text/plain": [
              "[1, 2, 3, 4, 5, 6, 7, 8, 9, 10]"
            ]
          },
          "execution_count": 50,
          "metadata": {},
          "output_type": "execute_result"
        }
      ],
      "source": [
        "list(range(1,11))"
      ]
    },
    {
      "cell_type": "code",
      "execution_count": null,
      "metadata": {
        "colab": {
          "base_uri": "https://localhost:8080/"
        },
        "id": "ISk5EJtHFFJD",
        "outputId": "12564544-2203-440d-f161-51edcacc80e9"
      },
      "outputs": [
        {
          "name": "stdout",
          "output_type": "stream",
          "text": [
            "1\n",
            "4\n",
            "9\n",
            "16\n",
            "25\n",
            "36\n",
            "49\n",
            "64\n",
            "81\n",
            "100\n"
          ]
        }
      ],
      "source": [
        "for i in range(1,11):\n",
        "  print(i ** 2)"
      ]
    },
    {
      "cell_type": "markdown",
      "metadata": {
        "id": "f8gzzp7U3tTT"
      },
      "source": [
        "### The Syntax\n",
        "```code\n",
        "newlist = [expression for item in iterable if condition == True]\n",
        "```"
      ]
    },
    {
      "cell_type": "markdown",
      "metadata": {
        "id": "4JJKUkmK3Sk7"
      },
      "source": [
        "\n",
        "```\n",
        "* With list comprehension you can do all that with only one line of code:\n",
        "```"
      ]
    },
    {
      "cell_type": "code",
      "execution_count": null,
      "metadata": {
        "colab": {
          "base_uri": "https://localhost:8080/"
        },
        "id": "kCsu3RCPFNRW",
        "outputId": "672a69f7-0da2-481a-a7f0-6b73a5d4f530"
      },
      "outputs": [
        {
          "data": {
            "text/plain": [
              "[1, 4, 9, 16, 25, 36, 49, 64, 81, 100]"
            ]
          },
          "execution_count": 52,
          "metadata": {},
          "output_type": "execute_result"
        }
      ],
      "source": [
        "[i**2 for i in range(1,11)] # comprehensive list mean one liner code"
      ]
    },
    {
      "cell_type": "code",
      "execution_count": null,
      "metadata": {
        "colab": {
          "base_uri": "https://localhost:8080/",
          "height": 35
        },
        "id": "3NDBEXGZFZIL",
        "outputId": "9193b353-4759-48ea-c80c-536f36216bb9"
      },
      "outputs": [
        {
          "data": {
            "application/vnd.google.colaboratory.intrinsic+json": {
              "type": "string"
            },
            "text/plain": [
              "'line3'"
            ]
          },
          "execution_count": 53,
          "metadata": {},
          "output_type": "execute_result"
        }
      ],
      "source": [
        "'line1'\n",
        "'line2'\n",
        "'line3' # always return last line"
      ]
    },
    {
      "cell_type": "code",
      "execution_count": null,
      "metadata": {
        "colab": {
          "base_uri": "https://localhost:8080/"
        },
        "id": "UhtY91oHF-9c",
        "outputId": "43848199-ce42-43f8-8762-305c99ed7a03"
      },
      "outputs": [
        {
          "name": "stdout",
          "output_type": "stream",
          "text": [
            "[1, 4, 9, 16, 25, 36, 49, 64, 81, 100]\n"
          ]
        }
      ],
      "source": [
        "print([i**2 for i in range(1,11)]) # But it has limit like warning"
      ]
    },
    {
      "cell_type": "code",
      "execution_count": null,
      "metadata": {
        "colab": {
          "base_uri": "https://localhost:8080/"
        },
        "id": "vBRJc86DGEhI",
        "outputId": "f2963679-1e0d-413f-9220-e807a0617c90"
      },
      "outputs": [
        {
          "name": "stdout",
          "output_type": "stream",
          "text": [
            "[1, 2, 3, 4, 5, 6, 7, 8, 9, 0]\n",
            "9\n"
          ]
        }
      ],
      "source": [
        "digits : list[int] = [1,2,3,4,5,6,7,8,9,0]\n",
        "\n",
        "print(digits)\n",
        "\n",
        "print(max(digits))"
      ]
    },
    {
      "cell_type": "code",
      "execution_count": null,
      "metadata": {
        "colab": {
          "base_uri": "https://localhost:8080/"
        },
        "id": "1794FVveGZHU",
        "outputId": "14600913-e85b-4818-9329-5b99da66a761"
      },
      "outputs": [
        {
          "name": "stdout",
          "output_type": "stream",
          "text": [
            "[1, 2, 3, 4, 5, 6, 7, 8, 9, 0]\n",
            "0\n",
            "9\n",
            "45\n"
          ]
        }
      ],
      "source": [
        "digits : list[int] = [1,2,3,4,5,6,7,8,9,0]\n",
        "\n",
        "print(digits)\n",
        "print(min(digits))\n",
        "print(max(digits))\n",
        "print(sum(digits))"
      ]
    },
    {
      "cell_type": "code",
      "execution_count": null,
      "metadata": {
        "colab": {
          "base_uri": "https://localhost:8080/"
        },
        "id": "glqnl52dGmtT",
        "outputId": "c8c2c966-cebf-43a1-c8fb-3bb6daba7586"
      },
      "outputs": [
        {
          "name": "stdout",
          "output_type": "stream",
          "text": [
            "['pizza', 'falafel', 'cake']\n",
            "['pizza', 'falafel', 'cake']\n",
            "\n",
            "\n",
            "Change in my_foods\n",
            "\n",
            "['Tika', 'falafel', 'cake']\n",
            "['pizza', 'falafel', 'cake']\n"
          ]
        }
      ],
      "source": [
        "my_foods = ['pizza','falafel','cake']\n",
        "friend_food = my_foods[:] # deep copy\n",
        "\n",
        "print(my_foods)\n",
        "print(friend_food)\n",
        "\n",
        "print(\"\\n\")\n",
        "print(\"Change in my_foods\\n\")\n",
        "my_foods[0] = \"Tika\"\n",
        "\n",
        "\n",
        "\n",
        "print(my_foods)\n",
        "print(friend_food)"
      ]
    },
    {
      "cell_type": "markdown",
      "metadata": {
        "id": "XJaHSwnkHSs9"
      },
      "source": [
        "# Tuples\n",
        "\n",
        "* Cannot update\n",
        "* Immutable"
      ]
    },
    {
      "cell_type": "code",
      "execution_count": null,
      "metadata": {
        "colab": {
          "base_uri": "https://localhost:8080/"
        },
        "id": "xTgXVIr9HOKR",
        "outputId": "16552504-85f2-4bb5-ce59-9f17b9c7575f"
      },
      "outputs": [
        {
          "name": "stdout",
          "output_type": "stream",
          "text": [
            "A\n",
            "('A', 'B')\n"
          ]
        }
      ],
      "source": [
        "names : tuple[str] = ('A','B','C')\n",
        "\n",
        "print(names[0])\n",
        "print(names[0:2]) # n - 1   3 = 3 - 1"
      ]
    },
    {
      "cell_type": "code",
      "execution_count": null,
      "metadata": {
        "colab": {
          "base_uri": "https://localhost:8080/",
          "height": 211
        },
        "id": "TqrKVVcbH104",
        "outputId": "695f39bf-514e-4c6e-e16c-0a7b8c5d7e14"
      },
      "outputs": [
        {
          "ename": "TypeError",
          "evalue": "ignored",
          "output_type": "error",
          "traceback": [
            "\u001b[0;31m---------------------------------------------------------------------------\u001b[0m",
            "\u001b[0;31mTypeError\u001b[0m                                 Traceback (most recent call last)",
            "\u001b[0;32m<ipython-input-62-b4e98170491d>\u001b[0m in \u001b[0;36m<cell line: 3>\u001b[0;34m()\u001b[0m\n\u001b[1;32m      1\u001b[0m \u001b[0mnames\u001b[0m \u001b[0;34m:\u001b[0m \u001b[0mtuple\u001b[0m\u001b[0;34m[\u001b[0m\u001b[0mstr\u001b[0m\u001b[0;34m]\u001b[0m \u001b[0;34m=\u001b[0m \u001b[0;34m(\u001b[0m\u001b[0;34m'A'\u001b[0m\u001b[0;34m,\u001b[0m\u001b[0;34m'B'\u001b[0m\u001b[0;34m,\u001b[0m\u001b[0;34m'C'\u001b[0m\u001b[0;34m)\u001b[0m\u001b[0;34m\u001b[0m\u001b[0;34m\u001b[0m\u001b[0m\n\u001b[1;32m      2\u001b[0m \u001b[0;34m\u001b[0m\u001b[0m\n\u001b[0;32m----> 3\u001b[0;31m \u001b[0mname\u001b[0m\u001b[0;34m[\u001b[0m\u001b[0;36m0\u001b[0m\u001b[0;34m]\u001b[0m \u001b[0;34m=\u001b[0m \u001b[0;34m\"Pakistan\"\u001b[0m\u001b[0;34m\u001b[0m\u001b[0;34m\u001b[0m\u001b[0m\n\u001b[0m",
            "\u001b[0;31mTypeError\u001b[0m: 'str' object does not support item assignment"
          ]
        }
      ],
      "source": [
        "names : tuple[str] = ('A','B','C')\n",
        "\n",
        "name[0] = \"Pakistan\"\n"
      ]
    },
    {
      "cell_type": "code",
      "execution_count": null,
      "metadata": {
        "colab": {
          "base_uri": "https://localhost:8080/"
        },
        "id": "spCBcYmzH7w4",
        "outputId": "7e7e2223-1b72-4069-ede5-56e9e48d9b78"
      },
      "outputs": [
        {
          "name": "stdout",
          "output_type": "stream",
          "text": [
            "('Pakistan', 'B', 'C')\n"
          ]
        }
      ],
      "source": [
        "names : tuple[str] = ('A','B','C')\n",
        "\n",
        "# Tuple can reassigned\n",
        "names : tuple[str] = ('Pakistan','B','C')\n",
        "\n",
        "print(names)\n"
      ]
    },
    {
      "cell_type": "code",
      "execution_count": null,
      "metadata": {
        "colab": {
          "base_uri": "https://localhost:8080/"
        },
        "id": "pwpEkC-yIFaH",
        "outputId": "9c50b803-7e21-497b-830e-c84facd548f6"
      },
      "outputs": [
        {
          "name": "stdout",
          "output_type": "stream",
          "text": [
            "('A', [1, 2, 3], True)\n"
          ]
        }
      ],
      "source": [
        "from typing import Any\n",
        "\n",
        "data : tuple[Any] = (\"A\",[1,2,3],True)\n",
        "\n",
        "print(data)"
      ]
    },
    {
      "cell_type": "code",
      "execution_count": null,
      "metadata": {
        "colab": {
          "base_uri": "https://localhost:8080/",
          "height": 246
        },
        "id": "CT86-4osIPku",
        "outputId": "b14d389c-8aea-4bb5-a502-96831e911d08"
      },
      "outputs": [
        {
          "ename": "TypeError",
          "evalue": "ignored",
          "output_type": "error",
          "traceback": [
            "\u001b[0;31m---------------------------------------------------------------------------\u001b[0m",
            "\u001b[0;31mTypeError\u001b[0m                                 Traceback (most recent call last)",
            "\u001b[0;32m<ipython-input-66-839eed237a11>\u001b[0m in \u001b[0;36m<cell line: 3>\u001b[0;34m()\u001b[0m\n\u001b[1;32m      1\u001b[0m \u001b[0mdata\u001b[0m \u001b[0;34m:\u001b[0m \u001b[0mtuple\u001b[0m\u001b[0;34m[\u001b[0m\u001b[0mAny\u001b[0m\u001b[0;34m]\u001b[0m \u001b[0;34m=\u001b[0m \u001b[0;34m(\u001b[0m\u001b[0;34m\"A\"\u001b[0m\u001b[0;34m,\u001b[0m\u001b[0;34m[\u001b[0m\u001b[0;36m1\u001b[0m\u001b[0;34m,\u001b[0m\u001b[0;36m2\u001b[0m\u001b[0;34m,\u001b[0m\u001b[0;36m3\u001b[0m\u001b[0;34m]\u001b[0m\u001b[0;34m,\u001b[0m\u001b[0;32mTrue\u001b[0m\u001b[0;34m)\u001b[0m\u001b[0;34m\u001b[0m\u001b[0;34m\u001b[0m\u001b[0m\n\u001b[1;32m      2\u001b[0m \u001b[0;34m\u001b[0m\u001b[0m\n\u001b[0;32m----> 3\u001b[0;31m \u001b[0mdata\u001b[0m\u001b[0;34m[\u001b[0m\u001b[0;36m1\u001b[0m\u001b[0;34m]\u001b[0m \u001b[0;34m=\u001b[0m \u001b[0;34m\"B\"\u001b[0m\u001b[0;34m\u001b[0m\u001b[0;34m\u001b[0m\u001b[0m\n\u001b[0m\u001b[1;32m      4\u001b[0m \u001b[0;34m\u001b[0m\u001b[0m\n\u001b[1;32m      5\u001b[0m \u001b[0mprint\u001b[0m\u001b[0;34m(\u001b[0m\u001b[0mdata\u001b[0m\u001b[0;34m)\u001b[0m\u001b[0;34m\u001b[0m\u001b[0;34m\u001b[0m\u001b[0m\n",
            "\u001b[0;31mTypeError\u001b[0m: 'tuple' object does not support item assignment"
          ]
        }
      ],
      "source": [
        "\n",
        "data : tuple[Any] = (\"A\",[1,2,3],True)\n",
        "\n",
        "data[1] = \"B\"\n",
        "\n",
        "print(data)"
      ]
    },
    {
      "cell_type": "code",
      "execution_count": null,
      "metadata": {
        "colab": {
          "base_uri": "https://localhost:8080/"
        },
        "id": "xvQoOoJ-IXjJ",
        "outputId": "c29d1147-1dc3-4338-f224-c38c75b26dd0"
      },
      "outputs": [
        {
          "name": "stdout",
          "output_type": "stream",
          "text": [
            "[1, 2, 3]\n"
          ]
        }
      ],
      "source": [
        "\n",
        "data : tuple[Any] = (\"A\",[1,2,3],True)\n",
        "\n",
        "\n",
        "print(data[1])"
      ]
    },
    {
      "cell_type": "code",
      "execution_count": null,
      "metadata": {
        "colab": {
          "base_uri": "https://localhost:8080/"
        },
        "id": "SENWHCOxIfwB",
        "outputId": "f71b634d-41f8-49b2-841f-942da48d1e08"
      },
      "outputs": [
        {
          "name": "stdout",
          "output_type": "stream",
          "text": [
            "[1, 2, 3]\n",
            "('A', [1, 2, 3, 20], True)\n"
          ]
        }
      ],
      "source": [
        "\n",
        "data : tuple[Any] = (\"A\",[1,2,3],True)\n",
        "\n",
        "\n",
        "print(data[1])\n",
        "\n",
        "data[1].append(20)\n",
        "\n",
        "print(data)"
      ]
    },
    {
      "cell_type": "code",
      "execution_count": null,
      "metadata": {
        "colab": {
          "base_uri": "https://localhost:8080/"
        },
        "id": "wF3MUY2qIoys",
        "outputId": "68960958-9e32-40b1-f2ed-4e971fad8f3a"
      },
      "outputs": [
        {
          "name": "stdout",
          "output_type": "stream",
          "text": [
            "Enter your test number : 123\n",
            "<class 'str'>\n",
            "123\n"
          ]
        }
      ],
      "source": [
        "a = input(\"Enter your test number : \") # return string type\n",
        "\n",
        "print(type(a))\n",
        "print(a)"
      ]
    },
    {
      "cell_type": "code",
      "execution_count": null,
      "metadata": {
        "colab": {
          "base_uri": "https://localhost:8080/"
        },
        "id": "eO_2lOzWJdVS",
        "outputId": "26fe6890-bab7-421b-d83a-7f6587f885ff"
      },
      "outputs": [
        {
          "data": {
            "text/plain": [
              "[1, 3, 7, 8]"
            ]
          },
          "execution_count": 74,
          "metadata": {},
          "output_type": "execute_result"
        }
      ],
      "source": [
        "sorted([7,8,1,3])"
      ]
    },
    {
      "cell_type": "markdown",
      "metadata": {},
      "source": [
        "# <p slign=\"center\">**TRY IT YOURSELF**</p>"
      ]
    },
    {
      "cell_type": "markdown",
      "metadata": {},
      "source": [
        "## Exercie 01"
      ]
    },
    {
      "cell_type": "markdown",
      "metadata": {},
      "source": [
        "**4-1. Pizzas**\n",
        "\n",
        "Think of at least three kinds of your favorite pizza. Store these\n",
        "\n",
        "pizza names in a list, and then use a for loop to print the name of each pizza.\n",
        "\n",
        "* Modify your for loop to print a sentence using the name of the pizza,\n",
        "instead of printing just the name of the pizza. For each pizza, you should\n",
        "have one line of output containing a simple statement like I like pep-\n",
        "peroni pizza.\n",
        "* Add a line at the end of your program, outside the for loop, that states\n",
        "how much you like pizza. The output should consist of three or more lines\n",
        "about the kinds of pizza you like and then an additional sentence, such as\n",
        "I really love pizza!"
      ]
    },
    {
      "cell_type": "markdown",
      "metadata": {},
      "source": [
        "**4-2. Animals**\n",
        "\n",
        "Think of at least three different animals that have a common characteristic. \n",
        "\n",
        "Store the names of these animals in a list, and then use a for loop to\n",
        "\n",
        "print out the name of each animal.\n",
        "\n",
        "* Modify your program to print a statement about each animal, such as A\n",
        "dog would make a great pet.\n",
        "* Add a line at the end of your program, stating what these animals have in\n",
        "common. You could print a sentence, such as Any of these animals would\n",
        "make a great pet!"
      ]
    },
    {
      "cell_type": "markdown",
      "metadata": {},
      "source": [
        "## Exercise 02"
      ]
    },
    {
      "cell_type": "markdown",
      "metadata": {},
      "source": [
        "### **4-3. Counting to Twenty**\n",
        "\n",
        "Use a for loop to print the numbers from 1 to 20, inclusive."
      ]
    },
    {
      "cell_type": "markdown",
      "metadata": {},
      "source": [
        "### **4-4. One Million**\n",
        "\n",
        "Make a list of the numbers from one to one million, and then \n",
        "\n",
        "use a for loop to print the numbers. (If the output is taking too long, stop it by\n",
        "\n",
        "pressing CTRL-C or by closing the output window.)"
      ]
    },
    {
      "cell_type": "markdown",
      "metadata": {},
      "source": [
        "### **4-5. Summing a Million**\n",
        "\n",
        "Make a list of the numbers from one to one million, and\n",
        "\n",
        "then use min() and max() to make sure your list actually starts at one and ends\n",
        "\n",
        "at one million. Also, use the sum() function to see how quickly Python can add\n",
        "\n",
        "a million numbers."
      ]
    },
    {
      "cell_type": "markdown",
      "metadata": {},
      "source": [
        "## **4-6. Odd Numbers**\n",
        "\n",
        "Use the third argument of the range() function to make a list\n",
        "\n",
        "of the odd numbers from 1 to 20. Use a for loop to print each number."
      ]
    },
    {
      "cell_type": "markdown",
      "metadata": {},
      "source": [
        "## **4-7. Threes**\n",
        "\n",
        "Make a list of the multiples of 3, from 3 to 30. Use a for loop to\n",
        "\n",
        "print the numbers in your list."
      ]
    },
    {
      "cell_type": "markdown",
      "metadata": {},
      "source": [
        "## **4-8. Cubes**\n",
        "\n",
        "A number raised to the third power is called a cube. For example,\n",
        "\n",
        "the cube of 2 is written as 2**3 in Python. Make a list of the first 10 cubes (that\n",
        "\n",
        "is, the cube of each integer from 1 through 10), and use a for loop to print out\n",
        "\n",
        "the value of each cube."
      ]
    },
    {
      "cell_type": "markdown",
      "metadata": {},
      "source": [
        "## **4-9. Cube Comprehension**\n",
        "\n",
        "Use a list comprehension to generate a list of the first 10 cubes."
      ]
    },
    {
      "cell_type": "markdown",
      "metadata": {},
      "source": [
        "## Exercise 03"
      ]
    },
    {
      "cell_type": "markdown",
      "metadata": {},
      "source": [
        "### **4-10. Slices**\n",
        "\n",
        "Using one of the programs you wrote in this chapter, add several\n",
        "\n",
        "lines to the end of the program that do the following:\n",
        "* Print the message The first three items in the list are:. Then use a slice to\n",
        "print the first three items from that program’s list.\n",
        "* Print the message Three items from the middle of the list are:. Then use a\n",
        "slice to print three items from the middle of the list.\n",
        "* Print the message The last three items in the list are:. Then use a slice to\n",
        "print the last three items in the list."
      ]
    },
    {
      "cell_type": "markdown",
      "metadata": {},
      "source": [
        "## **4-11. My Pizzas, Your Pizzas**\n",
        "\n",
        "Start with your program from Exercise 4-1 (page 56).\n",
        "\n",
        "Make a copy of the list of pizzas, and call it friend_pizzas. Then, do the\n",
        "following:\n",
        "* Add a new pizza to the original list.\n",
        "* Add a different pizza to the list friend_pizzas.\n",
        "* Prove that you have two separate lists. Print the message My favorite piz-\n",
        "zas are:, and then use a for loop to print the first list. Print the message My\n",
        "friend’s favorite pizzas are:, and then use a for loop to print the"
      ]
    },
    {
      "cell_type": "markdown",
      "metadata": {},
      "source": [
        "## **4-12. More Loops**\n",
        "\n",
        "All versions of foods.py in this section have avoided using\n",
        "\n",
        "for loops when printing, to save space. Choose a version of foods.py, and\n",
        "\n",
        "write two for loops to print each list of foods."
      ]
    },
    {
      "cell_type": "markdown",
      "metadata": {},
      "source": [
        "## **4-13. Buffet**\n",
        "\n",
        "A buffet-style restaurant offers only five basic foods. Think of five\n",
        "\n",
        "simple foods, and store them in a tuple.\n",
        "* Use a for loop to print each food the restaurant offers.\n",
        "* Try to modify one of the items, and make sure that Python rejects the\n",
        "change.\n",
        "* The restaurant changes its menu, replacing two of the items with different\n",
        "foods. Add a line that rewrites the tuple, and then use a for loop to print\n",
        "each of the items on the revised menu."
      ]
    },
    {
      "cell_type": "markdown",
      "metadata": {},
      "source": [
        "## **4-14. PEP 8** \n",
        "\n",
        "Look through the original PEP 8 style guide at https://python.org/\n",
        "\n",
        "dev/peps/pep-0008. You won’t use much of it now, but it might be interesting\n",
        "\n",
        "to skim through it."
      ]
    },
    {
      "cell_type": "markdown",
      "metadata": {},
      "source": [
        "## **4-15. Code Review**: \n",
        "\n",
        "Choose three of the programs you’ve written in this chapter\n",
        "\n",
        "and modify each one to comply with PEP 8.\n",
        "* Use four spaces for each indentation level. Set your text editor to insert four\n",
        "spaces every time you press the TAB key, if you haven’t already done so\n",
        "(see Appendix B for instructions on how to do this).\n",
        "* Use less than 80 characters on each line, and set your editor to show a\n",
        "vertical guideline at the 80th character position.\n",
        "* Don’t use blank lines excessively in your program files."
      ]
    }
  ],
  "metadata": {
    "colab": {
      "provenance": []
    },
    "kernelspec": {
      "display_name": "Python 3",
      "name": "python3"
    },
    "language_info": {
      "name": "python"
    }
  },
  "nbformat": 4,
  "nbformat_minor": 0
}
