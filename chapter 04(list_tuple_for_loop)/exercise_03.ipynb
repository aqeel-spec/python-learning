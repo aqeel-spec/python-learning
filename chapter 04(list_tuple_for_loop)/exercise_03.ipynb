{
 "cells": [
  {
   "cell_type": "markdown",
   "metadata": {},
   "source": [
    "# **E x e r c i s e 03**"
   ]
  },
  {
   "cell_type": "markdown",
   "metadata": {},
   "source": [
    "### **4-10. Slices**\n",
    "\n",
    "Using one of the programs you wrote in this chapter, add several\n",
    "\n",
    "lines to the end of the program that do the following:\n",
    "* Print the message The first three items in the list are:. Then use a slice to\n",
    "print the first three items from that program’s list.\n",
    "* Print the message Three items from the middle of the list are:. Then use a\n",
    "slice to print three items from the middle of the list.\n",
    "* Print the message The last three items in the list are:. Then use a slice to\n",
    "print the last three items in the list."
   ]
  },
  {
   "cell_type": "code",
   "execution_count": 16,
   "metadata": {},
   "outputs": [
    {
     "name": "stdout",
     "output_type": "stream",
     "text": [
      "List:  ['a', 'b', 'c', 'e', 'f', 'g', 'i', 'j']\n",
      "\n",
      "Without slicing:\n",
      "a\n",
      "b\n",
      "c\n",
      "\n",
      "With slicing:\n",
      "a\n",
      "b\n",
      "c\n",
      "\n",
      "Slicing with middle:\n",
      "f\n",
      "g\n",
      "i\n",
      "\n",
      "Use slicing to print last three items in from list :\n",
      "g\n",
      "i\n",
      "j\n"
     ]
    }
   ],
   "source": [
    "my_list: list[str] = [\"a\", \"b\", \"c\", \"e\", \"f\",\"g\",\"i\",\"j\"]\n",
    "\n",
    "\n",
    "print(\"List: \", my_list)\n",
    "\n",
    "# Print the first three items from the list without using slicing\n",
    "print(\"\\nWithout slicing:\")\n",
    "for item in my_list[:3]:\n",
    "    print(item)\n",
    "        \n",
    "\n",
    "# Use slicing to print the first three items from the list\n",
    "print(\"\\nWith slicing:\")\n",
    "for item in my_list[0:3]:\n",
    "    print(item)\n",
    "\n",
    "# Three items from the middle of the list are\n",
    "middle_index = len(my_list) // 2\n",
    "print(\"\\nSlicing with middle:\")\n",
    "for item in my_list[middle_index:middle_index+3]:\n",
    "    print(item)\n",
    "\n",
    "# Use slicing to print the last three items  from list\n",
    "print(\"\\nUse slicing to print last three items in from list :\")\n",
    "for item in my_list[-3:]:\n",
    "    print(item)\n",
    "\n",
    "\n"
   ]
  },
  {
   "cell_type": "markdown",
   "metadata": {},
   "source": [
    "## **4-11. My Pizzas, Your Pizzas**\n",
    "\n",
    "Start with your program from Exercise 4-1 (page 56).\n",
    "\n",
    "Make a copy of the list of pizzas, and call it friend_pizzas. Then, do the\n",
    "following:\n",
    "* Add a new pizza to the original list.\n",
    "* Add a different pizza to the list friend_pizzas.\n",
    "* Prove that you have two separate lists. Print the message My favorite piz-\n",
    "zas are:, and then use a for loop to print the first list. Print the message My\n",
    "friend’s favorite pizzas are:, and then use a for loop to print the"
   ]
  },
  {
   "cell_type": "code",
   "execution_count": 19,
   "metadata": {},
   "outputs": [
    {
     "name": "stdout",
     "output_type": "stream",
     "text": [
      "My pizza list :\t['pepperoni', 'cheese', 'mushroom', 'sausage']\n",
      "\n",
      "Friend pizza list :\t['pepperoni', 'cheese', 'mushroom', 'veggie', 'meat']\n",
      "\n",
      "My favorite pizzas are:\n",
      "pepperoni\n",
      "cheese\n",
      "mushroom\n",
      "sausage\n",
      "\n",
      "My friend's favorite pizzas are:\n",
      "pepperoni\n",
      "cheese\n",
      "mushroom\n",
      "veggie\n",
      "meat\n"
     ]
    }
   ],
   "source": [
    "my_pizzas : list[str] = [\"pepperoni\", \"cheese\", \"mushroom\"]\n",
    "\n",
    "# make a copy of my_pizzas\n",
    "friend_pizzas : list[str] = my_pizzas[:] # This is called \"Deep copy\"\n",
    "\n",
    "# Add a new pizza to original list\n",
    "my_pizzas.append(\"sausage\")\n",
    "\n",
    "# Add different pizzas to the list friend_pizzas\n",
    "friend_pizzas.append(\"veggie\")\n",
    "friend_pizzas.append(\"meat\")\n",
    "\n",
    "# Prof for two seperates list\n",
    "print(f\"My pizza list :\\t{my_pizzas}\")\n",
    "print(f\"\\nFriend pizza list :\\t{friend_pizzas}\")\n",
    "\n",
    "print(\"\\nMy favorite pizzas are:\")\n",
    "for pizza in my_pizzas:\n",
    "    print(pizza)\n",
    "\n",
    "print(\"\\nMy friend's favorite pizzas are:\")\n",
    "for pizza in friend_pizzas:\n",
    "    print(pizza)\n",
    "\n"
   ]
  },
  {
   "cell_type": "markdown",
   "metadata": {},
   "source": [
    "## **4-12. More Loops**\n",
    "\n",
    "All versions of foods.py in this section have avoided using\n",
    "\n",
    "for loops when printing, to save space. Choose a version of foods.py, and\n",
    "\n",
    "write two for loops to print each list of foods."
   ]
  },
  {
   "cell_type": "code",
   "execution_count": 20,
   "metadata": {},
   "outputs": [
    {
     "name": "stdout",
     "output_type": "stream",
     "text": [
      "List of fruits:\n",
      "apple\n",
      "banana\n",
      "cherry\n",
      "date\n",
      "\n",
      "List of vegetables:\n",
      "carrot\n",
      "eggplant\n",
      "fennel\n",
      "garlic\n"
     ]
    }
   ],
   "source": [
    "# List of fruits\n",
    "fruits : list[str] = [\"apple\", \"banana\", \"cherry\", \"date\"]\n",
    "\n",
    "# List of vegetables\n",
    "vegetables : list[str]  = [\"carrot\", \"eggplant\", \"fennel\", \"garlic\"]\n",
    "\n",
    "# Print fruits using for loop\n",
    "print(\"List of fruits:\")\n",
    "for fruit in fruits:\n",
    "    print(fruit)\n",
    "\n",
    "# Print vegetables using for loop\n",
    "print(\"\\nList of vegetables:\")\n",
    "for vegetable in vegetables:\n",
    "    print(vegetable)\n"
   ]
  }
 ],
 "metadata": {
  "kernelspec": {
   "display_name": "p-learning",
   "language": "python",
   "name": "python3"
  },
  "language_info": {
   "codemirror_mode": {
    "name": "ipython",
    "version": 3
   },
   "file_extension": ".py",
   "mimetype": "text/x-python",
   "name": "python",
   "nbconvert_exporter": "python",
   "pygments_lexer": "ipython3",
   "version": "3.11.5"
  }
 },
 "nbformat": 4,
 "nbformat_minor": 2
}
