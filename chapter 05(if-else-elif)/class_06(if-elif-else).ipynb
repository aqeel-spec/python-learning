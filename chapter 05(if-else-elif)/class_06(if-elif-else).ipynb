{
 "cells": [
  {
   "cell_type": "markdown",
   "metadata": {},
   "source": [
    "# Chapter #05: **WORKING WITH IF STATEMENTS** "
   ]
  },
  {
   "cell_type": "markdown",
   "metadata": {},
   "source": [
    "#####  Class 06 : https://www.youtube.com/watch?v=ASNTpFSQHPo&t=6s"
   ]
  },
  {
   "cell_type": "markdown",
   "metadata": {},
   "source": [
    "# if-else-elif\n",
    "\n",
    "```\n",
    "if logic :\n",
    "  True_block\n",
    "else:\n",
    "  False\n",
    "```\n",
    "## comprehensive  if-else\n",
    "```\n",
    "True_block if logic else False_block\n",
    "```\n",
    "* if\n",
    "* if-else\n",
    "* if-elif-else"
   ]
  },
  {
   "cell_type": "code",
   "execution_count": 1,
   "metadata": {},
   "outputs": [
    {
     "name": "stdout",
     "output_type": "stream",
     "text": [
      "['audi', 'bmw']\n",
      "['audi', 'bmw', 'toyota']\n",
      "['honda', 'audi', 'bmw', 'toyota']\n",
      "4\n"
     ]
    }
   ],
   "source": [
    "cars : list[str] = ['audi','bmw']\n",
    "\n",
    "print(cars)\n",
    "\n",
    "cars.append('toyota')\n",
    "print(cars)\n",
    "\n",
    "cars.insert(0,'honda')\n",
    "print(cars)\n",
    "print(len(cars))"
   ]
  },
  {
   "cell_type": "code",
   "execution_count": 2,
   "metadata": {},
   "outputs": [
    {
     "name": "stdout",
     "output_type": "stream",
     "text": [
      "Pakistan zinda bad\n"
     ]
    }
   ],
   "source": [
    "# run one of them\n",
    "   # logic\n",
    "if True:\n",
    "  print(\"Pakistan zinda bad\")\n",
    "\n",
    "else:\n",
    "  print(\"Hello world!\")"
   ]
  },
  {
   "cell_type": "code",
   "execution_count": 3,
   "metadata": {},
   "outputs": [
    {
     "name": "stdout",
     "output_type": "stream",
     "text": [
      "Hello world!\n"
     ]
    }
   ],
   "source": [
    "# run one of them\n",
    "   # logic\n",
    "if False:\n",
    "  print(\"Pakistan zinda bad\")\n",
    "\n",
    "else:\n",
    "  print(\"Hello world!\")"
   ]
  },
  {
   "cell_type": "code",
   "execution_count": 4,
   "metadata": {},
   "outputs": [
    {
     "name": "stdout",
     "output_type": "stream",
     "text": [
      "Hello world!\n"
     ]
    }
   ],
   "source": [
    "# True_block                    logic             False_block\n",
    "print(\"Pakistan zinda bad\") if False else print(\"Hello world!\")"
   ]
  },
  {
   "cell_type": "code",
   "execution_count": 5,
   "metadata": {},
   "outputs": [
    {
     "name": "stdout",
     "output_type": "stream",
     "text": [
      "Pakistan zinda bad\n"
     ]
    }
   ],
   "source": [
    "# True_block                    logic             False_block\n",
    "print(\"Pakistan zinda bad\") if True else print(\"Hello world!\")"
   ]
  },
  {
   "cell_type": "markdown",
   "metadata": {},
   "source": [
    "# comparession operators\n",
    "\n",
    "* ==\n",
    "* `>=`\n",
    "* <=\n",
    "* !=\n",
    "## logic\n",
    "* and\n",
    "* or\n",
    "* not"
   ]
  },
  {
   "cell_type": "code",
   "execution_count": 6,
   "metadata": {},
   "outputs": [
    {
     "name": "stdout",
     "output_type": "stream",
     "text": [
      "True Pakistan Block\n",
      "1\n",
      "2\n"
     ]
    }
   ],
   "source": [
    "if True:\n",
    "    print(\"True Pakistan Block\")\n",
    "\n",
    "print(\"1\")\n",
    "print(\"2\")"
   ]
  },
  {
   "cell_type": "code",
   "execution_count": 7,
   "metadata": {},
   "outputs": [
    {
     "name": "stdout",
     "output_type": "stream",
     "text": [
      "1\n",
      "2\n"
     ]
    }
   ],
   "source": [
    "if False:\n",
    "    print(\"True Pakistan Block\")\n",
    "print(\"1\")\n",
    "print(\"2\")"
   ]
  },
  {
   "cell_type": "code",
   "execution_count": 8,
   "metadata": {},
   "outputs": [
    {
     "name": "stdout",
     "output_type": "stream",
     "text": [
      "True\n"
     ]
    }
   ],
   "source": [
    "if True:\n",
    "    print(\"True_block\")\n",
    "elif False:\n",
    "    print(\"elif_logic1\")\n",
    "elif True:\n",
    "    print(\"elif_logic2\")\n",
    "elif False:\n",
    "    print(\"elif_logic3\")\n",
    "else:\n",
    "    print(\"Final else block\")"
   ]
  },
  {
   "cell_type": "code",
   "execution_count": 9,
   "metadata": {},
   "outputs": [
    {
     "name": "stdout",
     "output_type": "stream",
     "text": [
      "elif_logic2\n"
     ]
    }
   ],
   "source": [
    "if False:\n",
    "    print(\"True\")\n",
    "elif False:\n",
    "    print(\"elif_logic1\")\n",
    "elif True:\n",
    "    print(\"elif_logic2\")\n",
    "elif False:\n",
    "    print(\"elif_logic3\")\n",
    "else:\n",
    "    print(\"Final else block\")"
   ]
  },
  {
   "cell_type": "code",
   "execution_count": 10,
   "metadata": {},
   "outputs": [
    {
     "name": "stdout",
     "output_type": "stream",
     "text": [
      "elif_logic2\n",
      "Final else block\n",
      "Pakistan\n"
     ]
    }
   ],
   "source": [
    "# chain1 run only one block\n",
    "if False:\n",
    "  print(\"True_block\")\n",
    "elif  False:\n",
    "  print(\"elif_logic1\")\n",
    "elif True: # catch 1st true logic\n",
    "  print(\"elif_logic2\")\n",
    "elif False:\n",
    "  print(\"elif_logic3\")\n",
    "else:\n",
    "  print(\"Final else block\")\n",
    "\n",
    "# chain 2 run only one block\n",
    "if False:\n",
    "  print(\"True_block\")\n",
    "elif  False:\n",
    "  print(\"elif_logic1\")\n",
    "elif False: # catch 1st true logic\n",
    "  print(\"elif_logic2\")\n",
    "elif False:\n",
    "  print(\"elif_logic3\")\n",
    "else:\n",
    "  print(\"Final else block\")\n",
    "print(\"Pakistan\")"
   ]
  },
  {
   "cell_type": "markdown",
   "metadata": {},
   "source": [
    "# Grading Rule\n",
    "\n",
    "https://www.infoworld.com/article/3630372/get-started-with-python-type-hints.html"
   ]
  },
  {
   "cell_type": "code",
   "execution_count": 11,
   "metadata": {},
   "outputs": [
    {
     "name": "stdout",
     "output_type": "stream",
     "text": [
      "Dear Students your percentage is 34 now your calculated grade is :\t E\n"
     ]
    }
   ],
   "source": [
    "from typing import Union\n",
    "\n",
    "# input always return string\n",
    "per : Union[float,int] = int(input(\"Enter your percentage:\\t\"))\n",
    "# per :    int | float = 88\n",
    "grade : Union[str, None] = None\n",
    "\n",
    "\n",
    "if per >= 80:\n",
    "  grade = \"A+\"\n",
    "elif per >=70:\n",
    "  grade = \"A\"\n",
    "elif per >= 60:\n",
    "  grade = \"B\"\n",
    "elif per >= 50:\n",
    "  grade = \"C\"\n",
    "elif per >= 40:\n",
    "  grade = \"D\"\n",
    "elif per >= 33:\n",
    "  grade = \"E\"\n",
    "else:\n",
    "  grade = \"Fail\"\n",
    "\n",
    "print(f\"Dear Students your percentage is {per} now your calculated grade is :\\t {grade}\")\n",
    "\n"
   ]
  },
  {
   "cell_type": "code",
   "execution_count": 12,
   "metadata": {},
   "outputs": [
    {
     "name": "stdout",
     "output_type": "stream",
     "text": [
      "Dear Students your percentage is 34 now your calculated grade is :\t E\n"
     ]
    }
   ],
   "source": [
    "from typing import Union, Optional\n",
    "\n",
    "# input always return string\n",
    "per : int | float = int(input(\"Enter your percentage:\\t\"))\n",
    "# per : Union[int,float]\n",
    "grade : Union[str, None] = None\n",
    "# grade : Optional[str] = None\n",
    "\n",
    "if per >= 80:\n",
    "  grade = \"A+\"\n",
    "elif per >=70:\n",
    "  grade = \"A\"\n",
    "elif per >= 60:\n",
    "  grade = \"B\"\n",
    "elif per >= 50:\n",
    "  grade = \"C\"\n",
    "elif per >= 40:\n",
    "  grade = \"D\"\n",
    "elif per >= 33:\n",
    "  grade = \"E\"\n",
    "else:\n",
    "  grade = \"Fail\"\n",
    "\n",
    "print(f\"Dear Students your percentage is {per} now your calculated grade is :\\t {grade}\")\n",
    "\n"
   ]
  },
  {
   "cell_type": "markdown",
   "metadata": {},
   "source": [
    "# Logical Error"
   ]
  },
  {
   "cell_type": "code",
   "execution_count": 13,
   "metadata": {},
   "outputs": [
    {
     "name": "stdout",
     "output_type": "stream",
     "text": [
      "Dear Students your percentage is 3 now your calculated grade is :\t Fail\n"
     ]
    }
   ],
   "source": [
    "from typing import Union, Optional\n",
    "\n",
    "# input always return string\n",
    "per : int | float = int(input(\"Enter your percentage:\\t\"))\n",
    "# per : Union[int,float]\n",
    "grade : Union[str, None] = None\n",
    "# grade : Optional[str] = None\n",
    "\n",
    "if per >= 0:\n",
    "  grade = \"Fail\"\n",
    "elif per >=33:\n",
    "  grade = \"E\"\n",
    "elif per >= 40:\n",
    "  grade = \"D\"\n",
    "elif per >= 50:\n",
    "  grade = \"C\"\n",
    "elif per >= 60:\n",
    "  grade = \"B\"\n",
    "elif per >= 70:\n",
    "  grade = \"A\"\n",
    "else:\n",
    "  grade = \"A+\"\n",
    "\n",
    "print(f\"Dear Students your percentage is {per} now your calculated grade is :\\t {grade}\")\n",
    "\n"
   ]
  },
  {
   "cell_type": "code",
   "execution_count": 15,
   "metadata": {},
   "outputs": [
    {
     "name": "stdout",
     "output_type": "stream",
     "text": [
      "Dear Students your percentage is 56 now your calculated grade is :\t C\n"
     ]
    }
   ],
   "source": [
    "from typing import Union, Optional\n",
    "\n",
    "# input always return string\n",
    "per : int | float = int(input(\"Enter your percentage:\\t\"))\n",
    "# per : Union[int,float]\n",
    "grade : Union[str, None] = None\n",
    "# grade : Optional[str] = None\n",
    "\n",
    "if per >= 0 and per < 33:\n",
    "  grade = \"Fail\"\n",
    "elif per >=33 and per < 40:\n",
    "  grade = \"E\"\n",
    "elif per >= 40 and per < 50:\n",
    "  grade = \"D\"\n",
    "elif per >= 50 and per < 60:\n",
    "  grade = \"C\"\n",
    "elif per >= 60 and per < 70:\n",
    "  grade = \"B\"\n",
    "elif per >= 70 and per < 80:\n",
    "  grade = \"A\"\n",
    "elif per >= 80 and per <= 100:\n",
    "  grade = \"A+\"\n",
    "\n",
    "print(f\"Dear Students your percentage is {per} now your calculated grade is :\\t {grade}\")\n",
    "\n"
   ]
  },
  {
   "cell_type": "code",
   "execution_count": 17,
   "metadata": {},
   "outputs": [
    {
     "name": "stdout",
     "output_type": "stream",
     "text": [
      "Dear Students your percentage is 79.0 now your calculated grade is :\t A\n"
     ]
    }
   ],
   "source": [
    "from typing import Union, Optional\n",
    "\n",
    "# input always return string\n",
    "per : int | float = float(input(\"Enter your percentage:\\t\"))\n",
    "# per : Union[int,float]\n",
    "grade : Union[str, None] = None\n",
    "# grade : Optional[str] = None\n",
    "\n",
    "if (per >= 0) and (per < 33):\n",
    "  grade = \"Fail\"\n",
    "elif (per >=33) and (per < 40):\n",
    "  grade = \"E\"\n",
    "elif (per >= 40) and (per < 50):\n",
    "  grade = \"D\"\n",
    "elif (per >= 50) and (per < 60):\n",
    "  grade = \"C\"\n",
    "elif (per >= 60) and (per < 70):\n",
    "  grade = \"B\"\n",
    "elif (per >= 70) and (per < 80):\n",
    "  grade = \"A\"\n",
    "elif (per >= 80) and (per <= 100):\n",
    "  grade = \"A+\"\n",
    "\n",
    "print(f\"Dear Students your percentage is {per} now your calculated grade is :\\t {grade}\")\n",
    "\n"
   ]
  },
  {
   "cell_type": "markdown",
   "metadata": {},
   "source": [
    "# student percentage"
   ]
  },
  {
   "cell_type": "markdown",
   "metadata": {},
   "source": [
    "https://peps.python.org/pep-0484/#type-aliases"
   ]
  },
  {
   "cell_type": "code",
   "execution_count": 21,
   "metadata": {},
   "outputs": [],
   "source": [
    "from typing import Union\n",
    "PerType = Union[float,int]"
   ]
  },
  {
   "cell_type": "code",
   "execution_count": 22,
   "metadata": {},
   "outputs": [
    {
     "name": "stdout",
     "output_type": "stream",
     "text": [
      "[88, 99, 50, 51, 65, 70]\n",
      "['A+', 'A+', 'C', 'C', 'B', 'A']\n"
     ]
    }
   ],
   "source": [
    "percentages : list[PerType] = [88,99,50,51,65,70]\n",
    "# percentage = []\n",
    "# MIssing URL : for aliases\n",
    "# also for union\n",
    "\n",
    "grades : list[str] = []\n",
    "for per in percentages:\n",
    "  grade : str = \"\"\n",
    "\n",
    "  if (per >= 0) and (per < 33):\n",
    "    grade = \"Fail\"\n",
    "  elif (per >=33) and (per < 40):\n",
    "    grade = \"E\"\n",
    "  elif (per >= 40) and (per < 50):\n",
    "    grade = \"D\"\n",
    "  elif (per >= 50) and (per < 60):\n",
    "    grade = \"C\"\n",
    "  elif (per >= 60) and (per < 70):\n",
    "    grade = \"B\"\n",
    "  elif (per >= 70) and (per < 80):\n",
    "    grade = \"A\"\n",
    "  elif (per >= 80) and (per <= 100):\n",
    "    grade = \"A+\"\n",
    "\n",
    "  grades.append(grade)\n",
    "\n",
    "print(percentages)\n",
    "print(grades)\n",
    "\n"
   ]
  },
  {
   "cell_type": "code",
   "execution_count": 23,
   "metadata": {},
   "outputs": [
    {
     "data": {
      "text/plain": [
       "<zip at 0x7f6ac1052180>"
      ]
     },
     "execution_count": 23,
     "metadata": {},
     "output_type": "execute_result"
    }
   ],
   "source": [
    "zip(percentages,grades) # <zip at 0x78ac76fbaf40> generator function iteration perform -> list , for loop"
   ]
  },
  {
   "cell_type": "code",
   "execution_count": 24,
   "metadata": {},
   "outputs": [
    {
     "data": {
      "text/plain": [
       "[(88, 'A+'), (99, 'A+'), (50, 'C'), (51, 'C'), (65, 'B'), (70, 'A')]"
      ]
     },
     "execution_count": 24,
     "metadata": {},
     "output_type": "execute_result"
    }
   ],
   "source": [
    "list(zip(percentages,grades))"
   ]
  },
  {
   "cell_type": "code",
   "execution_count": 18,
   "metadata": {},
   "outputs": [
    {
     "name": "stdout",
     "output_type": "stream",
     "text": [
      "['Sir Zia', 'Qasim', 'Sir Inam']\n"
     ]
    }
   ],
   "source": [
    "names: list[str] = ['Sir Zia']\n",
    "\n",
    "names.append(\"Qasim\")\n",
    "names.append(\"Sir Inam\")\n",
    "print(names)"
   ]
  },
  {
   "cell_type": "code",
   "execution_count": 25,
   "metadata": {},
   "outputs": [
    {
     "data": {
      "text/plain": [
       "[(88, 'A+', 0),\n",
       " (99, 'A+', 1),\n",
       " (50, 'C', 2),\n",
       " (51, 'C', 3),\n",
       " (65, 'B', 4),\n",
       " (70, 'A', 5)]"
      ]
     },
     "execution_count": 25,
     "metadata": {},
     "output_type": "execute_result"
    }
   ],
   "source": [
    "list(zip(percentages, grades, list(range(len(percentages)))))"
   ]
  },
  {
   "cell_type": "code",
   "execution_count": 26,
   "metadata": {},
   "outputs": [
    {
     "data": {
      "text/plain": [
       "[0, 1, 2, 3, 4, 5]"
      ]
     },
     "execution_count": 26,
     "metadata": {},
     "output_type": "execute_result"
    }
   ],
   "source": [
    "roll_no : list[int] = list(range(len(percentages)))\n",
    "roll_no"
   ]
  },
  {
   "cell_type": "code",
   "execution_count": 27,
   "metadata": {},
   "outputs": [
    {
     "data": {
      "text/plain": [
       "[(0, 88, 'A+'),\n",
       " (1, 99, 'A+'),\n",
       " (2, 50, 'C'),\n",
       " (3, 51, 'C'),\n",
       " (4, 65, 'B'),\n",
       " (5, 70, 'A')]"
      ]
     },
     "execution_count": 27,
     "metadata": {},
     "output_type": "execute_result"
    }
   ],
   "source": [
    "list(zip(roll_no, percentages , grades))"
   ]
  },
  {
   "cell_type": "code",
   "execution_count": 28,
   "metadata": {},
   "outputs": [
    {
     "data": {
      "text/plain": [
       "[(0, 88, 'A+'),\n",
       " (1, 99, 'A+'),\n",
       " (2, 50, 'C'),\n",
       " (3, 51, 'C'),\n",
       " (4, 65, 'B'),\n",
       " (5, 70, 'A')]"
      ]
     },
     "execution_count": 28,
     "metadata": {},
     "output_type": "execute_result"
    }
   ],
   "source": [
    "data_base = list(zip(roll_no, percentages , grades))\n",
    "\n",
    "data_base"
   ]
  },
  {
   "cell_type": "code",
   "execution_count": 29,
   "metadata": {},
   "outputs": [
    {
     "data": {
      "text/plain": [
       "[(0, 88, 'A+'),\n",
       " (1, 99, 'A+'),\n",
       " (2, 50, 'C'),\n",
       " (3, 51, 'C'),\n",
       " (4, 65, 'B'),\n",
       " (5, 70, 'A')]"
      ]
     },
     "metadata": {},
     "output_type": "display_data"
    },
    {
     "data": {
      "text/plain": [
       "[(0, 88, 'A+'),\n",
       " (1, 99, 'A+'),\n",
       " (2, 50, 'C'),\n",
       " (3, 51, 'C'),\n",
       " (4, 65, 'B'),\n",
       " (5, 70, 'A')]"
      ]
     },
     "execution_count": 29,
     "metadata": {},
     "output_type": "execute_result"
    }
   ],
   "source": [
    "display(data_base)\n",
    "\n",
    "sorted(data_base)"
   ]
  },
  {
   "cell_type": "code",
   "execution_count": 30,
   "metadata": {},
   "outputs": [
    {
     "data": {
      "text/plain": [
       "[(0, 88, 'A+'),\n",
       " (1, 99, 'A+'),\n",
       " (2, 50, 'C'),\n",
       " (3, 51, 'C'),\n",
       " (4, 65, 'B'),\n",
       " (5, 70, 'A')]"
      ]
     },
     "metadata": {},
     "output_type": "display_data"
    },
    {
     "data": {
      "text/plain": [
       "[(2, 50, 'C'),\n",
       " (3, 51, 'C'),\n",
       " (4, 65, 'B'),\n",
       " (5, 70, 'A'),\n",
       " (0, 88, 'A+'),\n",
       " (1, 99, 'A+')]"
      ]
     },
     "execution_count": 30,
     "metadata": {},
     "output_type": "execute_result"
    }
   ],
   "source": [
    "display(data_base)\n",
    "\n",
    "sorted(data_base, key=lambda x:x[1] )"
   ]
  },
  {
   "cell_type": "code",
   "execution_count": 32,
   "metadata": {},
   "outputs": [
    {
     "data": {
      "text/plain": [
       "[(0, 88, 'A+'),\n",
       " (1, 99, 'A+'),\n",
       " (2, 50, 'C'),\n",
       " (3, 51, 'C'),\n",
       " (4, 65, 'B'),\n",
       " (5, 70, 'A')]"
      ]
     },
     "metadata": {},
     "output_type": "display_data"
    },
    {
     "data": {
      "text/plain": [
       "[(1, 99, 'A+'),\n",
       " (0, 88, 'A+'),\n",
       " (5, 70, 'A'),\n",
       " (4, 65, 'B'),\n",
       " (3, 51, 'C'),\n",
       " (2, 50, 'C')]"
      ]
     },
     "execution_count": 32,
     "metadata": {},
     "output_type": "execute_result"
    }
   ],
   "source": [
    "display(data_base)\n",
    "\n",
    "sorted(data_base, key=lambda x:x[1] , reverse=True )"
   ]
  },
  {
   "cell_type": "code",
   "execution_count": 33,
   "metadata": {},
   "outputs": [
    {
     "name": "stdout",
     "output_type": "stream",
     "text": [
      "Audi\n",
      "BMW\n",
      "Subaru\n",
      "Toyota\n"
     ]
    }
   ],
   "source": [
    "cars : list[str] = ['audi','bmw','subaru','toyota']\n",
    "\n",
    "for car in cars:\n",
    "  if car == 'bmw':\n",
    "     print(car.upper())\n",
    "  else:\n",
    "    print(car.title())\n",
    "\n",
    "# Tab for forward identation\n",
    "# shift + tab backward indetation"
   ]
  },
  {
   "cell_type": "code",
   "execution_count": 34,
   "metadata": {},
   "outputs": [
    {
     "data": {
      "text/plain": [
       "['Audi', 'BMW', 'Subaru', 'Toyota']"
      ]
     },
     "execution_count": 34,
     "metadata": {},
     "output_type": "execute_result"
    }
   ],
   "source": [
    "cars : list[str] = ['audi','bmw','subaru','toyota']\n",
    "\n",
    "\n",
    "[i.upper() if i=='bmw' else i.title() for i in cars]"
   ]
  },
  {
   "cell_type": "code",
   "execution_count": 35,
   "metadata": {},
   "outputs": [
    {
     "name": "stdout",
     "output_type": "stream",
     "text": [
      "AUDI\n",
      "BMW\n",
      "mehran\n",
      "SUBARU\n",
      "TOYOTA\n"
     ]
    }
   ],
   "source": [
    "cars : list[str] = ['audi','bmw','Mehran','subaru','toyota']\n",
    "\n",
    "\n",
    "for car in cars: # in = extract element from types\n",
    "  if car != 'Mehran':\n",
    "    print(car.upper())\n",
    "  else :\n",
    "    print(car.lower())"
   ]
  },
  {
   "cell_type": "code",
   "execution_count": 36,
   "metadata": {},
   "outputs": [
    {
     "data": {
      "text/plain": [
       "False"
      ]
     },
     "execution_count": 36,
     "metadata": {},
     "output_type": "execute_result"
    }
   ],
   "source": [
    "cars : list[str] = ['audi','bmw','Mehran','subaru','toyota']\n",
    "\n",
    "'changa' in cars"
   ]
  },
  {
   "cell_type": "code",
   "execution_count": 37,
   "metadata": {},
   "outputs": [
    {
     "data": {
      "text/plain": [
       "True"
      ]
     },
     "execution_count": 37,
     "metadata": {},
     "output_type": "execute_result"
    }
   ],
   "source": [
    "cars : list[str] = ['audi','bmw','Mehran','subaru','toyota']\n",
    "\n",
    "'bmw' in cars # compare left values when use without loop like for"
   ]
  },
  {
   "cell_type": "code",
   "execution_count": 38,
   "metadata": {},
   "outputs": [
    {
     "data": {
      "text/plain": [
       "True"
      ]
     },
     "execution_count": 38,
     "metadata": {},
     "output_type": "execute_result"
    }
   ],
   "source": [
    "car = 'aUdi'\n",
    "car.lower() == 'audi'"
   ]
  },
  {
   "cell_type": "code",
   "execution_count": 39,
   "metadata": {},
   "outputs": [
    {
     "name": "stdout",
     "output_type": "stream",
     "text": [
      "bmw\n"
     ]
    },
    {
     "data": {
      "text/plain": [
       "True"
      ]
     },
     "execution_count": 39,
     "metadata": {},
     "output_type": "execute_result"
    }
   ],
   "source": [
    "# = assign operator\n",
    "# == comparison operator -> return value as True or False\n",
    "car = 'bmw'\n",
    "print(car)\n",
    "car == 'bmw'"
   ]
  },
  {
   "cell_type": "code",
   "execution_count": 40,
   "metadata": {},
   "outputs": [
    {
     "name": "stdout",
     "output_type": "stream",
     "text": [
      "That is not the correct answer, Please try again\n"
     ]
    }
   ],
   "source": [
    "answer = 17\n",
    "\n",
    "if answer != 42:\n",
    "  print(\"That is not the correct answer, Please try again\")"
   ]
  },
  {
   "cell_type": "code",
   "execution_count": 41,
   "metadata": {},
   "outputs": [
    {
     "name": "stdout",
     "output_type": "stream",
     "text": [
      "True\n",
      "Marie, you can post a response if you wish\n"
     ]
    }
   ],
   "source": [
    "banned_user : list[str] = ['andrew','caroline','david']\n",
    "\n",
    "user : str = 'marie'\n",
    "\n",
    "print(user not in banned_user)\n",
    "\n",
    "if user not in banned_user:\n",
    "  print(f\"{user.title()}, you can post a response if you wish\")"
   ]
  },
  {
   "cell_type": "code",
   "execution_count": 42,
   "metadata": {},
   "outputs": [
    {
     "name": "stdout",
     "output_type": "stream",
     "text": [
      "SOrry, you are tpp young to vote,\n",
      "Please register to vote as soon as possible as you turn 18!\n"
     ]
    }
   ],
   "source": [
    "age = 17\n",
    "\n",
    "if age >= 18:\n",
    "  print(\"You are old enough to vote!\")\n",
    "  print(\"Have you registered to vote yet?\")\n",
    "else:\n",
    "  print(\"Sorry, you are too young to vote,\")\n",
    "  print(\"Please register to vote as soon as possible as you turn 18!\")"
   ]
  },
  {
   "cell_type": "code",
   "execution_count": 43,
   "metadata": {},
   "outputs": [
    {
     "name": "stdout",
     "output_type": "stream",
     "text": [
      "Your admission cost is $25\n"
     ]
    }
   ],
   "source": [
    "age = 12\n",
    "\n",
    "if age < 4:\n",
    "  print(\"YOur admission cost is $0\")\n",
    "elif age < 18:\n",
    "  print(\"Your admission cost is $25\")\n",
    "else:\n",
    "  print(\"YOur admission cost is $40\")"
   ]
  },
  {
   "cell_type": "code",
   "execution_count": 44,
   "metadata": {},
   "outputs": [
    {
     "name": "stdout",
     "output_type": "stream",
     "text": [
      "Adding mushrooms.\n",
      "Adding extra cheese.\n",
      "\n",
      "Finished making your pizza!\n"
     ]
    }
   ],
   "source": [
    "requested_toppings : list[str] = ['mushrooms', 'extra cheese']\n",
    "\n",
    "if 'mushrooms' in requested_toppings:\n",
    "  print(\"Adding mushrooms.\")\n",
    "\n",
    "if 'pepperoni' in requested_toppings:\n",
    "  print(\"Adding pepperoni.\")\n",
    "\n",
    "if 'extra cheese' in requested_toppings:\n",
    "  print(\"Adding extra cheese.\")\n",
    "\n",
    "print(\"\\nFinished making your pizza!\")"
   ]
  },
  {
   "cell_type": "code",
   "execution_count": 45,
   "metadata": {},
   "outputs": [
    {
     "name": "stdout",
     "output_type": "stream",
     "text": [
      "Adding mushrooms.\n",
      "Adding green peppers.\n",
      "Adding extra cheese.\n",
      "\n",
      "Finished making your pizza!\n"
     ]
    }
   ],
   "source": [
    "requested_toppings = ['mushrooms', 'green peppers', 'extra cheese']\n",
    "\n",
    "for requested_topping in requested_toppings:\n",
    "  print(f\"Adding {requested_topping}.\")\n",
    "print(\"\\nFinished making your pizza!\")"
   ]
  },
  {
   "cell_type": "code",
   "execution_count": 46,
   "metadata": {},
   "outputs": [
    {
     "name": "stdout",
     "output_type": "stream",
     "text": [
      "Sorry, we are out of green peppers right now.\n",
      "Adding extra cheese.\n",
      "\n",
      "Finished making your pizza!\n"
     ]
    }
   ],
   "source": [
    "requested_toppings = ['mushrooms', 'green peppers', 'extra cheese']\n",
    "for requested_topping in requested_toppings:\n",
    "  if requested_topping == 'green peppers':\n",
    "    print(\"Sorry, we are out of green peppers right now.\")\n",
    "else:\n",
    "  print(f\"Adding {requested_topping}.\")\n",
    "print(\"\\nFinished making your pizza!\")"
   ]
  },
  {
   "cell_type": "code",
   "execution_count": 47,
   "metadata": {},
   "outputs": [
    {
     "name": "stdout",
     "output_type": "stream",
     "text": [
      "Adding mushrooms.\n",
      "Sorry, we are out of green peppers right now.\n",
      "Adding extra cheese.\n",
      "\n",
      "Finished making your pizza!\n"
     ]
    }
   ],
   "source": [
    "requested_toppings = ['mushrooms', 'green peppers', 'extra cheese']\n",
    "for requested_topping in requested_toppings:\n",
    "  if requested_topping == 'green peppers':\n",
    "    print(\"Sorry, we are out of green peppers right now.\")\n",
    "  else:\n",
    "   print(f\"Adding {requested_topping}.\")\n",
    "print(\"\\nFinished making your pizza!\")"
   ]
  },
  {
   "cell_type": "code",
   "execution_count": 48,
   "metadata": {},
   "outputs": [
    {
     "name": "stdout",
     "output_type": "stream",
     "text": [
      "Are you sure you want a plain pizza?\n"
     ]
    }
   ],
   "source": [
    "requested_toppings = []\n",
    "if requested_toppings:\n",
    "  for requested_topping in requested_toppings:\n",
    "   print(f\"Adding {requested_topping}.\")\n",
    "  print(\"\\nFinished making your pizza!\")\n",
    "else:\n",
    "  print(\"Are you sure you want a plain pizza?\")"
   ]
  },
  {
   "cell_type": "code",
   "execution_count": 49,
   "metadata": {},
   "outputs": [
    {
     "name": "stdout",
     "output_type": "stream",
     "text": [
      "Adding mushrooms.\n",
      "Sorry, we don't have french fries.\n",
      "Adding extra cheese.\n",
      "\n",
      "Finished making your pizza!\n"
     ]
    }
   ],
   "source": [
    "available_toppings : list[str]= ['mushrooms', 'olives', 'green peppers',\n",
    "'pepperoni', 'pineapple', 'extra cheese']\n",
    "\n",
    "requested_toppings : list[str] = ['mushrooms', 'french fries', 'extra cheese']\n",
    "\n",
    "for requested_topping in requested_toppings:\n",
    "  if requested_topping in available_toppings:\n",
    "    print(f\"Adding {requested_topping}.\")\n",
    "  else:\n",
    "    print(f\"Sorry, we don't have {requested_topping}.\")\n",
    "\n",
    "print(\"\\nFinished making your pizza!\")\n",
    "\n"
   ]
  },
  {
   "cell_type": "code",
   "execution_count": 50,
   "metadata": {},
   "outputs": [
    {
     "data": {
      "text/plain": [
       "['adf', 'asdf', 'asdf', 'asdf']"
      ]
     },
     "execution_count": 50,
     "metadata": {},
     "output_type": "execute_result"
    }
   ],
   "source": [
    "input(\"Enter ',' separated value for topping\").split(\",\")"
   ]
  },
  {
   "cell_type": "code",
   "execution_count": 52,
   "metadata": {},
   "outputs": [
    {
     "name": "stdout",
     "output_type": "stream",
     "text": [
      "---------------------------------\n",
      "sent otp on your register number\n",
      "---------------------------------\n",
      "\t\t\t\t\t\t\t***********************************\n",
      "\t\t\t\t\t\t\t| Welcome to PIAIC Student Portal |\n",
      "\t\t\t\t\t\t\t***********************************\n"
     ]
    }
   ],
   "source": [
    "user_name : str = input(\"Enter user id: \\t\")\n",
    "user_password : str = input(\"Enter password:\\t\")\n",
    "\n",
    "if user_name == 'admin' and user_password == 'admin':\n",
    "\n",
    "  print(\"---------------------------------\")\n",
    "  print(\"sent otp on your register number\")\n",
    "  print(\"---------------------------------\")\n",
    "\n",
    "  otp : str = input(\"Please enter otp:\\t\")\n",
    "  if otp == '123':\n",
    "    print(\"\\t\\t\\t\\t\\t\\t\\t***********************************\")\n",
    "    print(\"\\t\\t\\t\\t\\t\\t\\t| Welcome to PIAIC Student Portal |\")\n",
    "    print(\"\\t\\t\\t\\t\\t\\t\\t***********************************\")\n",
    "\n",
    "\n",
    "else:\n",
    "  print(\"Invalid user or password.\")"
   ]
  },
  {
   "cell_type": "markdown",
   "metadata": {},
   "source": [
    "# <p align=\"center\">**TRY IT YOURSELF**</p>"
   ]
  },
  {
   "cell_type": "markdown",
   "metadata": {},
   "source": [
    "## **5-1. Conditional Tests**\n",
    "\n",
    "Write a series of conditional tests. Print a statement describing each test and your prediction for the results of each test. Your code should look something like this:\n",
    "\n",
    "\n",
    "```python\n",
    "car = 'subaru'\n",
    "print(\"Is car == 'subaru'? I predict True.\")\n",
    "print(car == 'subaru')\n",
    "print(\"\\nIs car == 'audi'? I predict False.\")\n",
    "print(car == 'audi')\n"
   ]
  },
  {
   "cell_type": "markdown",
   "metadata": {},
   "source": [
    "* Look closely at your results, and make sure you understand why each line\n",
    "evaluates to True or False.\n",
    "* Create at least 10 tests. Have at least 5 tests evaluate to True and another\n",
    "5 tests evaluate to False."
   ]
  },
  {
   "cell_type": "markdown",
   "metadata": {},
   "source": [
    "## **5-2. More Conditional Tests**\n",
    "\n",
    "You don’t have to limit the number of tests you cre-\n",
    "ate to 10. If you want to try more comparisons, write more tests and add them\n",
    "to conditional_tests.py. Have at least one True and one False result for each of\n",
    "the following:\n",
    "* Tests for equality and inequality with strings\n",
    "* Tests using the lower() method\n",
    "* Numerical tests involving equality and inequality, greater than and less\n",
    "* han, greater than or equal to, and less than or equal to\n",
    "* Tests using the and keyword and the or keyword\n",
    "* Test whether an item is in a list\n",
    "* Test whether an item is not in a list"
   ]
  },
  {
   "cell_type": "markdown",
   "metadata": {},
   "source": [
    "## Exercise 01"
   ]
  },
  {
   "cell_type": "markdown",
   "metadata": {},
   "source": [
    "#### **5-3. Alien Colors #1**\n",
    "\n",
    "Imagine an alien was just shot down in a game. Create a\n",
    "\n",
    "variable called alien_color and assign it a value of 'green', 'yellow', or 'red'.\n",
    "* Write an if statement to test whether the alien’s color is green. If it is, print\n",
    "a message that the player just earned 5 points.\n",
    "* Write one version of this program that passes the if test and another that\n",
    "fails. (The version that fails will have no output.)"
   ]
  },
  {
   "cell_type": "markdown",
   "metadata": {},
   "source": [
    "#### **5-4. Alien Colors #2**\n",
    "\n",
    "Choose a color for an alien as you did in Exercise 5-3,\n",
    "\n",
    "and write an if- else chain.\n",
    "* If the alien’s color is green, print a statement that the player just earned 5\n",
    "points for shooting the alien.\n",
    "* If the alien’s color isn’t green, print a statement that the player just earned\n",
    "10 points.\n",
    "* Write one version of this program that runs the if block and another that\n",
    "runs the else block."
   ]
  },
  {
   "cell_type": "markdown",
   "metadata": {},
   "source": [
    "#### **5-5. Alien Colors #3**\n",
    "Turn your if- else chain from Exercise 5-4 into an if- elif-\n",
    "else chain.\n",
    "* If the alien is green, print a message that the player earned 5 points.\n",
    "* If the alien is yellow, print a message that the player earned 10 points.\n",
    "* If the alien is red, print a message that the player earned 15 points.\n",
    "* Write three versions of this program, making sure each message is printed\n",
    "for the appropriate color alien."
   ]
  },
  {
   "cell_type": "markdown",
   "metadata": {},
   "source": [
    "#### **5-6. Stages of Life**\n",
    "\n",
    "Write an `if- elif- else` `chain` that determines a person’s stage\n",
    "\n",
    "of life. Set a value for the variable age, and then:\n",
    "\n",
    "\n",
    "* If the person is less than 2 years old, print a message that the person is\n",
    "a baby.\n",
    "* If the person is at least 2 years old but less than 4, print a message that the\n",
    "person is a toddler.\n",
    "* If the person is at least 4 years old but less than 13, print a message that\n",
    "the person is a kid.\n",
    "* If the person is at least 13 years old but less than 20, print a message that\n",
    "the person is a teenager.\n",
    "* If the person is at least 20 years old but less than 65, print a message that\n",
    "the person is an adult.\n",
    "* If the person is age 65 or older, print a message that the person is an elder."
   ]
  },
  {
   "cell_type": "markdown",
   "metadata": {},
   "source": [
    "#### **5-7. Favorite Fruit**\n",
    "\n",
    "Make a list of your favorite fruits, and then write a series of\n",
    "\n",
    "independent if statements that check for certain fruits in your list.\n",
    "* Make a list of your three favorite fruits and call it favorite_fruits.\n",
    "* Write five if statements. Each should check whether a certain kind of fruit\n",
    "    is in your list. If the fruit is in your list, the if block should print a statement,\n",
    "    such as You really like bananas!"
   ]
  },
  {
   "cell_type": "markdown",
   "metadata": {},
   "source": [
    "## Exercise 02"
   ]
  },
  {
   "cell_type": "markdown",
   "metadata": {},
   "source": [
    "#### **5-8. Hello Admin**\n",
    "\n",
    "Make a list of five or more usernames, including the name\n",
    "\n",
    "`'admin'`. Imagine you are writing code that will print a greeting to each user\n",
    "\n",
    "after they log in to a website. Loop through the list, and print a greeting to\n",
    "each user.\n",
    "* If the username is `'admin'`, print a special greeting, such as Hello admin,\n",
    "would you like to see a status report?\n",
    "* Otherwise, print a generic greeting, such as Hello Jaden, thank you for\n",
    "logging in again."
   ]
  },
  {
   "cell_type": "markdown",
   "metadata": {},
   "source": [
    "#### **5-9. No Users**\n",
    "\n",
    "Add an if test to hello_admin.py to make sure the list of users is\n",
    "not empty.\n",
    "* If the list is empty, print the message We need to find some users!\n",
    "* Remove all of the usernames from your list, and make sure the correct mes-\n",
    "sage is printed."
   ]
  },
  {
   "cell_type": "markdown",
   "metadata": {},
   "source": [
    "#### **5-10. Checking Usernames**\n",
    "\n",
    "Do the following to create a program that simulates\n",
    "\n",
    "how` websites` ensure that everyone has a `unique username`.\n",
    "* Make a list of five or more usernames called `current_users`.\n",
    "  * Make another list of five usernames called new_users. Make sure one or\n",
    "two of the new usernames are also in the `current_users` list.\n",
    "* Loop through the `new_users list` to see if each new username has already\n",
    "been used. If it has, `print a message` that the person will need to enter a\n",
    "new username. If a username has not been used, print a message saying\n",
    "that the username is available.\n",
    "* Make sure your comparison is case `insensitive`. If `'John'` has been used,\n",
    "`'JOHN'` should not be accepted. (To do this, you’ll need to make a copy of\n",
    "current_users containing the lowercase versions of all existing users.)"
   ]
  },
  {
   "cell_type": "markdown",
   "metadata": {},
   "source": [
    "#### **5-11. Ordinal Numbers**\n",
    "\n",
    "Ordinal numbers indicate their position in a list, such as\n",
    "\n",
    "`1st` or `2nd`. Most ordinal numbers end in `th`, except 1, 2, and 3.\n",
    "\n",
    "* Store the numbers 1 through 9 in a list.\n",
    "* Loop through the list.\n",
    "* Use an `if`- `elif`-`else` chain inside the loop to print the proper ordinal ending\n",
    "for each number. Your output should read `\"1st 2nd 3rd 4th 5th 6th 7th\n",
    "8th 9th\"`, and each result should be on a separate line."
   ]
  },
  {
   "cell_type": "markdown",
   "metadata": {},
   "source": [
    "## Exercise 03"
   ]
  },
  {
   "cell_type": "markdown",
   "metadata": {},
   "source": [
    "#### **5-12. Styling if Statements**\n",
    "\n",
    "Review the programs you wrote in this chapter, and\n",
    "\n",
    "make sure you styled your conditional tests appropriately."
   ]
  },
  {
   "cell_type": "markdown",
   "metadata": {},
   "source": [
    "#### **5-13. Your Ideas**\n",
    "\n",
    "At this point, you’re a more capable programmer than you\n",
    "\n",
    "were when you started this book. Now that you have a better sense of how\n",
    "\n",
    "real-world situations are modeled in programs, you might be thinking of some\n",
    "\n",
    "problems you could solve with your own programs. Record any new ideas you\n",
    "\n",
    "have about problems you might want to solve as your programming skills con-\n",
    "\n",
    "tinue to improve. Consider games you might want to write, datasets you might\n",
    "\n",
    "want to explore, and web applications you’d like to create."
   ]
  },
  {
   "cell_type": "markdown",
   "metadata": {},
   "source": []
  }
 ],
 "metadata": {
  "kernelspec": {
   "display_name": "p-learning",
   "language": "python",
   "name": "python3"
  },
  "language_info": {
   "codemirror_mode": {
    "name": "ipython",
    "version": 3
   },
   "file_extension": ".py",
   "mimetype": "text/x-python",
   "name": "python",
   "nbconvert_exporter": "python",
   "pygments_lexer": "ipython3",
   "version": "3.11.5"
  }
 },
 "nbformat": 4,
 "nbformat_minor": 2
}
