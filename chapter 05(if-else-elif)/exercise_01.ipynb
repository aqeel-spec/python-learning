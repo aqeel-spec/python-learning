{
 "cells": [
  {
   "cell_type": "markdown",
   "metadata": {},
   "source": [
    "# **E x e r c i s e 01**"
   ]
  },
  {
   "cell_type": "markdown",
   "metadata": {},
   "source": [
    "## **5-1. Conditional Tests**\n",
    "\n",
    "Write a series of conditional tests. Print a statement describing each test and your prediction for the results of each test. Your code should look something like this:\n",
    "\n",
    "\n",
    "```python\n",
    "car = 'subaru'\n",
    "print(\"Is car == 'subaru'? I predict True.\")\n",
    "print(car == 'subaru')\n",
    "print(\"\\nIs car == 'audi'? I predict False.\")\n",
    "print(car == 'audi')\n"
   ]
  },
  {
   "cell_type": "markdown",
   "metadata": {},
   "source": [
    "* Look closely at your results, and make sure you understand why each line\n",
    "evaluates to True or False.\n",
    "* Create at least 10 tests. Have at least 5 tests evaluate to True and another\n",
    "5 tests evaluate to False."
   ]
  },
  {
   "cell_type": "code",
   "execution_count": 1,
   "metadata": {},
   "outputs": [
    {
     "name": "stdout",
     "output_type": "stream",
     "text": [
      "\n",
      "I predict True\n",
      "True\n",
      "False\n",
      "subartu\n"
     ]
    }
   ],
   "source": [
    "car = 'subartu'\n",
    "\n",
    "if car == 'subartu':\n",
    "    print(\"\\nI predict True\")\n",
    "elif car == 'audi':\n",
    "    print(\"\\nI predict false\")\n",
    "\n",
    "print(car =='subartu')# return True\n",
    "print(car == 'audi') # return False\n",
    "\n",
    "print(car) # print car name\n",
    "\n",
    "\n",
    "\n"
   ]
  },
  {
   "cell_type": "code",
   "execution_count": 7,
   "metadata": {},
   "outputs": [
    {
     "name": "stdout",
     "output_type": "stream",
     "text": [
      "True\n",
      "\n",
      "True block in Pakistan\n",
      "\n",
      "True_block\n",
      "This car exists in our garage\n",
      "\n",
      "-----------------------------------------------------------\n",
      "\n",
      "False\n",
      "not true :\tFalse\n",
      "Else nothing block\n",
      "False\n",
      "False\n"
     ]
    }
   ],
   "source": [
    "# 10 tests having 5 false and 5 true\n",
    "\n",
    "# 5 Tests for True\n",
    "\n",
    "# 1st test\n",
    "print(True and True and True and True) # return true\n",
    "\n",
    "# 2nd test\n",
    "if True :\n",
    "    print(\"\\nTrue block in Pakistan\")\n",
    "\n",
    "# 3rd test\n",
    "if False:\n",
    "    print(\"False_block\")\n",
    "elif True:\n",
    "    print(\"\\nTrue_block\")\n",
    "elif False:\n",
    "    print(\"False_block\")\n",
    "else : \n",
    "    print(\"Else nothing block\")\n",
    "\n",
    "# 4th test   \n",
    "car_list : list[str] = [\"audi\",\"mercided\",\"fortuner\",\"landcrouser\",'bmw']\n",
    "if 'audi' in car_list:\n",
    "    print(\"This car exists in our garage\")\n",
    "\n",
    "# 5th test\n",
    "if 'audi' not in car_list:\n",
    "    print(\"Sorry! , This car is not available\")\n",
    "print(\"\\n-----------------------------------------------------------\\n\")\n",
    "\n",
    "\n",
    "# 5 Tests for False block\n",
    "# 1st test\n",
    "print(False and True and False and True) # return false\n",
    "\n",
    "# 2nd test\n",
    "print(f\"not true :\\t{not True}\") # False\n",
    "\n",
    "# 3rd test\n",
    "if False:\n",
    "    print(\"False_block\")\n",
    "elif False:\n",
    "    print(\"\\nTrue_block\")\n",
    "elif False:\n",
    "    print(\"False_block\")\n",
    "else : \n",
    "    print(\"Else nothing block\")\n",
    "\n",
    "# 4th test   \n",
    "car_list : list[str] = [\"audi\",\"mercided\",\"fortuner\",\"landcrouser\",'bmw']\n",
    "if 'suzuki' in car_list:\n",
    "    print(\"This car exists in our garage\")\n",
    "else : \n",
    "    print(f\"False\")\n",
    "\n",
    "# 5th test\n",
    "print('audi' not in car_list) # False\n",
    "if 'audi' not in car_list: # not : make if false\n",
    "    print(\"Sorry! , This car is not available\")"
   ]
  },
  {
   "cell_type": "markdown",
   "metadata": {},
   "source": [
    "## **5-2. More Conditional Tests**\n",
    "\n",
    "You don’t have to limit the number of tests you cre-\n",
    "ate to 10. If you want to try more comparisons, write more tests and add them\n",
    "to conditional_tests.py. Have at least one True and one False result for each of\n",
    "the following:\n",
    "* Tests for equality and inequality with strings\n",
    "* Tests using the lower() method\n",
    "* Numerical tests involving equality and inequality, greater than and less\n",
    "* han, greater than or equal to, and less than or equal to\n",
    "* Tests using the and keyword and the or keyword\n",
    "* Test whether an item is in a list\n",
    "* Test whether an item is not in a list"
   ]
  },
  {
   "cell_type": "code",
   "execution_count": 20,
   "metadata": {},
   "outputs": [
    {
     "name": "stdout",
     "output_type": "stream",
     "text": [
      "False\n",
      "True\n",
      "True\n",
      "False\n",
      "True\n",
      "\n",
      "\t------ Greater than equal to | less than or equal to --------------------------------\n",
      "False\n",
      "True\n",
      "True\n",
      "True\n",
      "\n",
      "'audi' exits in list\n",
      "\n",
      " '7' does not exits in list\n"
     ]
    }
   ],
   "source": [
    "name : str = 'aqEeL'\n",
    "\n",
    "# test for equality and in-equality\n",
    "print('aqeel' == name) # False\n",
    "print('aqeel' != name) # True\n",
    "\n",
    "# Tests using lower() method\n",
    "print('aqeel' == name.lower()) # True -> aqeel = aqeel\n",
    "\n",
    "# Numerical tests : Greater or Less for equality and inequality\n",
    "a = 6\n",
    "print(a > 7) # False 6 > 7 -> 6 is not greater then 7\n",
    "print(a < 7) #True 6 < 7 -> 6 is less then 7\n",
    "\n",
    "print(f\"\\n\\t------ Greater than equal to | less than or equal to --------------------------------\")\n",
    "# Greater then or equal to And less than or equal to\n",
    "print(6 >= 7) # False 6 is not greater than or equal 7\n",
    "print(6 >=6) # True -> equal block runs\n",
    "print(6 <= 7) # True \n",
    "print(6 >=6) # True -> equal block runs\n",
    "\n",
    "car_list : list[str] = [\"audi\",\"mercided\",\"fortuner\",\"landcrouser\",'bmw']\n",
    "# Test to chack item in a list\n",
    "if 'audi' in car_list:\n",
    "    print(f\"\\n'audi' exits in list\")\n",
    "\n",
    "if 7 not in  car_list:\n",
    "    print(f\"\\n '{7}' does not exits in list\")\n"
   ]
  },
  {
   "cell_type": "code",
   "execution_count": null,
   "metadata": {},
   "outputs": [],
   "source": []
  }
 ],
 "metadata": {
  "kernelspec": {
   "display_name": "p-learning",
   "language": "python",
   "name": "python3"
  },
  "language_info": {
   "codemirror_mode": {
    "name": "ipython",
    "version": 3
   },
   "file_extension": ".py",
   "mimetype": "text/x-python",
   "name": "python",
   "nbconvert_exporter": "python",
   "pygments_lexer": "ipython3",
   "version": "3.11.5"
  }
 },
 "nbformat": 4,
 "nbformat_minor": 2
}
