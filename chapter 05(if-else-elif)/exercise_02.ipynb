{
 "cells": [
  {
   "cell_type": "markdown",
   "metadata": {},
   "source": [
    "# **E x e r c i s e 02**"
   ]
  },
  {
   "cell_type": "markdown",
   "metadata": {},
   "source": [
    "### if , elif , else statements"
   ]
  },
  {
   "cell_type": "markdown",
   "metadata": {},
   "source": [
    "#### **5-3. Alien Colors #1**\n",
    "\n",
    "Imagine an alien was just shot down in a game. Create a\n",
    "\n",
    "variable called alien_color and assign it a value of 'green', 'yellow', or 'red'.\n",
    "* Write an if statement to test whether the alien’s color is green. If it is, print\n",
    "a message that the player just earned 5 points.\n",
    "* Write one version of this program that passes the if test and another that\n",
    "fails. (The version that fails will have no output.)"
   ]
  },
  {
   "cell_type": "code",
   "execution_count": 4,
   "metadata": {},
   "outputs": [
    {
     "name": "stdout",
     "output_type": "stream",
     "text": [
      "You have just earned 5 points.\n"
     ]
    }
   ],
   "source": [
    "alien_colors : list[str] = ['green','yellow','red']\n",
    "\n",
    "text_color : str = input(\"Please enter alien color:\\t\")\n",
    "\n",
    "if text_color in alien_colors:\n",
    "    print(\"You have just earned 5 points.\")\n",
    "\n",
    "# Other verison of above program\n",
    "if text_color not in alien_colors:\n",
    "    print(\"NA\")"
   ]
  },
  {
   "cell_type": "markdown",
   "metadata": {},
   "source": [
    "#### **5-4. Alien Colors #2**\n",
    "\n",
    "Choose a color for an alien as you did in Exercise 5-3,\n",
    "\n",
    "and write an if- else chain.\n",
    "* If the alien’s color is green, print a statement that the player just earned 5\n",
    "points for shooting the alien.\n",
    "* If the alien’s color isn’t green, print a statement that the player just earned\n",
    "10 points.\n",
    "* Write one version of this program that runs the if block and another that\n",
    "runs the else block."
   ]
  },
  {
   "cell_type": "code",
   "execution_count": 14,
   "metadata": {},
   "outputs": [
    {
     "name": "stdout",
     "output_type": "stream",
     "text": [
      "You have earned 5 points\n",
      "You have earned 5 points in 2nd phase\n"
     ]
    }
   ],
   "source": [
    "alien_colors : list[str] = ['green','yellow','red']\n",
    "\n",
    "player_color : str = input(\"Please enter alien color:\\t\")\n",
    "\n",
    "if player_color == 'green' in alien_colors:\n",
    "    print(\"You have earned 5 points\")\n",
    "elif player_color != 'green' and player_color in alien_colors:\n",
    "    print(\"You have earned 10 points\")\n",
    "\n",
    "if player_color in alien_colors:\n",
    "    print(\"You have earned 5 points in 2nd phase\")\n",
    "else :\n",
    "    print(f\"Sorry!, no color match against '{player_color}'\")\n"
   ]
  },
  {
   "cell_type": "markdown",
   "metadata": {},
   "source": [
    "#### **5-5. Alien Colors #3**\n",
    "Turn your if- else chain from Exercise 5-4 into an if- elif-\n",
    "else chain.\n",
    "* If the alien is green, print a message that the player earned 5 points.\n",
    "* If the alien is yellow, print a message that the player earned 10 points.\n",
    "* If the alien is red, print a message that the player earned 15 points.\n",
    "* Write three versions of this program, making sure each message is printed\n",
    "for the appropriate color alien."
   ]
  },
  {
   "cell_type": "code",
   "execution_count": 2,
   "metadata": {},
   "outputs": [
    {
     "name": "stdout",
     "output_type": "stream",
     "text": [
      "You entered wrong color\n"
     ]
    }
   ],
   "source": [
    "alien_colors : list[str] = ['green','yellow','red']\n",
    "\n",
    "player_color : str = input(\"Please enter alien color:\\t\")\n",
    "\n",
    "if player_color == 'green':\n",
    "    print(\"You earned 5 points\")\n",
    "elif player_color == 'yellow':\n",
    "    print(\"You earned 10 points\")\n",
    "elif player_color == 'red':\n",
    "    print(\"You earned 15 points\")\n",
    "else:\n",
    "    print(\"You entered wrong color\")\n",
    "\n"
   ]
  },
  {
   "cell_type": "markdown",
   "metadata": {},
   "source": [
    "#### **5-6. Stages of Life**\n",
    "\n",
    "Write an `if- elif- else` `chain` that determines a person’s stage\n",
    "\n",
    "of life. Set a value for the variable age, and then:\n",
    "\n",
    "\n",
    "* If the person is less than 2 years old, print a message that the person is\n",
    "a baby.\n",
    "* If the person is at least 2 years old but less than 4, print a message that the\n",
    "person is a toddler.\n",
    "* If the person is at least 4 years old but less than 13, print a message that\n",
    "the person is a kid.\n",
    "* If the person is at least 13 years old but less than 20, print a message that\n",
    "the person is a teenager.\n",
    "* If the person is at least 20 years old but less than 65, print a message that\n",
    "the person is an adult.\n",
    "* If the person is age 65 or older, print a message that the person is an elder."
   ]
  },
  {
   "cell_type": "code",
   "execution_count": 7,
   "metadata": {},
   "outputs": [
    {
     "name": "stdout",
     "output_type": "stream",
     "text": [
      "Error : Sorry!,  we have not added functionailty for all ages '56'\n"
     ]
    }
   ],
   "source": [
    "person_age : int = int(input(\"Please enter your age:\\t\"))\n",
    "\n",
    "if person_age < 2:\n",
    "    print(\"You are a baby.\")\n",
    "elif person_age < 4 and person_age == 2:\n",
    "    print(\"You are a toddler.\")\n",
    "elif person_age < 13 and person_age == 4:\n",
    "    print(\"You are a kid.\")\n",
    "elif person_age < 20 and person_age == 13:\n",
    "    print(\"You are a teenager.\")\n",
    "elif person_age < 65 and person_age == 20:\n",
    "    print(\"You are an adult.\")\n",
    "elif person_age >= 65:\n",
    "    print(\"You are an elder.\")\n",
    "else : \n",
    "    print(f\"Error : Sorry!,  we have not added functionailty for all ages '{person_age}'\")\n",
    "\n",
    "\n",
    "\n"
   ]
  },
  {
   "cell_type": "markdown",
   "metadata": {},
   "source": [
    "#### **5-7. Favorite Fruit**\n",
    "\n",
    "Make a list of your favorite fruits, and then write a series of\n",
    "\n",
    "independent if statements that check for certain fruits in your list.\n",
    "* Make a list of your three favorite fruits and call it favorite_fruits.\n",
    "* Write five if statements. Each should check whether a certain kind of fruit\n",
    "    is in your list. If the fruit is in your list, the if block should print a statement,\n",
    "    such as You really like bananas!"
   ]
  },
  {
   "cell_type": "code",
   "execution_count": 8,
   "metadata": {},
   "outputs": [
    {
     "name": "stdout",
     "output_type": "stream",
     "text": [
      "You really like apples!\n",
      "You really like bananas!\n",
      "You really like oranges!\n"
     ]
    }
   ],
   "source": [
    "favorite_fruits : list[str] = [\"apple\", \"banana\", \"orange\"]\n",
    "\n",
    "# write 5 if statements to check if \"apple\", \"banana\", or \"orange\" is in the list \n",
    "# statement 1\n",
    "if \"apple\" in favorite_fruits:\n",
    "    print(\"You really like apples!\")\n",
    "\n",
    "# statement 2\n",
    "if \"banana\" in favorite_fruits:\n",
    "    print(\"You really like bananas!\")   \n",
    "\n",
    "# statement 3\n",
    "if \"orange\" in favorite_fruits:\n",
    "    print(\"You really like oranges!\")\n",
    "\n",
    "# statement 4 \n",
    "if \"mango\" in favorite_fruits:\n",
    "    print(\"You really like mangos!\")\n",
    "\n",
    "# statement 5\n",
    "if \"strawberry\" in favorite_fruits:\n",
    "    print(\"You really like strawberries!\")\n",
    "\n"
   ]
  }
 ],
 "metadata": {
  "kernelspec": {
   "display_name": "p-learning",
   "language": "python",
   "name": "python3"
  },
  "language_info": {
   "codemirror_mode": {
    "name": "ipython",
    "version": 3
   },
   "file_extension": ".py",
   "mimetype": "text/x-python",
   "name": "python",
   "nbconvert_exporter": "python",
   "pygments_lexer": "ipython3",
   "version": "3.11.5"
  }
 },
 "nbformat": 4,
 "nbformat_minor": 2
}
