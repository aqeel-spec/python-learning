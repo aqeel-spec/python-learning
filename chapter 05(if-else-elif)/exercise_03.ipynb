{
 "cells": [
  {
   "cell_type": "markdown",
   "metadata": {},
   "source": [
    "# **E x e r c i s e 03**"
   ]
  },
  {
   "cell_type": "markdown",
   "metadata": {},
   "source": [
    "#### **5-8. Hello Admin**\n",
    "\n",
    "Make a list of five or more usernames, including the name\n",
    "\n",
    "`'admin'`. Imagine you are writing code that will print a greeting to each user\n",
    "\n",
    "after they log in to a website. Loop through the list, and print a greeting to\n",
    "each user.\n",
    "* If the username is `'admin'`, print a special greeting, such as Hello admin,\n",
    "would you like to see a status report?\n",
    "* Otherwise, print a generic greeting, such as Hello Jaden, thank you for\n",
    "logging in again."
   ]
  },
  {
   "cell_type": "code",
   "execution_count": 3,
   "metadata": {},
   "outputs": [
    {
     "name": "stdout",
     "output_type": "stream",
     "text": [
      "Hello, admin\n",
      "Welcome to admin dashboard\n"
     ]
    }
   ],
   "source": [
    "# list of five or more usernames\n",
    "user_list : list[str] = [\"admin\",\"user1\", \"user2\", \"user3\", \"user4\", \"user5\"]\n",
    "\n",
    "# list of five or more passwords\n",
    "password_list : list[str] = [\"admin\",\"password1\", \"password2\", \"password3\", \"password4\", \"password5\"]\n",
    "\n",
    "# check if user is admin than print a special message \n",
    "user_name : str = input(\"Enter your username:\\t\")\n",
    "user_password : int = input(\"Enter your password:\\t\")\n",
    "\n",
    "\n",
    "\n",
    "if user_name in user_list and user_password in password_list:\n",
    "  if user_name == \"admin\" and user_password == \"admin\":\n",
    "    print(f\"Hello, {user_name}\")\n",
    "    print(\"Welcome to admin dashboard\")\n",
    "  else:\n",
    "    print(f\"Hello  {user_name}\")\n",
    "    print(\"Thanks for logging in again\")\n",
    "else:\n",
    "  print(\"Invalid user name or password\")\n",
    "  print(\"Please try again later\")"
   ]
  },
  {
   "cell_type": "markdown",
   "metadata": {},
   "source": [
    "#### **5-9. No Users**\n",
    "\n",
    "Add an if test to hello_admin.py to make sure the list of users is\n",
    "not empty.\n",
    "* If the list is empty, print the message We need to find some users!\n",
    "* Remove all of the usernames from your list, and make sure the correct mes-\n",
    "sage is printed."
   ]
  },
  {
   "cell_type": "code",
   "execution_count": 11,
   "metadata": {},
   "outputs": [
    {
     "name": "stdout",
     "output_type": "stream",
     "text": [
      "Hello admin, would you like to see a status report?\n",
      "The user list has been emptied.\n"
     ]
    }
   ],
   "source": [
    "users : list[int] = []\n",
    "\n",
    "if users:\n",
    "    for user in users:\n",
    "        if user == 'admin':\n",
    "            print(\"Hello admin, would you like to see a status report?\")\n",
    "        else:\n",
    "            print(f\"Hello {user}, thank you for logging in again.\")\n",
    "else:\n",
    "    print(\"We need to find some users!\")\n",
    "\n",
    "# Clearing the list\n",
    "users.clear()\n",
    "if not users:\n",
    "    print(\"The user list has been emptied.\")\n",
    "else:\n",
    "    print(\"There are still users in the list.\")\n"
   ]
  },
  {
   "cell_type": "markdown",
   "metadata": {},
   "source": [
    "#### Solution 2"
   ]
  },
  {
   "cell_type": "code",
   "execution_count": 12,
   "metadata": {},
   "outputs": [
    {
     "name": "stdout",
     "output_type": "stream",
     "text": [
      "\n",
      "user_list :\t[]\n",
      "password_list :\t[]\n",
      "\n",
      "deleted_user :\t['user5', 'user4', 'user3', 'user2', 'user1', 'admin']\n",
      "deleted_password :\t['password5', 'password4', 'password3', 'password2', 'password1', 'admin']\n"
     ]
    }
   ],
   "source": [
    "# List of five or more usernames\n",
    "user_list = [\"admin\", \"user1\", \"user2\", \"user3\", \"user4\", \"user5\"]\n",
    "\n",
    "# List of five or more passwords\n",
    "password_list = [\"admin\", \"password1\", \"password2\", \"password3\", \"password4\", \"password5\"]\n",
    "\n",
    "# Lists to store deleted users and passwords\n",
    "deleted_list = []\n",
    "pass_deleted = []\n",
    "\n",
    "# Check if the lists are not empty\n",
    "if len(user_list) > 0 and len(password_list) > 0:\n",
    "    while len(user_list) > 0:  # Loop until the user_list is empty\n",
    "        del_user = user_list.pop()\n",
    "        del_pass = password_list.pop()\n",
    "        deleted_list.append(del_user)\n",
    "        pass_deleted.append(del_pass)\n",
    "else:\n",
    "    print(\"We need to find some users!\")\n",
    "\n",
    "# Print the current states of the lists\n",
    "print(f\"\\nuser_list :\\t{user_list}\")\n",
    "print(f\"password_list :\\t{password_list}\")\n",
    "\n",
    "print(f\"\\ndeleted_user :\\t{deleted_list}\")\n",
    "print(f\"deleted_password :\\t{pass_deleted}\")\n"
   ]
  },
  {
   "cell_type": "markdown",
   "metadata": {},
   "source": [
    "#### **5-10. Checking Usernames**\n",
    "\n",
    "Do the following to create a program that simulates\n",
    "\n",
    "how` websites` ensure that everyone has a `unique username`.\n",
    "* Make a list of five or more usernames called `current_users`.\n",
    "  * Make another list of five usernames called new_users. Make sure one or\n",
    "two of the new usernames are also in the `current_users` list.\n",
    "* Loop through the `new_users list` to see if each new username has already\n",
    "been used. If it has, `print a message` that the person will need to enter a\n",
    "new username. If a username has not been used, print a message saying\n",
    "that the username is available.\n",
    "* Make sure your comparison is case `insensitive`. If `'John'` has been used,\n",
    "`'JOHN'` should not be accepted. (To do this, you’ll need to make a copy of\n",
    "current_users containing the lowercase versions of all existing users.)"
   ]
  },
  {
   "cell_type": "code",
   "execution_count": 23,
   "metadata": {},
   "outputs": [
    {
     "name": "stdout",
     "output_type": "stream",
     "text": [
      "User name John is already taken\n",
      "User name Jane is already taken\n",
      "User name Aqeel is available\n",
      "User name Usman is available\n",
      "User name Jimmy is available\n"
     ]
    }
   ],
   "source": [
    "# list of 5 users\n",
    "current_users : list[str] = ['John', 'Jane', 'Jim', 'Jill', 'Jack']\n",
    "\n",
    "# lower_Case version of all existing users\n",
    "lower_case_users : list[str] = [user.lower() for user in current_users]\n",
    "# or -> lower_case_users : list[str] = current_users[:]\n",
    "\n",
    "\n",
    "# list of 5 new users one or 2 user are also in current_user\n",
    "new_users : list[str] = ['John', 'Jane', 'Aqeel', 'Usman', 'Jimmy']\n",
    "\n",
    "# looping through new user list\n",
    "# checking if the new user is in current user list\n",
    "# if yes then print the message user name already taken\n",
    "# else print the message user name available\n",
    "for new_user in new_users:\n",
    "    if new_user.lower() in lower_case_users:\n",
    "        print(f\"User name {new_user} is already taken\")\n",
    "    else:\n",
    "        print(f\"User name {new_user} is available\")"
   ]
  },
  {
   "cell_type": "markdown",
   "metadata": {},
   "source": [
    "#### **5-11. Ordinal Numbers**\n",
    "\n",
    "Ordinal numbers indicate their position in a list, such as\n",
    "\n",
    "`1st` or `2nd`. Most ordinal numbers end in `th`, except 1, 2, and 3.\n",
    "\n",
    "* Store the numbers 1 through 9 in a list.\n",
    "* Loop through the list.\n",
    "* Use an `if`- `elif`-`else` chain inside the loop to print the proper ordinal ending\n",
    "for each number. Your output should read `\"1st 2nd 3rd 4th 5th 6th 7th\n",
    "8th 9th\"`, and each result should be on a separate line."
   ]
  },
  {
   "cell_type": "code",
   "execution_count": 26,
   "metadata": {},
   "outputs": [
    {
     "name": "stdout",
     "output_type": "stream",
     "text": [
      "Before:\t[1, 2, 3, 4, 5, 6, 7, 8, 9]\n",
      "1st\n",
      "2nd\n",
      "3rd\n",
      "4th\n",
      "5th\n",
      "6th\n",
      "7th\n",
      "8th\n",
      "9th\n",
      "After :\t['1st', '2nd', '3rd', '4th', '5th', '6th', '7th', '8th', '9th']\n"
     ]
    }
   ],
   "source": [
    "num_list : list[int] = list(range(1,10))\n",
    "\n",
    "# print number list before loop\n",
    "print(f\"Before:\\t{num_list}\")\n",
    "\n",
    "for num in num_list:\n",
    "    if num == 1:\n",
    "        print(f\"{num}st\")\n",
    "        # also update array\n",
    "        num_list[num_list.index(num)] = f\"{num}st\"\n",
    "    elif num == 2 :\n",
    "        print(f\"{num}nd\")\n",
    "        # also update array\n",
    "        num_list[num_list.index(num)] = f\"{num}nd\"\n",
    "    elif num == 3 :\n",
    "        print(f\"{num}rd\")\n",
    "        # also update array\n",
    "        num_list[num_list.index(num)] = f\"{num}rd\"\n",
    "    else :\n",
    "        print(f\"{num}th\")\n",
    "        # also update array\n",
    "        num_list[num_list.index(num)] = f\"{num}th\"\n",
    "\n",
    "# print number list after loop\n",
    "# updated list\n",
    "print(f\"After :\\t{num_list}\")"
   ]
  },
  {
   "cell_type": "code",
   "execution_count": null,
   "metadata": {},
   "outputs": [],
   "source": []
  }
 ],
 "metadata": {
  "kernelspec": {
   "display_name": "p-learning",
   "language": "python",
   "name": "python3"
  },
  "language_info": {
   "codemirror_mode": {
    "name": "ipython",
    "version": 3
   },
   "file_extension": ".py",
   "mimetype": "text/x-python",
   "name": "python",
   "nbconvert_exporter": "python",
   "pygments_lexer": "ipython3",
   "version": "3.11.5"
  }
 },
 "nbformat": 4,
 "nbformat_minor": 2
}
