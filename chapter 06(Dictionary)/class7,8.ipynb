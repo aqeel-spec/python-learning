{
 "cells": [
  {
   "cell_type": "markdown",
   "metadata": {},
   "source": [
    "# Chapter #06: **Dictionary** "
   ]
  },
  {
   "cell_type": "markdown",
   "metadata": {},
   "source": [
    "#####  Class 07 : https://www.youtube.com/watch?v=u0K3m7ZAUnI"
   ]
  },
  {
   "cell_type": "markdown",
   "metadata": {},
   "source": [
    "#####  Class 08 : https://www.youtube.com/watch?v=5HswPZa8iDA"
   ]
  },
  {
   "cell_type": "markdown",
   "metadata": {},
   "source": [
    "---\n",
    "\n",
    "# Difference between list, tuple, set, and dictionary\n",
    "\n",
    "To understand the differences between list, tuple, set, and dictionary in Python, it's important to grasp their unique characteristics and use cases.\n",
    "\n",
    "For a detailed analysis, you can read this informative [article](https://cselectricalandelectronics.com/difference-between-list-tuple-set-and-dictionary-in-python/).\n",
    "\n",
    "---\n"
   ]
  },
  {
   "cell_type": "code",
   "execution_count": 7,
   "metadata": {},
   "outputs": [
    {
     "name": "stdout",
     "output_type": "stream",
     "text": [
      "Muhammad Qasim\n"
     ]
    }
   ],
   "source": [
    "# List                    0                1            2\n",
    "data : list[str] = [\"Muhammad Aslam\",\"Muhammad Qasim\",\"MSDS\"]\n",
    "\n",
    "print(data[1])"
   ]
  },
  {
   "cell_type": "code",
   "execution_count": 8,
   "metadata": {},
   "outputs": [
    {
     "name": "stdout",
     "output_type": "stream",
     "text": [
      "{1, 2, 3, 7}\n"
     ]
    }
   ],
   "source": [
    "data : set = {7,1,2,1,1,1,1,3,2}\n",
    "print(data) # return unique"
   ]
  },
  {
   "cell_type": "code",
   "execution_count": 9,
   "metadata": {},
   "outputs": [
    {
     "data": {
      "text/plain": [
       "['add',\n",
       " 'clear',\n",
       " 'copy',\n",
       " 'difference',\n",
       " 'difference_update',\n",
       " 'discard',\n",
       " 'intersection',\n",
       " 'intersection_update',\n",
       " 'isdisjoint',\n",
       " 'issubset',\n",
       " 'issuperset',\n",
       " 'pop',\n",
       " 'remove',\n",
       " 'symmetric_difference',\n",
       " 'symmetric_difference_update',\n",
       " 'union',\n",
       " 'update']"
      ]
     },
     "execution_count": 9,
     "metadata": {},
     "output_type": "execute_result"
    }
   ],
   "source": [
    "[i for i in dir(data) if \"__\" not in i]"
   ]
  },
  {
   "cell_type": "code",
   "execution_count": 6,
   "metadata": {},
   "outputs": [
    {
     "ename": "TypeError",
     "evalue": "'set' object is not subscriptable",
     "output_type": "error",
     "traceback": [
      "\u001b[0;31m---------------------------------------------------------------------------\u001b[0m",
      "\u001b[0;31mTypeError\u001b[0m                                 Traceback (most recent call last)",
      "\u001b[1;32m/home/shahzad/Documents/GitHub/python-learning/chapter 06(Dictionary)/class7.ipynb Cell 4\u001b[0m line \u001b[0;36m2\n\u001b[1;32m      <a href='vscode-notebook-cell:/home/shahzad/Documents/GitHub/python-learning/chapter%2006%28Dictionary%29/class7.ipynb#W2sZmlsZQ%3D%3D?line=0'>1</a>\u001b[0m data : \u001b[39mset\u001b[39m \u001b[39m=\u001b[39m {\u001b[39m7\u001b[39m,\u001b[39m1\u001b[39m,\u001b[39m2\u001b[39m,\u001b[39m1\u001b[39m,\u001b[39m1\u001b[39m,\u001b[39m1\u001b[39m,\u001b[39m1\u001b[39m,\u001b[39m3\u001b[39m,\u001b[39m2\u001b[39m}\n\u001b[0;32m----> <a href='vscode-notebook-cell:/home/shahzad/Documents/GitHub/python-learning/chapter%2006%28Dictionary%29/class7.ipynb#W2sZmlsZQ%3D%3D?line=1'>2</a>\u001b[0m \u001b[39mprint\u001b[39m(data[\u001b[39m0\u001b[39;49m]) \u001b[39m# return unique\u001b[39;00m\n",
      "\u001b[0;31mTypeError\u001b[0m: 'set' object is not subscriptable"
     ]
    }
   ],
   "source": [
    "data : set = {7,1,2,1,1,1,1,3,2}\n",
    "print(data[0]) # return unique"
   ]
  },
  {
   "cell_type": "markdown",
   "metadata": {},
   "source": [
    "# Dictionary\n",
    "* key : value (items)\n",
    "  * key replacement of indexes\n",
    "  * value item\n",
    "\n",
    "* dict_variable[key]\n",
    "   * dict_variable[new_key] = new_value\n",
    "      * add new value\n",
    "      * update value"
   ]
  },
  {
   "cell_type": "code",
   "execution_count": 2,
   "metadata": {},
   "outputs": [
    {
     "name": "stdout",
     "output_type": "stream",
     "text": [
      "{'age': 20,\n",
      " 'fname': 'Ghulam Jafir',\n",
      " 'graduation': 'BS Mathematics',\n",
      " 'name': 'Aqeel Shahzad'}\n"
     ]
    }
   ],
   "source": [
    "from typing import Dict, Union, Optional\n",
    "import pprint\n",
    "# pprint used to print in a better way\n",
    "\n",
    "\n",
    "Key = Union[int,str] # create custom type\n",
    "Value = Union[int, str, list, dict, tuple, set]\n",
    "\n",
    "user_details : Dict[Key,Value] = {\n",
    "                                  \"name\":\"Aqeel Shahzad\",\n",
    "                                  \"fname\" : \"Ghulam Jafir\",\n",
    "                                  \"graduation\" : \"BS Mathematics\",\n",
    "                                  \"age\" : 20, # value type us number\n",
    "                                }\n",
    "                                \n",
    "pprint.pprint(user_details)"
   ]
  },
  {
   "cell_type": "code",
   "execution_count": 4,
   "metadata": {},
   "outputs": [
    {
     "name": "stdout",
     "output_type": "stream",
     "text": [
      "{'age': 20,\n",
      " 'fname': 'Ghulam Jafir',\n",
      " 'graduation': 'BS Mathematics',\n",
      " 'name': 'Aqeel Shahzad'}\n",
      "20\n",
      "'Aqeel Shahzad'\n",
      "'Ghulam Jafir'\n"
     ]
    }
   ],
   "source": [
    "from typing import Dict, Union, Optional\n",
    "import pprint\n",
    "\n",
    "Key = Union[int,str] # create custom type\n",
    "Value = Union[int, str, list, dict, tuple, set]\n",
    "\n",
    "user_details : Dict[Key,Value] = {\n",
    "                                  \"name\":\"Aqeel Shahzad\",\n",
    "                                  \"fname\" : \"Ghulam Jafir\",\n",
    "                                  \"graduation\" : \"BS Mathematics\",\n",
    "                                  \"age\" : 20, # value type us number\n",
    "                                }\n",
    "                                \n",
    "pprint.pprint(user_details)\n",
    "pprint.pprint(user_details[\"age\"])\n",
    "pprint.pprint(user_details[\"name\"])\n",
    "pprint.pprint(user_details[\"fname\"])\n"
   ]
  },
  {
   "cell_type": "code",
   "execution_count": 10,
   "metadata": {},
   "outputs": [
    {
     "name": "stdout",
     "output_type": "stream",
     "text": [
      "{0: 'JAMstack developer',\n",
      " 'address': {'city': 'Chiniot', 'country': 'Pakistan'},\n",
      " 'age': 20,\n",
      " 'fname': 'Ghulam Jafir',\n",
      " 'graduation': 'BS Mathematics',\n",
      " 'hobbies': ['cricket', 'football'],\n",
      " 'name': 'Aqeel Shahzad'}\n",
      "'JAMstack developer'\n"
     ]
    }
   ],
   "source": [
    "from typing import Dict, Union, Optional\n",
    "import pprint\n",
    "\n",
    "Key = Union[int,str] # create custom type\n",
    "Value = Union[int, str, list, dict, tuple, set]\n",
    "\n",
    "user_details : Dict[Key,Value] = {\n",
    "                                  \"name\":\"Aqeel Shahzad\",\n",
    "                                  \"fname\" : \"Ghulam Jafir\",\n",
    "                                  \"graduation\" : \"BS Mathematics\",\n",
    "                                  \"age\" : 20,\n",
    "                                  \"address\" : {\n",
    "                                      \"city\" : \"Chiniot\",\n",
    "                                      \"country\" : \"Pakistan\"\n",
    "                                    },\n",
    "                                    \"hobbies\" : [\"cricket\",\"football\"],\n",
    "                                    0 : \"JAMstack developer\"\n",
    "                                }\n",
    "                                \n",
    "pprint.pprint(user_details)\n",
    "pprint.pprint(user_details[0]) # JAMstack developer\n"
   ]
  },
  {
   "cell_type": "code",
   "execution_count": 11,
   "metadata": {},
   "outputs": [
    {
     "ename": "TypeError",
     "evalue": "unhashable type: 'set'",
     "output_type": "error",
     "traceback": [
      "\u001b[0;31m---------------------------------------------------------------------------\u001b[0m",
      "\u001b[0;31mTypeError\u001b[0m                                 Traceback (most recent call last)",
      "\u001b[1;32m/home/shahzad/Documents/GitHub/python-learning/chapter 06(Dictionary)/class7.ipynb Cell 12\u001b[0m line \u001b[0;36m7\n\u001b[1;32m      <a href='vscode-notebook-cell:/home/shahzad/Documents/GitHub/python-learning/chapter%2006%28Dictionary%29/class7.ipynb#W4sZmlsZQ%3D%3D?line=3'>4</a>\u001b[0m Key \u001b[39m=\u001b[39m Union[\u001b[39mint\u001b[39m,\u001b[39mstr\u001b[39m] \u001b[39m# create custom type\u001b[39;00m\n\u001b[1;32m      <a href='vscode-notebook-cell:/home/shahzad/Documents/GitHub/python-learning/chapter%2006%28Dictionary%29/class7.ipynb#W4sZmlsZQ%3D%3D?line=4'>5</a>\u001b[0m Value \u001b[39m=\u001b[39m Union[\u001b[39mint\u001b[39m, \u001b[39mstr\u001b[39m, \u001b[39mlist\u001b[39m, \u001b[39mdict\u001b[39m, \u001b[39mtuple\u001b[39m, \u001b[39mset\u001b[39m]\n\u001b[0;32m----> <a href='vscode-notebook-cell:/home/shahzad/Documents/GitHub/python-learning/chapter%2006%28Dictionary%29/class7.ipynb#W4sZmlsZQ%3D%3D?line=6'>7</a>\u001b[0m user_details : Dict[Key,Value] \u001b[39m=\u001b[39m {\n\u001b[1;32m      <a href='vscode-notebook-cell:/home/shahzad/Documents/GitHub/python-learning/chapter%2006%28Dictionary%29/class7.ipynb#W4sZmlsZQ%3D%3D?line=7'>8</a>\u001b[0m                                   \u001b[39m\"\u001b[39m\u001b[39mname\u001b[39m\u001b[39m\"\u001b[39m:\u001b[39m\"\u001b[39m\u001b[39mAqeel Shahzad\u001b[39m\u001b[39m\"\u001b[39m,\n\u001b[1;32m      <a href='vscode-notebook-cell:/home/shahzad/Documents/GitHub/python-learning/chapter%2006%28Dictionary%29/class7.ipynb#W4sZmlsZQ%3D%3D?line=8'>9</a>\u001b[0m                                   \u001b[39m\"\u001b[39m\u001b[39mfname\u001b[39m\u001b[39m\"\u001b[39m : \u001b[39m\"\u001b[39m\u001b[39mGhulam Jafir\u001b[39m\u001b[39m\"\u001b[39m,\n\u001b[1;32m     <a href='vscode-notebook-cell:/home/shahzad/Documents/GitHub/python-learning/chapter%2006%28Dictionary%29/class7.ipynb#W4sZmlsZQ%3D%3D?line=9'>10</a>\u001b[0m                                   \u001b[39m\"\u001b[39m\u001b[39mgraduation\u001b[39m\u001b[39m\"\u001b[39m : \u001b[39m\"\u001b[39m\u001b[39mBS Mathematics\u001b[39m\u001b[39m\"\u001b[39m,\n\u001b[1;32m     <a href='vscode-notebook-cell:/home/shahzad/Documents/GitHub/python-learning/chapter%2006%28Dictionary%29/class7.ipynb#W4sZmlsZQ%3D%3D?line=10'>11</a>\u001b[0m                                   \u001b[39m\"\u001b[39m\u001b[39mage\u001b[39m\u001b[39m\"\u001b[39m : \u001b[39m20\u001b[39m,\n\u001b[1;32m     <a href='vscode-notebook-cell:/home/shahzad/Documents/GitHub/python-learning/chapter%2006%28Dictionary%29/class7.ipynb#W4sZmlsZQ%3D%3D?line=11'>12</a>\u001b[0m                                   \u001b[39m\"\u001b[39m\u001b[39maddress\u001b[39m\u001b[39m\"\u001b[39m : {\n\u001b[1;32m     <a href='vscode-notebook-cell:/home/shahzad/Documents/GitHub/python-learning/chapter%2006%28Dictionary%29/class7.ipynb#W4sZmlsZQ%3D%3D?line=12'>13</a>\u001b[0m                                       \u001b[39m\"\u001b[39m\u001b[39mcity\u001b[39m\u001b[39m\"\u001b[39m : \u001b[39m\"\u001b[39m\u001b[39mChiniot\u001b[39m\u001b[39m\"\u001b[39m,\n\u001b[1;32m     <a href='vscode-notebook-cell:/home/shahzad/Documents/GitHub/python-learning/chapter%2006%28Dictionary%29/class7.ipynb#W4sZmlsZQ%3D%3D?line=13'>14</a>\u001b[0m                                       \u001b[39m\"\u001b[39m\u001b[39mcountry\u001b[39m\u001b[39m\"\u001b[39m : \u001b[39m\"\u001b[39m\u001b[39mPakistan\u001b[39m\u001b[39m\"\u001b[39m\n\u001b[1;32m     <a href='vscode-notebook-cell:/home/shahzad/Documents/GitHub/python-learning/chapter%2006%28Dictionary%29/class7.ipynb#W4sZmlsZQ%3D%3D?line=14'>15</a>\u001b[0m                                     },\n\u001b[1;32m     <a href='vscode-notebook-cell:/home/shahzad/Documents/GitHub/python-learning/chapter%2006%28Dictionary%29/class7.ipynb#W4sZmlsZQ%3D%3D?line=15'>16</a>\u001b[0m                                     \u001b[39m\"\u001b[39m\u001b[39mhobbies\u001b[39m\u001b[39m\"\u001b[39m : [\u001b[39m\"\u001b[39m\u001b[39mcricket\u001b[39m\u001b[39m\"\u001b[39m,\u001b[39m\"\u001b[39m\u001b[39mfootball\u001b[39m\u001b[39m\"\u001b[39m],\n\u001b[1;32m     <a href='vscode-notebook-cell:/home/shahzad/Documents/GitHub/python-learning/chapter%2006%28Dictionary%29/class7.ipynb#W4sZmlsZQ%3D%3D?line=16'>17</a>\u001b[0m                                     \u001b[39m0\u001b[39m : \u001b[39m\"\u001b[39m\u001b[39mJAMstack developer\u001b[39m\u001b[39m\"\u001b[39m,\n\u001b[1;32m     <a href='vscode-notebook-cell:/home/shahzad/Documents/GitHub/python-learning/chapter%2006%28Dictionary%29/class7.ipynb#W4sZmlsZQ%3D%3D?line=17'>18</a>\u001b[0m                                     {\u001b[39m1\u001b[39m,\u001b[39m2\u001b[39m,\u001b[39m3\u001b[39m} : \u001b[39m\"\u001b[39m\u001b[39mHello\u001b[39m\u001b[39m\"\u001b[39m, \u001b[39m# Error\u001b[39;00m\n\u001b[1;32m     <a href='vscode-notebook-cell:/home/shahzad/Documents/GitHub/python-learning/chapter%2006%28Dictionary%29/class7.ipynb#W4sZmlsZQ%3D%3D?line=18'>19</a>\u001b[0m                                     [\u001b[39m1\u001b[39m,\u001b[39m2\u001b[39m,\u001b[39m3\u001b[39m] : \u001b[39m\"\u001b[39m\u001b[39mworld\u001b[39m\u001b[39m\"\u001b[39m, \u001b[39m# Error\u001b[39;00m\n\u001b[1;32m     <a href='vscode-notebook-cell:/home/shahzad/Documents/GitHub/python-learning/chapter%2006%28Dictionary%29/class7.ipynb#W4sZmlsZQ%3D%3D?line=19'>20</a>\u001b[0m                                     (\u001b[39m1\u001b[39m,\u001b[39m2\u001b[39m,\u001b[39m3\u001b[39m) : \u001b[39m\"\u001b[39m\u001b[39mHello\u001b[39m\u001b[39m\"\u001b[39m  \u001b[39m# Error\u001b[39;00m\n\u001b[1;32m     <a href='vscode-notebook-cell:/home/shahzad/Documents/GitHub/python-learning/chapter%2006%28Dictionary%29/class7.ipynb#W4sZmlsZQ%3D%3D?line=20'>21</a>\u001b[0m                                 }\n\u001b[1;32m     <a href='vscode-notebook-cell:/home/shahzad/Documents/GitHub/python-learning/chapter%2006%28Dictionary%29/class7.ipynb#W4sZmlsZQ%3D%3D?line=22'>23</a>\u001b[0m \u001b[39m# display(data)\u001b[39;00m\n\u001b[1;32m     <a href='vscode-notebook-cell:/home/shahzad/Documents/GitHub/python-learning/chapter%2006%28Dictionary%29/class7.ipynb#W4sZmlsZQ%3D%3D?line=23'>24</a>\u001b[0m \u001b[39m# similar with display and  print\u001b[39;00m\n\u001b[1;32m     <a href='vscode-notebook-cell:/home/shahzad/Documents/GitHub/python-learning/chapter%2006%28Dictionary%29/class7.ipynb#W4sZmlsZQ%3D%3D?line=24'>25</a>\u001b[0m \u001b[39m# Used to print beautiful code \"prettier print\"\u001b[39;00m\n\u001b[1;32m     <a href='vscode-notebook-cell:/home/shahzad/Documents/GitHub/python-learning/chapter%2006%28Dictionary%29/class7.ipynb#W4sZmlsZQ%3D%3D?line=25'>26</a>\u001b[0m pprint\u001b[39m.\u001b[39mpprint(user_details) \u001b[39m# also display info\u001b[39;00m\n",
      "\u001b[0;31mTypeError\u001b[0m: unhashable type: 'set'"
     ]
    }
   ],
   "source": [
    "from typing import Dict, Union, Optional\n",
    "import pprint\n",
    "\n",
    "Key = Union[int,str] # create custom type\n",
    "Value = Union[int, str, list, dict, tuple, set]\n",
    "\n",
    "user_details : Dict[Key,Value] = {\n",
    "                                  \"name\":\"Aqeel Shahzad\",\n",
    "                                  \"fname\" : \"Ghulam Jafir\",\n",
    "                                  \"graduation\" : \"BS Mathematics\",\n",
    "                                  \"age\" : 20,\n",
    "                                  \"address\" : {\n",
    "                                      \"city\" : \"Chiniot\",\n",
    "                                      \"country\" : \"Pakistan\"\n",
    "                                    },\n",
    "                                    \"hobbies\" : [\"cricket\",\"football\"],\n",
    "                                    0 : \"JAMstack developer\",\n",
    "                                    {1,2,3} : \"Hello\", # Error\n",
    "                                    [1,2,3] : \"world\", # Error\n",
    "                                    (1,2,3) : \"Hello\"  # Error\n",
    "                                }\n",
    "                                \n",
    "# display(data)\n",
    "# similar with display and  print\n",
    "# Used to print beautiful code \"prettier print\"\n",
    "pprint.pprint(user_details) # also display info"
   ]
  },
  {
   "cell_type": "code",
   "execution_count": 12,
   "metadata": {},
   "outputs": [
    {
     "name": "stdout",
     "output_type": "stream",
     "text": [
      "{1: 'Muhammad Qasim',\n",
      " 100: 'Pakistan',\n",
      " 'education': 'MSDS',\n",
      " 'fname': 'Muhammad Aslam'}\n",
      "Muhammad Aslam\n",
      "MSDS\n",
      "Muhammad Qasim\n"
     ]
    }
   ],
   "source": [
    "from typing import Dict, Union , Optional\n",
    "import pprint\n",
    "\n",
    "\n",
    "Key = Union[int,str,set] # create custom type\n",
    "Value = Union[int,str,list,dict,tuple, set]\n",
    "\n",
    "# List                     key               value\n",
    "data : Dict[Key,Value] = {\"fname\" : \"Muhammad Aslam\",\n",
    "                          1:\"Muhammad Qasim\",\n",
    "                          \"education\":\"MSDS\",\n",
    "                          100 : \"Pakistan\"\n",
    "                        }\n",
    "\n",
    "# display(data)\n",
    "# similar with display and  print\n",
    "# Used to print beautiful code \"prettier print\"\n",
    "pprint.pprint(data) # also display info\n",
    "print(data[\"fname\"]) # key shuold have same identation like \"\"\n",
    "print(data[\"education\"])\n",
    "#         key -> !index,  it should be any thing\n",
    "print(data[1]) # index = key"
   ]
  },
  {
   "cell_type": "code",
   "execution_count": 13,
   "metadata": {},
   "outputs": [
    {
     "ename": "TypeError",
     "evalue": "unhashable type: 'list'",
     "output_type": "error",
     "traceback": [
      "\u001b[0;31m---------------------------------------------------------------------------\u001b[0m",
      "\u001b[0;31mTypeError\u001b[0m                                 Traceback (most recent call last)",
      "\u001b[1;32m/home/shahzad/Documents/GitHub/python-learning/chapter 06(Dictionary)/class7.ipynb Cell 14\u001b[0m line \u001b[0;36m9\n\u001b[1;32m      <a href='vscode-notebook-cell:/home/shahzad/Documents/GitHub/python-learning/chapter%2006%28Dictionary%29/class7.ipynb#X20sZmlsZQ%3D%3D?line=5'>6</a>\u001b[0m Value \u001b[39m=\u001b[39m Union[\u001b[39mint\u001b[39m,\u001b[39mstr\u001b[39m,\u001b[39mlist\u001b[39m,\u001b[39mdict\u001b[39m,\u001b[39mtuple\u001b[39m, \u001b[39mset\u001b[39m]\n\u001b[1;32m      <a href='vscode-notebook-cell:/home/shahzad/Documents/GitHub/python-learning/chapter%2006%28Dictionary%29/class7.ipynb#X20sZmlsZQ%3D%3D?line=7'>8</a>\u001b[0m \u001b[39m# List                     key               value\u001b[39;00m\n\u001b[0;32m----> <a href='vscode-notebook-cell:/home/shahzad/Documents/GitHub/python-learning/chapter%2006%28Dictionary%29/class7.ipynb#X20sZmlsZQ%3D%3D?line=8'>9</a>\u001b[0m data : Dict[Key,Value] \u001b[39m=\u001b[39m {\u001b[39m\"\u001b[39m\u001b[39mfname\u001b[39m\u001b[39m\"\u001b[39m : \u001b[39m\"\u001b[39m\u001b[39mMuhammad Aslam\u001b[39m\u001b[39m\"\u001b[39m,\n\u001b[1;32m     <a href='vscode-notebook-cell:/home/shahzad/Documents/GitHub/python-learning/chapter%2006%28Dictionary%29/class7.ipynb#X20sZmlsZQ%3D%3D?line=9'>10</a>\u001b[0m                           \u001b[39m1\u001b[39m:\u001b[39m\"\u001b[39m\u001b[39mMuhammad Qasim\u001b[39m\u001b[39m\"\u001b[39m,\n\u001b[1;32m     <a href='vscode-notebook-cell:/home/shahzad/Documents/GitHub/python-learning/chapter%2006%28Dictionary%29/class7.ipynb#X20sZmlsZQ%3D%3D?line=10'>11</a>\u001b[0m                           \u001b[39m\"\u001b[39m\u001b[39meducation\u001b[39m\u001b[39m\"\u001b[39m:\u001b[39m\"\u001b[39m\u001b[39mMSDS\u001b[39m\u001b[39m\"\u001b[39m,\n\u001b[1;32m     <a href='vscode-notebook-cell:/home/shahzad/Documents/GitHub/python-learning/chapter%2006%28Dictionary%29/class7.ipynb#X20sZmlsZQ%3D%3D?line=11'>12</a>\u001b[0m                           \u001b[39m100\u001b[39m : \u001b[39m\"\u001b[39m\u001b[39mPakistan\u001b[39m\u001b[39m\"\u001b[39m,\n\u001b[1;32m     <a href='vscode-notebook-cell:/home/shahzad/Documents/GitHub/python-learning/chapter%2006%28Dictionary%29/class7.ipynb#X20sZmlsZQ%3D%3D?line=12'>13</a>\u001b[0m                           [\u001b[39m1\u001b[39m,\u001b[39m2\u001b[39m,\u001b[39m3\u001b[39m]:\u001b[39m\"\u001b[39m\u001b[39mPakistan2\u001b[39m\u001b[39m\"\u001b[39m \u001b[39m# hasing not allowed\u001b[39;00m\n\u001b[1;32m     <a href='vscode-notebook-cell:/home/shahzad/Documents/GitHub/python-learning/chapter%2006%28Dictionary%29/class7.ipynb#X20sZmlsZQ%3D%3D?line=13'>14</a>\u001b[0m                         }\n\u001b[1;32m     <a href='vscode-notebook-cell:/home/shahzad/Documents/GitHub/python-learning/chapter%2006%28Dictionary%29/class7.ipynb#X20sZmlsZQ%3D%3D?line=15'>16</a>\u001b[0m \u001b[39m# display(data)\u001b[39;00m\n\u001b[1;32m     <a href='vscode-notebook-cell:/home/shahzad/Documents/GitHub/python-learning/chapter%2006%28Dictionary%29/class7.ipynb#X20sZmlsZQ%3D%3D?line=16'>17</a>\u001b[0m \u001b[39m# similar with display and  print\u001b[39;00m\n\u001b[1;32m     <a href='vscode-notebook-cell:/home/shahzad/Documents/GitHub/python-learning/chapter%2006%28Dictionary%29/class7.ipynb#X20sZmlsZQ%3D%3D?line=17'>18</a>\u001b[0m \u001b[39m# Used to print beautiful code \"prettier print\"\u001b[39;00m\n\u001b[1;32m     <a href='vscode-notebook-cell:/home/shahzad/Documents/GitHub/python-learning/chapter%2006%28Dictionary%29/class7.ipynb#X20sZmlsZQ%3D%3D?line=18'>19</a>\u001b[0m pprint\u001b[39m.\u001b[39mpprint(data) \u001b[39m# also display info\u001b[39;00m\n",
      "\u001b[0;31mTypeError\u001b[0m: unhashable type: 'list'"
     ]
    }
   ],
   "source": [
    "from typing import Dict, Union , Optional\n",
    "import pprint\n",
    "\n",
    "\n",
    "Key = Union[int,str,set] # create custom type\n",
    "Value = Union[int,str,list,dict,tuple, set]\n",
    "\n",
    "# List                     key               value\n",
    "data : Dict[Key,Value] = {\"fname\" : \"Muhammad Aslam\",\n",
    "                          1:\"Muhammad Qasim\",\n",
    "                          \"education\":\"MSDS\",\n",
    "                          100 : \"Pakistan\",\n",
    "                          [1,2,3]:\"Pakistan2\" # hasing not allowed\n",
    "                        }\n",
    "\n",
    "# display(data)\n",
    "# similar with display and  print\n",
    "# Used to print beautiful code \"prettier print\"\n",
    "pprint.pprint(data) # also display info\n",
    "print(data[\"fname\"]) # key shuold have same identation like \"\"\n",
    "print(data[\"education\"])\n",
    "#         key -> !index,  it should be any thing\n",
    "print(data[1]) # index = key"
   ]
  },
  {
   "cell_type": "code",
   "execution_count": 14,
   "metadata": {},
   "outputs": [
    {
     "name": "stdout",
     "output_type": "stream",
     "text": [
      "{'education': 'MSDS', 'fname': 'Muhammad Aslam', 'name': 'Muhammad Qasim'}\n",
      "Muhammad Aslam\n",
      "MSDS\n"
     ]
    }
   ],
   "source": [
    "from typing import Dict, Union , Optional\n",
    "import pprint\n",
    "\n",
    "\n",
    "Key = Union[int,str,set] # create custom type\n",
    "Value = Union[int,str,list,dict,tuple, set]\n",
    "\n",
    "# hashable data type : unique identification\n",
    "# Mostly used in Blockchain\n",
    "# List                     key               value\n",
    "data : Dict[Key,Value] = {\"fname\" : \"Muhammad Aslam\",\n",
    "                          \"name\":\"Muhammad Qasim\",\n",
    "                          \"education\":\"MSDS\",\n",
    "                          # [1,2,3] : \"Pakistan\" # Error\n",
    "                          # (1,2,3) : \"Pakistan\" , # Error\n",
    "                          # {1,2,3} : \"Pakistan\" , # Error\n",
    "                        }\n",
    "\n",
    "pprint.pprint(data) # also display info\n",
    "print(data[\"fname\"]) # key shuold have same identation like \"\"\n",
    "print(data[\"education\"])\n",
    "# print(data[0]) # index = key\n"
   ]
  },
  {
   "cell_type": "code",
   "execution_count": 15,
   "metadata": {},
   "outputs": [
    {
     "name": "stdout",
     "output_type": "stream",
     "text": [
      "{'abc': [1, 2, 3],\n",
      " 'cde': {'a': 1, 'b': 2},\n",
      " 'education': 'MSDS',\n",
      " 'efg': (1, 2, 3),\n",
      " 'fname': 'Muhammad Aslam',\n",
      " 'name': 'Muhammad Qasim',\n",
      " 'xyz': {1, 2, 3}}\n",
      "Muhammad Aslam\n",
      "{1, 2, 3}\n",
      "MSDS\n"
     ]
    }
   ],
   "source": [
    "from typing import Dict, Union , Optional\n",
    "import pprint\n",
    "\n",
    "\n",
    "Key = Union[int,str,set] # create custom type\n",
    "Value = Union[int,str,list,dict,tuple, set]\n",
    "\n",
    "# hashable data type : unique identification\n",
    "# Mostly used in Blockchain\n",
    "# List                     key               value\n",
    "data : Dict[Key,Value] = {\"fname\" : \"Muhammad Aslam\",\n",
    "                          \"name\":\"Muhammad Qasim\",\n",
    "                          \"education\":\"MSDS\",\n",
    "                          \"abc\" : [1,2,3],\n",
    "                          \"xyz\" : {1,2,3},\n",
    "                          \"efg\" : (1,2,3),\n",
    "                          \"cde\" : {\"a\" : 1 , \"b\" : 2}\n",
    "                          # [1,2,3] : \"Pakistan\" # Error\n",
    "                          # (1,2,3) : \"Pakistan\" , # Error\n",
    "                          # {1,2,3} : \"Pakistan\" , # Error\n",
    "                        }\n",
    "\n",
    "pprint.pprint(data) # also display info\n",
    "print(data[\"fname\"]) # key shuold have same identation like \"\"\n",
    "\n",
    "print(data[\"xyz\"])\n",
    "print(data[\"education\"])\n",
    "\n"
   ]
  },
  {
   "cell_type": "code",
   "execution_count": 16,
   "metadata": {},
   "outputs": [
    {
     "name": "stdout",
     "output_type": "stream",
     "text": [
      "{1, 2, 3}\n",
      "[1, 2, 3]\n"
     ]
    }
   ],
   "source": [
    "abc : set = { 1,2,3,2,2,1 }\n",
    "print(abc)\n",
    "\n",
    "xyz : list[int] = list(abc)\n",
    "print(xyz)"
   ]
  },
  {
   "cell_type": "code",
   "execution_count": 22,
   "metadata": {},
   "outputs": [
    {
     "name": "stdout",
     "output_type": "stream",
     "text": [
      "{'a', 'f', 'c', 'b', 'e', 'd'}\n",
      "['a', 'f', 'c', 'b', 'e', 'd']\n",
      "['a', 'b', 'c', 'd', 'e', 'f']\n"
     ]
    }
   ],
   "source": [
    "abc : set[str] = { 'a','b','a','c','d','e','f','f','d' }\n",
    "print(abc)\n",
    "\n",
    "xyz : list[str] = list(abc)\n",
    "print(xyz)\n",
    "print(sorted(xyz))"
   ]
  },
  {
   "cell_type": "code",
   "execution_count": 23,
   "metadata": {},
   "outputs": [
    {
     "data": {
      "text/plain": [
       "2"
      ]
     },
     "execution_count": 23,
     "metadata": {},
     "output_type": "execute_result"
    }
   ],
   "source": [
    "from typing import Dict, Union , Optional\n",
    "import pprint\n",
    "\n",
    "\n",
    "Key = Union[int,str,set] # create custom type\n",
    "Value = Union[int,str,list,dict,tuple, set]\n",
    "\n",
    "# hashable data type : unique identification\n",
    "# Mostly used in Blockchain\n",
    "# List                     key               value\n",
    "data : Dict[Key,Value] = {\"fname\" : \"Muhammad Aslam\",\n",
    "                          \"name\":\"Muhammad Qasim\",\n",
    "                          \"education\":\"MSDS\",\n",
    "                          \"abc\" : [1,2,3],\n",
    "                          \"xyz\" : {1,2,3},\n",
    "                          \"efg\" : (1,2,3),\n",
    "                          \"cde\" : {\"a\" : 1 , \"b\" : 2}\n",
    "                          # [1,2,3] : \"Pakistan\" # Error\n",
    "                          # (1,2,3) : \"Pakistan\" , # Error\n",
    "                          # {1,2,3} : \"Pakistan\" , # Error\n",
    "                        }\n",
    "# return value of data = data['cde]['b'] -> 2\n",
    "data['cde']['b']"
   ]
  },
  {
   "cell_type": "code",
   "execution_count": 24,
   "metadata": {},
   "outputs": [
    {
     "name": "stdout",
     "output_type": "stream",
     "text": [
      "{'name': 'Muhammad Qasim', 'fname': 'Muhammad Aslam', 'education': 'MSDS'}\n"
     ]
    }
   ],
   "source": [
    "from typing import Dict, Union , Optional\n",
    "import pprint\n",
    "\n",
    "\n",
    "Key = Union[int,str,set] # create custom type\n",
    "Value = Union[int,str,list,dict,tuple, set]\n",
    "\n",
    "data : dict[Key,Value] = {}\n",
    "\n",
    "data['name'] = \"Muhammad Qasim\" # Add new key and value\n",
    "data['fname'] = \"Muhammad Aslam\"\n",
    "data['education'] = 'MSDS'\n",
    "\n",
    "print(data)"
   ]
  },
  {
   "cell_type": "code",
   "execution_count": 25,
   "metadata": {},
   "outputs": [
    {
     "name": "stdout",
     "output_type": "stream",
     "text": [
      "{'fname': 'Muhammad Aslam', 'name': 'Muhammad Qasim', 'education': 'MSDS'}\n",
      "{'fname': 'Muhammad Aslam', 'name': 'M. Qasim', 'education': 'MSDS'}\n"
     ]
    }
   ],
   "source": [
    "from typing import Dict, Union , Optional\n",
    "import pprint\n",
    "\n",
    "\n",
    "Key = Union[int,str,set] # create custom type\n",
    "Value = Union[int,str,list,dict,tuple, set]\n",
    "\n",
    "data : Dict[Key,Value] = {\"fname\" : \"Muhammad Aslam\",\n",
    "                          \"name\":\"Muhammad Qasim\",\n",
    "                          \"education\":\"MSDS\"}\n",
    "\n",
    "print(data)\n",
    "\n",
    "data['name'] = \"M. Qasim\" # update value from key value\n",
    "\n",
    "print(data)"
   ]
  },
  {
   "cell_type": "code",
   "execution_count": 26,
   "metadata": {},
   "outputs": [
    {
     "data": {
      "text/plain": [
       "['clear',\n",
       " 'copy',\n",
       " 'fromkeys',\n",
       " 'get',\n",
       " 'items',\n",
       " 'keys',\n",
       " 'pop',\n",
       " 'popitem',\n",
       " 'setdefault',\n",
       " 'update',\n",
       " 'values']"
      ]
     },
     "execution_count": 26,
     "metadata": {},
     "output_type": "execute_result"
    }
   ],
   "source": [
    "from typing import Dict, Union , Optional\n",
    "import pprint\n",
    "\n",
    "\n",
    "Key = Union[int,str,set] # create custom type\n",
    "Value = Union[int,str,list,dict,tuple, set]\n",
    "\n",
    "data : Dict[Key,Value] = {\"fname\" : \"Muhammad Aslam\",\n",
    "                          \"name\":\"Muhammad Qasim\",\n",
    "                          \"education\":\"MSDS\"}\n",
    "\n",
    "\n",
    "[i for i in dir(data) if \"__\" not in i]\n",
    "\n"
   ]
  },
  {
   "cell_type": "code",
   "execution_count": 27,
   "metadata": {},
   "outputs": [
    {
     "ename": "KeyError",
     "evalue": "'pakistan'",
     "output_type": "error",
     "traceback": [
      "\u001b[0;31m---------------------------------------------------------------------------\u001b[0m",
      "\u001b[0;31mKeyError\u001b[0m                                  Traceback (most recent call last)",
      "\u001b[1;32m/home/shahzad/Documents/GitHub/python-learning/chapter 06(Dictionary)/class7.ipynb Cell 23\u001b[0m line \u001b[0;36m1\n\u001b[1;32m      <a href='vscode-notebook-cell:/home/shahzad/Documents/GitHub/python-learning/chapter%2006%28Dictionary%29/class7.ipynb#X32sZmlsZQ%3D%3D?line=5'>6</a>\u001b[0m Value \u001b[39m=\u001b[39m Union[\u001b[39mint\u001b[39m,\u001b[39mstr\u001b[39m,\u001b[39mlist\u001b[39m,\u001b[39mdict\u001b[39m,\u001b[39mtuple\u001b[39m, \u001b[39mset\u001b[39m]\n\u001b[1;32m      <a href='vscode-notebook-cell:/home/shahzad/Documents/GitHub/python-learning/chapter%2006%28Dictionary%29/class7.ipynb#X32sZmlsZQ%3D%3D?line=7'>8</a>\u001b[0m data : Dict[Key,Value] \u001b[39m=\u001b[39m {\u001b[39m\"\u001b[39m\u001b[39mfname\u001b[39m\u001b[39m\"\u001b[39m : \u001b[39m\"\u001b[39m\u001b[39mMuhammad Aslam\u001b[39m\u001b[39m\"\u001b[39m,\n\u001b[1;32m      <a href='vscode-notebook-cell:/home/shahzad/Documents/GitHub/python-learning/chapter%2006%28Dictionary%29/class7.ipynb#X32sZmlsZQ%3D%3D?line=8'>9</a>\u001b[0m                           \u001b[39m\"\u001b[39m\u001b[39mname\u001b[39m\u001b[39m\"\u001b[39m:\u001b[39m\"\u001b[39m\u001b[39mMuhammad Qasim\u001b[39m\u001b[39m\"\u001b[39m,\n\u001b[1;32m     <a href='vscode-notebook-cell:/home/shahzad/Documents/GitHub/python-learning/chapter%2006%28Dictionary%29/class7.ipynb#X32sZmlsZQ%3D%3D?line=9'>10</a>\u001b[0m                           \u001b[39m\"\u001b[39m\u001b[39meducation\u001b[39m\u001b[39m\"\u001b[39m:\u001b[39m\"\u001b[39m\u001b[39mMSDS\u001b[39m\u001b[39m\"\u001b[39m}\n\u001b[0;32m---> <a href='vscode-notebook-cell:/home/shahzad/Documents/GitHub/python-learning/chapter%2006%28Dictionary%29/class7.ipynb#X32sZmlsZQ%3D%3D?line=11'>12</a>\u001b[0m \u001b[39mprint\u001b[39m(data[\u001b[39m'\u001b[39;49m\u001b[39mpakistan\u001b[39;49m\u001b[39m'\u001b[39;49m])\n\u001b[1;32m     <a href='vscode-notebook-cell:/home/shahzad/Documents/GitHub/python-learning/chapter%2006%28Dictionary%29/class7.ipynb#X32sZmlsZQ%3D%3D?line=13'>14</a>\u001b[0m [i \u001b[39mfor\u001b[39;00m i \u001b[39min\u001b[39;00m \u001b[39mdir\u001b[39m(data) \u001b[39mif\u001b[39;00m \u001b[39m\"\u001b[39m\u001b[39m__\u001b[39m\u001b[39m\"\u001b[39m \u001b[39mnot\u001b[39;00m \u001b[39min\u001b[39;00m i]\n",
      "\u001b[0;31mKeyError\u001b[0m: 'pakistan'"
     ]
    }
   ],
   "source": [
    "from typing import Dict, Union , Optional\n",
    "import pprint\n",
    "\n",
    "\n",
    "Key = Union[int,str,set] # create custom type\n",
    "Value = Union[int,str,list,dict,tuple, set]\n",
    "\n",
    "data : Dict[Key,Value] = {\"fname\" : \"Muhammad Aslam\",\n",
    "                          \"name\":\"Muhammad Qasim\",\n",
    "                          \"education\":\"MSDS\"}\n",
    "\n",
    "print(data['pakistan'])\n",
    "\n",
    "[i for i in dir(data) if \"__\" not in i]\n",
    "\n"
   ]
  },
  {
   "cell_type": "code",
   "execution_count": 29,
   "metadata": {},
   "outputs": [
    {
     "name": "stdout",
     "output_type": "stream",
     "text": [
      "NA\n",
      "Muhammad Qasim\n"
     ]
    }
   ],
   "source": [
    "from typing import Dict, Union , Optional\n",
    "import pprint\n",
    "\n",
    "\n",
    "Key = Union[int,str,set] # create custom type\n",
    "Value = Union[int,str,list,dict,tuple, set]\n",
    "\n",
    "data : Dict[Key,Value] = {\"fname\" : \"Muhammad Aslam\",\n",
    "                          \"name\":\"Muhammad Qasim\",\n",
    "                          \"education\":\"MSDS\"}\n",
    "#                  KEY\n",
    "\n",
    "# get() method is used to get ket if not exits then\n",
    "# it will prevent from error generating\n",
    "print(data.get('pakistan',\"NA\"))\n",
    "print(data.get('name',\"NA\"))\n",
    "\n",
    "\n",
    "\n"
   ]
  },
  {
   "cell_type": "code",
   "execution_count": 33,
   "metadata": {},
   "outputs": [
    {
     "name": "stdout",
     "output_type": "stream",
     "text": [
      "fname\n",
      "name\n",
      "education\n"
     ]
    }
   ],
   "source": [
    "from typing import Dict, Union, Optional\n",
    "import pprint\n",
    "\n",
    "\n",
    "Key = Union[int,str] # create custom type\n",
    "Value = Union[int, str, list, dict, tuple, set]\n",
    "\n",
    "data : Dict[Key,Value] = {\n",
    "                        \"fname\":\"Muhammad Aslam\",\n",
    "                        \"name\":\"Muhammad Qasim\",\n",
    "                        \"education\": \"MSDS\"}\n",
    "\n",
    "\n",
    "for d in data:\n",
    "    print(d) # keys\n",
    "\n",
    "\n",
    "# [i for i in dir(data) if \"__\" not in i]"
   ]
  },
  {
   "cell_type": "code",
   "execution_count": 40,
   "metadata": {},
   "outputs": [
    {
     "name": "stdout",
     "output_type": "stream",
     "text": [
      "0 fname\n",
      "1 name\n",
      "2 education\n"
     ]
    }
   ],
   "source": [
    "from typing import Dict, Union, Optional\n",
    "import pprint\n",
    "\n",
    "\n",
    "Key = Union[int,str] # create custom type\n",
    "Value = Union[int, str, list, dict, tuple, set]\n",
    "\n",
    "data : Dict[Key,Value] = {\n",
    "                        \"fname\":\"Muhammad Aslam\",\n",
    "                        \"name\":\"Muhammad Qasim\",\n",
    "                        \"education\": \"MSDS\"}\n",
    "\n",
    "\n",
    "for index,value in enumerate(data):\n",
    "    print(index,value) # keys\n",
    "\n",
    "\n",
    "# [i for i in dir(data) if \"__\" not in i]"
   ]
  },
  {
   "cell_type": "code",
   "execution_count": 35,
   "metadata": {},
   "outputs": [
    {
     "name": "stdout",
     "output_type": "stream",
     "text": [
      "dict_keys(['fname', 'name', 'education'])\n",
      "dict_values(['Muhammad Aslam', 'Muhammad Qasim', 'MSDS'])\n",
      "dict_items([('fname', 'Muhammad Aslam'), ('name', 'Muhammad Qasim'), ('education', 'MSDS')])\n",
      "fname Muhammad Aslam\n",
      "name Muhammad Qasim\n",
      "education MSDS\n"
     ]
    }
   ],
   "source": [
    "from typing import Dict, Union , Optional\n",
    "import pprint\n",
    "\n",
    "\n",
    "Key = Union[int,str,set] # create custom type\n",
    "Value = Union[int,str,list,dict,tuple, set]\n",
    "\n",
    "data : Dict[Key,Value] = {\"fname\" : \"Muhammad Aslam\",\n",
    "                          \"name\":\"Muhammad Qasim\",\n",
    "                          \"education\":\"MSDS\"}\n",
    "\n",
    "\n",
    "print(data.keys()) # it will return all keys\n",
    "print(data.values()) # === values\n",
    "print(data.items()) # it will return tuple as key value\n",
    "\n",
    "for k in data.keys():\n",
    "  print(k,data[k])\n",
    "# [i for i in dir(data) if \"__\" not in i]"
   ]
  },
  {
   "cell_type": "code",
   "execution_count": 41,
   "metadata": {},
   "outputs": [
    {
     "name": "stdout",
     "output_type": "stream",
     "text": [
      "dict_keys(['fname', 'name', 'education'])\n",
      "dict_values(['Muhammad Aslam', 'Muhammad Qasim', 'MSDS'])\n",
      "dict_items([('fname', 'Muhammad Aslam'), ('name', 'Muhammad Qasim'), ('education', 'MSDS')])\n",
      "Muhammad Aslam\n",
      "Muhammad Qasim\n",
      "MSDS\n"
     ]
    }
   ],
   "source": [
    "from typing import Dict, Union , Optional\n",
    "import pprint\n",
    "\n",
    "\n",
    "Key = Union[int,str,set] # create custom type\n",
    "Value = Union[int,str,list,dict,tuple, set]\n",
    "\n",
    "data : Dict[Key,Value] = {\"fname\" : \"Muhammad Aslam\",\n",
    "                          \"name\":\"Muhammad Qasim\",\n",
    "                          \"education\":\"MSDS\"}\n",
    "\n",
    "\n",
    "print(data.keys()) # it will return all keys\n",
    "print(data.values()) # === values\n",
    "print(data.items()) # it will return tuple as key value\n",
    "\n",
    "for v in data.values():\n",
    "  print(v)\n",
    "# [i for i in dir(data) if \"__\" not in i]\n",
    "\n"
   ]
  },
  {
   "cell_type": "markdown",
   "metadata": {},
   "source": [
    "* Get `keys` and `values` using `items() method`"
   ]
  },
  {
   "cell_type": "code",
   "execution_count": 42,
   "metadata": {},
   "outputs": [
    {
     "name": "stdout",
     "output_type": "stream",
     "text": [
      "dict_keys(['fname', 'name', 'education'])\n",
      "dict_values(['Muhammad Aslam', 'Muhammad Qasim', 'MSDS'])\n",
      "dict_items([('fname', 'Muhammad Aslam'), ('name', 'Muhammad Qasim'), ('education', 'MSDS')])\n",
      "fname Muhammad Aslam\n",
      "name Muhammad Qasim\n",
      "education MSDS\n"
     ]
    }
   ],
   "source": [
    "from typing import Dict, Union , Optional\n",
    "import pprint\n",
    "\n",
    "\n",
    "Key = Union[int,str,set] # create custom type\n",
    "Value = Union[int,str,list,dict,tuple, set]\n",
    "\n",
    "data : Dict[Key,Value] = {\"fname\" : \"Muhammad Aslam\",\n",
    "                          \"name\":\"Muhammad Qasim\",\n",
    "                          \"education\":\"MSDS\"}\n",
    "\n",
    "\n",
    "print(data.keys()) # it will return all keys\n",
    "print(data.values()) # === values\n",
    "print(data.items()) # it will return tuple as key value\n",
    "\n",
    "for k,v in data.items():\n",
    "  print(k,v)\n",
    "\n",
    "\n"
   ]
  },
  {
   "cell_type": "code",
   "execution_count": 43,
   "metadata": {},
   "outputs": [
    {
     "data": {
      "text/plain": [
       "{'fname': 'Muhammad Aslam', 'name': 'Muhammad Qasim', 'education': 'MSDS'}"
      ]
     },
     "execution_count": 43,
     "metadata": {},
     "output_type": "execute_result"
    }
   ],
   "source": [
    "{k:v for k,v in data.items()}"
   ]
  },
  {
   "cell_type": "code",
   "execution_count": 44,
   "metadata": {},
   "outputs": [
    {
     "data": {
      "text/plain": [
       "{'Muhammad Aslam': 'fname', 'Muhammad Qasim': 'name', 'MSDS': 'education'}"
      ]
     },
     "execution_count": 44,
     "metadata": {},
     "output_type": "execute_result"
    }
   ],
   "source": [
    "{v:k for k,v in data.items()} # shuffle values"
   ]
  },
  {
   "cell_type": "code",
   "execution_count": 45,
   "metadata": {},
   "outputs": [
    {
     "name": "stdout",
     "output_type": "stream",
     "text": [
      "9 7\n"
     ]
    }
   ],
   "source": [
    "a : int = 7\n",
    "b : int = 9\n",
    "\n",
    "a, b = b , a # shuffle\n",
    "\n",
    "print(a,b)"
   ]
  },
  {
   "cell_type": "code",
   "execution_count": 47,
   "metadata": {},
   "outputs": [
    {
     "name": "stdout",
     "output_type": "stream",
     "text": [
      "{}\n",
      "{}\n"
     ]
    }
   ],
   "source": [
    "keys : list[str] = ['id','name','fname','course']\n",
    "\n",
    "data : dict[Key , Value] = {}\n",
    "\n",
    "print(data)\n",
    "\n",
    "data.fromkeys(keys) # inline -> values are getting from return but not assigning to data\n",
    "\n",
    "print(data)"
   ]
  },
  {
   "cell_type": "code",
   "execution_count": 46,
   "metadata": {},
   "outputs": [
    {
     "name": "stdout",
     "output_type": "stream",
     "text": [
      "{}\n",
      "{'id': None, 'name': None, 'fname': None, 'course': None}\n"
     ]
    }
   ],
   "source": [
    "keys : list[str] = ['id','name','fname','course']\n",
    "\n",
    "data : dict[Key,Value] = {}\n",
    "\n",
    "print(data)\n",
    "\n",
    "data = data.fromkeys(keys) # inline\n",
    "\n",
    "print(data)"
   ]
  },
  {
   "cell_type": "markdown",
   "metadata": {},
   "source": [
    "#### **NOTE**\n",
    "\n",
    "If you leave out the second argument in the call to get() and the key doesn’t exist,\n",
    "\n",
    "Python will return the value None. The special value None means “no value exists.”\n",
    "\n",
    "This is not an error: it’s a special value meant to indicate the absence of a value.\n",
    "\n",
    "You’ll see more uses for None in Chapter 8."
   ]
  },
  {
   "cell_type": "code",
   "execution_count": null,
   "metadata": {},
   "outputs": [],
   "source": []
  }
 ],
 "metadata": {
  "kernelspec": {
   "display_name": "p-learning",
   "language": "python",
   "name": "python3"
  },
  "language_info": {
   "codemirror_mode": {
    "name": "ipython",
    "version": 3
   },
   "file_extension": ".py",
   "mimetype": "text/x-python",
   "name": "python",
   "nbconvert_exporter": "python",
   "pygments_lexer": "ipython3",
   "version": "3.11.5"
  }
 },
 "nbformat": 4,
 "nbformat_minor": 2
}
