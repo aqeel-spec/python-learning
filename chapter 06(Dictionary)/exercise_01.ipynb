{
 "cells": [
  {
   "cell_type": "markdown",
   "metadata": {},
   "source": [
    "# **E x e r c i s e 01**"
   ]
  },
  {
   "cell_type": "markdown",
   "metadata": {},
   "source": [
    "#### Syntax\n",
    "* str = ''\n",
    "   * Example 👉🏻 str = '' output : \"name of anything\"\n",
    "* int = 0\n",
    "   * Example 👉🏻 int = 0  output : any number\n",
    "* set = {}\n",
    "   * Example 👉🏻 set = {1,2,3,2,3,1,1,1,1} output : {1,2,3}\n",
    "* tuple = ()\n",
    "   * Example 👉🏻 tuple = (1,2,3) output : (1,2,3) \n",
    "* list = []\n",
    "   * Example 👉🏻 list = [1,2,3] output : [1,2,3]\n",
    "* dict = {}\n",
    "   * Example 👉🏻 dict = {1:2,3:4} output :   {1:2,3:4}\n",
    "\n",
    "\n",
    "\n"
   ]
  },
  {
   "cell_type": "markdown",
   "metadata": {},
   "source": [
    "#### **6-1. Person**\n",
    "\n",
    "Use a `dictionary` to store information about a person you know.\n",
    "\n",
    "Store their `first name`, `last name`, `age`, and the `city` in which they live. You\n",
    "\n",
    "should have `keys` such as `first_name`, `last_name`, `age`, and `city`. Print each piece\n",
    "\n",
    "of information stored in your dictionary."
   ]
  },
  {
   "cell_type": "code",
   "execution_count": 7,
   "metadata": {},
   "outputs": [
    {
     "name": "stdout",
     "output_type": "stream",
     "text": [
      "21\n",
      "delhi\n",
      "shubham\n",
      "kumar\n"
     ]
    }
   ],
   "source": [
    "from typing import Dict, Union\n",
    "\n",
    "Key = Union[str,int,set]\n",
    "Value = Union[str,int,set,tuple , list , dict]\n",
    "\n",
    "# person details having first_name , last_name , age and city\n",
    "person : Dict[Key,Value] = {\n",
    "    'first_name': 'shubham',\n",
    "    'last_name': 'kumar',\n",
    "    'age': '21',\n",
    "    'city': 'delhi'\n",
    "}\n",
    "\n",
    "print(person['age'])\n",
    "print(person['city'])\n",
    "print(person['first_name'])\n",
    "print(person['last_name'])"
   ]
  },
  {
   "cell_type": "markdown",
   "metadata": {},
   "source": [
    "#### **6-2. Favorite Numbers**\n",
    "\n",
    "Use a `dictionary` to store people’s `favorite numbers`.\n",
    "\n",
    "Think of `five names`, and use them as keys in your dictionary. Think of a favorite\n",
    "\n",
    "number for `each person`, and store each as a value in your dictionary. `Print`\n",
    "\n",
    "each person’s name and their favorite number. For even more fun, `poll a few friends` \n",
    "\n",
    "and get some actual data for your program."
   ]
  },
  {
   "cell_type": "code",
   "execution_count": 8,
   "metadata": {},
   "outputs": [
    {
     "name": "stdout",
     "output_type": "stream",
     "text": [
      "Jen favourite number is 8\n",
      "Sarah favourite number is 7\n",
      "Edward favourite number is 10\n",
      "Phil favourite number is 9\n",
      "Usman favourite number is 10\n"
     ]
    },
    {
     "ename": "ValueError",
     "evalue": "invalid literal for int() with base 10: ''",
     "output_type": "error",
     "traceback": [
      "\u001b[0;31m---------------------------------------------------------------------------\u001b[0m",
      "\u001b[0;31mValueError\u001b[0m                                Traceback (most recent call last)",
      "\u001b[1;32m/home/shahzad/Documents/GitHub/python-learning/chapter 06(Dictionary)/exercise_01.ipynb Cell 6\u001b[0m line \u001b[0;36m2\n\u001b[1;32m     <a href='vscode-notebook-cell:/home/shahzad/Documents/GitHub/python-learning/chapter%2006%28Dictionary%29/exercise_01.ipynb#W5sZmlsZQ%3D%3D?line=25'>26</a>\u001b[0m     \u001b[39mif\u001b[39;00m friend_name\u001b[39m.\u001b[39mlower() \u001b[39m==\u001b[39m \u001b[39m'\u001b[39m\u001b[39mexit\u001b[39m\u001b[39m'\u001b[39m :\n\u001b[1;32m     <a href='vscode-notebook-cell:/home/shahzad/Documents/GitHub/python-learning/chapter%2006%28Dictionary%29/exercise_01.ipynb#W5sZmlsZQ%3D%3D?line=26'>27</a>\u001b[0m         \u001b[39mbreak\u001b[39;00m\n\u001b[0;32m---> <a href='vscode-notebook-cell:/home/shahzad/Documents/GitHub/python-learning/chapter%2006%28Dictionary%29/exercise_01.ipynb#W5sZmlsZQ%3D%3D?line=27'>28</a>\u001b[0m     friend_number \u001b[39m=\u001b[39m \u001b[39mint\u001b[39;49m(\u001b[39minput\u001b[39;49m(\u001b[39m\"\u001b[39;49m\u001b[39mEnter your friend\u001b[39;49m\u001b[39m'\u001b[39;49m\u001b[39ms favourite number: \u001b[39;49m\u001b[39m\\t\u001b[39;49;00m\u001b[39m\"\u001b[39;49m))\n\u001b[1;32m     <a href='vscode-notebook-cell:/home/shahzad/Documents/GitHub/python-learning/chapter%2006%28Dictionary%29/exercise_01.ipynb#W5sZmlsZQ%3D%3D?line=28'>29</a>\u001b[0m     favourite_numbers[friend_name] \u001b[39m=\u001b[39m friend_number\n\u001b[1;32m     <a href='vscode-notebook-cell:/home/shahzad/Documents/GitHub/python-learning/chapter%2006%28Dictionary%29/exercise_01.ipynb#W5sZmlsZQ%3D%3D?line=30'>31</a>\u001b[0m \u001b[39m# Print the updated dictionary with new entries from friends\u001b[39;00m\n",
      "\u001b[0;31mValueError\u001b[0m: invalid literal for int() with base 10: ''"
     ]
    }
   ],
   "source": [
    "# dictionary to store prople favourite number\n",
    "\n",
    "from typing import Dict, Union\n",
    "\n",
    "Key = Union[str,int,set]\n",
    "Value = Union[str,int,set,tuple , list , dict]\n",
    "\n",
    "favourite_numbers : Dict[Key,Value] = {\n",
    "    \"jen\": 8,\n",
    "    \"sarah\": 7,\n",
    "    \"edward\": 10,\n",
    "    \"phil\": 9,\n",
    "    \"usman\" : 10\n",
    "}\n",
    "\n",
    "# print each person name and favourite number\n",
    "for key,value in favourite_numbers.items():\n",
    "    print(f\"{key.title()} favourite number is {value}\")\n",
    "\n",
    "# poll a few friends and get some some actual data for program\n",
    "# Simulating polling friends and adding their data to the dictionary\n",
    "friend_poll = True  # Set to False if no polling is needed\n",
    "\n",
    "while friend_poll:\n",
    "    friend_name = input(\"Enter your friend's name: \\t\")\n",
    "    if friend_name.lower() == 'exit' :\n",
    "        break\n",
    "    friend_number = int(input(\"Enter your friend's favourite number: \\t\"))\n",
    "    favourite_numbers[friend_name] = friend_number\n",
    "\n",
    "# Print the updated dictionary with new entries from friends\n",
    "print(\"\\nUpdated Favorite Numbers:\")\n",
    "for name, number in favourite_numbers.items():\n",
    "    print(f\"{name}'s favorite number is {number}.\")\n"
   ]
  },
  {
   "cell_type": "code",
   "execution_count": 9,
   "metadata": {},
   "outputs": [
    {
     "name": "stdout",
     "output_type": "stream",
     "text": [
      "Jen favourite number is 8\n",
      "Sarah favourite number is 7\n",
      "Edward favourite number is 10\n",
      "Phil favourite number is 9\n",
      "Usman favourite number is 10\n"
     ]
    },
    {
     "ename": "ValueError",
     "evalue": "invalid literal for int() with base 10: 'exit'",
     "output_type": "error",
     "traceback": [
      "\u001b[0;31m---------------------------------------------------------------------------\u001b[0m",
      "\u001b[0;31mValueError\u001b[0m                                Traceback (most recent call last)",
      "\u001b[1;32m/home/shahzad/Documents/GitHub/python-learning/chapter 06(Dictionary)/exercise_01.ipynb Cell 7\u001b[0m line \u001b[0;36m2\n\u001b[1;32m     <a href='vscode-notebook-cell:/home/shahzad/Documents/GitHub/python-learning/chapter%2006%28Dictionary%29/exercise_01.ipynb#W6sZmlsZQ%3D%3D?line=25'>26</a>\u001b[0m     \u001b[39mif\u001b[39;00m friend_name\u001b[39m.\u001b[39mlower() \u001b[39m==\u001b[39m \u001b[39m'\u001b[39m\u001b[39mexit\u001b[39m\u001b[39m'\u001b[39m \u001b[39mor\u001b[39;00m friend_name\u001b[39m.\u001b[39mlower() \u001b[39m==\u001b[39m \u001b[39m'\u001b[39m\u001b[39mquit\u001b[39m\u001b[39m'\u001b[39m \u001b[39mor\u001b[39;00m friend_name\u001b[39m.\u001b[39mlower() \u001b[39m==\u001b[39m \u001b[39m'\u001b[39m\u001b[39mend\u001b[39m\u001b[39m'\u001b[39m \u001b[39mor\u001b[39;00m friend_name\u001b[39m.\u001b[39mlower() \u001b[39m==\u001b[39m \u001b[39m'\u001b[39m\u001b[39mstop\u001b[39m\u001b[39m'\u001b[39m \u001b[39mor\u001b[39;00m friend_name\u001b[39m.\u001b[39mlower() \u001b[39m==\u001b[39m \u001b[39m'\u001b[39m\u001b[39mexit poll\u001b[39m\u001b[39m'\u001b[39m \u001b[39mor\u001b[39;00m friend_name\u001b[39m.\u001b[39mlower() \u001b[39m==\u001b[39m \u001b[39m'\u001b[39m\u001b[39mend poll\u001b[39m\u001b[39m'\u001b[39m \u001b[39mor\u001b[39;00m friend_name\u001b[39m.\u001b[39mlower() \u001b[39m==\u001b[39m \u001b[39m'\u001b[39m\u001b[39mstop poll\u001b[39m\u001b[39m'\u001b[39m \u001b[39mor\u001b[39;00m friend_name\u001b[39m.\u001b[39mlower() \u001b[39m==\u001b[39m \u001b[39m'\u001b[39m\u001b[39mquit poll\u001b[39m\u001b[39m'\u001b[39m \u001b[39mor\u001b[39;00m friend_name\u001b[39m.\u001b[39mlower() \u001b[39m==\u001b[39m \u001b[39m'\u001b[39m\u001b[39mend poll\u001b[39m\u001b[39m'\u001b[39m \u001b[39mor\u001b[39;00m friend_name\u001b[39m.\u001b[39mlower() \u001b[39m==\u001b[39m \u001b[39m'\u001b[39m\u001b[39mstop poll\u001b[39m\u001b[39m'\u001b[39m \u001b[39mor\u001b[39;00m friend_name\u001b[39m.\u001b[39mlower() \u001b[39m==\u001b[39m \u001b[39m'\u001b[39m\u001b[39mquit poll\u001b[39m\u001b[39m'\u001b[39m \u001b[39mor\u001b[39;00m friend_name\u001b[39m.\u001b[39mlower() \u001b[39m==\u001b[39m \u001b[39m'\u001b[39m\u001b[39mend poll\u001b[39m\u001b[39m'\u001b[39m \u001b[39mor\u001b[39;00m friend_name\u001b[39m.\u001b[39mlower() \u001b[39m==\u001b[39m \u001b[39m'\u001b[39m\u001b[39mstop poll\u001b[39m\u001b[39m'\u001b[39m \u001b[39mor\u001b[39;00m friend_name\u001b[39m.\u001b[39mlower() \u001b[39m==\u001b[39m \u001b[39m'\u001b[39m\u001b[39mquit poll\u001b[39m\u001b[39m'\u001b[39m \u001b[39mor\u001b[39;00m friend_name\u001b[39m.\u001b[39mlower() \u001b[39m==\u001b[39m \u001b[39m'\u001b[39m\u001b[39mend poll\u001b[39m\u001b[39m'\u001b[39m \u001b[39mor\u001b[39;00m friend_name\u001b[39m.\u001b[39mlower() \u001b[39m==\u001b[39m \u001b[39m'\u001b[39m\u001b[39mstop poll\u001b[39m\u001b[39m'\u001b[39m \u001b[39mor\u001b[39;00m friend_name\u001b[39m.\u001b[39mlower() \u001b[39m==\u001b[39m \u001b[39m'\u001b[39m\u001b[39mquit poll\u001b[39m\u001b[39m'\u001b[39m \u001b[39mor\u001b[39;00m friend_name\u001b[39m.\u001b[39mlower() \u001b[39m==\u001b[39m \u001b[39m'\u001b[39m\u001b[39mend poll\u001b[39m\u001b[39m'\u001b[39m \u001b[39mor\u001b[39;00m friend_name\u001b[39m.\u001b[39mlower() \u001b[39m==\u001b[39m \u001b[39m'\u001b[39m\u001b[39mstop poll\u001b[39m\u001b[39m'\u001b[39m \u001b[39mor\u001b[39;00m friend_name\u001b[39m.\u001b[39mlower() \u001b[39m==\u001b[39m \u001b[39m'\u001b[39m\u001b[39mquit poll\u001b[39m\u001b[39m'\u001b[39m \u001b[39mor\u001b[39;00m friend_name\u001b[39m.\u001b[39mlower() \u001b[39m==\u001b[39m \u001b[39m'\u001b[39m\u001b[39mend poll\u001b[39m\u001b[39m'\u001b[39m \u001b[39mor\u001b[39;00m friend_name\u001b[39m.\u001b[39mlower() \u001b[39m==\u001b[39m \u001b[39m'\u001b[39m\u001b[39mstop poll\u001b[39m\u001b[39m'\u001b[39m:\n\u001b[1;32m     <a href='vscode-notebook-cell:/home/shahzad/Documents/GitHub/python-learning/chapter%2006%28Dictionary%29/exercise_01.ipynb#W6sZmlsZQ%3D%3D?line=26'>27</a>\u001b[0m         \u001b[39mbreak\u001b[39;00m\n\u001b[0;32m---> <a href='vscode-notebook-cell:/home/shahzad/Documents/GitHub/python-learning/chapter%2006%28Dictionary%29/exercise_01.ipynb#W6sZmlsZQ%3D%3D?line=27'>28</a>\u001b[0m     friend_number \u001b[39m=\u001b[39m \u001b[39mint\u001b[39;49m(\u001b[39minput\u001b[39;49m(\u001b[39m\"\u001b[39;49m\u001b[39mEnter your friend\u001b[39;49m\u001b[39m'\u001b[39;49m\u001b[39ms favourite number: \u001b[39;49m\u001b[39m\\t\u001b[39;49;00m\u001b[39m\"\u001b[39;49m))\n\u001b[1;32m     <a href='vscode-notebook-cell:/home/shahzad/Documents/GitHub/python-learning/chapter%2006%28Dictionary%29/exercise_01.ipynb#W6sZmlsZQ%3D%3D?line=28'>29</a>\u001b[0m     favourite_numbers[friend_name] \u001b[39m=\u001b[39m friend_number\n\u001b[1;32m     <a href='vscode-notebook-cell:/home/shahzad/Documents/GitHub/python-learning/chapter%2006%28Dictionary%29/exercise_01.ipynb#W6sZmlsZQ%3D%3D?line=30'>31</a>\u001b[0m \u001b[39m# Print the updated dictionary with new entries from friends\u001b[39;00m\n",
      "\u001b[0;31mValueError\u001b[0m: invalid literal for int() with base 10: 'exit'"
     ]
    }
   ],
   "source": [
    "# dictionary to store prople favourite number\n",
    "\n",
    "from typing import Dict, Union\n",
    "\n",
    "Key = Union[str,int,set]\n",
    "Value = Union[str,int,set,tuple , list , dict]\n",
    "\n",
    "favourite_numbers : Dict[Key,Value] = {\n",
    "    \"jen\": 8,\n",
    "    \"sarah\": 7,\n",
    "    \"edward\": 10,\n",
    "    \"phil\": 9,\n",
    "    \"usman\" : 10\n",
    "}\n",
    "\n",
    "# print each person name and favourite number\n",
    "for key,value in favourite_numbers.items():\n",
    "    print(f\"{key.title()} favourite number is {value}\")\n",
    "\n",
    "# poll a few friends and get some some actual data for program\n",
    "# Simulating polling friends and adding their data to the dictionary\n",
    "friend_poll = True  # Set to False if no polling is needed\n",
    "\n",
    "while friend_poll:\n",
    "    friend_name = input(\"Enter your friend's name: \\t\")\n",
    "    if friend_name.lower() == 'exit' or friend_name.lower() == 'quit' or friend_name.lower() == 'end' or friend_name.lower() == 'stop' or friend_name.lower() == 'exit poll' or friend_name.lower() == 'end poll' or friend_name.lower() == 'stop poll' or friend_name.lower() == 'quit poll' or friend_name.lower() == 'end poll' or friend_name.lower() == 'stop poll' or friend_name.lower() == 'quit poll' or friend_name.lower() == 'end poll' or friend_name.lower() == 'stop poll' or friend_name.lower() == 'quit poll' or friend_name.lower() == 'end poll' or friend_name.lower() == 'stop poll' or friend_name.lower() == 'quit poll' or friend_name.lower() == 'end poll' or friend_name.lower() == 'stop poll' or friend_name.lower() == 'quit poll' or friend_name.lower() == 'end poll' or friend_name.lower() == 'stop poll':\n",
    "        break\n",
    "    friend_number = int(input(\"Enter your friend's favourite number: \\t\"))\n",
    "    favourite_numbers[friend_name] = friend_number\n",
    "\n",
    "# Print the updated dictionary with new entries from friends\n",
    "print(\"\\nUpdated Favorite Numbers:\")\n",
    "for name, number in favourite_numbers.items():\n",
    "    print(f\"{name}'s favorite number is {number}.\")\n"
   ]
  },
  {
   "cell_type": "markdown",
   "metadata": {},
   "source": [
    "## 6-3. Glossary\n",
    "\n",
    "A Python dictionary can be used to model an actual dictionary. However, let’s call it a glossary to avoid confusion.\n",
    "\n",
    "- Think of `five programming words` you’ve learned about in the `previous` chapters. Use these words as the `keys in your glossary`, and `store their meanings as values`.\n",
    "- Print each word and its meaning as neatly formatted output. You might print the word followed by a `colon` and then its meaning, or print the word on one line and then print its meaning indented on a second line. Use the `newline character (\\n)` to insert a blank line between each word-meaning pair in your output.\n"
   ]
  },
  {
   "cell_type": "code",
   "execution_count": 10,
   "metadata": {},
   "outputs": [
    {
     "name": "stdout",
     "output_type": "stream",
     "text": [
      "List: A collection of items in a particular order.\n",
      "\n",
      "Dictionary: A collection of key-value pairs.\n",
      "\n",
      "Tuple: A collection of items in a particular order.\n",
      "\n",
      "If: A conditional statement.\n",
      "\n",
      "For: A loop statement.\n",
      "\n"
     ]
    }
   ],
   "source": [
    "# five programming words\n",
    "glossary : Dict[Key,Value] = {\n",
    "    'list' : 'A collection of items in a particular order.',\n",
    "    'dictionary' : 'A collection of key-value pairs.',\n",
    "    'tuple' : 'A collection of items in a particular order.',\n",
    "    'if' : 'A conditional statement.',\n",
    "    'for' : 'A loop statement.'\n",
    "}\n",
    "\n",
    "for word, definition in glossary.items():\n",
    "    print(f\"{word.title()}: {definition}\\n\")\n"
   ]
  },
  {
   "cell_type": "markdown",
   "metadata": {},
   "source": [
    "# **E x e r c i s e 02**"
   ]
  },
  {
   "cell_type": "markdown",
   "metadata": {},
   "source": [
    "## **6-4. Glossary 2**: \n",
    "\n",
    "Now that you know how to loop through a dictionary, clean\n",
    "\n",
    "up the code from Exercise 6-3 (page 99) by replacing your series of print()\n",
    "\n",
    "calls with a loop that runs through the dictionary’s keys and values. When\n",
    "\n",
    "you’re sure that your loop works, add five more Python terms to your glossary.\n",
    "\n",
    "When you run your program again, these new words and meanings should\n",
    "\n",
    "automatically be included in the output."
   ]
  },
  {
   "cell_type": "code",
   "execution_count": 12,
   "metadata": {},
   "outputs": [
    {
     "name": "stdout",
     "output_type": "stream",
     "text": [
      "key: list\n",
      "\n",
      "value: A collection of items in a particular order.\n",
      "\n",
      "key: dictionary\n",
      "\n",
      "value: A collection of key-value pairs.\n",
      "\n",
      "key: tuple\n",
      "\n",
      "value: A collection of items in a particular order.\n",
      "\n",
      "key: if\n",
      "\n",
      "value: A conditional statement.\n",
      "\n",
      "key: for\n",
      "\n",
      "value: A loop statement.\n",
      "\n"
     ]
    }
   ],
   "source": [
    "# five programming words\n",
    "glossary : Dict[Key,Value] = {\n",
    "    'list' : 'A collection of items in a particular order.',\n",
    "    'dictionary' : 'A collection of key-value pairs.',\n",
    "    'tuple' : 'A collection of items in a particular order.',\n",
    "    'if' : 'A conditional statement.',\n",
    "    'for' : 'A loop statement.'\n",
    "}\n",
    "\n",
    "for k, v in glossary.items():\n",
    "    print(f\"key: {k}\\n\")\n",
    "    print(f\"value: {v}\\n\")\n"
   ]
  },
  {
   "cell_type": "markdown",
   "metadata": {},
   "source": [
    "## **6-5. Rivers**: \n",
    "\n",
    "Make a dictionary containing three major rivers and the country\n",
    "\n",
    "each river runs through. One key-value pair might be 'nile': 'egypt'.\n",
    "* Use a loop to print a sentence about each river, such as The Nile runs\n",
    "through Egypt.\n",
    "* Use a loop to print the name of each river included in the dictionary.\n",
    "* Use a loop to print the name of each country included in the dictionary."
   ]
  },
  {
   "cell_type": "code",
   "execution_count": 15,
   "metadata": {},
   "outputs": [
    {
     "name": "stdout",
     "output_type": "stream",
     "text": [
      "\n",
      "The Nile runs through Egypt.\n",
      "Nile\n",
      "Egypt\n",
      "\n",
      "The Amazon runs through Brazil.\n",
      "Amazon\n",
      "Brazil\n",
      "\n",
      "The Yangtze runs through China.\n",
      "Yangtze\n",
      "China\n"
     ]
    }
   ],
   "source": [
    "# list contains three major rivers and country\n",
    "rivers : Dict[str,str] = {\n",
    "        'nile': 'egypt',\n",
    "        'amazon': 'brazil',\n",
    "        'yangtze': 'china'\n",
    "    }\n",
    "\n",
    "for river, country in rivers.items():\n",
    "    print(f\"\\nThe {river.title()} runs through {country.title()}.\")\n",
    "    # name of each river in the dictionary\n",
    "    print(river.title())\n",
    "    # name of each country in the dictionary\n",
    "    print(country.title())\n"
   ]
  },
  {
   "cell_type": "markdown",
   "metadata": {},
   "source": [
    "## **6-6. Polling**\n",
    "\n",
    "Use the code in favorite_languages.py (page 96).\n",
    "* Make a list of people who should take the favorite languages poll. Include\n",
    "some names that are already in the dictionary and some that are not.\n",
    "* Loop through the list of people who should take the poll. If they have\n",
    "already taken the poll, print a message thanking them for responding.\n",
    "If they have not yet taken the poll, print a message inviting them to take\n",
    "the poll."
   ]
  },
  {
   "cell_type": "code",
   "execution_count": 17,
   "metadata": {},
   "outputs": [
    {
     "name": "stdout",
     "output_type": "stream",
     "text": [
      "Thank you for taking the poll Josh.\n",
      "Thank you for taking the poll Phil.\n",
      "You should take the poll Bob.\n",
      "You should take the poll Matt.\n"
     ]
    }
   ],
   "source": [
    "# code from previous favourite_languages\n",
    "favourite_languages : Dict[Key,Value] = {\n",
    "    'jen' : 'python',\n",
    "    'sarah' : 'c',\n",
    "    'edward' : 'ruby',\n",
    "    'phil' : 'python',\n",
    "    'josh' : 'java'\n",
    "}\n",
    "\n",
    "# People list who take poll \n",
    "# some are already in list and some are not\n",
    "people = ['josh', 'phil', 'bob', 'matt']\n",
    "\n",
    "# loop through lost of people who could take the poll\n",
    "for person in people:\n",
    "    # if person is in the dictionary\n",
    "    if person in favourite_languages.keys():\n",
    "        print(f\"Thank you for taking the poll {person.title()}.\")\n",
    "    else:\n",
    "        print(f\"You should take the poll {person.title()}.\")"
   ]
  },
  {
   "cell_type": "markdown",
   "metadata": {},
   "source": [
    "# **E x e r c i s e 03**"
   ]
  },
  {
   "cell_type": "markdown",
   "metadata": {},
   "source": [
    "## **6-7. People**\n",
    "\n",
    "Start with the program you wrote for `Exercise 6-1 (page 98)`. Make\n",
    "\n",
    "`two new dictionaries` representing different people, and store all `three dictionaries` \n",
    "\n",
    "in a list called people. Loop through your list of people. As you loop through\n",
    "\n",
    "the list, print everything you know about each person."
   ]
  },
  {
   "cell_type": "code",
   "execution_count": 28,
   "metadata": {},
   "outputs": [],
   "source": [
    "# DASHLINE to see result clearly\n",
    "dash_line : str= '-'.join('' for x in range(100))"
   ]
  },
  {
   "cell_type": "code",
   "execution_count": 29,
   "metadata": {},
   "outputs": [
    {
     "name": "stdout",
     "output_type": "stream",
     "text": [
      "{'first_name': 'shubham', 'last_name': 'kumar', 'age': '21', 'city': 'lahore'}\n",
      "{'first_name': 'shubham', 'last_name': 'kumar', 'age': '22', 'city': 'delhi'}\n",
      "{'first_name': 'shubham', 'last_name': 'kumar', 'age': '23', 'city': 'lahore'}\n",
      "---------------------------------------------------------------------------------------------------\n",
      "  first_name last_name age    city\n",
      "0    shubham     kumar  21  lahore\n",
      "1    shubham     kumar  22   delhi\n",
      "2    shubham     kumar  23  lahore\n"
     ]
    }
   ],
   "source": [
    "# Exercise 6-1\n",
    "# person details having first_name , last_name , age and city\n",
    "from typing import List\n",
    "person : Dict[Key,Value] = {\n",
    "    'first_name': 'shubham',\n",
    "    'last_name': 'kumar',\n",
    "    'age': '21',\n",
    "    'city': 'lahore'\n",
    "}\n",
    "\n",
    "# two new dictionaries\n",
    "person1 : Dict[Key,Value] = {\n",
    "    'first_name': 'shubham',\n",
    "    'last_name': 'kumar',\n",
    "    'age': '22',\n",
    "    'city': 'delhi'\n",
    "}\n",
    "\n",
    "person2 : Dict[Key,Value] = {\n",
    "    'first_name': 'shubham',\n",
    "    'last_name': 'kumar',\n",
    "    'age': '23',\n",
    "    'city': 'lahore'\n",
    "}\n",
    "\n",
    "# store all three dictionary in a list called people\n",
    "people : List[Dict[Key,Value]] = [person,person1,person2]\n",
    "\n",
    "# looping through each list of people\n",
    "for person in people:\n",
    "    # print everything you know about person\n",
    "    print(person)\n",
    "\n",
    "# by using pandas make a table of prople data\n",
    "print(dash_line)\n",
    "import pandas as pd\n",
    "df = pd.DataFrame(people)\n",
    "print(df)\n"
   ]
  },
  {
   "cell_type": "markdown",
   "metadata": {},
   "source": [
    "## **6-8. Pets**\n",
    "\n",
    "Make several dictionaries, where each dictionary represents a different pet. \n",
    "\n",
    "In each dictionary, include the kind of animal and the owner’s name.\n",
    "\n",
    "Store these dictionaries in a list called pets. Next, loop through your list and as\n",
    "\n",
    "you do, print everything you know about each pet."
   ]
  },
  {
   "cell_type": "code",
   "execution_count": 31,
   "metadata": {},
   "outputs": [
    {
     "name": "stdout",
     "output_type": "stream",
     "text": [
      "Animal type: dog\n",
      "Owner's name: John\n",
      "---------------------------------------------------------------------------------------------------\n",
      "Animal type: cat\n",
      "Owner's name: Aqeel\n",
      "---------------------------------------------------------------------------------------------------\n",
      "Animal type: bird\n",
      "Owner's name: \n",
      "---------------------------------------------------------------------------------------------------\n",
      "Animal type: fish\n",
      "Owner's name: Sarah\n",
      "---------------------------------------------------------------------------------------------------\n"
     ]
    }
   ],
   "source": [
    "# Creating dictionaries for different pets\n",
    "pet1 = {'animal': 'dog', 'owner': 'John'}\n",
    "pet2 = {'animal': 'cat', 'owner': 'Aqeel'}\n",
    "pet3 = {'animal': 'bird', 'owner': ''}\n",
    "pet4 = {'animal': 'fish', 'owner': 'Sarah'}\n",
    "\n",
    "# Storing the dictionaries in a list called pets\n",
    "pets = [pet1, pet2, pet3, pet4]\n",
    "\n",
    "# Looping through the list and printing information about each pet\n",
    "for pet in pets:\n",
    "    print(f\"Animal type: {pet['animal']}\")\n",
    "    print(f\"Owner's name: {pet['owner']}\")\n",
    "    print(dash_line)\n"
   ]
  },
  {
   "cell_type": "markdown",
   "metadata": {},
   "source": [
    "## **6-9. Favorite Places**\n",
    "\n",
    "Make a dictionary called favorite_places. Think of three\n",
    "\n",
    "names to use as keys in the dictionary, and store one to three favorite places for\n",
    "\n",
    "each person. To make this exercise a bit more interesting, ask some friends to\n",
    "\n",
    "name a few of their favorite places. Loop through the dictionary, and print each\n",
    "\n",
    "person’s name and their favorite places."
   ]
  },
  {
   "cell_type": "code",
   "execution_count": 32,
   "metadata": {},
   "outputs": [
    {
     "name": "stdout",
     "output_type": "stream",
     "text": [
      "John's favourite place is London.\n",
      "---------------------------------------------------------------------------------------------------\n",
      "Mary's favourite place is Paris.\n",
      "---------------------------------------------------------------------------------------------------\n",
      "Peter's favourite place is New York.\n",
      "---------------------------------------------------------------------------------------------------\n"
     ]
    }
   ],
   "source": [
    "# list of places and three names \"person names\" want to use as a key\n",
    "# also store their places\n",
    "favourite_places : Dict[str,str] = {\n",
    "    \"John\" : \"London\",\n",
    "    \"Mary\" : \"Paris\",\n",
    "    \"Peter\" : \"New York\"\n",
    "}\n",
    "\n",
    "# Friends suggestions for their favourite places \n",
    "# looping through dict to print each person's name and their favourite place\n",
    "for name, place in favourite_places.items():\n",
    "    print(f\"{name.title()}'s favourite place is {place.title()}.\")\n",
    "    print(dash_line)"
   ]
  },
  {
   "cell_type": "markdown",
   "metadata": {},
   "source": [
    "More person's locations"
   ]
  },
  {
   "cell_type": "code",
   "execution_count": 36,
   "metadata": {},
   "outputs": [
    {
     "name": "stdout",
     "output_type": "stream",
     "text": [
      "John's favourite places are :\n",
      "\tNew York\n",
      "\tLondon\n",
      "\tParis\n",
      "---------------------------------------------------------------------------------------------------\n",
      "Mary's favourite places are :\n",
      "\tParis\n",
      "\tLondon\n",
      "\tNew York\n",
      "---------------------------------------------------------------------------------------------------\n",
      "Peter's favourite places are :\n",
      "\tSingapor\n",
      "\tSwizerland\n",
      "\tDubai\n",
      "---------------------------------------------------------------------------------------------------\n"
     ]
    }
   ],
   "source": [
    "# Solution two\n",
    "\n",
    "# list of places and three names \"person names\" want to use as a key\n",
    "# also store their places\n",
    "favourite_places : Dict[str,list[str]] = {\n",
    "    \"John\" : [\"New York\", \"London\", \"Paris\"],\n",
    "    \"Mary\" : [\"Paris\", \"London\", \"New York\"],\n",
    "    \"Peter\" : [\"Singapor\", \"Swizerland\", \"Dubai\"]\n",
    "}\n",
    "\n",
    "# Friends suggestions for their favourite places \n",
    "# looping through dict to print each person's name and their favourite place\n",
    "for person, fav_places in favourite_places.items():\n",
    "    print(f\"{person.title()}'s favourite places are :\")\n",
    "    for place in fav_places:\n",
    "        print(f\"\\t{place.title()}\")\n",
    "    print(dash_line)"
   ]
  },
  {
   "cell_type": "markdown",
   "metadata": {},
   "source": [
    "## **6-10. Favorite Numbers**\n",
    "\n",
    "Modify your program from Exercise 6-2 (page 98) so\n",
    "\n",
    "each person can have more than one favorite number. Then print each person’s\n",
    "\n",
    "name along with their favorite numbers."
   ]
  },
  {
   "cell_type": "code",
   "execution_count": 43,
   "metadata": {},
   "outputs": [
    {
     "name": "stdout",
     "output_type": "stream",
     "text": [
      "Jen's favourite number are:\n",
      "\t5\n",
      "\t6\n",
      "\t7\n",
      "\t8\n",
      "---------------------------------------------------------------------------------------------------\n",
      "Sarah's favourite number are:\n",
      "\t12\n",
      "\t13\n",
      "\t15\n",
      "---------------------------------------------------------------------------------------------------\n",
      "Edward's favourite number are:\n",
      "\t56\n",
      "\t57\n",
      "\t58\n",
      "---------------------------------------------------------------------------------------------------\n",
      "Phil's favourite number are:\n",
      "\t8\n",
      "---------------------------------------------------------------------------------------------------\n",
      "Usman's favourite number are:\n",
      "\t67\n",
      "\t68\n",
      "\t69\n",
      "\t80\n",
      "---------------------------------------------------------------------------------------------------\n"
     ]
    }
   ],
   "source": [
    "# dictionary to store prople favourite number\n",
    "favourite_numbers : Dict[str,list[int]] = {\n",
    "    \"jen\": [5,6,7,8],\n",
    "    \"sarah\": [12,13,15],\n",
    "    \"edward\": [56,57,58],\n",
    "    \"phil\": [8],\n",
    "    \"usman\" : [67,68,69,80]\n",
    "}\n",
    "\n",
    "for person , fav_numbers in favourite_numbers.items():\n",
    "    print(f\"{person.title()}'s favourite number are:\")\n",
    "    # loop through fav_numbers\n",
    "    for number in fav_numbers:\n",
    "        print(f\"\\t{number}\")\n",
    "    print(dash_line)"
   ]
  },
  {
   "cell_type": "markdown",
   "metadata": {},
   "source": [
    "## **6-11. Cities**\n",
    "\n",
    "Make a dictionary called cities. Use the names of three cities as\n",
    "\n",
    "keys in your dictionary. Create a dictionary of information about each city and\n",
    "\n",
    "include the country that the city is in, its approximate population, and one fact\n",
    "\n",
    "about that city. The keys for each city’s dictionary should be something like\n",
    "\n",
    "country, population, and fact. Print the name of each city and all of the infor-\n",
    "\n",
    "mation you have stored about it."
   ]
  },
  {
   "cell_type": "code",
   "execution_count": 45,
   "metadata": {},
   "outputs": [
    {
     "name": "stdout",
     "output_type": "stream",
     "text": [
      "City : Karachi\n",
      "country : Pakistan\n",
      "population : 14.91 million\n",
      "fact : Karachi is the Hub of IT industry of Pakistan\n",
      "---------------------------------------------------------------------------------------------------\n",
      "City : Lahore\n",
      "country : Pakistan\n",
      "population : 11.13 million\n",
      "fact : Lahore is the Heart of Pakistan\n",
      "---------------------------------------------------------------------------------------------------\n",
      "City : Islamabad\n",
      "country : Pakistan\n",
      "population : 10.00 million\n",
      "fact : Islamabad is the Capital of Pakistan\n",
      "---------------------------------------------------------------------------------------------------\n"
     ]
    }
   ],
   "source": [
    "# making dictionary having name cities\n",
    "# name of three cities as keys \n",
    "# dict as values having \"city is in\", \"approximate populaltion\" and 1 \"fact\" about city\n",
    "cities : dict[str,dict] = {\n",
    "    \"karachi\" : {\n",
    "        \"country\" : \"Pakistan\",\n",
    "        \"population\" : \"14.91 million\",\n",
    "        \"fact\" : \"Karachi is the Hub of IT industry of Pakistan\"\n",
    "    },\n",
    "    \"lahore\" : {\n",
    "        \"country\" : \"Pakistan\",\n",
    "        \"population\" : \"11.13 million\",\n",
    "        \"fact\" : \"Lahore is the Heart of Pakistan\"\n",
    "    },\n",
    "    \"islamabad\" : {\n",
    "        \"country\" : \"Pakistan\",\n",
    "        \"population\" : \"10.00 million\",\n",
    "        \"fact\" : \"Islamabad is the Capital of Pakistan\"\n",
    "    },\n",
    "}\n",
    "# print names of each city and all of its details\n",
    "for city, details in cities.items():\n",
    "    print(f\"City : {city.title()}\")\n",
    "    for key, value in details.items():\n",
    "        print(f\"{key} : {value}\")\n",
    "    print(dash_line)\n"
   ]
  },
  {
   "cell_type": "markdown",
   "metadata": {},
   "source": [
    "## **6-12. Extensions**\n",
    "\n",
    "We’re now working with examples that are complex enough\n",
    "\n",
    "that they can be extended in any number of ways. Use one of the example pro-\n",
    "\n",
    "grams from this chapter, and extend it by adding new keys and values, chang-\n",
    "\n",
    "ing the context of the program, or improving the formatting of the output."
   ]
  }
 ],
 "metadata": {
  "kernelspec": {
   "display_name": "p-learning",
   "language": "python",
   "name": "python3"
  },
  "language_info": {
   "codemirror_mode": {
    "name": "ipython",
    "version": 3
   },
   "file_extension": ".py",
   "mimetype": "text/x-python",
   "name": "python",
   "nbconvert_exporter": "python",
   "pygments_lexer": "ipython3",
   "version": "3.11.5"
  }
 },
 "nbformat": 4,
 "nbformat_minor": 2
}
