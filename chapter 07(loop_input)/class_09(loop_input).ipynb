{
  "cells": [
    {
      "cell_type": "markdown",
      "metadata": {
        "id": "4z7qosVmBywN"
      },
      "source": [
        "# loop and input from user\n",
        "* while\n",
        "* for\n",
        "* controls\n",
        "  * break\n",
        "  * continue\n",
        "  * pass\n",
        "* input with input function\n",
        "* input from console\n",
        "\n",
        "# Loop working on iterative data types\n",
        "* list\n",
        "* dictionary\n",
        "* string\n"
      ]
    },
    {
      "cell_type": "code",
      "execution_count": null,
      "metadata": {
        "colab": {
          "base_uri": "https://localhost:8080/"
        },
        "id": "ZKbIBb2NBW9x",
        "outputId": "767d2542-2671-4f95-98ce-dca5e3dce87b"
      },
      "outputs": [
        {
          "name": "stdout",
          "output_type": "stream",
          "text": [
            "[1, 2, 3, 4, 5, 6]\n"
          ]
        }
      ],
      "source": [
        "# Why iteration is necessory?\n",
        "\n",
        "# iteration : picup element 1-by-1\n",
        "#                 0 1 2 3 4 5\n",
        "l1 : list[int] = [1,2,3,4,5,6]\n",
        "print(l1)\n"
      ]
    },
    {
      "cell_type": "code",
      "execution_count": null,
      "metadata": {
        "colab": {
          "base_uri": "https://localhost:8080/"
        },
        "id": "D_GymrgZDCNS",
        "outputId": "4c5df6ff-3709-47e7-d0e1-3f4e5b365b16"
      },
      "outputs": [
        {
          "name": "stdout",
          "output_type": "stream",
          "text": [
            "1\n",
            "2\n",
            "3\n",
            "4\n",
            "5\n",
            "6\n"
          ]
        }
      ],
      "source": [
        "#                 0 1 2 3 4 5\n",
        "l1 : list[int] = [1,2,3,4,5,6]\n",
        "\n",
        "for n in l1 :\n",
        "  print(n)"
      ]
    },
    {
      "cell_type": "code",
      "execution_count": null,
      "metadata": {
        "colab": {
          "base_uri": "https://localhost:8080/"
        },
        "id": "vgtolS4FDM7L",
        "outputId": "628d54c9-bca7-4b17-fbf8-26d96799c878"
      },
      "outputs": [
        {
          "name": "stdout",
          "output_type": "stream",
          "text": [
            "1\n",
            "2\n",
            "3\n",
            "4\n",
            "5\n",
            "6\n"
          ]
        }
      ],
      "source": [
        "#                 0 1 2 3 4 5\n",
        "l1 : list[int] = [1,2,3,4,5,6]\n",
        "\n",
        "for n in l1 :\n",
        "  print(n) # shoft + tab for more detail"
      ]
    },
    {
      "cell_type": "code",
      "execution_count": null,
      "metadata": {
        "colab": {
          "base_uri": "https://localhost:8080/"
        },
        "id": "gw7Sxie_Dz5P",
        "outputId": "6075bf92-f2a2-4e08-b438-030d8ad0272c"
      },
      "outputs": [
        {
          "name": "stdout",
          "output_type": "stream",
          "text": [
            "current number : 1\n",
            "current number : 2\n",
            "current number : 3\n",
            "current number : 4\n",
            "current number : 5\n",
            "current number : 6\n"
          ]
        }
      ],
      "source": [
        "#                 0 1 2 3 4 5\n",
        "l1 : list[int] = [1,2,3,4,5,6]\n",
        "\n",
        "for n in l1 :\n",
        "  print(f\"current number : {n}\")"
      ]
    },
    {
      "cell_type": "code",
      "execution_count": null,
      "metadata": {
        "colab": {
          "base_uri": "https://localhost:8080/"
        },
        "id": "Vf6Rk5nED7Gw",
        "outputId": "c96ea580-5100-40bc-ea17-7fbdb43f69ef"
      },
      "outputs": [
        {
          "name": "stdout",
          "output_type": "stream",
          "text": [
            "current number : 1\n",
            "current number : 2\n",
            "current number : 3\n",
            "current number : 4\n",
            "current number : 5\n",
            "current number : 6\n"
          ]
        }
      ],
      "source": [
        "#                 0 1 2 3 4 5\n",
        "l1 : tuple[int] = (1,2,3,4,5,6) # iteration with tuple data type\n",
        "\n",
        "for n in l1 :\n",
        "  print(f\"current number : {n}\")"
      ]
    },
    {
      "cell_type": "code",
      "execution_count": null,
      "metadata": {
        "colab": {
          "base_uri": "https://localhost:8080/"
        },
        "id": "GhMDWyy-EGT7",
        "outputId": "c0e52ca0-a809-4b1d-af32-54c6adee184d"
      },
      "outputs": [
        {
          "name": "stdout",
          "output_type": "stream",
          "text": [
            "current character : P\n",
            "current character : a\n",
            "current character : k\n",
            "current character : i\n",
            "current character : s\n",
            "current character : t\n",
            "current character : a\n",
            "current character : n\n"
          ]
        }
      ],
      "source": [
        "# uteration on string data types\n",
        "\n",
        "#                  01234567\n",
        "l1 : tuple[int] = \"Pakistan\"\n",
        "\n",
        "for c in l1 :\n",
        "  print(f\"current character : {c}\")"
      ]
    },
    {
      "cell_type": "code",
      "execution_count": null,
      "metadata": {
        "colab": {
          "base_uri": "https://localhost:8080/"
        },
        "id": "syO0YuerERsl",
        "outputId": "769dca41-4e3e-4fba-a9cb-f0c760d0fcdb"
      },
      "outputs": [
        {
          "name": "stdout",
          "output_type": "stream",
          "text": [
            "dictionary keyname and value is Sr. Muhammad Qasim\n",
            "dictionary keyfname and value is Muhammad Aslim\n"
          ]
        }
      ],
      "source": [
        "# iteration on dictionary\n",
        "\n",
        "#             iteration perform on keys\n",
        "l1 : dict[str,str] =  {\"name\" : \"Sr. Muhammad Qasim\", \"fname\" : \"Muhammad Aslim\"}\n",
        "\n",
        "for k in l1 :\n",
        "  print(f\"dictionary key{k} and value is {l1[k]}\")"
      ]
    },
    {
      "cell_type": "code",
      "execution_count": null,
      "metadata": {
        "colab": {
          "base_uri": "https://localhost:8080/"
        },
        "id": "msL7JH-OFIgU",
        "outputId": "2fd9273e-da0f-4a20-d9e4-881d2081bf34"
      },
      "outputs": [
        {
          "name": "stdout",
          "output_type": "stream",
          "text": [
            "set item is : 6 \n"
          ]
        }
      ],
      "source": [
        "# iteration on set data types\n",
        "\n",
        "\n",
        "#            can also perform iteraion on set data types\n",
        "# because its always return inique values\n",
        "l1 : set[int] =  {1,2,3,4,2,4,4,5,6}\n",
        "\n",
        "for k in l1 :\n",
        "  print(f\"set item is : {k} \")"
      ]
    },
    {
      "cell_type": "code",
      "execution_count": null,
      "metadata": {
        "colab": {
          "base_uri": "https://localhost:8080/"
        },
        "id": "jwYMu7J2Fwv_",
        "outputId": "c7e3681c-cb20-46c7-af1d-c7626b2a2ac6"
      },
      "outputs": [
        {
          "name": "stdout",
          "output_type": "stream",
          "text": [
            "value from list of set is :\t1\n",
            "value from list of set is :\t2\n",
            "value from list of set is :\t3\n",
            "value from list of set is :\t4\n",
            "value from list of set is :\t5\n",
            "value from list of set is :\t6\n"
          ]
        }
      ],
      "source": [
        "# iteration on set data types\n",
        "\n",
        "\n",
        "#            cannot perform operation on set data types\n",
        "# because its always return inique values\n",
        "#                  we can perform operation by wrapping it in \"list()\"\n",
        "l1 : set[int] =  list({1,2,3,4,2,4,4,5,6})\n",
        "\n",
        "for v in l1 :\n",
        "  print(f\"value from list of set is :\\t{v}\")"
      ]
    },
    {
      "cell_type": "markdown",
      "metadata": {
        "id": "7m7VIwmifchG"
      },
      "source": [
        "## We can directly perform iteration on set data type"
      ]
    },
    {
      "cell_type": "code",
      "execution_count": 1,
      "metadata": {
        "colab": {
          "base_uri": "https://localhost:8080/"
        },
        "id": "JFh_3DEBffQK",
        "outputId": "1d54c0fc-553f-440b-93b8-33ea22ebd000"
      },
      "outputs": [
        {
          "name": "stdout",
          "output_type": "stream",
          "text": [
            "set item is  1 \n",
            "set item is  2 \n",
            "set item is  3 \n",
            "set item is  4 \n"
          ]
        }
      ],
      "source": [
        "#           iteration perform on keys\n",
        "l1 : set[int] = {1,2,3,4,1,1,1,1}\n",
        "\n",
        "for k in l1:\n",
        "    print(f\"set item is  {k} \")\n"
      ]
    },
    {
      "cell_type": "markdown",
      "metadata": {
        "id": "AGcHy8q5gGKu"
      },
      "source": [
        "## Also apply iteration on set with type casting in list"
      ]
    },
    {
      "cell_type": "code",
      "execution_count": 2,
      "metadata": {
        "colab": {
          "base_uri": "https://localhost:8080/"
        },
        "id": "RrsJ98AFgP51",
        "outputId": "627e90fb-612e-41b4-ac63-8919481b2f05"
      },
      "outputs": [
        {
          "name": "stdout",
          "output_type": "stream",
          "text": [
            "value from list of set : 1 \n",
            "value from list of set : 2 \n",
            "value from list of set : 3 \n",
            "value from list of set : 4 \n"
          ]
        }
      ],
      "source": [
        "#\n",
        "l1 : list[set[int]] = list({1,2,3,4,1,1,1,1})\n",
        "\n",
        "for k in l1:\n",
        "    print(f\"value from list of set : {k} \")"
      ]
    },
    {
      "cell_type": "code",
      "execution_count": 7,
      "metadata": {
        "colab": {
          "base_uri": "https://localhost:8080/"
        },
        "id": "MyyoqQz-hxen",
        "outputId": "f0ffa9cc-4a52-477f-eb82-a7a275d12e6f"
      },
      "outputs": [
        {
          "name": "stdout",
          "output_type": "stream",
          "text": [
            "value from list of set : 1 \n",
            "value from list of set : 2 \n",
            "value from list of set : 3 \n",
            "value from list of set : 4 \n"
          ]
        }
      ],
      "source": [
        "#  OR\n",
        "l1 : list[set[int]] = {1,2,3,4,1,1,1,1}\n",
        "\n",
        "for k in l1:\n",
        "    print(f\"value from list of set : {k} \")"
      ]
    },
    {
      "cell_type": "code",
      "execution_count": 8,
      "metadata": {
        "colab": {
          "base_uri": "https://localhost:8080/"
        },
        "id": "oW2suuXRiI32",
        "outputId": "16fd7b47-1433-4cdb-e4e8-f301466075ca"
      },
      "outputs": [
        {
          "data": {
            "text/plain": [
              "['__add__',\n",
              " '__class__',\n",
              " '__class_getitem__',\n",
              " '__contains__',\n",
              " '__delattr__',\n",
              " '__dir__',\n",
              " '__doc__',\n",
              " '__eq__',\n",
              " '__format__',\n",
              " '__ge__',\n",
              " '__getattribute__',\n",
              " '__getitem__',\n",
              " '__getnewargs__',\n",
              " '__gt__',\n",
              " '__hash__',\n",
              " '__init__',\n",
              " '__init_subclass__',\n",
              " '__iter__',\n",
              " '__le__',\n",
              " '__len__',\n",
              " '__lt__',\n",
              " '__mul__',\n",
              " '__ne__',\n",
              " '__new__',\n",
              " '__reduce__',\n",
              " '__reduce_ex__',\n",
              " '__repr__',\n",
              " '__rmul__',\n",
              " '__setattr__',\n",
              " '__sizeof__',\n",
              " '__str__',\n",
              " '__subclasshook__',\n",
              " 'count',\n",
              " 'index']"
            ]
          },
          "execution_count": 8,
          "metadata": {},
          "output_type": "execute_result"
        }
      ],
      "source": [
        "# we can find all existence methods using its type name like \"list , tuple , set ,str, dict.\"\n",
        "# iter does not exit on ( int )\n",
        "dir(tuple)"
      ]
    },
    {
      "cell_type": "markdown",
      "metadata": {
        "id": "EawS2KHtGcgu"
      },
      "source": [
        "# input from user\n",
        "* input function\n",
        "  * defailt type = string\n",
        "* sys.argv (for console input in abc.py file)\n",
        "  * default type = object"
      ]
    },
    {
      "cell_type": "code",
      "execution_count": null,
      "metadata": {
        "colab": {
          "base_uri": "https://localhost:8080/"
        },
        "id": "duhVctupF8eE",
        "outputId": "731769bf-d3b0-439d-afab-75204bd11a11"
      },
      "outputs": [
        {
          "name": "stdout",
          "output_type": "stream",
          "text": [
            "What is your name:\tAqeel Shazad\n",
            "<class 'str'>\n",
            "Welcome dear User Mr\\Miss Aqeel Shazad!\n"
          ]
        }
      ],
      "source": [
        "name : str = input(\"What is your name:\\t\")\n",
        "\n",
        "print(type(name))\n",
        "print(f\"Welcome dear User Mr\\Miss {name}!\")"
      ]
    },
    {
      "cell_type": "code",
      "execution_count": 4,
      "metadata": {
        "colab": {
          "base_uri": "https://localhost:8080/"
        },
        "id": "09jDw6zgHYxt",
        "outputId": "5526f544-3360-482c-824f-b1bfff00e756"
      },
      "outputs": [
        {
          "data": {
            "text/plain": [
              "<zip at 0x7e0387f2c500>"
            ]
          },
          "execution_count": 4,
          "metadata": {},
          "output_type": "execute_result"
        }
      ],
      "source": [
        "names : list[str] = ['a','b','c']\n",
        "fname : list[str] = ['x','y','z']\n",
        "age : list[int] = [1,2,3]\n",
        "\n",
        "zip(names,fname,age)"
      ]
    },
    {
      "cell_type": "code",
      "execution_count": 6,
      "metadata": {
        "colab": {
          "base_uri": "https://localhost:8080/"
        },
        "id": "q3j2NdTTgdoO",
        "outputId": "db2fc244-adc2-448d-ad09-c2ac0d29b1b9"
      },
      "outputs": [
        {
          "name": "stdout",
          "output_type": "stream",
          "text": [
            "Welcome dear a has age :1, s/o x!\n",
            "Welcome dear b has age :2, s/o y!\n",
            "Welcome dear c has age :3, s/o z!\n"
          ]
        }
      ],
      "source": [
        "names : list[str] = ['a','b','c']\n",
        "fname : list[str] = ['x','y','z']\n",
        "age : list[int] = [1,2,3]\n",
        "\n",
        "list(zip(names,fname,age))\n",
        "\n",
        "for name,fn, ag in zip(names,fname,age):\n",
        "    print(f\"Welcome dear {name} has age :{ag}, s/o {fn}!\")"
      ]
    },
    {
      "cell_type": "code",
      "execution_count": 9,
      "metadata": {
        "colab": {
          "base_uri": "https://localhost:8080/"
        },
        "id": "_Py_vPSJxPzp",
        "outputId": "a366f4f7-f241-413b-d7db-d15194c2a139"
      },
      "outputs": [
        {
          "name": "stdout",
          "output_type": "stream",
          "text": [
            "line1\n",
            "line2\n",
            "<class 'list'>\n",
            "['/usr/local/lib/python3.10/dist-packages/colab_kernel_launcher.py', '-f', '/root/.local/share/jupyter/runtime/kernel-365826be-c9bf-452e-b7cf-fff6d7192e36.json']\n"
          ]
        }
      ],
      "source": [
        "import sys\n",
        "print(\"line1\")\n",
        "print(\"line2\")\n",
        "\n",
        "# used for input\n",
        "# we can create libraries using this features\n",
        "print(type(sys.argv))\n",
        "print(sys.argv) # interactve data type list[str] 0=filename **value user define"
      ]
    },
    {
      "cell_type": "markdown",
      "metadata": {
        "id": "tfdBPpMLhRSk"
      },
      "source": [
        "# While loop\n",
        "```\n",
        "while logic # True/False\n",
        "  loop_body\n",
        "```"
      ]
    },
    {
      "cell_type": "code",
      "execution_count": 10,
      "metadata": {
        "colab": {
          "base_uri": "https://localhost:8080/"
        },
        "id": "YzR-wZz2g909",
        "outputId": "5bbdf5c5-1b4c-4ab9-9cd8-77a187d6762a"
      },
      "outputs": [
        {
          "name": "stdout",
          "output_type": "stream",
          "text": [
            "current number is : 0\n",
            "current number is : 1\n",
            "current number is : 2\n",
            "current number is : 3\n",
            "current number is : 4\n",
            "current number is : 5\n",
            "current number is : 6\n",
            "current number is : 7\n",
            "current number is : 8\n",
            "current number is : 9\n"
          ]
        }
      ],
      "source": [
        "flag : bool = True # flag\n",
        "\n",
        "current_number : int = 0\n",
        "\n",
        "while flag:\n",
        "  print(f\"current number is : {current_number}\")\n",
        "  current_number +=1\n",
        "\n",
        "  if current_number == 10: # flag false at some point\n",
        "    break"
      ]
    },
    {
      "cell_type": "code",
      "execution_count": 13,
      "metadata": {
        "colab": {
          "base_uri": "https://localhost:8080/"
        },
        "id": "zvk2BieqymFd",
        "outputId": "94d00099-b97c-4d5f-a5e6-712c5cbbbb20"
      },
      "outputs": [
        {
          "name": "stdout",
          "output_type": "stream",
          "text": [
            "current index is : 0 and list value is:\t100\n",
            "current index is : 1 and list value is:\t200\n",
            "current index is : 2 and list value is:\t300\n"
          ]
        }
      ],
      "source": [
        "l1 : list[int] = [100,200,300]\n",
        "\n",
        "index : int = 0\n",
        "\n",
        "while index < len(l1):\n",
        "  print(f\"current index is : {index} and list value is:\\t{l1[index]}\")\n",
        "  index +=1\n"
      ]
    },
    {
      "cell_type": "code",
      "execution_count": 15,
      "metadata": {
        "colab": {
          "base_uri": "https://localhost:8080/",
          "height": 191
        },
        "id": "ZFgMAvdAze0m",
        "outputId": "2e7b3dba-f150-43b1-88f3-202b098f4cf0"
      },
      "outputs": [
        {
          "name": "stdout",
          "output_type": "stream",
          "text": [
            "write quite of exit to stop this program\n",
            "Your goof name is ? \t:adsf\n",
            "Your last education? :\t\n",
            "write quite of exit to stop this program\n",
            "Your goof name is ? \t:asdf\n",
            "Your last education? :\tdasdf\n",
            "write quite of exit to stop this program\n",
            "Your goof name is ? \t:sadf\n",
            "Your last education? :\texit\n"
          ]
        },
        {
          "data": {
            "text/plain": [
              "[{'name': 'adsf', 'education': ''}, {'name': 'asdf', 'education': 'dasdf'}]"
            ]
          },
          "metadata": {},
          "output_type": "display_data"
        }
      ],
      "source": [
        "data : list[dict[str,str]] = [] # we can create system\n",
        "\n",
        "flag : bool = True\n",
        "\n",
        "while flag:\n",
        "  print(\"write quite of exit to stop this program\")\n",
        "  name : str = input(\"Your goof name is ? \\t:\")\n",
        "  education : str = input(\"Your last education? :\\t\")\n",
        "\n",
        "  if name in ['exit','quite','close','stop'] or education in ['exit','quite','close','stop'] :\n",
        "    flag=False\n",
        "    break\n",
        "\n",
        "  data.append({\n",
        "      \"name\" : name,\n",
        "      \"education\" : education\n",
        "  })\n",
        "\n",
        "display(data)"
      ]
    },
    {
      "cell_type": "markdown",
      "metadata": {
        "id": "HnFAcvmo24mW"
      },
      "source": [
        "# controls\n",
        "* break\n",
        "* continus\n",
        "  * skip\n",
        "* pass"
      ]
    },
    {
      "cell_type": "code",
      "execution_count": 1,
      "metadata": {
        "colab": {
          "base_uri": "https://localhost:8080/"
        },
        "id": "xE6KAqmb0p9M",
        "outputId": "128ad147-66bb-40c0-e03f-54cea19ba0d7"
      },
      "outputs": [
        {
          "name": "stdout",
          "output_type": "stream",
          "text": [
            "1\n",
            "2\n",
            "3\n",
            "4\n",
            "5\n"
          ]
        }
      ],
      "source": [
        "for i in range(1,11):\n",
        "  print(i)\n",
        "\n",
        "  if i == 5:\n",
        "    break"
      ]
    },
    {
      "cell_type": "code",
      "execution_count": 2,
      "metadata": {
        "colab": {
          "base_uri": "https://localhost:8080/"
        },
        "id": "wzhDg-6Q3Ggi",
        "outputId": "49e1eac3-d234-49b5-f061-3241ce330c37"
      },
      "outputs": [
        {
          "name": "stdout",
          "output_type": "stream",
          "text": [
            "2 X 1 = 2\n"
          ]
        }
      ],
      "source": [
        "for i in range(1,11):\n",
        "  print(f\"2 X {i} = {i*2}\")\n",
        "  break"
      ]
    },
    {
      "cell_type": "code",
      "execution_count": 3,
      "metadata": {
        "colab": {
          "base_uri": "https://localhost:8080/"
        },
        "id": "O-2l51uxVbIa",
        "outputId": "7611a2e0-f6e0-4fcb-9766-5af4e4f3c9f7"
      },
      "outputs": [
        {
          "name": "stdout",
          "output_type": "stream",
          "text": [
            "2 X 1 = 2\n",
            "2 X 2 = 4\n",
            "2 X 3 = 6\n",
            "2 X 4 = 8\n",
            "2 X 5 = 10\n",
            "2 X 6 = 12\n",
            "2 X 7 = 14\n",
            "2 X 8 = 16\n",
            "2 X 9 = 18\n",
            "2 X 10 = 20\n"
          ]
        }
      ],
      "source": [
        "for i in range(1,11):\n",
        "  print(f\"2 X {i} = {i*2}\")"
      ]
    },
    {
      "cell_type": "code",
      "execution_count": 4,
      "metadata": {
        "colab": {
          "base_uri": "https://localhost:8080/"
        },
        "id": "ShftM3F4VexY",
        "outputId": "c1b72e6b-c138-4454-ae66-9f0dfc23ea0c"
      },
      "outputs": [
        {
          "name": "stdout",
          "output_type": "stream",
          "text": [
            "1\n",
            "2\n",
            "3\n",
            "4\n",
            "6\n",
            "7\n",
            "8\n",
            "9\n",
            "10\n"
          ]
        }
      ],
      "source": [
        "for i in range(1,11): # Creating a range from 1 to 11\n",
        "  if i == 5:\n",
        "    continue # Skippong the iteration when i is 5\n",
        "  print(i)"
      ]
    },
    {
      "cell_type": "markdown",
      "metadata": {
        "id": "2gEGMyJpWYH_"
      },
      "source": [
        "* pass"
      ]
    },
    {
      "cell_type": "code",
      "execution_count": 5,
      "metadata": {
        "colab": {
          "base_uri": "https://localhost:8080/",
          "height": 141
        },
        "id": "qoBNsQllWPhe",
        "outputId": "c75a69eb-1abd-4f1a-db97-c2d0351bd388"
      },
      "outputs": [
        {
          "ename": "SyntaxError",
          "evalue": "ignored",
          "output_type": "error",
          "traceback": [
            "\u001b[0;36m  File \u001b[0;32m\"<ipython-input-5-91a196c27934>\"\u001b[0;36m, line \u001b[0;32m1\u001b[0m\n\u001b[0;31m    for i in range(1,100)\u001b[0m\n\u001b[0m                         ^\u001b[0m\n\u001b[0;31mSyntaxError\u001b[0m\u001b[0;31m:\u001b[0m expected ':'\n"
          ]
        }
      ],
      "source": [
        "for i in range(1,100)"
      ]
    },
    {
      "cell_type": "code",
      "execution_count": 6,
      "metadata": {
        "id": "ZLsg5E7OWchD"
      },
      "outputs": [],
      "source": [
        "for i in range(1,100):\n",
        "  pass"
      ]
    },
    {
      "cell_type": "code",
      "execution_count": 8,
      "metadata": {
        "id": "8suPyeONWfQF"
      },
      "outputs": [],
      "source": [
        "while True:\n",
        "    pass"
      ]
    },
    {
      "cell_type": "code",
      "execution_count": 9,
      "metadata": {
        "id": "cR77zpnmWkXo"
      },
      "outputs": [],
      "source": [
        "def abc(a :int , b:int ) -> int :\n",
        "    pass"
      ]
    },
    {
      "cell_type": "code",
      "execution_count": 10,
      "metadata": {
        "colab": {
          "base_uri": "https://localhost:8080/"
        },
        "id": "CDzTbkTQXETb",
        "outputId": "6014173e-ab72-4ffe-f899-eae72aad1683"
      },
      "outputs": [
        {
          "name": "stdout",
          "output_type": "stream",
          "text": [
            "pakistan\n",
            "Second\n"
          ]
        }
      ],
      "source": [
        "if True:\n",
        "    pass\n",
        "\n",
        "print(\"pakistan\")\n",
        "print(\"Second\")"
      ]
    },
    {
      "cell_type": "code",
      "execution_count": 12,
      "metadata": {
        "colab": {
          "base_uri": "https://localhost:8080/"
        },
        "id": "J5Hl0AO5XHcE",
        "outputId": "529a5396-f923-4835-c3f6-87c9a4cee34c"
      },
      "outputs": [
        {
          "name": "stdout",
          "output_type": "stream",
          "text": [
            "Your name?Aqeel\n",
            "Aqeel\n"
          ]
        }
      ],
      "source": [
        "if True:\n",
        "    name : str = input(\"Your name?\")\n",
        "    print(name)"
      ]
    },
    {
      "cell_type": "code",
      "execution_count": 13,
      "metadata": {
        "id": "2jMeSFEgXe46"
      },
      "outputs": [],
      "source": [
        "if False:\n",
        "    name : str = input(\"Your name?\")\n",
        "    print(name)"
      ]
    },
    {
      "cell_type": "code",
      "execution_count": 14,
      "metadata": {
        "colab": {
          "base_uri": "https://localhost:8080/"
        },
        "id": "F8ZgVS3uXt-e",
        "outputId": "37bed792-6681-4d61-81b4-f4ab0ecdc352"
      },
      "outputs": [
        {
          "name": "stdout",
          "output_type": "stream",
          "text": [
            "15\n"
          ]
        }
      ],
      "source": [
        "print(1 + 7 + 3 + 4)"
      ]
    },
    {
      "cell_type": "code",
      "execution_count": 15,
      "metadata": {
        "colab": {
          "base_uri": "https://localhost:8080/"
        },
        "id": "xZ6igGZ0ZlJ5",
        "outputId": "95fbf028-cefb-42c0-a2b2-7e17e01dde3d"
      },
      "outputs": [
        {
          "name": "stdout",
          "output_type": "stream",
          "text": [
            "15\n"
          ]
        }
      ],
      "source": [
        "print(1 + 7 \\\n",
        "      + 3\\\n",
        "         + 4)\n"
      ]
    },
    {
      "cell_type": "code",
      "execution_count": 16,
      "metadata": {
        "colab": {
          "base_uri": "https://localhost:8080/"
        },
        "id": "qzc3_khQZoi1",
        "outputId": "99fbc6e9-9883-4821-ebac-235a374cdcfe"
      },
      "outputs": [
        {
          "name": "stdout",
          "output_type": "stream",
          "text": [
            "If you share your name, we can personalize the messages you see.What is your first name? asdfasdf\n",
            "\n",
            "Hello, asdfasdf!\n"
          ]
        }
      ],
      "source": [
        "prompt = \"\"\"If you share your name, we can personalize the messages you see.\\\n",
        "What is your first name? \"\"\"\n",
        "\n",
        "\n",
        "name = input(prompt)\n",
        "print(f\"\\nHello, {name}!\")"
      ]
    },
    {
      "cell_type": "code",
      "execution_count": 17,
      "metadata": {
        "colab": {
          "base_uri": "https://localhost:8080/",
          "height": 211
        },
        "id": "t6vxQTBAZrU4",
        "outputId": "75918197-f00f-48cc-b4f1-ac071edd17ae"
      },
      "outputs": [
        {
          "name": "stdout",
          "output_type": "stream",
          "text": [
            "How old are you? 56\n"
          ]
        },
        {
          "ename": "TypeError",
          "evalue": "ignored",
          "output_type": "error",
          "traceback": [
            "\u001b[0;31m---------------------------------------------------------------------------\u001b[0m",
            "\u001b[0;31mTypeError\u001b[0m                                 Traceback (most recent call last)",
            "\u001b[0;32m<ipython-input-17-a7851802ad14>\u001b[0m in \u001b[0;36m<cell line: 2>\u001b[0;34m()\u001b[0m\n\u001b[1;32m      1\u001b[0m \u001b[0mage\u001b[0m\u001b[0;34m:\u001b[0m\u001b[0mstr\u001b[0m \u001b[0;34m=\u001b[0m \u001b[0minput\u001b[0m\u001b[0;34m(\u001b[0m\u001b[0;34m\"How old are you? \"\u001b[0m\u001b[0;34m)\u001b[0m\u001b[0;34m\u001b[0m\u001b[0;34m\u001b[0m\u001b[0m\n\u001b[0;32m----> 2\u001b[0;31m \u001b[0mage\u001b[0m \u001b[0;34m>=\u001b[0m \u001b[0;36m18\u001b[0m\u001b[0;34m\u001b[0m\u001b[0;34m\u001b[0m\u001b[0m\n\u001b[0m",
            "\u001b[0;31mTypeError\u001b[0m: '>=' not supported between instances of 'str' and 'int'"
          ]
        }
      ],
      "source": [
        "age:str = input(\"How old are you? \")\n",
        "age >= 18"
      ]
    },
    {
      "cell_type": "code",
      "execution_count": 18,
      "metadata": {
        "colab": {
          "base_uri": "https://localhost:8080/"
        },
        "id": "9pWqfhtCZy2y",
        "outputId": "3ceddcb8-cd48-4964-a43e-966f7b6e4198"
      },
      "outputs": [
        {
          "name": "stdout",
          "output_type": "stream",
          "text": [
            "How old are you? 12\n"
          ]
        },
        {
          "data": {
            "text/plain": [
              "False"
            ]
          },
          "execution_count": 18,
          "metadata": {},
          "output_type": "execute_result"
        }
      ],
      "source": [
        "age:int = int(input(\"How old are you? \"))\n",
        "age >= 18"
      ]
    },
    {
      "cell_type": "code",
      "execution_count": 21,
      "metadata": {
        "colab": {
          "base_uri": "https://localhost:8080/"
        },
        "id": "G73ncgOvaNWM",
        "outputId": "41b49c41-891b-4faa-8770-68f79321936b"
      },
      "outputs": [
        {
          "name": "stdout",
          "output_type": "stream",
          "text": [
            "2\n",
            "4\n",
            "6\n",
            "8\n",
            "10\n"
          ]
        }
      ],
      "source": [
        "current_number = 0\n",
        "while current_number < 10:\n",
        "    current_number += 1\n",
        "    if current_number % 2 != 0:\n",
        "        continue\n",
        "    print(current_number)"
      ]
    },
    {
      "cell_type": "code",
      "execution_count": 19,
      "metadata": {
        "colab": {
          "base_uri": "https://localhost:8080/"
        },
        "id": "SLnbxTpeZ2co",
        "outputId": "cfa854cf-6555-498f-f77b-064cb4bfac42"
      },
      "outputs": [
        {
          "data": {
            "text/plain": [
              "[6, 18]"
            ]
          },
          "execution_count": 19,
          "metadata": {},
          "output_type": "execute_result"
        }
      ],
      "source": [
        "data : list[int] = [1,3,5,6,3,15,18]\n",
        "\n",
        "# extract even numbers from this list\n",
        "\n",
        "[i  for i in data if i%2==0]"
      ]
    },
    {
      "cell_type": "code",
      "execution_count": 20,
      "metadata": {
        "colab": {
          "base_uri": "https://localhost:8080/"
        },
        "id": "AcEa4IewaEAd",
        "outputId": "e68bc488-095d-4b62-8f26-afadd574f59f"
      },
      "outputs": [
        {
          "data": {
            "text/plain": [
              "[1, 3, 5, 3, 15]"
            ]
          },
          "execution_count": 20,
          "metadata": {},
          "output_type": "execute_result"
        }
      ],
      "source": [
        "data : list[int] = [1,3,5,6,3,15,18]\n",
        "\n",
        "# extract even numbers from this list\n",
        "\n",
        "[i  for i in data if i%2!=0]"
      ]
    },
    {
      "cell_type": "code",
      "execution_count": 22,
      "metadata": {
        "colab": {
          "base_uri": "https://localhost:8080/"
        },
        "id": "I9cAFy-3aHSF",
        "outputId": "9d43561a-e561-4a73-c621-55430075edbb"
      },
      "outputs": [
        {
          "name": "stdout",
          "output_type": "stream",
          "text": [
            "1\n",
            "3\n",
            "5\n",
            "7\n",
            "9\n"
          ]
        }
      ],
      "source": [
        "current_number = 0\n",
        "while current_number < 10:\n",
        "    current_number += 1\n",
        "    if current_number % 2 == 0:\n",
        "        continue\n",
        "    print(current_number)"
      ]
    },
    {
      "cell_type": "code",
      "execution_count": 23,
      "metadata": {
        "colab": {
          "base_uri": "https://localhost:8080/"
        },
        "id": "HHTlx-dQafjU",
        "outputId": "e627f95f-a55a-4560-b7a3-a4933d92c563"
      },
      "outputs": [
        {
          "name": "stdout",
          "output_type": "stream",
          "text": [
            "\n",
            "Tell me something, and I will repeat it back to you:\n",
            "Enter 'quit' to end the program. asdf\n",
            "asdf\n",
            "\n",
            "Tell me something, and I will repeat it back to you:\n",
            "Enter 'quit' to end the program. asdf\n",
            "asdf\n",
            "\n",
            "Tell me something, and I will repeat it back to you:\n",
            "Enter 'quit' to end the program. asdf\n",
            "asdf\n",
            "\n",
            "Tell me something, and I will repeat it back to you:\n",
            "Enter 'quit' to end the program. quit\n",
            "quit\n"
          ]
        }
      ],
      "source": [
        "prompt = \"\\nTell me something, and I will repeat it back to you:\"\n",
        "prompt += \"\\nEnter 'quit' to end the progasdfram. \"\n",
        "message = \"\"\n",
        "while message != 'quit':\n",
        "    message = input(prompt)\n",
        "    print(message)"
      ]
    },
    {
      "cell_type": "code",
      "execution_count": 24,
      "metadata": {
        "colab": {
          "base_uri": "https://localhost:8080/"
        },
        "id": "JpIEa4iyajs9",
        "outputId": "fe23d5c7-5a85-4910-c2ea-048772b9578a"
      },
      "outputs": [
        {
          "name": "stdout",
          "output_type": "stream",
          "text": [
            "\n",
            "Tell me something, and I will repeat it back to you:\n",
            "Enter 'quit' to end the program. 34\n",
            "34\n",
            "\n",
            "Tell me something, and I will repeat it back to you:\n",
            "Enter 'quit' to end the program. asdf\n",
            "asdf\n",
            "\n",
            "Tell me something, and I will repeat it back to you:\n",
            "Enter 'quit' to end the program. asd\n",
            "asd\n",
            "\n",
            "Tell me something, and I will repeat it back to you:\n",
            "Enter 'quit' to end the program. quit\n"
          ]
        }
      ],
      "source": [
        "prompt:str = \"\\nTell me something, and I will repeat it back to you:\"\n",
        "prompt += \"\\nEnter 'quit' to end the program. \"\n",
        "\n",
        "\n",
        "active = True\n",
        "\n",
        "while active:\n",
        "    message = input(prompt)\n",
        "    if message == 'quit':\n",
        "        active = False\n",
        "    else:\n",
        "        print(message)"
      ]
    },
    {
      "cell_type": "code",
      "execution_count": 25,
      "metadata": {
        "colab": {
          "base_uri": "https://localhost:8080/"
        },
        "id": "CZLr-8sta2xG",
        "outputId": "5f6b5c17-7ea1-4385-e20b-c2f0a8076dfa"
      },
      "outputs": [
        {
          "name": "stdout",
          "output_type": "stream",
          "text": [
            "Verifying user: Candace\n",
            "Verifying user: Brian\n",
            "Verifying user: Alice\n",
            "\n",
            "The following users have been confirmed:\n",
            "Candace\n",
            "Brian\n",
            "Alice\n"
          ]
        }
      ],
      "source": [
        "# Start with users that need to be verified,\n",
        "# and an empty list to hold confirmed users.\n",
        "unconfirmed_users : list[str] = ['alice', 'brian', 'candace']\n",
        "confirmed_users : list[str] = []\n",
        "  # Verify each user until there are no more unconfirmed users.\n",
        "# Move each verified user into the list of confirmed users. 2\n",
        "while unconfirmed_users:\n",
        "    current_user = unconfirmed_users.pop()\n",
        "    print(f\"Verifying user: {current_user.title()}\")\n",
        "    confirmed_users.append(current_user)\n",
        "# Display all confirmed users.\n",
        "print(\"\\nThe following users have been confirmed:\")\n",
        "for confirmed_user in confirmed_users:\n",
        "    print(confirmed_user.title())"
      ]
    },
    {
      "cell_type": "code",
      "execution_count": 26,
      "metadata": {
        "colab": {
          "base_uri": "https://localhost:8080/"
        },
        "id": "V9W3T5jMbo1z",
        "outputId": "2b46a952-a82e-4435-ea62-01777d3fb40d"
      },
      "outputs": [
        {
          "name": "stdout",
          "output_type": "stream",
          "text": [
            "abc\n"
          ]
        }
      ],
      "source": [
        "a = 10\n",
        "\n",
        "while a:\n",
        "    print(\"abc\")\n",
        "    break"
      ]
    },
    {
      "cell_type": "code",
      "execution_count": 28,
      "metadata": {
        "colab": {
          "base_uri": "https://localhost:8080/"
        },
        "id": "g5oH1Xq2cOy3",
        "outputId": "9c9a51bf-58e7-4f8b-aa37-2c4c6acca703"
      },
      "outputs": [
        {
          "name": "stdout",
          "output_type": "stream",
          "text": [
            "3\n",
            "2\n",
            "1\n"
          ]
        }
      ],
      "source": [
        "\n",
        "data : list[int] = [1,2,3]\n",
        "\n",
        "while data:\n",
        "    n : int = data.pop()\n",
        "    print(n)"
      ]
    },
    {
      "cell_type": "code",
      "execution_count": 29,
      "metadata": {
        "colab": {
          "base_uri": "https://localhost:8080/"
        },
        "id": "7zLbyDxrcR4k",
        "outputId": "09db8080-8dca-4a3c-b323-0b2570866f63"
      },
      "outputs": [
        {
          "name": "stdout",
          "output_type": "stream",
          "text": [
            "['dog', 'cat', 'dog', 'goldfish', 'cat', 'rabbit', 'cat']\n",
            "['dog', 'dog', 'goldfish', 'rabbit']\n"
          ]
        }
      ],
      "source": [
        "pets = ['dog', 'cat', 'dog', 'goldfish', 'cat', 'rabbit', 'cat']\n",
        "print(pets)\n",
        "\n",
        "while 'cat' in pets:\n",
        "    pets.remove('cat')\n",
        "print(pets)"
      ]
    },
    {
      "cell_type": "code",
      "execution_count": null,
      "metadata": {
        "id": "9zTA6IXnchLw"
      },
      "outputs": [],
      "source": []
    }
  ],
  "metadata": {
    "colab": {
      "provenance": []
    },
    "kernelspec": {
      "display_name": "Python 3",
      "name": "python3"
    },
    "language_info": {
      "name": "python"
    }
  },
  "nbformat": 4,
  "nbformat_minor": 0
}
