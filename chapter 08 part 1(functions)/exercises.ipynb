{
 "cells": [
  {
   "cell_type": "markdown",
   "metadata": {},
   "source": [
    "# Exercisees cf chapter "
   ]
  },
  {
   "cell_type": "markdown",
   "metadata": {},
   "source": [
    "---\n",
    "---"
   ]
  },
  {
   "cell_type": "markdown",
   "metadata": {},
   "source": [
    "## **Chapter 08 Functions** "
   ]
  },
  {
   "cell_type": "markdown",
   "metadata": {},
   "source": [
    "---\n",
    "---"
   ]
  },
  {
   "cell_type": "markdown",
   "metadata": {},
   "source": [
    "## **Exercies 01**\n",
    "---"
   ]
  },
  {
   "cell_type": "markdown",
   "metadata": {},
   "source": [
    "#### **8-1. Message**\n",
    "\n",
    "Write a function called `display_message()` that prints one sentence telling \n",
    "\n",
    "everyone what you are learning about in this chapter. Call the\n",
    "\n",
    "function, and make sure the message displays correctly."
   ]
  },
  {
   "cell_type": "code",
   "execution_count": 1,
   "metadata": {},
   "outputs": [
    {
     "name": "stdout",
     "output_type": "stream",
     "text": [
      "I'm learning about functions!\n"
     ]
    }
   ],
   "source": [
    "def display_message() -> None:\n",
    "    \"\"\"Display a message about what I'm learning.\"\"\"\n",
    "    print(\"I'm learning about functions!\")\n",
    "\n",
    "display_message()"
   ]
  },
  {
   "cell_type": "markdown",
   "metadata": {},
   "source": [
    "#### **8-2. Favorite Book**\n",
    "\n",
    "Write a function called `favorite_book()` that accepts `one parameter`, `title`. \n",
    "\n",
    "The function should print a message, such as One of my\n",
    "\n",
    "favorite books is `Alice in Wonderland`. Call the function, making sure to\n",
    "\n",
    "include a `book title` as an argument in the function call."
   ]
  },
  {
   "cell_type": "code",
   "execution_count": null,
   "metadata": {},
   "outputs": [],
   "source": [
    "def favorite_book (title : str) -> None:\n",
    "    \"\"\"function that accept only one parameters \n",
    "     of book title and print a message about it.\n",
    "    \"\"\"\n",
    "    print(f\"One of my favorite books is {title.title()}\")\n",
    "\n",
    "favorite_book(\"alice in wonderland\")"
   ]
  },
  {
   "cell_type": "markdown",
   "metadata": {},
   "source": [
    "## **Exercise 02**\n",
    "---"
   ]
  },
  {
   "cell_type": "markdown",
   "metadata": {},
   "source": [
    "#### **8-3. T-Shirt**\n",
    "\n",
    "Write a function called `make_shirt()` that accepts a size and the\n",
    "\n",
    "text of a message that should be printed on the shirt. The function should print a\n",
    "\n",
    "sentence summarizing the size of the shirt and the message printed on it.\n",
    "\n",
    "Call the function once using` positional arguments` to make a shirt. Call the\n",
    "\n",
    "function a `second time` using `keyword arguments`."
   ]
  },
  {
   "cell_type": "code",
   "execution_count": 2,
   "metadata": {},
   "outputs": [
    {
     "name": "stdout",
     "output_type": "stream",
     "text": [
      "\n",
      " The size of the shirt is 10 and the message is Hello World\n",
      "\n",
      " The size of the shirt is 10 and the message is Hello World\n"
     ]
    }
   ],
   "source": [
    "def make_shirt(size : int , message : str) -> None:\n",
    "    print(f\"\\n The size of the shirt is {size} and the message is {message}\")\n",
    "\n",
    "# function call using positional arguments\n",
    "make_shirt(10, \"Hello World\")\n",
    "\n",
    "# function call using keyword arguments\n",
    "make_shirt(message = \"Hello World\", size = 10)"
   ]
  },
  {
   "cell_type": "markdown",
   "metadata": {},
   "source": [
    "#### **8-4. Large Shirts**\n",
    "\n",
    "Modify the `make_shirt()` function so that shirts are large\n",
    "\n",
    "by default with a `message` that reads `I love Python`. Make a `large shirt `and a\n",
    "\n",
    "`medium shirt` with the `default message`, and a shirt of any size with a different\n",
    "\n",
    "message."
   ]
  },
  {
   "cell_type": "code",
   "execution_count": 8,
   "metadata": {},
   "outputs": [
    {
     "name": "stdout",
     "output_type": "stream",
     "text": [
      "\n",
      "Your shirt is size ( ( Large ) ) and says :  I love Python!\n",
      "\n",
      "Your shirt is size ( ( Medium ) ) and says :  I love Python!\n"
     ]
    }
   ],
   "source": [
    "# Note : default parameters must be at the end of the list of parameters.\n",
    "def make_shirt(message:str, size : str = 'large') -> None:\n",
    "    \"\"\"\n",
    "     This function prints a message on a T-shirt.\n",
    "     message : I love Python!.\n",
    "    \"\"\"\n",
    "    print(f\"\\nYour shirt is size ( ( {size.title()} ) ) and says :  {message}!\")\n",
    "\n",
    "# make a shirt of large size also has default parameters\n",
    "make_shirt(\"I love Python\")\n",
    "\n",
    "# shirt having medium size\n",
    "make_shirt(\"I love Python\",\"medium\")"
   ]
  },
  {
   "cell_type": "markdown",
   "metadata": {},
   "source": [
    "#### **8-5. Cities**\n",
    "\n",
    "Write a function called `describe_city()` that accepts the `name of a city` and `its country`. \n",
    "\n",
    "The function should print a simple sentence, such as `Reykjavik is in Iceland`. \n",
    "\n",
    "Give the parameter for the `country` a `default value`.\n",
    "\n",
    "Call your function for `three different cities`, \n",
    "\n",
    "at least one of which is not in the default country."
   ]
  },
  {
   "cell_type": "code",
   "execution_count": 9,
   "metadata": {},
   "outputs": [
    {
     "name": "stdout",
     "output_type": "stream",
     "text": [
      "Karachi is in Pakistan\n",
      "Lahore is in Pakistan\n",
      "Tengah is in Singapore\n"
     ]
    }
   ],
   "source": [
    "def describe_city (city_name : str , country : str = 'Pakistan') -> None:\n",
    "    print(f\"{city_name.title()} is in {country.title()}\"  )\n",
    "    \n",
    "describe_city('Karachi')\n",
    "describe_city('Lahore')\n",
    "describe_city('Tengah' , 'singapore' )"
   ]
  },
  {
   "cell_type": "markdown",
   "metadata": {},
   "source": [
    "## **Exercise 03**\n",
    "---"
   ]
  },
  {
   "cell_type": "markdown",
   "metadata": {},
   "source": [
    "#### **8-6. City Names**\n",
    "\n",
    "Write a function called `city_country()` that takes in the `name` of a city and its `country`. \n",
    "The function should return a string formatted like this:\n",
    "\n",
    "---\n",
    "\n",
    "\"Santiago, Chile\"\n",
    "\n",
    "---\n",
    "\n",
    "Call your function with at `least three` `city-country pairs`, and print the values\n",
    "that are returned."
   ]
  },
  {
   "cell_type": "code",
   "execution_count": 10,
   "metadata": {},
   "outputs": [
    {
     "name": "stdout",
     "output_type": "stream",
     "text": [
      "Santiago, Chile\n",
      "Paris, France\n",
      "London, England\n"
     ]
    }
   ],
   "source": [
    "def city_country(name : str , country : str) -> str:\n",
    "    return f\"{name.title()}, {country.title()}\"\n",
    "\n",
    "# call func. at least three city-country pairs\n",
    "print(city_country(\"santiago\", \"chile\"))\n",
    "print(city_country(\"paris\", \"france\"))\n",
    "print(city_country(\"london\", \"england\"))"
   ]
  },
  {
   "cell_type": "markdown",
   "metadata": {},
   "source": [
    "## **8-7. Album**\n",
    "\n",
    "Write a function called ` make_album()` that builds a dictionary describing a music album. \n",
    "\n",
    "The function should take in an ` artist name` and an ` album title`, \n",
    "\n",
    "and it should ` return a dictionary` containing these two pieces of information. \n",
    "\n",
    "Use the function to make ` three dictionaries` representing `different` albums. \n",
    "\n",
    "Print each return value to show that the dictionaries are storing the album information correctly.\n",
    "\n",
    "Use `None` to add an `optional parameter` to `make_album()` that allows you to\n",
    "\n",
    "store the number of songs on an album. If the calling line includes a value for the number of songs, \n",
    "\n",
    "add that value to the album’s dictionary. \n",
    "\n",
    "Make at least one new function call that includes the `number of songs` on an album."
   ]
  },
  {
   "cell_type": "code",
   "execution_count": 13,
   "metadata": {},
   "outputs": [
    {
     "name": "stdout",
     "output_type": "stream",
     "text": [
      "\n",
      "\n",
      "{'artist': 'Michael Jackson', 'album': 'Thriller'}\n",
      "\n",
      "\n",
      "{'artist': 'Eminem', 'album': 'The Marshall Mathers LP'}\n",
      "\n",
      "\n",
      "{'artist': 'Rihanna', 'album': 'Stay'}\n",
      "\n",
      "\n",
      "{'artist': 'Michael Jackson', 'album': 'Thriller', 'no_of_songs': 10}\n"
     ]
    }
   ],
   "source": [
    "from typing import Union, Optional\n",
    "\n",
    "def make_album (artist_name : str , album_title : str, no_of_songs: Optional[int] = None) -> dict[str,Union[str,int]]:\n",
    "    print('\\n')\n",
    "    album : dict[str,Union[str,int]]  = {\n",
    "        'artist' : artist_name,\n",
    "        'album' : album_title\n",
    "    }\n",
    "    if no_of_songs is not None:\n",
    "        album['no_of_songs'] = no_of_songs\n",
    "    \n",
    "    return album\n",
    "\n",
    "# print each dict to ensure that information is showing correctly\n",
    "print(make_album('Michael Jackson', 'Thriller'))\n",
    "print(make_album('Eminem', 'The Marshall Mathers LP'))\n",
    "print(make_album('Rihanna', 'Stay'))\n",
    "\n",
    "\"\"\"use None to add an optional parameter to func \\\n",
    "   that store number of songs on an album.\n",
    "   if no. of songs then add value to album dictionary\n",
    "\"\"\"\n",
    "\n",
    "# at least one new function that includes no_of_songs on an album\n",
    "print(make_album('Michael Jackson', 'Thriller', 10))"
   ]
  },
  {
   "cell_type": "markdown",
   "metadata": {},
   "source": [
    "## **8-8. User Albums**\n",
    "\n",
    "Start with your program from `Exercise 8-7`. \n",
    "\n",
    "Write a `while loop` that allows users to enter an `album’s artist and title`. \n",
    "\n",
    "Once you have that information, call ` make_album()` with the `user’s input` and print the dictionary\n",
    "\n",
    "that’s created. Be sure to include a quit value in the while loop."
   ]
  },
  {
   "cell_type": "code",
   "execution_count": 40,
   "metadata": {},
   "outputs": [
    {
     "name": "stdout",
     "output_type": "stream",
     "text": [
      "\n",
      "No songs entered\n",
      "--------- OR ----------\n",
      "Entered songs collection is inValid -> None \n",
      "\n",
      "\n",
      "{'artist': 'asdf', 'album': 'asdf'}\n",
      "\n",
      "No songs entered\n",
      "--------- OR ----------\n",
      "Entered songs collection is inValid -> None \n",
      "\n",
      "\n",
      "{'artist': 'asdf', 'album': 'aasdf'}\n",
      "\n",
      "No songs entered\n",
      "--------- OR ----------\n",
      "Entered songs collection is inValid -> None \n",
      "\n",
      "\n",
      "{'artist': 'asdf', 'album': 'asdf'}\n",
      "\n",
      "No songs entered\n",
      "--------- OR ----------\n",
      "Entered songs collection is inValid -> None \n",
      "\n",
      "\n",
      "{'artist': 'asdf', 'album': 'asdf'}\n",
      "\n",
      "No songs entered\n",
      "--------- OR ----------\n",
      "Entered songs collection is inValid -> None \n",
      "\n",
      "\n",
      "{'artist': 'asdf', 'album': 'asdf'}\n",
      "\n",
      "No songs entered\n",
      "--------- OR ----------\n",
      "Entered songs collection is inValid -> None \n",
      "Exiting...\n"
     ]
    }
   ],
   "source": [
    "from typing import Union, Optional\n",
    "\n",
    "def make_album (artist_name : str , album_title : str, no_of_songs: Optional[int] = None) -> dict[str,Union[str,int]]:\n",
    "    print('\\n')\n",
    "    album : dict[str,Union[str,int]]  = {\n",
    "        'artist' : artist_name,\n",
    "        'album' : album_title\n",
    "    }\n",
    "    if no_of_songs is not None:\n",
    "        album['no_of_songs'] = no_of_songs\n",
    "    \n",
    "    return album\n",
    "\n",
    "\n",
    "# while loop until user enters q\n",
    "exit_keywords : list[str] = [\"q\", \"quit\", \"stop\", \"exit\", \"cancel\"]\n",
    "while True:\n",
    "    # ask user to enter artist name and album title\n",
    "    artist_name : str = input('Enter artist name :\\t')\n",
    "    album_title : str = input('Enter album title :\\t')\n",
    "   \n",
    "    # ask user to enter number of songs\n",
    "    try:\n",
    "        no_of_songs = int(input(\"Enter number of songs:\\t\"))\n",
    "    except ValueError:\n",
    "        no_of_songs = None\n",
    "        print(\"\\nNo songs entered\")\n",
    "        print(\"--------- OR ----------\")\n",
    "        print(f\"Entered songs collection is inValid -> {no_of_songs} \")\n",
    "\n",
    "\n",
    "    # check if user want to quit\n",
    "    if artist_name.lower() in exit_keywords or album_title.lower() in exit_keywords :\n",
    "        print('Exiting...')\n",
    "        break\n",
    "\n",
    "    # create album\n",
    "    album = make_album(artist_name, album_title, no_of_songs)\n",
    "    print(album)"
   ]
  },
  {
   "cell_type": "markdown",
   "metadata": {},
   "source": [
    "## **Exercise 04**\n",
    "---"
   ]
  },
  {
   "cell_type": "markdown",
   "metadata": {},
   "source": [
    "## **8-9. Messages**\n",
    "\n",
    "Make a `list` containing a series of short text messages. Pass the\n",
    "\n",
    "list to a function called `show_messages()`, which prints each text message."
   ]
  },
  {
   "cell_type": "code",
   "execution_count": 42,
   "metadata": {},
   "outputs": [
    {
     "name": "stdout",
     "output_type": "stream",
     "text": [
      "Hello!, Aqeel Shahzad\n",
      "Welcome!, Aqeel Shahzad\n",
      "Goodbye!, Aqeel Shahzad\n",
      "Bye!, Aqeel Shahzad\n",
      "See you later!, Aqeel Shahzad\n",
      "See you soon!, Aqeel Shahzad\n",
      "Good night!, Aqeel Shahzad\n",
      "Good morning!, Aqeel Shahzad\n",
      "Good afternoon!, Aqeel Shahzad\n",
      "Good evening!, Aqeel Shahzad\n",
      "Have a nice day!, Aqeel Shahzad\n",
      "Have a nice time!, Aqeel Shahzad\n",
      "Have a nice journey!, Aqeel Shahzad\n",
      "Have a nice meeting!, Aqeel Shahzad\n",
      "Have a nice dinner!, Aqeel Shahzad\n",
      "Have a nice lunch!, Aqeel Shahzad\n"
     ]
    }
   ],
   "source": [
    "# list contains series of short messages\n",
    "message_list : list[str] = ['Hello', 'Welcome', 'Goodbye', 'Bye', 'See you later', 'See you soon', 'Good night', 'Good morning', 'Good afternoon', 'Good evening', 'Have a nice day', 'Have a nice time', 'Have a nice journey', 'Have a nice meeting', 'Have a nice dinner', 'Have a nice lunch' ]\n",
    "\n",
    "def show_message(message_list: list[str]) -> None:\n",
    "    \"\"\"\n",
    "    This function prints the list of messages\n",
    "    \"\"\"\n",
    "    for message in message_list:\n",
    "        print(f\"{message}!, Aqeel Shahzad\")\n",
    "        \n",
    "show_message(message_list)"
   ]
  },
  {
   "cell_type": "markdown",
   "metadata": {},
   "source": [
    "## **8-10. Sending Messages**\n",
    "\n",
    "Start with a copy of your program from `Exercise 8-9`.\n",
    "\n",
    "Write a function called `send_messages()` that prints each text message and\n",
    "\n",
    "moves each message to a new list called `sent_messages` as it’s printed. \n",
    "\n",
    "After calling the function, print both of your lists to make sure the messages were\n",
    "\n",
    "moved correctly."
   ]
  },
  {
   "cell_type": "code",
   "execution_count": 57,
   "metadata": {},
   "outputs": [
    {
     "data": {
      "text/plain": [
       "'---------------------------------------------------------------------------------------------------'"
      ]
     },
     "execution_count": 57,
     "metadata": {},
     "output_type": "execute_result"
    }
   ],
   "source": [
    "dash_line = \"\".join([\"-\" for i in range(1, 100)])\n",
    "\n",
    "dash_line"
   ]
  },
  {
   "cell_type": "code",
   "execution_count": 82,
   "metadata": {},
   "outputs": [
    {
     "name": "stdout",
     "output_type": "stream",
     "text": [
      "---------------------------------------------------------------------------------------------------\n",
      "Sending message: Have a nice lunch\n",
      "---------------------------------------------------------------------------------------------------\n",
      "\n",
      "Original messages list: ['Hello', 'Welcome', 'Goodbye', 'Bye', 'See you later', 'See you soon', 'Good night', 'Good morning', 'Good afternoon', 'Good evening', 'Have a nice day', 'Have a nice time', 'Have a nice journey', 'Have a nice meeting', 'Have a nice dinner', 'Have a nice lunch']\n",
      "Copy of messages list: ['Hello', 'Welcome', 'Goodbye', 'Bye', 'See you later', 'See you soon', 'Good night', 'Good morning', 'Good afternoon', 'Good evening', 'Have a nice day', 'Have a nice time', 'Have a nice journey', 'Have a nice meeting', 'Have a nice dinner'] \n",
      "Sent messages list: ['Have a nice lunch']\n",
      "\n",
      "---------------------------------------------------------------------------------------------------\n",
      "Sending message: Have a nice dinner\n",
      "---------------------------------------------------------------------------------------------------\n",
      "\n",
      "Original messages list: ['Hello', 'Welcome', 'Goodbye', 'Bye', 'See you later', 'See you soon', 'Good night', 'Good morning', 'Good afternoon', 'Good evening', 'Have a nice day', 'Have a nice time', 'Have a nice journey', 'Have a nice meeting', 'Have a nice dinner', 'Have a nice lunch']\n",
      "Copy of messages list: ['Hello', 'Welcome', 'Goodbye', 'Bye', 'See you later', 'See you soon', 'Good night', 'Good morning', 'Good afternoon', 'Good evening', 'Have a nice day', 'Have a nice time', 'Have a nice journey', 'Have a nice meeting'] \n",
      "Sent messages list: ['Have a nice lunch', 'Have a nice dinner']\n",
      "\n",
      "---------------------------------------------------------------------------------------------------\n",
      "Sending message: Have a nice meeting\n",
      "---------------------------------------------------------------------------------------------------\n",
      "\n",
      "Original messages list: ['Hello', 'Welcome', 'Goodbye', 'Bye', 'See you later', 'See you soon', 'Good night', 'Good morning', 'Good afternoon', 'Good evening', 'Have a nice day', 'Have a nice time', 'Have a nice journey', 'Have a nice meeting', 'Have a nice dinner', 'Have a nice lunch']\n",
      "Copy of messages list: ['Hello', 'Welcome', 'Goodbye', 'Bye', 'See you later', 'See you soon', 'Good night', 'Good morning', 'Good afternoon', 'Good evening', 'Have a nice day', 'Have a nice time', 'Have a nice journey'] \n",
      "Sent messages list: ['Have a nice lunch', 'Have a nice dinner', 'Have a nice meeting']\n",
      "\n",
      "---------------------------------------------------------------------------------------------------\n",
      "Sending message: Have a nice journey\n",
      "---------------------------------------------------------------------------------------------------\n",
      "\n",
      "Original messages list: ['Hello', 'Welcome', 'Goodbye', 'Bye', 'See you later', 'See you soon', 'Good night', 'Good morning', 'Good afternoon', 'Good evening', 'Have a nice day', 'Have a nice time', 'Have a nice journey', 'Have a nice meeting', 'Have a nice dinner', 'Have a nice lunch']\n",
      "Copy of messages list: ['Hello', 'Welcome', 'Goodbye', 'Bye', 'See you later', 'See you soon', 'Good night', 'Good morning', 'Good afternoon', 'Good evening', 'Have a nice day', 'Have a nice time'] \n",
      "Sent messages list: ['Have a nice lunch', 'Have a nice dinner', 'Have a nice meeting', 'Have a nice journey']\n",
      "\n",
      "---------------------------------------------------------------------------------------------------\n",
      "Sending message: Have a nice time\n",
      "---------------------------------------------------------------------------------------------------\n",
      "\n",
      "Original messages list: ['Hello', 'Welcome', 'Goodbye', 'Bye', 'See you later', 'See you soon', 'Good night', 'Good morning', 'Good afternoon', 'Good evening', 'Have a nice day', 'Have a nice time', 'Have a nice journey', 'Have a nice meeting', 'Have a nice dinner', 'Have a nice lunch']\n",
      "Copy of messages list: ['Hello', 'Welcome', 'Goodbye', 'Bye', 'See you later', 'See you soon', 'Good night', 'Good morning', 'Good afternoon', 'Good evening', 'Have a nice day'] \n",
      "Sent messages list: ['Have a nice lunch', 'Have a nice dinner', 'Have a nice meeting', 'Have a nice journey', 'Have a nice time']\n",
      "\n",
      "---------------------------------------------------------------------------------------------------\n",
      "Sending message: Have a nice day\n",
      "---------------------------------------------------------------------------------------------------\n",
      "\n",
      "Original messages list: ['Hello', 'Welcome', 'Goodbye', 'Bye', 'See you later', 'See you soon', 'Good night', 'Good morning', 'Good afternoon', 'Good evening', 'Have a nice day', 'Have a nice time', 'Have a nice journey', 'Have a nice meeting', 'Have a nice dinner', 'Have a nice lunch']\n",
      "Copy of messages list: ['Hello', 'Welcome', 'Goodbye', 'Bye', 'See you later', 'See you soon', 'Good night', 'Good morning', 'Good afternoon', 'Good evening'] \n",
      "Sent messages list: ['Have a nice lunch', 'Have a nice dinner', 'Have a nice meeting', 'Have a nice journey', 'Have a nice time', 'Have a nice day']\n",
      "\n",
      "---------------------------------------------------------------------------------------------------\n",
      "Sending message: Good evening\n",
      "---------------------------------------------------------------------------------------------------\n",
      "\n",
      "Original messages list: ['Hello', 'Welcome', 'Goodbye', 'Bye', 'See you later', 'See you soon', 'Good night', 'Good morning', 'Good afternoon', 'Good evening', 'Have a nice day', 'Have a nice time', 'Have a nice journey', 'Have a nice meeting', 'Have a nice dinner', 'Have a nice lunch']\n",
      "Copy of messages list: ['Hello', 'Welcome', 'Goodbye', 'Bye', 'See you later', 'See you soon', 'Good night', 'Good morning', 'Good afternoon'] \n",
      "Sent messages list: ['Have a nice lunch', 'Have a nice dinner', 'Have a nice meeting', 'Have a nice journey', 'Have a nice time', 'Have a nice day', 'Good evening']\n",
      "\n",
      "---------------------------------------------------------------------------------------------------\n",
      "Sending message: Good afternoon\n",
      "---------------------------------------------------------------------------------------------------\n",
      "\n",
      "Original messages list: ['Hello', 'Welcome', 'Goodbye', 'Bye', 'See you later', 'See you soon', 'Good night', 'Good morning', 'Good afternoon', 'Good evening', 'Have a nice day', 'Have a nice time', 'Have a nice journey', 'Have a nice meeting', 'Have a nice dinner', 'Have a nice lunch']\n",
      "Copy of messages list: ['Hello', 'Welcome', 'Goodbye', 'Bye', 'See you later', 'See you soon', 'Good night', 'Good morning'] \n",
      "Sent messages list: ['Have a nice lunch', 'Have a nice dinner', 'Have a nice meeting', 'Have a nice journey', 'Have a nice time', 'Have a nice day', 'Good evening', 'Good afternoon']\n",
      "\n",
      "---------------------------------------------------------------------------------------------------\n",
      "Sending message: Good morning\n",
      "---------------------------------------------------------------------------------------------------\n",
      "\n",
      "Original messages list: ['Hello', 'Welcome', 'Goodbye', 'Bye', 'See you later', 'See you soon', 'Good night', 'Good morning', 'Good afternoon', 'Good evening', 'Have a nice day', 'Have a nice time', 'Have a nice journey', 'Have a nice meeting', 'Have a nice dinner', 'Have a nice lunch']\n",
      "Copy of messages list: ['Hello', 'Welcome', 'Goodbye', 'Bye', 'See you later', 'See you soon', 'Good night'] \n",
      "Sent messages list: ['Have a nice lunch', 'Have a nice dinner', 'Have a nice meeting', 'Have a nice journey', 'Have a nice time', 'Have a nice day', 'Good evening', 'Good afternoon', 'Good morning']\n",
      "\n",
      "---------------------------------------------------------------------------------------------------\n",
      "Sending message: Good night\n",
      "---------------------------------------------------------------------------------------------------\n",
      "\n",
      "Original messages list: ['Hello', 'Welcome', 'Goodbye', 'Bye', 'See you later', 'See you soon', 'Good night', 'Good morning', 'Good afternoon', 'Good evening', 'Have a nice day', 'Have a nice time', 'Have a nice journey', 'Have a nice meeting', 'Have a nice dinner', 'Have a nice lunch']\n",
      "Copy of messages list: ['Hello', 'Welcome', 'Goodbye', 'Bye', 'See you later', 'See you soon'] \n",
      "Sent messages list: ['Have a nice lunch', 'Have a nice dinner', 'Have a nice meeting', 'Have a nice journey', 'Have a nice time', 'Have a nice day', 'Good evening', 'Good afternoon', 'Good morning', 'Good night']\n",
      "\n",
      "---------------------------------------------------------------------------------------------------\n",
      "Sending message: See you soon\n",
      "---------------------------------------------------------------------------------------------------\n",
      "\n",
      "Original messages list: ['Hello', 'Welcome', 'Goodbye', 'Bye', 'See you later', 'See you soon', 'Good night', 'Good morning', 'Good afternoon', 'Good evening', 'Have a nice day', 'Have a nice time', 'Have a nice journey', 'Have a nice meeting', 'Have a nice dinner', 'Have a nice lunch']\n",
      "Copy of messages list: ['Hello', 'Welcome', 'Goodbye', 'Bye', 'See you later'] \n",
      "Sent messages list: ['Have a nice lunch', 'Have a nice dinner', 'Have a nice meeting', 'Have a nice journey', 'Have a nice time', 'Have a nice day', 'Good evening', 'Good afternoon', 'Good morning', 'Good night', 'See you soon']\n",
      "\n",
      "---------------------------------------------------------------------------------------------------\n",
      "Sending message: See you later\n",
      "---------------------------------------------------------------------------------------------------\n",
      "\n",
      "Original messages list: ['Hello', 'Welcome', 'Goodbye', 'Bye', 'See you later', 'See you soon', 'Good night', 'Good morning', 'Good afternoon', 'Good evening', 'Have a nice day', 'Have a nice time', 'Have a nice journey', 'Have a nice meeting', 'Have a nice dinner', 'Have a nice lunch']\n",
      "Copy of messages list: ['Hello', 'Welcome', 'Goodbye', 'Bye'] \n",
      "Sent messages list: ['Have a nice lunch', 'Have a nice dinner', 'Have a nice meeting', 'Have a nice journey', 'Have a nice time', 'Have a nice day', 'Good evening', 'Good afternoon', 'Good morning', 'Good night', 'See you soon', 'See you later']\n",
      "\n",
      "---------------------------------------------------------------------------------------------------\n",
      "Sending message: Bye\n",
      "---------------------------------------------------------------------------------------------------\n",
      "\n",
      "Original messages list: ['Hello', 'Welcome', 'Goodbye', 'Bye', 'See you later', 'See you soon', 'Good night', 'Good morning', 'Good afternoon', 'Good evening', 'Have a nice day', 'Have a nice time', 'Have a nice journey', 'Have a nice meeting', 'Have a nice dinner', 'Have a nice lunch']\n",
      "Copy of messages list: ['Hello', 'Welcome', 'Goodbye'] \n",
      "Sent messages list: ['Have a nice lunch', 'Have a nice dinner', 'Have a nice meeting', 'Have a nice journey', 'Have a nice time', 'Have a nice day', 'Good evening', 'Good afternoon', 'Good morning', 'Good night', 'See you soon', 'See you later', 'Bye']\n",
      "\n",
      "---------------------------------------------------------------------------------------------------\n",
      "Sending message: Goodbye\n",
      "---------------------------------------------------------------------------------------------------\n",
      "\n",
      "Original messages list: ['Hello', 'Welcome', 'Goodbye', 'Bye', 'See you later', 'See you soon', 'Good night', 'Good morning', 'Good afternoon', 'Good evening', 'Have a nice day', 'Have a nice time', 'Have a nice journey', 'Have a nice meeting', 'Have a nice dinner', 'Have a nice lunch']\n",
      "Copy of messages list: ['Hello', 'Welcome'] \n",
      "Sent messages list: ['Have a nice lunch', 'Have a nice dinner', 'Have a nice meeting', 'Have a nice journey', 'Have a nice time', 'Have a nice day', 'Good evening', 'Good afternoon', 'Good morning', 'Good night', 'See you soon', 'See you later', 'Bye', 'Goodbye']\n",
      "\n",
      "---------------------------------------------------------------------------------------------------\n",
      "Sending message: Welcome\n",
      "---------------------------------------------------------------------------------------------------\n",
      "\n",
      "Original messages list: ['Hello', 'Welcome', 'Goodbye', 'Bye', 'See you later', 'See you soon', 'Good night', 'Good morning', 'Good afternoon', 'Good evening', 'Have a nice day', 'Have a nice time', 'Have a nice journey', 'Have a nice meeting', 'Have a nice dinner', 'Have a nice lunch']\n",
      "Copy of messages list: ['Hello'] \n",
      "Sent messages list: ['Have a nice lunch', 'Have a nice dinner', 'Have a nice meeting', 'Have a nice journey', 'Have a nice time', 'Have a nice day', 'Good evening', 'Good afternoon', 'Good morning', 'Good night', 'See you soon', 'See you later', 'Bye', 'Goodbye', 'Welcome']\n",
      "\n",
      "---------------------------------------------------------------------------------------------------\n",
      "Sending message: Hello\n",
      "---------------------------------------------------------------------------------------------------\n",
      "\n",
      "Original messages list: ['Hello', 'Welcome', 'Goodbye', 'Bye', 'See you later', 'See you soon', 'Good night', 'Good morning', 'Good afternoon', 'Good evening', 'Have a nice day', 'Have a nice time', 'Have a nice journey', 'Have a nice meeting', 'Have a nice dinner', 'Have a nice lunch']\n",
      "Copy of messages list: [] \n",
      "Sent messages list: ['Have a nice lunch', 'Have a nice dinner', 'Have a nice meeting', 'Have a nice journey', 'Have a nice time', 'Have a nice day', 'Good evening', 'Good afternoon', 'Good morning', 'Good night', 'See you soon', 'See you later', 'Bye', 'Goodbye', 'Welcome', 'Hello']\n",
      "\n"
     ]
    }
   ],
   "source": [
    "# make a deep copy from existing mesages list as mentioned in Exercise 8-9\n",
    "messages_copy : list[str] = message_list[:]\n",
    "\n",
    "# list of sent messages\n",
    "send_messages_list : list[str] = []\n",
    "\n",
    "# move messages from messages list to send_messages list\n",
    "# using function to perform tasks correctly\n",
    "\n",
    "# def message_Sender ( message_list : list[str], sent_messages : list[str] ) -> None:\n",
    "#   for message in message_list :\n",
    "\n",
    "#     print(f\"{dash_line}\")\n",
    "#     print(f\"Sending message: {message}\")\n",
    "#     print(f\"{dash_line}\")\n",
    "\n",
    "#     sent_messages.append(message)\n",
    "#     message_list.remove(message )\n",
    "\n",
    "#     # prof\n",
    "#     print(f\"\\nOriginal messages list: {message_list}\")\n",
    "#     print(f\"Sent messages list: {sent_messages}\\n\")\n",
    "\n",
    "def send_messages ( messages : list[str]) -> None:\n",
    "    while messages:\n",
    "        current_message = messages.pop()\n",
    "\n",
    "        print(f\"{dash_line}\")\n",
    "        print(f\"Sending message: {current_message}\")\n",
    "        print(f\"{dash_line}\")\n",
    "\n",
    "        send_messages_list.append(current_message)\n",
    "\n",
    "        # prof\n",
    "        print(f\"\\nOriginal messages list: {message_list}\")\n",
    "        print(f\"Copy of messages list: {messages_copy} \")\n",
    "        print(f\"Sent messages list: {send_messages_list}\\n\")\n",
    "\n",
    "\n",
    "\n",
    "send_messages(messages_copy )\n",
    "\n",
    "\n",
    "\n",
    "\n"
   ]
  },
  {
   "cell_type": "markdown",
   "metadata": {},
   "source": [
    "## **8-11. Archived Messages**\n",
    "\n",
    "Start with your work from `Exercise 8-10`. Call the function `send_messages()` \n",
    "\n",
    "with a `copy` of the `list of messages`. \n",
    "\n",
    "After calling the function, print `both of your lists` to \n",
    "\n",
    "show that the `original list` has retained its messages."
   ]
  },
  {
   "cell_type": "code",
   "execution_count": 84,
   "metadata": {},
   "outputs": [
    {
     "name": "stdout",
     "output_type": "stream",
     "text": [
      "---------------------------------------------------------------------------------------------------\n",
      "Sending message: Hello\n",
      "---------------------------------------------------------------------------------------------------\n",
      "\n",
      "Original messages list: ['Hello', 'Welcome', 'Goodbye', 'Bye', 'See you later', 'See you soon', 'Good night', 'Good morning', 'Good afternoon', 'Good evening', 'Have a nice day', 'Have a nice time', 'Have a nice journey', 'Have a nice meeting', 'Have a nice dinner', 'Have a nice lunch']\n",
      "Copy of messages list: ['Hello'] \n",
      "Sent messages list: ['Have a nice lunch', 'Have a nice dinner', 'Have a nice meeting', 'Have a nice journey', 'Have a nice time', 'Have a nice day', 'Good evening', 'Good afternoon', 'Good morning', 'Good night', 'See you soon', 'See you later', 'Bye', 'Goodbye', 'Welcome', 'Hello']\n",
      "\n",
      "---------------------------------------------------------------------------------------------------\n",
      "Sending message: Welcome\n",
      "---------------------------------------------------------------------------------------------------\n",
      "\n",
      "Original messages list: ['Hello', 'Welcome', 'Goodbye', 'Bye', 'See you later', 'See you soon', 'Good night', 'Good morning', 'Good afternoon', 'Good evening', 'Have a nice day', 'Have a nice time', 'Have a nice journey', 'Have a nice meeting', 'Have a nice dinner', 'Have a nice lunch']\n",
      "Copy of messages list: ['Hello', 'Welcome'] \n",
      "Sent messages list: ['Have a nice lunch', 'Have a nice dinner', 'Have a nice meeting', 'Have a nice journey', 'Have a nice time', 'Have a nice day', 'Good evening', 'Good afternoon', 'Good morning', 'Good night', 'See you soon', 'See you later', 'Bye', 'Goodbye', 'Welcome', 'Hello']\n",
      "\n",
      "---------------------------------------------------------------------------------------------------\n",
      "Sending message: Goodbye\n",
      "---------------------------------------------------------------------------------------------------\n",
      "\n",
      "Original messages list: ['Hello', 'Welcome', 'Goodbye', 'Bye', 'See you later', 'See you soon', 'Good night', 'Good morning', 'Good afternoon', 'Good evening', 'Have a nice day', 'Have a nice time', 'Have a nice journey', 'Have a nice meeting', 'Have a nice dinner', 'Have a nice lunch']\n",
      "Copy of messages list: ['Hello', 'Welcome', 'Goodbye'] \n",
      "Sent messages list: ['Have a nice lunch', 'Have a nice dinner', 'Have a nice meeting', 'Have a nice journey', 'Have a nice time', 'Have a nice day', 'Good evening', 'Good afternoon', 'Good morning', 'Good night', 'See you soon', 'See you later', 'Bye', 'Goodbye', 'Welcome', 'Hello']\n",
      "\n",
      "---------------------------------------------------------------------------------------------------\n",
      "Sending message: Bye\n",
      "---------------------------------------------------------------------------------------------------\n",
      "\n",
      "Original messages list: ['Hello', 'Welcome', 'Goodbye', 'Bye', 'See you later', 'See you soon', 'Good night', 'Good morning', 'Good afternoon', 'Good evening', 'Have a nice day', 'Have a nice time', 'Have a nice journey', 'Have a nice meeting', 'Have a nice dinner', 'Have a nice lunch']\n",
      "Copy of messages list: ['Hello', 'Welcome', 'Goodbye', 'Bye'] \n",
      "Sent messages list: ['Have a nice lunch', 'Have a nice dinner', 'Have a nice meeting', 'Have a nice journey', 'Have a nice time', 'Have a nice day', 'Good evening', 'Good afternoon', 'Good morning', 'Good night', 'See you soon', 'See you later', 'Bye', 'Goodbye', 'Welcome', 'Hello']\n",
      "\n",
      "---------------------------------------------------------------------------------------------------\n",
      "Sending message: See you later\n",
      "---------------------------------------------------------------------------------------------------\n",
      "\n",
      "Original messages list: ['Hello', 'Welcome', 'Goodbye', 'Bye', 'See you later', 'See you soon', 'Good night', 'Good morning', 'Good afternoon', 'Good evening', 'Have a nice day', 'Have a nice time', 'Have a nice journey', 'Have a nice meeting', 'Have a nice dinner', 'Have a nice lunch']\n",
      "Copy of messages list: ['Hello', 'Welcome', 'Goodbye', 'Bye', 'See you later'] \n",
      "Sent messages list: ['Have a nice lunch', 'Have a nice dinner', 'Have a nice meeting', 'Have a nice journey', 'Have a nice time', 'Have a nice day', 'Good evening', 'Good afternoon', 'Good morning', 'Good night', 'See you soon', 'See you later', 'Bye', 'Goodbye', 'Welcome', 'Hello']\n",
      "\n",
      "---------------------------------------------------------------------------------------------------\n",
      "Sending message: See you soon\n",
      "---------------------------------------------------------------------------------------------------\n",
      "\n",
      "Original messages list: ['Hello', 'Welcome', 'Goodbye', 'Bye', 'See you later', 'See you soon', 'Good night', 'Good morning', 'Good afternoon', 'Good evening', 'Have a nice day', 'Have a nice time', 'Have a nice journey', 'Have a nice meeting', 'Have a nice dinner', 'Have a nice lunch']\n",
      "Copy of messages list: ['Hello', 'Welcome', 'Goodbye', 'Bye', 'See you later', 'See you soon'] \n",
      "Sent messages list: ['Have a nice lunch', 'Have a nice dinner', 'Have a nice meeting', 'Have a nice journey', 'Have a nice time', 'Have a nice day', 'Good evening', 'Good afternoon', 'Good morning', 'Good night', 'See you soon', 'See you later', 'Bye', 'Goodbye', 'Welcome', 'Hello']\n",
      "\n",
      "---------------------------------------------------------------------------------------------------\n",
      "Sending message: Good night\n",
      "---------------------------------------------------------------------------------------------------\n",
      "\n",
      "Original messages list: ['Hello', 'Welcome', 'Goodbye', 'Bye', 'See you later', 'See you soon', 'Good night', 'Good morning', 'Good afternoon', 'Good evening', 'Have a nice day', 'Have a nice time', 'Have a nice journey', 'Have a nice meeting', 'Have a nice dinner', 'Have a nice lunch']\n",
      "Copy of messages list: ['Hello', 'Welcome', 'Goodbye', 'Bye', 'See you later', 'See you soon', 'Good night'] \n",
      "Sent messages list: ['Have a nice lunch', 'Have a nice dinner', 'Have a nice meeting', 'Have a nice journey', 'Have a nice time', 'Have a nice day', 'Good evening', 'Good afternoon', 'Good morning', 'Good night', 'See you soon', 'See you later', 'Bye', 'Goodbye', 'Welcome', 'Hello']\n",
      "\n",
      "---------------------------------------------------------------------------------------------------\n",
      "Sending message: Good morning\n",
      "---------------------------------------------------------------------------------------------------\n",
      "\n",
      "Original messages list: ['Hello', 'Welcome', 'Goodbye', 'Bye', 'See you later', 'See you soon', 'Good night', 'Good morning', 'Good afternoon', 'Good evening', 'Have a nice day', 'Have a nice time', 'Have a nice journey', 'Have a nice meeting', 'Have a nice dinner', 'Have a nice lunch']\n",
      "Copy of messages list: ['Hello', 'Welcome', 'Goodbye', 'Bye', 'See you later', 'See you soon', 'Good night', 'Good morning'] \n",
      "Sent messages list: ['Have a nice lunch', 'Have a nice dinner', 'Have a nice meeting', 'Have a nice journey', 'Have a nice time', 'Have a nice day', 'Good evening', 'Good afternoon', 'Good morning', 'Good night', 'See you soon', 'See you later', 'Bye', 'Goodbye', 'Welcome', 'Hello']\n",
      "\n",
      "---------------------------------------------------------------------------------------------------\n",
      "Sending message: Good afternoon\n",
      "---------------------------------------------------------------------------------------------------\n",
      "\n",
      "Original messages list: ['Hello', 'Welcome', 'Goodbye', 'Bye', 'See you later', 'See you soon', 'Good night', 'Good morning', 'Good afternoon', 'Good evening', 'Have a nice day', 'Have a nice time', 'Have a nice journey', 'Have a nice meeting', 'Have a nice dinner', 'Have a nice lunch']\n",
      "Copy of messages list: ['Hello', 'Welcome', 'Goodbye', 'Bye', 'See you later', 'See you soon', 'Good night', 'Good morning', 'Good afternoon'] \n",
      "Sent messages list: ['Have a nice lunch', 'Have a nice dinner', 'Have a nice meeting', 'Have a nice journey', 'Have a nice time', 'Have a nice day', 'Good evening', 'Good afternoon', 'Good morning', 'Good night', 'See you soon', 'See you later', 'Bye', 'Goodbye', 'Welcome', 'Hello']\n",
      "\n",
      "---------------------------------------------------------------------------------------------------\n",
      "Sending message: Good evening\n",
      "---------------------------------------------------------------------------------------------------\n",
      "\n",
      "Original messages list: ['Hello', 'Welcome', 'Goodbye', 'Bye', 'See you later', 'See you soon', 'Good night', 'Good morning', 'Good afternoon', 'Good evening', 'Have a nice day', 'Have a nice time', 'Have a nice journey', 'Have a nice meeting', 'Have a nice dinner', 'Have a nice lunch']\n",
      "Copy of messages list: ['Hello', 'Welcome', 'Goodbye', 'Bye', 'See you later', 'See you soon', 'Good night', 'Good morning', 'Good afternoon', 'Good evening'] \n",
      "Sent messages list: ['Have a nice lunch', 'Have a nice dinner', 'Have a nice meeting', 'Have a nice journey', 'Have a nice time', 'Have a nice day', 'Good evening', 'Good afternoon', 'Good morning', 'Good night', 'See you soon', 'See you later', 'Bye', 'Goodbye', 'Welcome', 'Hello']\n",
      "\n",
      "---------------------------------------------------------------------------------------------------\n",
      "Sending message: Have a nice day\n",
      "---------------------------------------------------------------------------------------------------\n",
      "\n",
      "Original messages list: ['Hello', 'Welcome', 'Goodbye', 'Bye', 'See you later', 'See you soon', 'Good night', 'Good morning', 'Good afternoon', 'Good evening', 'Have a nice day', 'Have a nice time', 'Have a nice journey', 'Have a nice meeting', 'Have a nice dinner', 'Have a nice lunch']\n",
      "Copy of messages list: ['Hello', 'Welcome', 'Goodbye', 'Bye', 'See you later', 'See you soon', 'Good night', 'Good morning', 'Good afternoon', 'Good evening', 'Have a nice day'] \n",
      "Sent messages list: ['Have a nice lunch', 'Have a nice dinner', 'Have a nice meeting', 'Have a nice journey', 'Have a nice time', 'Have a nice day', 'Good evening', 'Good afternoon', 'Good morning', 'Good night', 'See you soon', 'See you later', 'Bye', 'Goodbye', 'Welcome', 'Hello']\n",
      "\n",
      "---------------------------------------------------------------------------------------------------\n",
      "Sending message: Have a nice time\n",
      "---------------------------------------------------------------------------------------------------\n",
      "\n",
      "Original messages list: ['Hello', 'Welcome', 'Goodbye', 'Bye', 'See you later', 'See you soon', 'Good night', 'Good morning', 'Good afternoon', 'Good evening', 'Have a nice day', 'Have a nice time', 'Have a nice journey', 'Have a nice meeting', 'Have a nice dinner', 'Have a nice lunch']\n",
      "Copy of messages list: ['Hello', 'Welcome', 'Goodbye', 'Bye', 'See you later', 'See you soon', 'Good night', 'Good morning', 'Good afternoon', 'Good evening', 'Have a nice day', 'Have a nice time'] \n",
      "Sent messages list: ['Have a nice lunch', 'Have a nice dinner', 'Have a nice meeting', 'Have a nice journey', 'Have a nice time', 'Have a nice day', 'Good evening', 'Good afternoon', 'Good morning', 'Good night', 'See you soon', 'See you later', 'Bye', 'Goodbye', 'Welcome', 'Hello']\n",
      "\n",
      "---------------------------------------------------------------------------------------------------\n",
      "Sending message: Have a nice journey\n",
      "---------------------------------------------------------------------------------------------------\n",
      "\n",
      "Original messages list: ['Hello', 'Welcome', 'Goodbye', 'Bye', 'See you later', 'See you soon', 'Good night', 'Good morning', 'Good afternoon', 'Good evening', 'Have a nice day', 'Have a nice time', 'Have a nice journey', 'Have a nice meeting', 'Have a nice dinner', 'Have a nice lunch']\n",
      "Copy of messages list: ['Hello', 'Welcome', 'Goodbye', 'Bye', 'See you later', 'See you soon', 'Good night', 'Good morning', 'Good afternoon', 'Good evening', 'Have a nice day', 'Have a nice time', 'Have a nice journey'] \n",
      "Sent messages list: ['Have a nice lunch', 'Have a nice dinner', 'Have a nice meeting', 'Have a nice journey', 'Have a nice time', 'Have a nice day', 'Good evening', 'Good afternoon', 'Good morning', 'Good night', 'See you soon', 'See you later', 'Bye', 'Goodbye', 'Welcome', 'Hello']\n",
      "\n",
      "---------------------------------------------------------------------------------------------------\n",
      "Sending message: Have a nice meeting\n",
      "---------------------------------------------------------------------------------------------------\n",
      "\n",
      "Original messages list: ['Hello', 'Welcome', 'Goodbye', 'Bye', 'See you later', 'See you soon', 'Good night', 'Good morning', 'Good afternoon', 'Good evening', 'Have a nice day', 'Have a nice time', 'Have a nice journey', 'Have a nice meeting', 'Have a nice dinner', 'Have a nice lunch']\n",
      "Copy of messages list: ['Hello', 'Welcome', 'Goodbye', 'Bye', 'See you later', 'See you soon', 'Good night', 'Good morning', 'Good afternoon', 'Good evening', 'Have a nice day', 'Have a nice time', 'Have a nice journey', 'Have a nice meeting'] \n",
      "Sent messages list: ['Have a nice lunch', 'Have a nice dinner', 'Have a nice meeting', 'Have a nice journey', 'Have a nice time', 'Have a nice day', 'Good evening', 'Good afternoon', 'Good morning', 'Good night', 'See you soon', 'See you later', 'Bye', 'Goodbye', 'Welcome', 'Hello']\n",
      "\n",
      "---------------------------------------------------------------------------------------------------\n",
      "Sending message: Have a nice dinner\n",
      "---------------------------------------------------------------------------------------------------\n",
      "\n",
      "Original messages list: ['Hello', 'Welcome', 'Goodbye', 'Bye', 'See you later', 'See you soon', 'Good night', 'Good morning', 'Good afternoon', 'Good evening', 'Have a nice day', 'Have a nice time', 'Have a nice journey', 'Have a nice meeting', 'Have a nice dinner', 'Have a nice lunch']\n",
      "Copy of messages list: ['Hello', 'Welcome', 'Goodbye', 'Bye', 'See you later', 'See you soon', 'Good night', 'Good morning', 'Good afternoon', 'Good evening', 'Have a nice day', 'Have a nice time', 'Have a nice journey', 'Have a nice meeting', 'Have a nice dinner'] \n",
      "Sent messages list: ['Have a nice lunch', 'Have a nice dinner', 'Have a nice meeting', 'Have a nice journey', 'Have a nice time', 'Have a nice day', 'Good evening', 'Good afternoon', 'Good morning', 'Good night', 'See you soon', 'See you later', 'Bye', 'Goodbye', 'Welcome', 'Hello']\n",
      "\n",
      "---------------------------------------------------------------------------------------------------\n",
      "Sending message: Have a nice lunch\n",
      "---------------------------------------------------------------------------------------------------\n",
      "\n",
      "Original messages list: ['Hello', 'Welcome', 'Goodbye', 'Bye', 'See you later', 'See you soon', 'Good night', 'Good morning', 'Good afternoon', 'Good evening', 'Have a nice day', 'Have a nice time', 'Have a nice journey', 'Have a nice meeting', 'Have a nice dinner', 'Have a nice lunch']\n",
      "Copy of messages list: ['Hello', 'Welcome', 'Goodbye', 'Bye', 'See you later', 'See you soon', 'Good night', 'Good morning', 'Good afternoon', 'Good evening', 'Have a nice day', 'Have a nice time', 'Have a nice journey', 'Have a nice meeting', 'Have a nice dinner', 'Have a nice lunch'] \n",
      "Sent messages list: ['Have a nice lunch', 'Have a nice dinner', 'Have a nice meeting', 'Have a nice journey', 'Have a nice time', 'Have a nice day', 'Good evening', 'Good afternoon', 'Good morning', 'Good night', 'See you soon', 'See you later', 'Bye', 'Goodbye', 'Welcome', 'Hello']\n",
      "\n"
     ]
    }
   ],
   "source": [
    "# start with exercise 8-10\n",
    "\n",
    "# messages_copy\n",
    "\n",
    "messages : list[str] = send_messages_list.copy()\n",
    "\n",
    "# calling send_messages function\n",
    "def send_messages ( messages : list[str]) -> None:\n",
    "    while messages:\n",
    "        current_message = messages.pop()\n",
    "\n",
    "        print(f\"{dash_line}\")\n",
    "        print(f\"Sending message: {current_message}\")\n",
    "        print(f\"{dash_line}\")\n",
    "\n",
    "        messages_copy.append(current_message)\n",
    "\n",
    "        # prof\n",
    "        print(f\"\\nOriginal messages list: {message_list}\")\n",
    "        print(f\"Copy of messages list: {messages_copy} \")\n",
    "        print(f\"Sent messages list: {send_messages_list}\\n\")\n",
    "\n",
    "\n",
    "\n",
    "send_messages(messages)\n",
    "\n"
   ]
  },
  {
   "cell_type": "markdown",
   "metadata": {},
   "source": [
    "## **Exercise 05**\n",
    "---"
   ]
  },
  {
   "cell_type": "code",
   "execution_count": 15,
   "metadata": {},
   "outputs": [
    {
     "data": {
      "text/plain": [
       "'---------------------------------------------------------------------------------------------------------'"
      ]
     },
     "execution_count": 15,
     "metadata": {},
     "output_type": "execute_result"
    }
   ],
   "source": [
    "dash_line: str = \"\".join([\"-\" * i for i in range(1, 15) ])\n",
    "\n",
    "dash_line"
   ]
  },
  {
   "cell_type": "markdown",
   "metadata": {},
   "source": [
    "## **8-12. Sandwiches**\n",
    "\n",
    "Write a function that accepts a list of `items` a person wants on a sandwich. \n",
    "\n",
    "The function should have `one parameter` that collects as many items as the function call provides, \n",
    "\n",
    "and it should print a `summary of the sandwich` that’s being ordered. \n",
    "\n",
    "Call the function `three times`, using a different number of arguments each time."
   ]
  },
  {
   "cell_type": "code",
   "execution_count": 16,
   "metadata": {},
   "outputs": [
    {
     "name": "stdout",
     "output_type": "stream",
     "text": [
      "I'm making a Tuna sandwich.\n",
      "I'm making a Ham sandwich.\n",
      "---------------------------------------------------------------------------------------------------------\n",
      "I'm making a Cheese sandwich.\n",
      "I'm making a Turkey sandwich.\n",
      "---------------------------------------------------------------------------------------------------------\n",
      "I'm making a Chicken sandwich.\n",
      "I'm making a Ham sandwich.\n"
     ]
    }
   ],
   "source": [
    "# list of items a person wants on a sandwich\n",
    "sandwich_orders = ['tuna', 'ham', 'cheese', 'turkey', 'chicken']\n",
    "\n",
    "# list of finished sandwiches\n",
    "finished_sandwiches = []\n",
    "\n",
    "# function that accept lists\n",
    "def sanwiches (*sandwiches_list : list[str]) -> None:\n",
    "    \"\"\"\n",
    "      Summary of sandwich that's being ordered\n",
    "    \"\"\"\n",
    "    for sandwich in sandwiches_list:\n",
    "        print(f\"I'm making a {sandwich.title()} sandwich.\")\n",
    "        finished_sandwiches.append(sandwich)\n",
    "\n",
    "sanwiches('tuna','ham')\n",
    "print(dash_line)\n",
    "\n",
    "sanwiches('cheese','turkey')\n",
    "print(dash_line)\n",
    "\n",
    "sanwiches('chicken','ham' )\n",
    "\n"
   ]
  },
  {
   "cell_type": "markdown",
   "metadata": {},
   "source": [
    "## **8-13. User Profile**\n",
    "\n",
    "Start with a copy of `user_profile.py` from page 148. \n",
    "\n",
    "Build a `profile of yourself` by calling `build_profile()`, \n",
    "\n",
    "using your first and last names and three other key-value pairs that describe you."
   ]
  },
  {
   "cell_type": "markdown",
   "metadata": {},
   "source": [
    "`The Mapping type is covariant in the value type`, \n",
    "\n",
    "`meaning that it can be used to represent a dictionary with any type of values.`"
   ]
  },
  {
   "cell_type": "code",
   "execution_count": 17,
   "metadata": {},
   "outputs": [
    {
     "name": "stdout",
     "output_type": "stream",
     "text": [
      "{'age': 21, 'location': 'Karachi', 'first_name': 'Aqeel', 'last_name': 'Shahzad'}\n"
     ]
    }
   ],
   "source": [
    "from typing import Union , Mapping\n",
    "\n",
    "def build_profile(first : str, last : str, **user_info : str ) -> Mapping[str,Union[str,int]]:\n",
    "    \"\"\"Build a dictionary containing everything we know about a user.\"\"\"\n",
    "    user_info['first_name'] = first \n",
    "    user_info['last_name'] = last\n",
    "    return user_info\n",
    "\n",
    "profile = build_profile(\"Aqeel\",\"Shahzad\", age = 21, location = \"Karachi\" )\n",
    "\n",
    "print(profile)"
   ]
  },
  {
   "cell_type": "markdown",
   "metadata": {},
   "source": [
    "## **8-14. Cars**\n",
    "\n",
    "Write a function that stores information about a car in a dictionary. \n",
    "\n",
    "The function should always receive a `manufacturer` and a `model name`. \n",
    "\n",
    "It should then accept an `arbitrary` number of `keyword arguments`. \n",
    "\n",
    "Call the function with the required information and `two other name-value pairs`, \n",
    "\n",
    "such as a `color` or an `optional feature`. Your function should work for a call like this one:\n",
    "\n",
    "---\n",
    "`car = make_car('subaru', 'outback', color='blue', tow_package=True)`\n",
    "\n",
    "---\n",
    "Print the dictionary that’s returned to make sure all the information was\n",
    "stored correctly."
   ]
  },
  {
   "cell_type": "code",
   "execution_count": 22,
   "metadata": {},
   "outputs": [
    {
     "name": "stdout",
     "output_type": "stream",
     "text": [
      "{'year': 2022, 'color': 'red', 'price': 20000, 'manufacture': 'Ford', 'model': 'Mustang'}\n"
     ]
    }
   ],
   "source": [
    "from typing import Union, List , Dict, Mapping\n",
    "\n",
    "def car_Info ( manufecturer : str , model : str , **more : Dict[str,int] ) -> Mapping[str,Union[str,int]]:\n",
    "    \"\"\"Build a dictionary containing everything we know about a car.\"\"\"\n",
    "    more[\"manufacture\"]  = manufecturer\n",
    "    more[\"model\"] = model\n",
    "\n",
    "    return more\n",
    "\n",
    "car_details = car_Info('Ford', 'Mustang', year=2022, color='red', price=20000)\n",
    "print(car_details)"
   ]
  },
  {
   "cell_type": "markdown",
   "metadata": {},
   "source": [
    "## **Exercise 06**\n",
    "---"
   ]
  },
  {
   "cell_type": "markdown",
   "metadata": {},
   "source": [
    "## **8-15. Printing Models**\n",
    "\n",
    "Put the functions for the example `printing_models.py` in a\n",
    "\n",
    "separate file called `printing_functions.py`. Write an import statement at the top\n",
    "\n",
    "of `printing_models.py`, and modify the file to use the imported functions."
   ]
  },
  {
   "cell_type": "code",
   "execution_count": 1,
   "metadata": {},
   "outputs": [
    {
     "name": "stdout",
     "output_type": "stream",
     "text": [
      "\n",
      "This is the printing model : 1\n",
      "\n",
      "Making a 16-inch pizza with the following toppings:\n",
      "- pepperoni\n",
      "\n",
      "Making a 12-inch pizza with the following toppings:\n",
      "- mushrooms\n",
      "- green peppers\n",
      "- extra cheese\n",
      "\n",
      "This is the printing model : 2\n",
      "\n",
      "Making a 16-inch pizza with the following toppings:\n",
      "- pepperoni\n",
      "\n",
      "Making a 12-inch pizza with the following toppings:\n",
      "- mushrooms\n",
      "- green peppers\n",
      "- extra cheese\n"
     ]
    }
   ],
   "source": [
    "from printing_functions import printing_model\n",
    "\n",
    "printing_model()\n"
   ]
  },
  {
   "cell_type": "markdown",
   "metadata": {},
   "source": [
    "## **8-16. Imports**\n",
    "\n",
    "Using a program you wrote that has one function in it, store that\n",
    "\n",
    "function in a separate file. Import the function into your main program file, and\n",
    "\n",
    "call the function using each of these approaches:\n",
    "\n",
    "---\n",
    "\n",
    "```\n",
    "import module_name\n",
    "from module_name import function_name\n",
    "from module_name import function_name as fn\n",
    "import module_name as mn\n",
    "from module_name import *\n",
    "```\n",
    "\n",
    "---\n",
    "\n"
   ]
  },
  {
   "cell_type": "code",
   "execution_count": 2,
   "metadata": {},
   "outputs": [
    {
     "name": "stdout",
     "output_type": "stream",
     "text": [
      "\n",
      "This is the printing model : 3\n",
      "\n",
      "Making a 16-inch pizza with the following toppings:\n",
      "- pepperoni\n",
      "\n",
      "Making a 12-inch pizza with the following toppings:\n",
      "- mushrooms\n",
      "- green peppers\n",
      "- extra cheese\n",
      "\n",
      "This is the printing model : 4\n",
      "\n",
      "Making a 16-inch pizza with the following toppings:\n",
      "- pepperoni\n",
      "\n",
      "Making a 12-inch pizza with the following toppings:\n",
      "- mushrooms\n",
      "- green peppers\n",
      "- extra cheese\n",
      "\n",
      "This is the printing model : 5\n",
      "\n",
      "Making a 16-inch pizza with the following toppings:\n",
      "- pepperoni\n",
      "\n",
      "Making a 12-inch pizza with the following toppings:\n",
      "- mushrooms\n",
      "- green peppers\n",
      "- extra cheese\n",
      "\n",
      "This is the printing model : 6\n",
      "\n",
      "Making a 16-inch pizza with the following toppings:\n",
      "- pepperoni\n",
      "\n",
      "Making a 12-inch pizza with the following toppings:\n",
      "- mushrooms\n",
      "- green peppers\n",
      "- extra cheese\n",
      "\n",
      "This is the printing model : 7\n",
      "\n",
      "Making a 16-inch pizza with the following toppings:\n",
      "- pepperoni\n",
      "\n",
      "Making a 12-inch pizza with the following toppings:\n",
      "- mushrooms\n",
      "- green peppers\n",
      "- extra cheese\n"
     ]
    }
   ],
   "source": [
    "import printing_functions # 01 printing_functions is the module name\n",
    "from printing_functions import printing_model  # 02 printing_model is the function name\n",
    "from printing_functions import printing_model as fn # 03 fn is the alias name\n",
    "from printing_functions import printing_model as pm # 04 pm is the alias name\n",
    "from printing_functions import *  # 05 * is the wildcard \n",
    "\n",
    "\n",
    "\n",
    "printing_functions.printing_model() # 01 calling the function \n",
    "\n",
    "\n",
    "printing_model() # 02 calling the function\n",
    "\n",
    "fn() # 03 calling the function\n",
    "\n",
    "pm() # 04 calling the function\n",
    "\n",
    "printing_model() # 05 calling the function using asterick * "
   ]
  },
  {
   "cell_type": "markdown",
   "metadata": {},
   "source": [
    "## <b>8-17. Styling Functions</b>\n",
    "\n",
    "`Choose any three programs you wrote for this chapter,\n",
    "and make sure they follow the styling guidelines described in this section.`"
   ]
  },
  {
   "cell_type": "code",
   "execution_count": 4,
   "metadata": {},
   "outputs": [
    {
     "name": "stdout",
     "output_type": "stream",
     "text": [
      "The area of a circle with radius 5 is 78.54\n",
      "25 degrees Celsius is equal to 77.0 degrees Fahrenheit\n",
      "The maximum number in [10, 5, 27, 14, 8] is :\t27\n"
     ]
    }
   ],
   "source": [
    "import math\n",
    "\n",
    "# Test the function 01\n",
    "def calculate_area(radius : int) -> float:\n",
    "    \"\"\"Calculate the area of a circle given its radius.\"\"\"\n",
    "    area = math.pi * radius ** 2\n",
    "    return area\n",
    "\n",
    "# Calling function\n",
    "circle_radius = 5\n",
    "circle_area = calculate_area(circle_radius)\n",
    "print(f\"The area of a circle with radius {circle_radius} is {circle_area:.2f}\")\n",
    "\n",
    "\n",
    "# Test the function 02\n",
    "def celsius_to_fahrenheit(celsius : int) -> float:\n",
    "    \"\"\"Convert temperature from Celsius to Fahrenheit.\"\"\"\n",
    "    fahrenheit = (celsius * 9/5) + 32\n",
    "    return fahrenheit\n",
    "\n",
    "# calling funciton\n",
    "celsius_temp = 25\n",
    "fahrenheit_temp = celsius_to_fahrenheit(celsius_temp)\n",
    "print(f\"{celsius_temp} degrees Celsius is equal to {fahrenheit_temp:.1f} degrees Fahrenheit\")\n",
    "\n",
    "# Test the function 03\n",
    "def find_maximum(numbers : list[int]) -> int | None :\n",
    "    \"\"\"Find the maximum number from a list of numbers.\"\"\"\n",
    "    if not numbers:\n",
    "        return None\n",
    "    max_number = numbers[0]\n",
    "    for number in numbers:\n",
    "        if number > max_number:\n",
    "            max_number = number\n",
    "    return max_number\n",
    "\n",
    "# calling function\n",
    "number_list = [10, 5, 27, 14, 8]\n",
    "maximum_number = find_maximum(number_list)\n",
    "print(f\"The maximum number in {number_list} is :\\t{maximum_number}\")\n"
   ]
  },
  {
   "cell_type": "code",
   "execution_count": null,
   "metadata": {},
   "outputs": [],
   "source": []
  }
 ],
 "metadata": {
  "kernelspec": {
   "display_name": "p-learning",
   "language": "python",
   "name": "python3"
  },
  "language_info": {
   "codemirror_mode": {
    "name": "ipython",
    "version": 3
   },
   "file_extension": ".py",
   "mimetype": "text/x-python",
   "name": "python",
   "nbconvert_exporter": "python",
   "pygments_lexer": "ipython3",
   "version": "3.11.5"
  }
 },
 "nbformat": 4,
 "nbformat_minor": 2
}
