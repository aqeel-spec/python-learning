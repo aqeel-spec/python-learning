{
 "cells": [
  {
   "cell_type": "markdown",
   "metadata": {},
   "source": [
    "<p align=\"center\">\n",
    "  <b style=\"font-size: 32px\">8</b><br>\n",
    "  <b>F U N C T I O N S</b>\n",
    "</p>\n"
   ]
  },
  {
   "cell_type": "code",
   "execution_count": 2,
   "metadata": {},
   "outputs": [
    {
     "name": "stdout",
     "output_type": "stream",
     "text": [
      "hello!\n"
     ]
    }
   ],
   "source": [
    "def great_user ():\n",
    "    print(\"hello!\")\n",
    "great_user()"
   ]
  },
  {
   "cell_type": "markdown",
   "metadata": {},
   "source": [
    "### Passing Information to a Function"
   ]
  },
  {
   "cell_type": "code",
   "execution_count": 3,
   "metadata": {},
   "outputs": [
    {
     "name": "stdout",
     "output_type": "stream",
     "text": [
      "Hello, Aqeel Shahzad! \n"
     ]
    }
   ],
   "source": [
    "# Example 01\n",
    "def great_user(username : str):\n",
    "    print(f\"Hello, {username}! \")\n",
    "\n",
    "great_user(\"Aqeel Shahzad\")"
   ]
  },
  {
   "cell_type": "markdown",
   "metadata": {},
   "source": [
    "### Arguments and Parameters"
   ]
  },
  {
   "cell_type": "markdown",
   "metadata": {},
   "source": [
    "`\n",
    "    Note : People sometimes speak of arguments and parameters interchangeably. Don’t be sur-\n",
    "    prised if you see the variables in a function definition referred to as arguments or the\n",
    "    variables in a function call referred to as parameters.\n",
    "`"
   ]
  },
  {
   "cell_type": "markdown",
   "metadata": {},
   "source": [
    "<p style=\"font-size: 32px\" align=\"center\">TRY IT YOURSELF</p>"
   ]
  },
  {
   "cell_type": "markdown",
   "metadata": {},
   "source": [
    "**8-1. Message**: Write a function called display_message() that prints one sen-\n",
    "tence telling everyone what you are learning about in this chapter. Call the\n",
    "function, and make sure the message displays correctly."
   ]
  },
  {
   "cell_type": "code",
   "execution_count": 4,
   "metadata": {},
   "outputs": [
    {
     "name": "stdout",
     "output_type": "stream",
     "text": [
      "What are you learning in this chapter? : Functions\n"
     ]
    }
   ],
   "source": [
    "def display_message (learning : str):\n",
    "    print(f\"What are you learning in this chapter? : {learning}\")\n",
    "\n",
    "display_message(\"Functions\")"
   ]
  },
  {
   "cell_type": "markdown",
   "metadata": {},
   "source": [
    "**8-2. Favorite Book** : `Write a function called favorite_book() that accepts one\n",
    "parameter, title. The function should print a message, such as One of my\n",
    "favorite books is Alice in Wonderland. Call the function, making sure to\n",
    "include a book title as an argument in the function call`."
   ]
  },
  {
   "cell_type": "code",
   "execution_count": 6,
   "metadata": {},
   "outputs": [
    {
     "name": "stdout",
     "output_type": "stream",
     "text": [
      "One of the my favorite book is : 'Alice in Wonderland'\n"
     ]
    }
   ],
   "source": [
    "# Exercise 02\n",
    "def favorite_book (title : str):\n",
    "    print(\"\"\"One of the my favorite book is : {}\"\"\".format(title))\n",
    "\n",
    "favorite_book(\"Alice in Wonderland\")"
   ]
  },
  {
   "cell_type": "markdown",
   "metadata": {},
   "source": [
    "### Passing Arguments"
   ]
  },
  {
   "cell_type": "markdown",
   "metadata": {},
   "source": [
    "* Positional Arguments"
   ]
  },
  {
   "cell_type": "code",
   "execution_count": 7,
   "metadata": {},
   "outputs": [
    {
     "name": "stdout",
     "output_type": "stream",
     "text": [
      "\n",
      "I have a hamster\n",
      "My hamster name is Herry.\n"
     ]
    }
   ],
   "source": [
    "# Positional Arguments\n",
    "\n",
    "def describe_pet (animal_type : str , pet_name : str):\n",
    "    print(f\"\\nI have a {animal_type}\")\n",
    "    print(f\"My {animal_type} name is {pet_name.title()}.\")\n",
    "\n",
    "describe_pet('hamster','herry')"
   ]
  },
  {
   "cell_type": "markdown",
   "metadata": {},
   "source": [
    "* Multiple Function Calls"
   ]
  },
  {
   "cell_type": "code",
   "execution_count": 9,
   "metadata": {},
   "outputs": [
    {
     "name": "stdout",
     "output_type": "stream",
     "text": [
      "\n",
      "I have a hamster\n",
      "My hamster's name is Herry.\n",
      "\n",
      "I have a dog\n",
      "My dog's name is Willie.\n"
     ]
    }
   ],
   "source": [
    "\n",
    "# Order Matters in Positional Arguments\n",
    "def describe_pet (animal_type : str , pet_name : str):\n",
    "    print(f\"\\nI have a {animal_type}\")\n",
    "    print(f\"My {animal_type}'s name is {pet_name.title()}.\")\n",
    "\n",
    "describe_pet('hamster','herry')\n",
    "describe_pet('dog','willie')"
   ]
  },
  {
   "cell_type": "markdown",
   "metadata": {},
   "source": [
    "* Keyword Arguments"
   ]
  },
  {
   "cell_type": "code",
   "execution_count": 10,
   "metadata": {},
   "outputs": [
    {
     "name": "stdout",
     "output_type": "stream",
     "text": [
      "\n",
      "I have a hamster\n",
      "My hamster's name is Herry.\n",
      "\n",
      "I have a hamster\n",
      "My hamster's name is Herry.\n"
     ]
    }
   ],
   "source": [
    "def describe_pet (animal_type : str , pet_name : str):\n",
    "    print(f\"\\nI have a {animal_type}\")\n",
    "    print(f\"My {animal_type}'s name is {pet_name.title()}.\")\n",
    "\n",
    "describe_pet(animal_type='hamster',pet_name='herry')\n",
    "describe_pet(pet_name='herry',animal_type='hamster')\n"
   ]
  },
  {
   "cell_type": "markdown",
   "metadata": {},
   "source": [
    "**NOTE** : `When you use keyword arguments, be sure to use the exact names of the parameters in the function’s definition.`"
   ]
  },
  {
   "cell_type": "markdown",
   "metadata": {},
   "source": [
    "### Default Values"
   ]
  },
  {
   "cell_type": "code",
   "execution_count": 12,
   "metadata": {},
   "outputs": [
    {
     "name": "stdout",
     "output_type": "stream",
     "text": [
      "\n",
      "I have a dog\n",
      "My dog name is Willie.\n",
      "\n",
      "I have a hamster\n",
      "My hamster name is Harry.\n",
      "\n",
      "I have a hamster\n",
      "My hamster name is Harry.\n"
     ]
    }
   ],
   "source": [
    "def describe_pet (pet_name : str,animal_type = \"dog\"):\n",
    "    print(f\"\\nI have a {animal_type}\")\n",
    "    print(f\"My {animal_type} name is {pet_name.title()}.\")\n",
    "\n",
    "describe_pet(pet_name=\"willie\")\n",
    "\n",
    "# Equivalent Function Calls\n",
    "describe_pet(pet_name=\"harry\",animal_type=\"hamster\")\n",
    "describe_pet(animal_type=\"hamster\",pet_name=\"harry\")\n"
   ]
  },
  {
   "cell_type": "markdown",
   "metadata": {},
   "source": [
    "### Avoiding Argument Errors"
   ]
  },
  {
   "cell_type": "markdown",
   "metadata": {},
   "source": [
    "`Python recognizes that some information is missing from the function\n",
    "call, and the traceback tells us that:`"
   ]
  },
  {
   "cell_type": "code",
   "execution_count": 13,
   "metadata": {},
   "outputs": [
    {
     "ename": "TypeError",
     "evalue": "describe_pet() missing 1 required positional argument: 'pet_name'",
     "output_type": "error",
     "traceback": [
      "\u001b[0;31m---------------------------------------------------------------------------\u001b[0m",
      "\u001b[0;31mTypeError\u001b[0m                                 Traceback (most recent call last)",
      "\u001b[1;32m/home/shahzad/Documents/GitHub/WMD-Q3-learning/step22_generative_ai/python-course/chapter 08/function.ipynb Cell 23\u001b[0m line \u001b[0;36m5\n\u001b[1;32m      <a href='vscode-notebook-cell:/home/shahzad/Documents/GitHub/WMD-Q3-learning/step22_generative_ai/python-course/chapter%2008/function.ipynb#X40sZmlsZQ%3D%3D?line=1'>2</a>\u001b[0m     \u001b[39mprint\u001b[39m(\u001b[39mf\u001b[39m\u001b[39m\"\u001b[39m\u001b[39m\\n\u001b[39;00m\u001b[39mI have a \u001b[39m\u001b[39m{\u001b[39;00manimal_type\u001b[39m}\u001b[39;00m\u001b[39m\"\u001b[39m)\n\u001b[1;32m      <a href='vscode-notebook-cell:/home/shahzad/Documents/GitHub/WMD-Q3-learning/step22_generative_ai/python-course/chapter%2008/function.ipynb#X40sZmlsZQ%3D%3D?line=2'>3</a>\u001b[0m     \u001b[39mprint\u001b[39m(\u001b[39mf\u001b[39m\u001b[39m\"\u001b[39m\u001b[39mMy \u001b[39m\u001b[39m{\u001b[39;00manimal_type\u001b[39m}\u001b[39;00m\u001b[39m name is \u001b[39m\u001b[39m{\u001b[39;00mpet_name\u001b[39m.\u001b[39mtitle()\u001b[39m}\u001b[39;00m\u001b[39m.\u001b[39m\u001b[39m\"\u001b[39m)\n\u001b[0;32m----> <a href='vscode-notebook-cell:/home/shahzad/Documents/GitHub/WMD-Q3-learning/step22_generative_ai/python-course/chapter%2008/function.ipynb#X40sZmlsZQ%3D%3D?line=4'>5</a>\u001b[0m describe_pet()\n",
      "\u001b[0;31mTypeError\u001b[0m: describe_pet() missing 1 required positional argument: 'pet_name'"
     ]
    }
   ],
   "source": [
    "def describe_pet (pet_name : str,animal_type = \"dog\"):\n",
    "    print(f\"\\nI have a {animal_type}\")\n",
    "    print(f\"My {animal_type} name is {pet_name.title()}.\")\n",
    "\n",
    "describe_pet()"
   ]
  },
  {
   "cell_type": "markdown",
   "metadata": {},
   "source": [
    "<p style=\"font-size: 32px\" align=\"center\"><b>TRY IT YOURSELF</b></p>"
   ]
  },
  {
   "cell_type": "markdown",
   "metadata": {},
   "source": [
    "<b>8-3. T-Shirt</b> : `Write a function called make_shirt() that accepts a size and the\n",
    "text of a message that should be printed on the shirt. The function should print a\n",
    "sentence summarizing the size of the shirt and the message printed on it.`"
   ]
  },
  {
   "cell_type": "markdown",
   "metadata": {},
   "source": [
    "`\n",
    "Call the function once using positional arguments to make a shirt. Call the\n",
    "function a second time using keyword arguments.\n",
    "`"
   ]
  },
  {
   "cell_type": "code",
   "execution_count": 17,
   "metadata": {},
   "outputs": [
    {
     "name": "stdout",
     "output_type": "stream",
     "text": [
      "\n",
      "Shirt size if XL \n",
      "I found an amazing shirt of size, XL\n",
      "\n",
      "Shirt size if MD \n",
      "Wow, It suits me of size, MD\n"
     ]
    }
   ],
   "source": [
    "def make_shirts (size : str, message : str):\n",
    "    print(f\"\\nShirt size if {size.upper()} \")\n",
    "    print(f\"{message} of size, {size.upper()}\") \n",
    "\n",
    "make_shirts(\"xl\",\"I found an amazing shirt\")\n",
    "\n",
    "# calling function using keyword arguments\n",
    "make_shirts(message=\"Wow, It suits me\", size=\"md\")"
   ]
  },
  {
   "cell_type": "markdown",
   "metadata": {},
   "source": [
    "<b>8-4. Large Shirts : </b> `Modify the make_shirt() function so that shirts are large\n",
    "by default with a message that reads I love Python. Make a large shirt and a\n",
    "medium shirt with the default message, and a shirt of any size with a different\n",
    "message.`"
   ]
  },
  {
   "cell_type": "code",
   "execution_count": 19,
   "metadata": {},
   "outputs": [
    {
     "name": "stdout",
     "output_type": "stream",
     "text": [
      "\n",
      "Shirt size if XL \n",
      "I Love Python\n",
      "\n",
      "Shirt size if MD \n",
      "I Love Python\n"
     ]
    }
   ],
   "source": [
    "def make_shirts (size : str, message : str):\n",
    "    print(f\"\\nShirt size if {size.upper()} \")\n",
    "    print(f\"{message.title()}\") \n",
    "\n",
    "make_shirts(\"xl\",\"I love python\")\n",
    "\n",
    "# calling function using keyword arguments\n",
    "make_shirts(message=\"I love python\", size=\"md\")"
   ]
  },
  {
   "cell_type": "markdown",
   "metadata": {},
   "source": [
    "#### Second example"
   ]
  },
  {
   "cell_type": "code",
   "execution_count": null,
   "metadata": {},
   "outputs": [],
   "source": [
    "from typing import Optional\n",
    "\n",
    "def make_shirt(size: Optional[str] = \"L\", message: Optional[str] = \"I love Python\"):\n",
    "  \"\"\"Prints a message about the size and message on a shirt.\"\"\"\n",
    "  print(f\"\\nThe size of the shirt is {size.capitalize()}.\")\n",
    "  print(f\"The message on the shirt is '{message.title()}'.\")\n",
    "\n",
    "make_shirt()\n",
    "# making shirt of medium size\n",
    "make_shirt(size='M')\n",
    "\n",
    "make_shirt(message=\"i love c++\")"
   ]
  },
  {
   "cell_type": "markdown",
   "metadata": {},
   "source": [
    "<b>mypy chapter\\ 08/function.py : </b><br>\n",
    "    ``` chapter 08/function.py:33: error: Item \"None\" of \"str | None\" has no attribute \"capitalize\"  [union-attr]\n",
    "    chapter 08/function.py:34: error: Item \"None\" of \"str | None\" has no attribute \"title\"  [union-attr]\n",
    "    Found 2 errors in 1 file (checked 1 source file)```"
   ]
  },
  {
   "cell_type": "code",
   "execution_count": 23,
   "metadata": {},
   "outputs": [
    {
     "name": "stdout",
     "output_type": "stream",
     "text": [
      "\n",
      "The size of the shirt is L.\n",
      "The message on the shirt is 'I Love Python'.\n",
      "\n",
      "The size of the shirt is M.\n",
      "The message on the shirt is 'I Love Python'.\n",
      "\n",
      "The size of the shirt is L.\n",
      "The message on the shirt is 'I Love C++'.\n"
     ]
    }
   ],
   "source": [
    "from typing import Optional\n",
    "\n",
    "def make_shirt(size: Optional[str] = \"L\", message: Optional[str] = \"I love Python\"):\n",
    "  \"\"\"Prints a message about the size and message on a shirt.\"\"\"\n",
    "  print(f\"\\nThe size of the shirt is {size.capitalize()}.\") # .capitalize() , this is not working in static types\n",
    "  print(f\"The message on the shirt is '{message.title()}'.\")  # .title() , this is not working in static types\n",
    "\n",
    "make_shirt()\n",
    "# making shirt of medium size\n",
    "make_shirt(size='M')\n",
    "\n",
    "make_shirt(message=\"i love c++\")"
   ]
  },
  {
   "cell_type": "markdown",
   "metadata": {},
   "source": [
    "<b>8-5. Cities : </b> `Write a function called describe_city() that accepts the name of\n",
    "a city and its country. The function should print a simple sentence, such as\n",
    "Reykjavik is in Iceland. Give the parameter for the country a default value.\n",
    "Call your function for three different cities, at least one of which is not in the\n",
    "default country.`"
   ]
  },
  {
   "cell_type": "code",
   "execution_count": 24,
   "metadata": {},
   "outputs": [
    {
     "name": "stdout",
     "output_type": "stream",
     "text": [
      "Lahore is in Pakistan\n",
      "Islamabad is in Pakistan\n",
      "Karachi is in Pakistan\n"
     ]
    }
   ],
   "source": [
    "def describe_city (city_name : str , country : str = \"Pakistan\") :\n",
    "    print(f\"{city_name} is in {country}\")\n",
    "\n",
    "describe_city(\"Lahore\")\n",
    "describe_city(\"Islamabad\")\n",
    "describe_city(\"Karachi\")"
   ]
  },
  {
   "cell_type": "markdown",
   "metadata": {},
   "source": [
    "### Return Values"
   ]
  },
  {
   "cell_type": "code",
   "execution_count": 25,
   "metadata": {},
   "outputs": [
    {
     "name": "stdout",
     "output_type": "stream",
     "text": [
      "Aqeel Shahzad\n"
     ]
    }
   ],
   "source": [
    "# returning simple value \n",
    "\n",
    "def get_formatted_name (fname : str , lname : str) -> str:\n",
    "    full_name = f\"{fname} {lname}\"\n",
    "\n",
    "    return full_name.title()\n",
    "\n",
    "myname = get_formatted_name(\"AqeEl\",\"sHahZaD\")\n",
    "print(myname)"
   ]
  },
  {
   "cell_type": "code",
   "execution_count": 29,
   "metadata": {},
   "outputs": [
    {
     "name": "stdout",
     "output_type": "stream",
     "text": [
      "Aqeel Shahzad Khan\n"
     ]
    }
   ],
   "source": [
    "from typing import Optional \n",
    "\n",
    "def get_formatted_name (fname : str, mname :Optional[str]  , lname : str) -> str:\n",
    "   \n",
    "    full_name = f\"{fname} {(mname or '')} {lname}\"\n",
    "\n",
    "    return full_name.title()\n",
    "\n",
    "myname = get_formatted_name(\"AqeEl\",\"sHahZaD\",\"kHaN\")\n",
    "print(myname)"
   ]
  },
  {
   "cell_type": "code",
   "execution_count": 34,
   "metadata": {},
   "outputs": [
    {
     "name": "stdout",
     "output_type": "stream",
     "text": [
      "Aqeel Khan Shahzad\n",
      "Aqeel Shahzad\n"
     ]
    }
   ],
   "source": [
    "def get_formatted_name (fname : str  , lname : str, mname :str='') -> str:\n",
    "   \n",
    "    if mname :\n",
    "        full_name = f\"{fname} {mname} {lname}\"\n",
    "    else :\n",
    "        full_name = f\"{fname} {lname}\"\n",
    "\n",
    "    return full_name.title()\n",
    "\n",
    "myname = get_formatted_name(\"AqeEl\",\"sHahZaD\",\"kHaN\")\n",
    "missing_middle_name = get_formatted_name(\"AqeEl\",\"sHahZaD\")\n",
    "\n",
    "print(myname)\n",
    "print(missing_middle_name)"
   ]
  },
  {
   "cell_type": "code",
   "execution_count": 2,
   "metadata": {},
   "outputs": [
    {
     "name": "stdout",
     "output_type": "stream",
     "text": [
      "Aqeel Khan Shahzad\n",
      "Aqeel  Shahzad\n"
     ]
    }
   ],
   "source": [
    "def get_formatted_name(fname: str, lname: str, mname: str | None = '') -> str:\n",
    "  \"\"\"Returns a formatted full name, including the middle name if provided.\"\"\"\n",
    "  full_name = f\"{fname} {mname} {lname}\"\n",
    "\n",
    "  return full_name.title()\n",
    "\n",
    "# Call the function with the middle name.\n",
    "myname = get_formatted_name(\"AqeEl\", \"ShahZaD\", \"Khan\")\n",
    "\n",
    "# Call the function without the middle name.\n",
    "missing_middle_name = get_formatted_name(\"AqeEl\", \"ShahZaD\")\n",
    "\n",
    "print(myname)\n",
    "print(missing_middle_name)"
   ]
  },
  {
   "cell_type": "markdown",
   "metadata": {},
   "source": [
    "### Returning a Dictionary"
   ]
  },
  {
   "cell_type": "code",
   "execution_count": 5,
   "metadata": {},
   "outputs": [
    {
     "name": "stdout",
     "output_type": "stream",
     "text": [
      "{'first': 'jimi', 'last': 'hendrix'}\n"
     ]
    }
   ],
   "source": [
    "# returning a dictionary\n",
    "\n",
    "def build_pserson (fname : str, lname : str) -> dict[str,str]:\n",
    "    person = { 'first' : fname , 'last' : lname }\n",
    "    return person\n",
    "\n",
    "musician = build_pserson('jimi','hendrix')\n",
    "print(musician)"
   ]
  },
  {
   "cell_type": "code",
   "execution_count": 6,
   "metadata": {},
   "outputs": [
    {
     "name": "stdout",
     "output_type": "stream",
     "text": [
      "{'first': 'jimi', 'last': 'hendrix'}\n",
      "\n",
      "The musician's name is jimi hendrix.\n"
     ]
    }
   ],
   "source": [
    "# returning a dictionary\n",
    "\n",
    "def build_pserson (fname : str, lname : str) -> dict[str,str]:\n",
    "    person = { 'first' : fname , 'last' : lname }\n",
    "    return person\n",
    "\n",
    "musician = build_pserson('jimi','hendrix')\n",
    "print(musician)\n",
    "\n",
    "print(f\"\\nThe musician's name is {musician['first']} {musician['last']}.\")"
   ]
  },
  {
   "cell_type": "code",
   "execution_count": 7,
   "metadata": {},
   "outputs": [
    {
     "name": "stdout",
     "output_type": "stream",
     "text": [
      "{'first': 'jimi', 'last': 'hendrix', 'age': 23}\n",
      "\n",
      "The musician's name is jimi hendrix and age is 23.\n"
     ]
    }
   ],
   "source": [
    "def build_person(fname: str, lname: str, age: int = 0) -> dict[str, str]:\n",
    "    \"\"\"Builds a dictionary representing a person.\n",
    "\n",
    "    Args:\n",
    "        fname: The person's first name.\n",
    "        lname: The person's last name.\n",
    "        age: The person's age (default: 0).\n",
    "\n",
    "    Returns:\n",
    "        A dictionary representing the person.\n",
    "    \"\"\"\n",
    "\n",
    "    person = {\"first\": fname, \"last\": lname}\n",
    "    if age:\n",
    "        person[\"age\"] = age \n",
    "    return person\n",
    "\n",
    "\n",
    "musician = build_person(\"jimi\", \"hendrix\",23)\n",
    "print(musician)\n",
    "\n",
    "print(f\"\\nThe musician's name is {musician['first']} {musician['last']} and age is {musician.get('age', 0)}.\")"
   ]
  },
  {
   "cell_type": "markdown",
   "metadata": {},
   "source": [
    "### Using a Function with a while Loop"
   ]
  },
  {
   "cell_type": "code",
   "execution_count": 17,
   "metadata": {},
   "outputs": [
    {
     "name": "stdout",
     "output_type": "stream",
     "text": [
      "\n",
      "Please tell me your name : \n",
      "Hello, {'first': 'er', 'last': 'af'}\n",
      "\n",
      "Please tell me your name : \n",
      "Hello, {'first': 'dad', 'last': 'fasfd'}\n",
      "\n",
      "Please tell me your name : \n",
      "Hello, {'first': 'adfas', 'last': 'dfas'}\n",
      "\n",
      "Please tell me your name : \n"
     ]
    }
   ],
   "source": [
    "def get_formatted_name(fname: str, lname: str) -> dict[str,str]:\n",
    "  \"\"\"Returns a formatted full name, including the middle name if provided.\"\"\"\n",
    "  \n",
    "  full_name = {\"first\": fname, \"last\": lname}\n",
    "\n",
    "  return full_name\n",
    "while True : \n",
    "  print(\"\\nPlease tell me your name : \")\n",
    "  f_name = input(\"First name : \")\n",
    "  \n",
    "\n",
    "  if f_name == 'q':\n",
    "    break\n",
    "  \n",
    "  l_name = input(\"Last name : \")\n",
    "  if l_name == 'q':\n",
    "    break\n",
    "\n",
    "  formated_name = get_formatted_name(f_name, l_name)\n",
    "  \n",
    "  print(f\"Hello, {formated_name}\")\n",
    "\n",
    "# Call the function with the middle name.\n"
   ]
  },
  {
   "cell_type": "markdown",
   "metadata": {},
   "source": [
    "<p style=\"font-size: 32px\" align=\"center\"><b>TRY IT YOURSELF</b></p>"
   ]
  },
  {
   "cell_type": "markdown",
   "metadata": {},
   "source": [
    "<b>8-6. City Names</b> :  `Write a function called city_country() that takes in the name\n",
    "of a city and its country. The function should return a string formatted like this.`\n",
    "</br>\n",
    "<hr/>\n",
    "\"Santiago, Chile\"\n",
    "<hr/>\n",
    "\n",
    "`Call your function with at least three city-country pairs, and print the values\n",
    "that are returned.`"
   ]
  },
  {
   "cell_type": "code",
   "execution_count": 29,
   "metadata": {},
   "outputs": [
    {
     "name": "stdout",
     "output_type": "stream",
     "text": [
      "\"Santiago,Chile\"\n"
     ]
    }
   ],
   "source": [
    "def city_country (city_name : str , country_name : str):\n",
    "    print(f'\"{city_name.title()},{country_name.title()}\"')\n",
    "\n",
    "city_country(\"santiAgO\",\"chIlE\")"
   ]
  },
  {
   "cell_type": "markdown",
   "metadata": {},
   "source": [
    "<b>8-7. Album</b> : `Write a function called make_album() that builds a dictionary\n",
    "describing a music album. The function should take in an artist name and an\n",
    "album title, and it should return a dictionary containing these two pieces of\n",
    "information. Use the function to make three dictionaries representing different\n",
    "albums. Print each return value to show that the dictionaries are storing the\n",
    "album information correctly.`\n",
    "<br/><br/>\n",
    "`Use None to add an optional parameter to make_album() that allows you to\n",
    "store the number of songs on an album. If the calling line includes a value for\n",
    "the number of songs, add that value to the album’s dictionary. Make at least\n",
    "one new function call that includes the number of songs on an album.`"
   ]
  },
  {
   "cell_type": "code",
   "execution_count": 36,
   "metadata": {},
   "outputs": [
    {
     "name": "stdout",
     "output_type": "stream",
     "text": [
      "\n",
      "{'artist_name : Mya , album_title : Chnna ktha kzari hi rat wa'}\n",
      "\n",
      "{'artist_name : Usman , album_title : Chod da a hm ya duniya k khm'}\n",
      "\n",
      "{'artist_name : Saqi , album_title : Chom utha h sman'}\n"
     ]
    }
   ],
   "source": [
    "# part 1\n",
    "def make_album (atist_name : str , album_title : str) -> dict[str, str]:\n",
    "    album = {f\"artist_name : {atist_name.capitalize()} , album_title : {album_title.capitalize()}\"}\n",
    "\n",
    "    return album\n",
    "\n",
    "music = make_album(\"Mya\",\"Chnna ktha kzari hi rat wa\")\n",
    "music2 = make_album(\"Usman\",\"cHOD DA A HM YA duniya k khm\")\n",
    "music3 = make_album(\"Saqi\",\"Chom utha h sman\")\n",
    "\n",
    "print(f\"\\n{music}\")\n",
    "print(f\"\\n{music2}\")\n",
    "print(f\"\\n{music3}\")"
   ]
  },
  {
   "cell_type": "code",
   "execution_count": 38,
   "metadata": {},
   "outputs": [
    {
     "name": "stdout",
     "output_type": "stream",
     "text": [
      "{'artist_name': 'The Beatles', 'album_title': 'Abbey Road'}\n",
      "{'artist_name': 'Michael Jackson', 'album_title': 'Thriller', 'number_of_songs': 9}\n",
      "{'artist_name': 'Pink Floyd', 'album_title': 'The Dark Side of the Moon', 'number_of_songs': 10}\n"
     ]
    }
   ],
   "source": [
    "# Part 02\n",
    "\n",
    "def make_album(artist_name: str, album_title: str, number_of_songs: int = None) -> dict[str, str]:\n",
    "\n",
    "    album = {\"artist_name\": artist_name, \"album_title\": album_title}\n",
    "    if number_of_songs is not None:\n",
    "        album[\"number_of_songs\"] = number_of_songs\n",
    "    return album\n",
    "\n",
    "\n",
    "album1 = make_album(\"The Beatles\", \"Abbey Road\")\n",
    "album2 = make_album(\"Michael Jackson\", \"Thriller\", 9)\n",
    "album3 = make_album(\"Pink Floyd\", \"The Dark Side of the Moon\", 10)\n",
    "\n",
    "print(album1)\n",
    "print(album2)\n",
    "print(album3)\n"
   ]
  },
  {
   "cell_type": "markdown",
   "metadata": {},
   "source": [
    "<b>8-8. User Albums</b> : `Start with your program from Exercise 8-7. Write a while\n",
    "loop that allows users to enter an album’s artist and title. Once you have that\n",
    "information, call make_album() with the user’s input and print the dictionary\n",
    "that’s created. Be sure to include a quit value in the while loop.`"
   ]
  },
  {
   "cell_type": "code",
   "execution_count": 49,
   "metadata": {},
   "outputs": [
    {
     "name": "stdout",
     "output_type": "stream",
     "text": [
      "\n",
      "Please enter album detail\n",
      "\n",
      "The album is:\n",
      "{'artist_name': 'asdf', 'album_title': 'sdaf', 'number_of_songs': 34}\n",
      "\n",
      "The album is:\n",
      "{'artist_name': 'sdf', 'album_title': 'asdf', 'number_of_songs': 345}\n",
      "\n",
      "The album is:\n",
      "{'artist_name': 'asdf', 'album_title': 'sdf', 'number_of_songs': 345}\n",
      "\n",
      "The album is:\n",
      "{'artist_name': 'asdf', 'album_title': 'asdf', 'number_of_songs': 345}\n",
      "\n",
      "The album is:\n",
      "{'artist_name': 'asdf', 'album_title': 'asdf', 'number_of_songs': 345}\n"
     ]
    }
   ],
   "source": [
    "def make_album(artist_name: str, album_title: str, number_of_songs: int = None) -> dict[str, str]:\n",
    "    album = {}\n",
    "    album[\"artist_name\"] = artist_name\n",
    "    album[\"album_title\"] = album_title\n",
    "\n",
    "    if number_of_songs is not None:\n",
    "        album[\"number_of_songs\"] = number_of_songs\n",
    "\n",
    "    return album\n",
    "\n",
    "print(\"\\nPlease enter album detail\")\n",
    "while True:\n",
    "   \n",
    "    \n",
    "    artist_name = input(\"Enter artist name: \")\n",
    "    if artist_name == \"quit\":\n",
    "        break\n",
    "\n",
    "    album_title = input(\"Enter album title: \")\n",
    "    if album_title == \"quit\":\n",
    "        break\n",
    "\n",
    "    number_of_songs = input(\"Enter number of songs: \")\n",
    "    if number_of_songs == \"quit\":\n",
    "        break\n",
    "\n",
    "    ready_album = make_album(artist_name, album_title, int(number_of_songs))\n",
    "    print(f\"\\nThe album is:\\n{ready_album}\")"
   ]
  },
  {
   "cell_type": "markdown",
   "metadata": {},
   "source": [
    "### **Passing a List**"
   ]
  },
  {
   "cell_type": "code",
   "execution_count": 2,
   "metadata": {},
   "outputs": [
    {
     "name": "stdout",
     "output_type": "stream",
     "text": [
      "\n",
      "Hello, Hannah\n",
      "\n",
      "Hello, Ty\n",
      "\n",
      "Hello, Margot\n"
     ]
    }
   ],
   "source": [
    "def greet_users(names : list[str] ) :\n",
    "    for name in names :\n",
    "        msg = f\"\\nHello, {name.title()}\"\n",
    "        print(msg)\n",
    "\n",
    "usernames = [\"hannah\",\"ty\",\"margot\"]\n",
    "\n",
    "greet_users(usernames)"
   ]
  },
  {
   "cell_type": "markdown",
   "metadata": {},
   "source": [
    "### Modifying a List in a Function"
   ]
  },
  {
   "cell_type": "code",
   "execution_count": 3,
   "metadata": {},
   "outputs": [
    {
     "name": "stdout",
     "output_type": "stream",
     "text": [
      "Printing model : dodecahedron\n",
      "Printing model : robot pendant\n",
      "Printing model : phone case\n",
      "\n",
      "The following models have been printed:\n",
      "dodecahedron\n",
      "robot pendant\n",
      "phone case\n"
     ]
    }
   ],
   "source": [
    "# start with some design that need to be printed\n",
    "\n",
    "unprinted_designs = ['phone case', 'robot pendant', 'dodecahedron']\n",
    "completed_models = []\n",
    "\n",
    "# print each design untill none is left \n",
    "# mode each design to completed model\n",
    "\n",
    "while unprinted_designs : \n",
    "    current_design = unprinted_designs.pop()\n",
    "    print(f\"Printing model : {current_design}\")\n",
    "    completed_models.append(current_design)\n",
    "\n",
    "# Display all comleted taks models\n",
    "print(\"\\nThe following models have been printed:\")\n",
    "for completed_model  in completed_models : \n",
    "    print(completed_model)\n"
   ]
  },
  {
   "cell_type": "code",
   "execution_count": 6,
   "metadata": {},
   "outputs": [
    {
     "name": "stdout",
     "output_type": "stream",
     "text": [
      "Printed model : dodecahedron\n",
      "Printed model : robot pendant\n",
      "Printed model : phone case\n",
      "\n",
      "The following mode has been printed : \n",
      "dodecahedron\n",
      "robot pendant\n",
      "phone case\n"
     ]
    }
   ],
   "source": [
    "def print_models(unprinted_designs : list[str] , completed_models : list[str]):\n",
    "    while unprinted_designs:\n",
    "        current_design = unprinted_designs.pop()\n",
    "        print(f\"Printed model : {current_design}\")\n",
    "        completed_models.append(current_design)\n",
    "\n",
    "def show_completed_models(completed_models : list[str]):\n",
    "    print(f\"\\nThe following mode has been printed : \")\n",
    "\n",
    "    for completed_model in completed_models : \n",
    "        print(completed_model)\n",
    "\n",
    "\n",
    "# our defaut designs\n",
    "unprinted_designs = ['phone case', 'robot pendant', 'dodecahedron']\n",
    "completed_models = []\n",
    "\n",
    "# call out functions for printed models\n",
    "print_models(unprinted_designs, completed_models)\n",
    "\n",
    "# call out function for for completd models\n",
    "show_completed_models(completed_models)\n"
   ]
  },
  {
   "cell_type": "markdown",
   "metadata": {},
   "source": [
    "### <b>Preventing a Function from Modifying a List</b>"
   ]
  },
  {
   "cell_type": "code",
   "execution_count": 9,
   "metadata": {},
   "outputs": [],
   "source": [
    "print_models(unprinted_designs[:],completed_models)"
   ]
  },
  {
   "cell_type": "markdown",
   "metadata": {},
   "source": [
    "<p style=\"font-size: 32px\" align=\"center\"><b>TRY IT YOURSELF</b></p>"
   ]
  },
  {
   "cell_type": "markdown",
   "metadata": {},
   "source": [
    "<b>8-9. Messages</b> :` Make a list containing a series of short text messages. Pass the\n",
    "list to a function called show_messages(), which prints each text message.`"
   ]
  },
  {
   "cell_type": "code",
   "execution_count": 14,
   "metadata": {},
   "outputs": [
    {
     "name": "stdout",
     "output_type": "stream",
     "text": [
      "\n",
      "Hello, I love Python\n",
      "\n",
      "Hello, I love c++\n",
      "\n",
      "Hello, great somehow\n"
     ]
    }
   ],
   "source": [
    "def show_messages(list_messages : list[str]) : \n",
    "    for list_message in list_messages:\n",
    "        print(f\"\\nHello, {list_message}\")\n",
    "\n",
    "messages : list[str] = [\"I love Python\",\"I love c++\",\"great somehow\"]\n",
    "show_messages(messages)"
   ]
  },
  {
   "cell_type": "markdown",
   "metadata": {},
   "source": [
    "<b>8-10. Sending Messages</b> : `Start with a copy of your program from Exercise 8-9.\n",
    "Write a function called send_messages() that prints each text message and\n",
    "moves each message to a new list called sent_messages as it’s printed. After\n",
    "calling the function, print both of your lists to make sure the messages were\n",
    "moved correctly.`"
   ]
  },
  {
   "cell_type": "code",
   "execution_count": 27,
   "metadata": {},
   "outputs": [
    {
     "name": "stdout",
     "output_type": "stream",
     "text": [
      "\n",
      "Message, 'great somehow' has been sent successfully\n",
      "\n",
      "Message, 'I love c++' has been sent successfully\n",
      "\n",
      "Message, 'I love Python' has been sent successfully\n",
      "\n",
      "Revieved messages are here : \n",
      "\n",
      "Message \t 'Great Somehow' \t recived successfully\n",
      "Message \t 'I Love C++' \t recived successfully\n",
      "Message \t 'I Love Python' \t recived successfully\n",
      "\n",
      "Now pending messages are : []\n"
     ]
    }
   ],
   "source": [
    "# Exercise 8.10\n",
    "def send_messages(list_messages : list[str], recieve_messages : list[str]) : \n",
    "    while list_messages:\n",
    "        sent_message = list_messages.pop()\n",
    "        print(f\"\\nMessage, '{sent_message}' has been sent successfully\")\n",
    "        recieve_messages.append(sent_message)\n",
    "\n",
    "\n",
    "def recieve_messages (sent_messages : list[str]):\n",
    "    print(\"\\nRevieved messages are here : \\n\")\n",
    "    for recieve_message in sent_messages:\n",
    "        print(f\"Message \\t '{recieve_message.title()}' \\t recived successfully\")\n",
    "\n",
    "messages : list[str] = [\"I love Python\",\"I love c++\",\"great somehow\"]\n",
    "recieved_messages : list[str] = [] # \n",
    "send_messages(messages , recieved_messages)\n",
    "recieve_messages(recieved_messages)\n",
    "\n",
    "print(f\"\\nNow pending messages are : {messages}\")\n"
   ]
  },
  {
   "cell_type": "markdown",
   "metadata": {},
   "source": [
    "<b>8-11. Archived Messages</b> : `Start with your work from Exercise 8-10. Call the func-\n",
    "tion send_messages() with a copy of the list of messages. After calling the func-\n",
    "tion, print both of your lists to show that the original list has retained its messages.`"
   ]
  },
  {
   "cell_type": "code",
   "execution_count": 30,
   "metadata": {},
   "outputs": [
    {
     "name": "stdout",
     "output_type": "stream",
     "text": [
      "\n",
      "Message, 'great somehow' has been sent successfully\n",
      "\n",
      "Message, 'I love c++' has been sent successfully\n",
      "\n",
      "Message, 'I love Python' has been sent successfully\n",
      "\n",
      "Messages list after sending messages from the copy: ['I love Python', 'I love c++', 'great somehow']\n",
      "\n",
      "Recieved messages list: ['great somehow', 'I love c++', 'I love Python']\n"
     ]
    }
   ],
   "source": [
    "# Exercise 8-11\n",
    "def send_messages(list_messages : list[str], recieve_messages : list[str]) : \n",
    "    while list_messages:\n",
    "        sent_message = list_messages.pop()\n",
    "        print(f\"\\nMessage, '{sent_message}' has been sent successfully\")\n",
    "        recieve_messages.append(sent_message)\n",
    "\n",
    "\n",
    "def recieve_messages (sent_messages : list[str]):\n",
    "    print(\"\\nRevieved messages are here : \\n\")\n",
    "    for recieve_message in sent_messages:\n",
    "        print(f\"Message \\t '{recieve_message.title()}' \\t recived successfully\")\n",
    "\n",
    "messages : list[str] = [\"I love Python\",\"I love c++\",\"great somehow\"]\n",
    "recieved_messages : list[str] = [] # \n",
    "\n",
    "# Make a copy of the list of messages\n",
    "messages_copy = messages.copy()\n",
    "\n",
    "# Send messages from the copy\n",
    "send_messages(messages_copy , recieved_messages)\n",
    "\n",
    "# Print both lists\n",
    "print(f\"\\nMessages list after sending messages from the copy: {messages}\")\n",
    "print(f\"\\nRecieved messages list: {recieved_messages}\")\n"
   ]
  },
  {
   "cell_type": "markdown",
   "metadata": {},
   "source": [
    "### Passing an Arbitrary Number of Arguments"
   ]
  },
  {
   "cell_type": "markdown",
   "metadata": {},
   "source": [
    "* Sometimes you won’t know ahead of time how many arguments a function\n",
    "needs to accept.\n",
    "* Fortunately, Python allows a function to collect an arbi-\n",
    "trary number of arguments from the calling statement."
   ]
  },
  {
   "cell_type": "code",
   "execution_count": 31,
   "metadata": {},
   "outputs": [
    {
     "name": "stdout",
     "output_type": "stream",
     "text": [
      "('pepperoni',)\n",
      "('mushrooms', 'green peppers', 'extra cheese')\n"
     ]
    }
   ],
   "source": [
    "def make_pizza(*toppings : str) -> None:\n",
    "    print(toppings)\n",
    "make_pizza('pepperoni')\n",
    "make_pizza('mushrooms', 'green peppers', 'extra cheese')"
   ]
  },
  {
   "cell_type": "code",
   "execution_count": 33,
   "metadata": {},
   "outputs": [
    {
     "name": "stdout",
     "output_type": "stream",
     "text": [
      "\n",
      "Making pizza with the following toppins.\n",
      "- pepperoni\n",
      "\n",
      "Making pizza with the following toppins.\n",
      "- mushrooms\n",
      "- green peppers\n",
      "- extra cheese\n"
     ]
    }
   ],
   "source": [
    "def make_pizza(*toppings : str) -> None:\n",
    "    print(\"\\nMaking pizza with the following toppins.\")\n",
    "    for topping in toppings : \n",
    "        print(f\"- {topping}\")\n",
    "make_pizza('pepperoni')\n",
    "make_pizza('mushrooms', 'green peppers', 'extra cheese')"
   ]
  },
  {
   "cell_type": "markdown",
   "metadata": {},
   "source": [
    "#### Mixing Positional and Arbitrary Arguments"
   ]
  },
  {
   "cell_type": "code",
   "execution_count": 34,
   "metadata": {},
   "outputs": [
    {
     "name": "stdout",
     "output_type": "stream",
     "text": [
      "\n",
      "Making 16-inch pizza with the following toppins.\n",
      "- pepperoni\n",
      "\n",
      "Making 12-inch pizza with the following toppins.\n",
      "- mushrooms\n",
      "- green peppers\n",
      "- extra cheese\n"
     ]
    }
   ],
   "source": [
    "def make_pizza(size : int , *toppings : str) -> None:\n",
    "    print(f\"\\nMaking {size}-inch pizza with the following toppins.\")\n",
    "    for topping in toppings : \n",
    "        print(f\"- {topping}\")\n",
    "make_pizza(16,'pepperoni')\n",
    "make_pizza(12,'mushrooms', 'green peppers', 'extra cheese')"
   ]
  },
  {
   "cell_type": "markdown",
   "metadata": {},
   "source": [
    "<b>NOTE</b> :\n",
    "<br>&nbsp;&nbsp;&nbsp; `You’ll often see the generic parameter name *args, which collects arbitrary positional arguments like this.`\n"
   ]
  },
  {
   "cell_type": "markdown",
   "metadata": {},
   "source": [
    "#### Using Arbitrary Keyword Arguments"
   ]
  },
  {
   "cell_type": "code",
   "execution_count": 35,
   "metadata": {},
   "outputs": [
    {
     "name": "stdout",
     "output_type": "stream",
     "text": [
      "{'location': 'princeton', 'field': 'physics', 'first_name': 'albert', 'last_name': 'einstein'}\n"
     ]
    }
   ],
   "source": [
    "def build_profile(first : str, last : str, **user_info : str) -> dict[str,str]:\n",
    "    user_info['first_name'] = first\n",
    "    user_info['last_name'] = last\n",
    "    return user_info\n",
    "user_profile = build_profile('albert', 'einstein', location='princeton', field='physics')\n",
    "print(user_profile)"
   ]
  },
  {
   "cell_type": "markdown",
   "metadata": {},
   "source": [
    "<b>NOTE : </b>\n",
    "<br/>&nbsp;`You’ll often see the parameter name **kwargs used to collect nonspecific keyword\n",
    "arguments.`"
   ]
  },
  {
   "cell_type": "markdown",
   "metadata": {},
   "source": [
    "<p style=\"font-size: 32px\" align=\"center\"><b>TRY IT YOURSELF</b></p>"
   ]
  },
  {
   "cell_type": "markdown",
   "metadata": {},
   "source": [
    "<b>8-12. Sandwiches</b>  : `Write a function that accepts a list of items a person wants\n",
    "on a sandwich. The function should have one parameter that collects as many\n",
    "items as the function call provides, and it should print a summary of the sand-\n",
    "wich that’s being ordered. Call the function three times, using a different num-\n",
    "ber of arguments each time.`"
   ]
  },
  {
   "cell_type": "code",
   "execution_count": 36,
   "metadata": {},
   "outputs": [
    {
     "name": "stdout",
     "output_type": "stream",
     "text": [
      "Making a sandwich with the following ingredients:\n",
      "- ham\n",
      "- cheese\n",
      "Sandwich is ready!\n",
      "\n",
      "Making a sandwich with the following ingredients:\n",
      "- turkey\n",
      "- lettuce\n",
      "- tomato\n",
      "Sandwich is ready!\n",
      "\n",
      "Making a sandwich with the following ingredients:\n",
      "- chicken\n",
      "- bacon\n",
      "- avocado\n",
      "- mayo\n",
      "Sandwich is ready!\n",
      "\n"
     ]
    }
   ],
   "source": [
    "def make_sandwich(*ingredients):\n",
    "    print(\"Making a sandwich with the following ingredients:\")\n",
    "    for ingredient in ingredients:\n",
    "        print(\"- \" + ingredient)\n",
    "    print(\"Sandwich is ready!\\n\")\n",
    "\n",
    "# Call the function with different numbers of arguments\n",
    "make_sandwich(\"ham\", \"cheese\")\n",
    "make_sandwich(\"turkey\", \"lettuce\", \"tomato\")\n",
    "make_sandwich(\"chicken\", \"bacon\", \"avocado\", \"mayo\")\n"
   ]
  },
  {
   "cell_type": "markdown",
   "metadata": {},
   "source": [
    "<b>8-13. User Profile</b> : `Start with a copy of user_profile.py from page 148. Build a\n",
    "profile of yourself by calling build_profile(), using your first and last names\n",
    "and three other key-value pairs that describe you.`"
   ]
  },
  {
   "cell_type": "code",
   "execution_count": 37,
   "metadata": {},
   "outputs": [
    {
     "name": "stdout",
     "output_type": "stream",
     "text": [
      "{'location': 'princeton', 'field': 'physics', 'education': 'BS-MATH', 'age': 23, 'first_name': 'albert', 'last_name': 'einstein'}\n"
     ]
    }
   ],
   "source": [
    "def build_profile(first : str, last : str, **user_info : str) -> dict[str,str]:\n",
    "    user_info['first_name'] = first\n",
    "    user_info['last_name'] = last\n",
    "    return user_info\n",
    "user_profile = build_profile('albert', 'einstein', location='princeton', field='physics',education='BS-MATH',age=23)\n",
    "print(user_profile)"
   ]
  },
  {
   "cell_type": "markdown",
   "metadata": {},
   "source": [
    "<b>8-14. Cars</b> : `Write a function that stores information about a car in a diction-\n",
    "ary. The function should always receive a manufacturer and a model name. It\n",
    "should then accept an arbitrary number of keyword arguments. Call the func-\n",
    "tion with the required information and two other name-value pairs, such as a\n",
    "color or an optional feature. Your function should work for a call like this one:`"
   ]
  },
  {
   "cell_type": "markdown",
   "metadata": {},
   "source": [
    "<hr/>\n",
    "&nbsp;car = make_car('subaru', 'outback', color='blue', tow_package=True)\n",
    "<hr/>"
   ]
  },
  {
   "cell_type": "markdown",
   "metadata": {},
   "source": [
    "`Print the dictionary that’s returned to make sure all the information was\n",
    "stored correctly.`"
   ]
  },
  {
   "cell_type": "code",
   "execution_count": 39,
   "metadata": {},
   "outputs": [
    {
     "name": "stdout",
     "output_type": "stream",
     "text": [
      "{'manufacturer': 'subaru', 'model_name': 'outback', 'color': 'blue', 'tow_package': 'True'}\n",
      "{'manufacturer': 'subaru', 'model_name': 'outback', 'color': 'blue', 'tow_package': 'True'}\n"
     ]
    }
   ],
   "source": [
    "def make_car(manufacturer: str, model_name: str, **more_info: str) -> dict[str,str]:\n",
    "    car_info = {\n",
    "        'manufacturer': manufacturer,\n",
    "        'model_name': model_name,\n",
    "    }\n",
    "    car_info.update(more_info)\n",
    "    print(car_info)\n",
    "    return car_info\n",
    "\n",
    "car = make_car('subaru', 'outback', color='blue', tow_package=\"True\")\n",
    "print(car)"
   ]
  },
  {
   "cell_type": "markdown",
   "metadata": {},
   "source": [
    "#### Storing Your Functions in Modules"
   ]
  },
  {
   "cell_type": "markdown",
   "metadata": {},
   "source": [
    "#### Importing an Entire Module"
   ]
  },
  {
   "cell_type": "code",
   "execution_count": 40,
   "metadata": {},
   "outputs": [
    {
     "name": "stdout",
     "output_type": "stream",
     "text": [
      "\n",
      "Making a 16-inch pizza with the following toppings:\n",
      "- pepperoni\n",
      "\n",
      "Making a 12-inch pizza with the following toppings:\n",
      "- mushrooms\n",
      "- green peppers\n",
      "- extra cheese\n"
     ]
    }
   ],
   "source": [
    "import pizza\n",
    "\n",
    "pizza.make_pizza(16, 'pepperoni')\n",
    "pizza.make_pizza(12, 'mushrooms', 'green peppers', 'extra cheese')"
   ]
  },
  {
   "cell_type": "markdown",
   "metadata": {},
   "source": [
    "If you use this kind of import statement to import\n",
    "an entire module named module_name.py, each function in the module is\n",
    "available through the following syntax:\n",
    "<br/>\n",
    "<hr/>\n",
    "module_name.function_name()\n",
    "<hr/>"
   ]
  },
  {
   "cell_type": "markdown",
   "metadata": {},
   "source": [
    "#### Importing Specific Functions"
   ]
  },
  {
   "cell_type": "markdown",
   "metadata": {},
   "source": [
    "```Python\n",
    "  from module_name import function_name\n",
    "```"
   ]
  },
  {
   "cell_type": "markdown",
   "metadata": {},
   "source": [
    "### Importing Specific Functions"
   ]
  },
  {
   "cell_type": "code",
   "execution_count": 1,
   "metadata": {},
   "outputs": [
    {
     "name": "stdout",
     "output_type": "stream",
     "text": [
      "\n",
      "Making a 16-inch pizza with the following toppings:\n",
      "- pepperoni\n",
      "\n",
      "Making a 12-inch pizza with the following toppings:\n",
      "- mushrooms\n",
      "- green peppers\n",
      "- extra cheese\n"
     ]
    }
   ],
   "source": [
    "from pizza import make_pizza\n",
    "\n",
    "make_pizza(16, 'pepperoni')\n",
    "make_pizza(12, 'mushrooms', 'green peppers', 'extra cheese')"
   ]
  },
  {
   "cell_type": "markdown",
   "metadata": {},
   "source": [
    "### Using as to Give a Function an Alias"
   ]
  },
  {
   "cell_type": "markdown",
   "metadata": {},
   "source": [
    "```Python\n",
    "  from module_name import function_name as fn\n",
    "```"
   ]
  },
  {
   "cell_type": "code",
   "execution_count": 3,
   "metadata": {},
   "outputs": [
    {
     "name": "stdout",
     "output_type": "stream",
     "text": [
      "\n",
      "Making a 16-inch pizza with the following toppings:\n",
      "- pepperoni\n",
      "\n",
      "Making a 12-inch pizza with the following toppings:\n",
      "- mushrooms\n",
      "- green peppers\n",
      "- extra cheese\n"
     ]
    }
   ],
   "source": [
    "# import function as aliases \n",
    "# mostly used when we face ** naming conflicts   **\n",
    "\n",
    "from pizza import make_pizza as mp\n",
    "\n",
    "mp(16, 'pepperoni')\n",
    "mp(12, 'mushrooms', 'green peppers', 'extra cheese')"
   ]
  },
  {
   "cell_type": "markdown",
   "metadata": {},
   "source": [
    "### Using as to Give a Module an Alias"
   ]
  },
  {
   "cell_type": "markdown",
   "metadata": {},
   "source": [
    "```Python\n",
    "   import module_name as mn\n",
    "```"
   ]
  },
  {
   "cell_type": "code",
   "execution_count": 4,
   "metadata": {},
   "outputs": [
    {
     "name": "stdout",
     "output_type": "stream",
     "text": [
      "\n",
      "Making a 16-inch pizza with the following toppings:\n",
      "- pepperoni\n",
      "\n",
      "Making a 12-inch pizza with the following toppings:\n",
      "- mushrooms\n",
      "- green peppers\n",
      "- extra cheese\n"
     ]
    }
   ],
   "source": [
    "import pizza as p\n",
    "\n",
    "p.make_pizza(16,\"pepperoni\")\n",
    "p.make_pizza(12,\"mushrooms\",\"green peppers\",\"extra cheese\")"
   ]
  },
  {
   "cell_type": "markdown",
   "metadata": {},
   "source": [
    "### Importing All Functions in a Module"
   ]
  },
  {
   "cell_type": "markdown",
   "metadata": {},
   "source": [
    "```Python\n",
    "   from module_name import *\n",
    "```"
   ]
  },
  {
   "cell_type": "markdown",
   "metadata": {},
   "source": [
    "`The asterisk in the import statement tells Python to copy every function\n",
    "from the module pizza into this program file.`"
   ]
  },
  {
   "cell_type": "code",
   "execution_count": 5,
   "metadata": {},
   "outputs": [
    {
     "name": "stdout",
     "output_type": "stream",
     "text": [
      "\n",
      "Making a 16-inch pizza with the following toppings:\n",
      "- pepperoni\n",
      "\n",
      "Making a 12-inch pizza with the following toppings:\n",
      "- mushrooms\n",
      "- green peppers\n",
      "- extra cheese\n"
     ]
    }
   ],
   "source": [
    "from pizza import *\n",
    "\n",
    "make_pizza(16, 'pepperoni')\n",
    "make_pizza(12, 'mushrooms', 'green peppers', 'extra cheese')"
   ]
  },
  {
   "cell_type": "markdown",
   "metadata": {},
   "source": [
    "## Styling Functions"
   ]
  },
  {
   "cell_type": "markdown",
   "metadata": {},
   "source": [
    "<p>You need to keep a few details in mind when you’re styling functions.</p>\n",
    "\n",
    "*  Functions should have descriptive names\n",
    "*  Names should use lowercase letters and underscores.\n",
    "*  Every function should have a comment that explains concisely what\n",
    "the function does\n",
    "* This comment should appear immediately after the function definition and use the docstring format.\n",
    "* If you specify a default value for a parameter, no spaces should be used\n",
    "on either side of the equal sign:"
   ]
  },
  {
   "cell_type": "markdown",
   "metadata": {},
   "source": [
    "\n",
    "```Python\n",
    "   def function_name(parameter_0, parameter_1='default value')\n",
    "```\n",
    "\n",
    "* `The same convention should be used for keyword arguments in func-\n",
    "tion calls:`\n",
    "\n",
    "```Python\n",
    "    function_name(value_0, parameter_1='value')\n",
    "```\n"
   ]
  },
  {
   "cell_type": "markdown",
   "metadata": {},
   "source": [
    "* **PEP8 recommends you 79 characters so every line is visible in a reasonably\n",
    "sized editor window.**"
   ]
  },
  {
   "cell_type": "markdown",
   "metadata": {},
   "source": [
    "```Python\n",
    "    def function_name(\n",
    "            parameter_0, parameter_1, parameter_2,\n",
    "            parameter_3, parameter_4, parameter_5):\n",
    "        function body...\n",
    "```"
   ]
  },
  {
   "cell_type": "markdown",
   "metadata": {},
   "source": [
    "<p style=\"font-size: 32px\" align=\"center\"><b>TRY IT YOURSELF</b></p>"
   ]
  },
  {
   "cell_type": "markdown",
   "metadata": {},
   "source": [
    "<b>8-15. Printing Models:</b> `Put the functions for the example printing_models.py in a\n",
    "separate file called printing_functions.py. Write an import statement at the top\n",
    "of printing_models.py, and modify the file to use the imported functions.`"
   ]
  },
  {
   "cell_type": "code",
   "execution_count": 8,
   "metadata": {},
   "outputs": [
    {
     "name": "stdout",
     "output_type": "stream",
     "text": [
      "\n",
      "This is the printing model\n",
      "\n",
      "Making a 16-inch pizza with the following toppings:\n",
      "- pepperoni\n",
      "\n",
      "Making a 12-inch pizza with the following toppings:\n",
      "- mushrooms\n",
      "- green peppers\n",
      "- extra cheese\n"
     ]
    }
   ],
   "source": [
    "from pizza import make_pizza\n",
    "\n",
    "# function to clear terminal logs\n",
    "# import os\n",
    "# def clear():\n",
    "#     os.system(\"cls || clear\")\n",
    "\n",
    "\n",
    "def printing_model ():\n",
    "    # clear()\n",
    "    print(\"\\nThis is the printing model\")\n",
    "    make_pizza(16, 'pepperoni')\n",
    "    make_pizza(12, 'mushrooms', 'green peppers', 'extra cheese')\n",
    "\n",
    "printing_model()"
   ]
  },
  {
   "cell_type": "markdown",
   "metadata": {},
   "source": [
    "<b>8-16. Imports</b> :  `Using a program you wrote that has one function in it, store that\n",
    "function in a separate file. Import the function into your main program file, and\n",
    "call the function using each of these approaches:`"
   ]
  },
  {
   "cell_type": "markdown",
   "metadata": {},
   "source": [
    "<!-- <br/>\n",
    "<hr/>\n",
    "   \n",
    "<hr/> -->\n",
    "```Python\n",
    "    import module_name\n",
    "    from module_name import function_name\n",
    "    from module_name import function_name as fn\n",
    "    import module_name as mn\n",
    "    from module_name import *\n",
    "```"
   ]
  },
  {
   "cell_type": "code",
   "execution_count": 1,
   "metadata": {},
   "outputs": [
    {
     "name": "stdout",
     "output_type": "stream",
     "text": [
      "\n",
      "This is the printing model : 1\n",
      "\n",
      "Making a 16-inch pizza with the following toppings:\n",
      "- pepperoni\n",
      "\n",
      "Making a 12-inch pizza with the following toppings:\n",
      "- mushrooms\n",
      "- green peppers\n",
      "- extra cheese\n",
      "\n",
      "This is the printing model : 2\n",
      "\n",
      "Making a 16-inch pizza with the following toppings:\n",
      "- pepperoni\n",
      "\n",
      "Making a 12-inch pizza with the following toppings:\n",
      "- mushrooms\n",
      "- green peppers\n",
      "- extra cheese\n",
      "\n",
      "This is the printing model : 3\n",
      "\n",
      "Making a 16-inch pizza with the following toppings:\n",
      "- pepperoni\n",
      "\n",
      "Making a 12-inch pizza with the following toppings:\n",
      "- mushrooms\n",
      "- green peppers\n",
      "- extra cheese\n",
      "\n",
      "This is the printing model : 4\n",
      "\n",
      "Making a 16-inch pizza with the following toppings:\n",
      "- pepperoni\n",
      "\n",
      "Making a 12-inch pizza with the following toppings:\n",
      "- mushrooms\n",
      "- green peppers\n",
      "- extra cheese\n",
      "\n",
      "This is the printing model : 5\n",
      "\n",
      "Making a 16-inch pizza with the following toppings:\n",
      "- pepperoni\n",
      "\n",
      "Making a 12-inch pizza with the following toppings:\n",
      "- mushrooms\n",
      "- green peppers\n",
      "- extra cheese\n"
     ]
    }
   ],
   "source": [
    "import printing_functions # 01 printing_functions is the module name\n",
    "from printing_functions import printing_model  # 02 printing_model is the function name\n",
    "from printing_functions import printing_model as fn # 03 fn is the alias name\n",
    "from printing_functions import printing_model as pm # 04 pm is the alias name\n",
    "from printing_functions import *  # 05 * is the wildcard \n",
    "from printing_functions import clear # function to clear the log from terminal\n",
    "\n",
    "\n",
    "\n",
    "printing_functions.printing_model() # 01 calling the function \n",
    "\n",
    "\n",
    "printing_model() # 02 calling the function\n",
    "\n",
    "fn() # 03 calling the function\n",
    "\n",
    "pm() # 04 calling the function\n",
    "\n",
    "printing_model() # 05 calling the function using asterick * "
   ]
  },
  {
   "cell_type": "markdown",
   "metadata": {},
   "source": [
    "<b>8-17. Styling Functions</b> : `Choose any three programs you wrote for this chapter,\n",
    "and make sure they follow the styling guidelines described in this section.`"
   ]
  },
  {
   "cell_type": "code",
   "execution_count": 4,
   "metadata": {},
   "outputs": [
    {
     "name": "stdout",
     "output_type": "stream",
     "text": [
      "The area of a circle with radius 5 is 78.54\n",
      "25 degrees Celsius is equal to 77.0 degrees Fahrenheit\n",
      "The maximum number in [10, 5, 27, 14, 8] is 27\n"
     ]
    }
   ],
   "source": [
    "import math\n",
    "\n",
    "# Test the function 01\n",
    "def calculate_area(radius : int) -> float:\n",
    "    \"\"\"Calculate the area of a circle given its radius.\"\"\"\n",
    "    area = math.pi * radius ** 2\n",
    "    return area\n",
    "\n",
    "# Calling function\n",
    "circle_radius = 5\n",
    "circle_area = calculate_area(circle_radius)\n",
    "print(f\"The area of a circle with radius {circle_radius} is {circle_area:.2f}\")\n",
    "\n",
    "\n",
    "# Test the function 02\n",
    "def celsius_to_fahrenheit(celsius : int) -> float:\n",
    "    \"\"\"Convert temperature from Celsius to Fahrenheit.\"\"\"\n",
    "    fahrenheit = (celsius * 9/5) + 32\n",
    "    return fahrenheit\n",
    "\n",
    "# calling funciton\n",
    "celsius_temp = 25\n",
    "fahrenheit_temp = celsius_to_fahrenheit(celsius_temp)\n",
    "print(f\"{celsius_temp} degrees Celsius is equal to {fahrenheit_temp:.1f} degrees Fahrenheit\")\n",
    "\n",
    "# Test the function 03\n",
    "def find_maximum(numbers : list[int]) -> int | None :\n",
    "    \"\"\"Find the maximum number from a list of numbers.\"\"\"\n",
    "    if not numbers:\n",
    "        return None\n",
    "    max_number = numbers[0]\n",
    "    for number in numbers:\n",
    "        if number > max_number:\n",
    "            max_number = number\n",
    "    return max_number\n",
    "\n",
    "# calling function\n",
    "number_list = [10, 5, 27, 14, 8]\n",
    "maximum_number = find_maximum(number_list)\n",
    "print(f\"The maximum number in {number_list} is {maximum_number}\")\n"
   ]
  }
 ],
 "metadata": {
  "kernelspec": {
   "display_name": "py12",
   "language": "python",
   "name": "python3"
  },
  "language_info": {
   "codemirror_mode": {
    "name": "ipython",
    "version": 3
   },
   "file_extension": ".py",
   "mimetype": "text/x-python",
   "name": "python",
   "nbconvert_exporter": "python",
   "pygments_lexer": "ipython3",
   "version": "3.12.0"
  }
 },
 "nbformat": 4,
 "nbformat_minor": 2
}
