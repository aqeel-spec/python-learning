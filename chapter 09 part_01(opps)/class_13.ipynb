{
 "cells": [
  {
   "cell_type": "markdown",
   "metadata": {},
   "source": [
    "def obj1_speak () : pass\n",
    "def obj2_speak () : pass\n",
    "\n"
   ]
  },
  {
   "cell_type": "code",
   "execution_count": 1,
   "metadata": {},
   "outputs": [],
   "source": [
    "def obj1_speak () : pass\n",
    "def obj2_speak () : pass\n",
    "\n",
    "obj1_name : str = \"Sir Zia\"\n",
    "obj2_name : str = \"Sir Muhammad Qasim\"\n"
   ]
  },
  {
   "cell_type": "markdown",
   "metadata": {},
   "source": [
    "## OOP (Object Oriented Programming)\n",
    "* Class \n",
    "  * method\n",
    "    * first argument must be addition variable (self, this , or anthing else)\n",
    "  * attribute\n",
    "    * connect with individual object\n",
    "  * class variables\n",
    "  * constructor\n",
    "    * def ```__init__(self,arg1,arg2)```\n",
    "  * Class variable\n",
    "    * this value use for all objects\n",
    "      * ```ClassName.class_variavle```\n",
    "```class ClassName():\n",
    "    class_variable1 : type = Value\n",
    "```\n",
    "  \n",
    "\n",
    "## Syntax of class\n",
    "```\n",
    "class ClassName ():\n",
    "  pass\n",
    "```"
   ]
  },
  {
   "cell_type": "code",
   "execution_count": 12,
   "metadata": {},
   "outputs": [],
   "source": [
    "class Teacher ():\n",
    "    #             self is an additional \n",
    "    #             we can write any name\n",
    "    def __init__(self, teacher_id : int , teacher_name : str) -> None: # method/constructor\n",
    "        # after self whatever name is called \"attribute\"\n",
    "        # self. attribute_name\n",
    "        self.name : str = teacher_name\n",
    "        self.teacher_id : int = teacher_id\n",
    "        self.organization_name = 'PIAIC'\n",
    "    # these are actions -> methods\n",
    "    def speak(self, words : str) -> None: # method\n",
    "        print(f\"{self.name} is speaking : {words} \")\n",
    "    \n",
    "    def teaching(self , subject : str) -> None: # method\n",
    "        print(f\"{self.name} is teaching {subject}..!\")\n"
   ]
  },
  {
   "cell_type": "code",
   "execution_count": 13,
   "metadata": {},
   "outputs": [],
   "source": [
    "# \n",
    "obj1 : Teacher = Teacher(1,\"Sir Zia Khan\")\n",
    "obj2 : Teacher = Teacher(2,\"Sir Muhammad Qasim\")\n"
   ]
  },
  {
   "cell_type": "code",
   "execution_count": 14,
   "metadata": {},
   "outputs": [
    {
     "name": "stdout",
     "output_type": "stream",
     "text": [
      "Sir Zia Khan\n",
      "Sir Muhammad Qasim\n"
     ]
    }
   ],
   "source": [
    "print(obj1.name)\n",
    "print(obj2.name)"
   ]
  },
  {
   "cell_type": "code",
   "execution_count": 15,
   "metadata": {},
   "outputs": [
    {
     "name": "stdout",
     "output_type": "stream",
     "text": [
      "Sir Zia Khan\n",
      "1\n",
      "PIAIC\n",
      "Sir Muhammad Qasim\n",
      "2\n",
      "PIAIC\n"
     ]
    }
   ],
   "source": [
    "print(obj1.name)\n",
    "print(obj1.teacher_id)\n",
    "print(obj1.organization_name)\n",
    "\n",
    "print(obj2.name)\n",
    "print(obj2.teacher_id)\n",
    "print(obj2.organization_name)"
   ]
  },
  {
   "cell_type": "code",
   "execution_count": 16,
   "metadata": {},
   "outputs": [
    {
     "name": "stdout",
     "output_type": "stream",
     "text": [
      "Sir Zia Khan is teaching Generative AI..!\n"
     ]
    }
   ],
   "source": [
    "obj1.teaching(\"Generative AI\")"
   ]
  },
  {
   "cell_type": "code",
   "execution_count": 17,
   "metadata": {},
   "outputs": [
    {
     "name": "stdout",
     "output_type": "stream",
     "text": [
      "Sir Muhammad Qasim is teaching Deep Learning..!\n"
     ]
    }
   ],
   "source": [
    "obj2.teaching(\"Deep Learning\")"
   ]
  },
  {
   "cell_type": "code",
   "execution_count": 11,
   "metadata": {},
   "outputs": [
    {
     "data": {
      "text/plain": [
       "['__class__',\n",
       " '__delattr__',\n",
       " '__dict__',\n",
       " '__dir__',\n",
       " '__doc__',\n",
       " '__eq__',\n",
       " '__format__',\n",
       " '__ge__',\n",
       " '__getattribute__',\n",
       " '__getstate__',\n",
       " '__gt__',\n",
       " '__hash__',\n",
       " '__init__',\n",
       " '__init_subclass__',\n",
       " '__le__',\n",
       " '__lt__',\n",
       " '__module__',\n",
       " '__ne__',\n",
       " '__new__',\n",
       " '__reduce__',\n",
       " '__reduce_ex__',\n",
       " '__repr__',\n",
       " '__setattr__',\n",
       " '__sizeof__',\n",
       " '__str__',\n",
       " '__subclasshook__',\n",
       " '__weakref__',\n",
       " 'name',\n",
       " 'organization_name',\n",
       " 'speak',\n",
       " 'teacher_id',\n",
       " 'teaching']"
      ]
     },
     "execution_count": 11,
     "metadata": {},
     "output_type": "execute_result"
    }
   ],
   "source": [
    "dir(obj1)"
   ]
  },
  {
   "cell_type": "code",
   "execution_count": 19,
   "metadata": {},
   "outputs": [],
   "source": [
    "class Teacher ():\n",
    "    #             self is an additional \n",
    "    #  constructor , we can write any name\n",
    "    def __init__(this, teacher_id : int , teacher_name : str) -> None: # method/constructor\n",
    "        # after self whatever name is called \"attribute\"\n",
    "        # self. attribute_name\n",
    "        this.name : str = teacher_name\n",
    "        this.teacher_id : int = teacher_id\n",
    "        this.organization_name : str = 'PIAIC'\n",
    "\n",
    "    # these are actions -> methods\n",
    "    #          here self is used for connectivity \n",
    "    def speak(self, words : str) -> None: # method\n",
    "        print(f\"{self.name} is speaking : {words} \")\n",
    "    \n",
    "    def teaching(self , subject : str) -> None: # method\n",
    "        print(f\"{self.name} is teaching {subject}..!\")\n"
   ]
  },
  {
   "cell_type": "code",
   "execution_count": null,
   "metadata": {},
   "outputs": [],
   "source": [
    "# \n",
    "obj1 : Teacher = Teacher(1,\"Sir Zia Khan\") # initialize object-> calling constructor method only this time\n",
    "# obj1 = object , teacher class instance \n",
    "\n",
    "\n",
    "obj2 : Teacher = Teacher(2,\"Sir Muhammad Qasim\")"
   ]
  },
  {
   "cell_type": "code",
   "execution_count": 20,
   "metadata": {},
   "outputs": [
    {
     "ename": "TypeError",
     "evalue": "Teacher.__init__() missing 1 required positional argument: 'teacher_name'",
     "output_type": "error",
     "traceback": [
      "\u001b[0;31m---------------------------------------------------------------------------\u001b[0m",
      "\u001b[0;31mTypeError\u001b[0m                                 Traceback (most recent call last)",
      "\u001b[1;32m/home/shahzad/Documents/GitHub/python-learning/chapter 09(opps)/class_13.ipynb Cell 13\u001b[0m line \u001b[0;36m1\n\u001b[0;32m----> <a href='vscode-notebook-cell:/home/shahzad/Documents/GitHub/python-learning/chapter%2009%28opps%29/class_13.ipynb#X15sZmlsZQ%3D%3D?line=0'>1</a>\u001b[0m abc1 : Teacher \u001b[39m=\u001b[39m Teacher(\u001b[39m2\u001b[39;49m)\n",
      "\u001b[0;31mTypeError\u001b[0m: Teacher.__init__() missing 1 required positional argument: 'teacher_name'"
     ]
    }
   ],
   "source": [
    "abc1 : Teacher = Teacher(2)"
   ]
  },
  {
   "cell_type": "code",
   "execution_count": 21,
   "metadata": {},
   "outputs": [],
   "source": [
    "class Teacher ():\n",
    "    \n",
    "    def __init__(this, teacher_id : int , teacher_name : str) -> None: # method/constructor\n",
    "        this.name : str = teacher_name\n",
    "        this.teacher_id : int = teacher_id\n",
    "        this.organization_name : str = 'PIAIC'\n",
    "\n",
    "    def speak(self, words : str) -> None: # method\n",
    "        print(f\"{self.name} is speaking : {words} \")\n",
    "    \n",
    "    def teaching(self , subject : str) -> None: # method\n",
    "        print(f\"{self.name} is teaching {subject}..!\")\n"
   ]
  },
  {
   "cell_type": "markdown",
   "metadata": {},
   "source": [
    "# Class Variables\n",
    "\n",
    "* Class variable\n",
    "* this value use for all objects\n",
    "    * ```ClassName.class_variavle```\n",
    "    * `object_name.class_variable`\n",
    "    ```class ClassName():\n",
    "        class_variable1 : type = Value\n",
    "    ```"
   ]
  },
  {
   "cell_type": "code",
   "execution_count": 39,
   "metadata": {},
   "outputs": [
    {
     "name": "stdout",
     "output_type": "stream",
     "text": [
      "1 1\n"
     ]
    }
   ],
   "source": [
    "class Teacher ():\n",
    "    counter : int = 0\n",
    "    help_line_numeber : int = \"0315-2968211\" # Sir Qasim Number\n",
    "    \n",
    "\n",
    "    def __init__(this, teacher_id : int , teacher_name : str) -> None: # method/constructor\n",
    "        this.name : str = teacher_name\n",
    "        this.teacher_id : int = teacher_id\n",
    "        this.organization_name : str = 'PIAIC'\n",
    "        Teacher.counter += 1\n",
    "\n",
    "    def speak(self, words : str) -> None: # method\n",
    "        print(f\"{self.name} is speaking : {words} \")\n",
    "    \n",
    "    def teaching(self , subject : str) -> None: # method\n",
    "        print(f\"{self.name} is teaching {subject}..!\")\n",
    "\n",
    "    def details (self) -> None:\n",
    "        information : str = f\"\"\"\n",
    "            Teacher Name : {self.name}\n",
    "            Teacher ID : {self.teacher_id}\n",
    "            our help line number is : {Teacher.help_line_numeber}\n",
    "        \"\"\"\n",
    "        print(information)\n",
    "\n",
    "obj1 : Teacher = Teacher(1,\"Sir Zia Khan\")\n",
    "\n",
    "print(Teacher.counter, obj1.counter)"
   ]
  },
  {
   "cell_type": "code",
   "execution_count": 40,
   "metadata": {},
   "outputs": [
    {
     "name": "stdout",
     "output_type": "stream",
     "text": [
      "2 2\n"
     ]
    }
   ],
   "source": [
    "obj2 : Teacher = Teacher(2,\"Sir Muhammad Qasim\")\n",
    "\n",
    "print(obj2.counter, Teacher.counter)"
   ]
  },
  {
   "cell_type": "code",
   "execution_count": 41,
   "metadata": {},
   "outputs": [
    {
     "data": {
      "text/plain": [
       "140696396582160"
      ]
     },
     "execution_count": 41,
     "metadata": {},
     "output_type": "execute_result"
    }
   ],
   "source": [
    "id(obj1)"
   ]
  },
  {
   "cell_type": "code",
   "execution_count": 42,
   "metadata": {},
   "outputs": [
    {
     "data": {
      "text/plain": [
       "140696396628624"
      ]
     },
     "execution_count": 42,
     "metadata": {},
     "output_type": "execute_result"
    }
   ],
   "source": [
    "id(obj2)"
   ]
  },
  {
   "cell_type": "code",
   "execution_count": 43,
   "metadata": {},
   "outputs": [
    {
     "name": "stdout",
     "output_type": "stream",
     "text": [
      "2\n",
      "2\n",
      "2\n",
      "0315-2968211\n",
      "0315-2968211\n",
      "0315-2968211\n"
     ]
    }
   ],
   "source": [
    "print(obj1.counter)\n",
    "print(obj2.counter)\n",
    "print(Teacher.counter)\n",
    "\n",
    "print(obj1.help_line_numeber)\n",
    "print(obj2.help_line_numeber)\n",
    "print(Teacher.help_line_numeber)"
   ]
  },
  {
   "cell_type": "code",
   "execution_count": 34,
   "metadata": {},
   "outputs": [
    {
     "name": "stdout",
     "output_type": "stream",
     "text": [
      "\n",
      "            Teacher Name : Sir Zia Khan\n",
      "            Teacher ID : 1\n",
      "            our help line number is : 0315-2968211\n",
      "        \n"
     ]
    }
   ],
   "source": [
    "obj1.details()"
   ]
  },
  {
   "cell_type": "markdown",
   "metadata": {},
   "source": [
    "### object oriented has 4_pillors\n"
   ]
  },
  {
   "cell_type": "markdown",
   "metadata": {},
   "source": [
    "## 1. Inheritence\n",
    "\n",
    "```\n",
    "class ChildClass (ParentClass):\n",
    "    pass\n",
    "\n",
    "```\n",
    "\n",
    "* `anything or characteristics that we has from parents` in called `Inheritence.`\n",
    "* always goes from parents to child\n"
   ]
  },
  {
   "cell_type": "code",
   "execution_count": 51,
   "metadata": {},
   "outputs": [
    {
     "name": "stdout",
     "output_type": "stream",
     "text": [
      "brown\n",
      "black\n",
      "Parent method speak : Pakistan Zinda bad!\n",
      "You are looking TV!\n",
      "\n",
      "============== Child Object ===========\n",
      "\n",
      "You are looking Cinema!\n",
      "None\n",
      "Parent method speak : Pakistan Zinda bad\n",
      "None\n",
      "brown\n",
      "black\n"
     ]
    }
   ],
   "source": [
    "class Parents():\n",
    "    def __init__(self) -> None:\n",
    "        self.eye_color : str = \"brown\"\n",
    "        self.hair_color : str = \"black\"\n",
    "\n",
    "    def speak(self, words : str) -> None:\n",
    "        print(f\"Parent method speaking: {words}\")\n",
    "    \n",
    "    def watching(self, object_name : str) -> None:\n",
    "        print(f\"You are looking {object_name}!\")\n",
    "\n",
    "class Child(Parents):\n",
    "    pass\n",
    "\n",
    "\n",
    "obj1 : Parents = Parents()\n",
    "\n",
    "print(obj1.eye_color)\n",
    "print(obj1.hair_color)\n",
    "obj1.speak(\"Pakistan Zinda bad!\")\n",
    "obj1.watching(\"TV\")\n",
    "\n",
    "\n",
    "print(\"\\n============== Child Object ===========\\n\")\n",
    "# child object\n",
    "obj2 : Child = Child()\n",
    "print(obj2.watching(\"Cinema\"))\n",
    "print(obj2.speak(\"Pakistan Zinda bad\"))\n",
    "print(obj2.eye_color)\n",
    "print(obj2.hair_color)\n"
   ]
  },
  {
   "cell_type": "code",
   "execution_count": 52,
   "metadata": {},
   "outputs": [
    {
     "name": "stdout",
     "output_type": "stream",
     "text": [
      "brown\n",
      "black\n",
      "Parent method speaking: Pakistan Zinda bad!\n",
      "You are looking TV!\n",
      "\n",
      "============== Child Object ===========\n",
      "\n",
      "You are looking Cinema!\n",
      "Parent method speaking: Pakistan Zinda bad\n",
      "brown\n",
      "black\n",
      "Child method for teaching : Genarative AI\n"
     ]
    }
   ],
   "source": [
    "class Parents():\n",
    "    def __init__(self) -> None:\n",
    "        self.eye_color : str = \"brown\"\n",
    "        self.hair_color : str = \"black\"\n",
    "\n",
    "    def speak(self, words : str) -> None:\n",
    "        print(f\"Parent method speaking: {words}\")\n",
    "    \n",
    "    def watching(self, object_name : str) -> None:\n",
    "        print(f\"You are looking {object_name}!\")\n",
    "\n",
    "class Child(Parents):\n",
    "    def teaching(self, subject : str = None) -> None:\n",
    "        print(f\"Child method for teaching : {subject}\")\n",
    "\n",
    "\n",
    "\n",
    "\n",
    "obj1 : Parents = Parents()\n",
    "\n",
    "print(obj1.eye_color)\n",
    "print(obj1.hair_color)\n",
    "obj1.speak(\"Pakistan Zinda bad!\")\n",
    "obj1.watching(\"TV\")\n",
    "\n",
    "\n",
    "\n",
    "print(\"\\n============== Child Object ===========\\n\")\n",
    "\n",
    "# child object\n",
    "obj2 : Child = Child()\n",
    "obj2.watching(\"Cinema\")\n",
    "obj2.speak(\"Pakistan Zinda bad\")\n",
    "print(obj2.eye_color)\n",
    "print(obj2.hair_color)\n",
    "obj2.teaching(\"Genarative AI\")\n",
    "\n",
    "# REAL WORLD examples : HR management system\n",
    "# what employee come for job like cnic,last education\n",
    "# all those properties which are same for all like COO , manager, employee , marketing manager\n",
    "# all those properties which are different for all like CEO , CFO , CTO \n"
   ]
  },
  {
   "cell_type": "code",
   "execution_count": 53,
   "metadata": {},
   "outputs": [
    {
     "ename": "SyntaxError",
     "evalue": "invalid syntax (746524941.py, line 12)",
     "output_type": "error",
     "traceback": [
      "\u001b[0;36m  Cell \u001b[0;32mIn[53], line 12\u001b[0;36m\u001b[0m\n\u001b[0;31m    class Developer(Employee , title : str):\u001b[0m\n\u001b[0m                                     ^\u001b[0m\n\u001b[0;31mSyntaxError\u001b[0m\u001b[0;31m:\u001b[0m invalid syntax\n"
     ]
    }
   ],
   "source": [
    "class Employee():\n",
    "    def __init__(self, name) -> None:\n",
    "        self.name : str = name,\n",
    "        self.education : str = \"\"\n",
    "        self.department : str = \"\"\n",
    "\n",
    "class Designer(Employee):\n",
    "    def __init__(self , title : str , name : str) -> None:\n",
    "        super().__init__(name)\n",
    "        self.title : str = title\n",
    "\n",
    "class Developer(Employee , title : str):\n",
    "    def __init__(self, title : str, name : str) -> None:\n",
    "        super().__init__()\n",
    "        self.title : str = title\n",
    "        self.programming_skills : list[str] = []\n",
    "\n",
    "design1 : Designer = Designer(\"Aitist Name\",\"Asif Khan\")\n",
    "\n",
    "dev1 : Developer = Developer(\"Python Developer\",\"Tahir\")\n",
    "\n",
    "print(design1.title)\n",
    "print(dev.programming_skills)\n"
   ]
  },
  {
   "cell_type": "code",
   "execution_count": null,
   "metadata": {},
   "outputs": [],
   "source": []
  }
 ],
 "metadata": {
  "kernelspec": {
   "display_name": "p-learning",
   "language": "python",
   "name": "python3"
  },
  "language_info": {
   "codemirror_mode": {
    "name": "ipython",
    "version": 3
   },
   "file_extension": ".py",
   "mimetype": "text/x-python",
   "name": "python",
   "nbconvert_exporter": "python",
   "pygments_lexer": "ipython3",
   "version": "3.11.5"
  }
 },
 "nbformat": 4,
 "nbformat_minor": 2
}
