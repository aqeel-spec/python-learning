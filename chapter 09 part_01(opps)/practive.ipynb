{
 "cells": [
  {
   "cell_type": "markdown",
   "metadata": {},
   "source": [
    "#### syntax of class\n",
    "\n",
    "```python\n",
    "class ClassName():\n",
    "    pass\n",
    "```"
   ]
  },
  {
   "cell_type": "code",
   "execution_count": 1,
   "metadata": {},
   "outputs": [],
   "source": [
    "class Teacher ():\n",
    "    def __init__(self , teacher_id : int , teacher_name : str ) -> None: # method/constructor\n",
    "        self.teacher_id = teacher_id\n",
    "        self.teacher_name = teacher_name\n",
    "        self.organization : str = 'PIAIC'\n",
    "    \n",
    "    def speak(self, words : str) -> None:\n",
    "        print(f\"{self.teacher_name} is speaking {words}\")\n",
    "    \n",
    "    def teaching(self , subject : str) -> None:\n",
    "        print(f\"{self.teacher_name} is teaching {subject}\")\n"
   ]
  },
  {
   "cell_type": "code",
   "execution_count": 2,
   "metadata": {},
   "outputs": [],
   "source": [
    "#\n",
    "obj1 : Teacher = Teacher(1,\"Sir Zia Khan\") #intialize object->calling constructor __init__() method only this time\n",
    "# obj1 = object, teacher class instance\n",
    "\n",
    "\n",
    "\n",
    "obj2 : Teacher = Teacher(2, \"Muhammad Qasim\")"
   ]
  },
  {
   "cell_type": "code",
   "execution_count": 3,
   "metadata": {},
   "outputs": [
    {
     "ename": "TypeError",
     "evalue": "Teacher.__init__() missing 1 required positional argument: 'teacher_name'",
     "output_type": "error",
     "traceback": [
      "\u001b[0;31m---------------------------------------------------------------------------\u001b[0m",
      "\u001b[0;31mTypeError\u001b[0m                                 Traceback (most recent call last)",
      "\u001b[1;32m/home/shahzad/Documents/GitHub/python-learning/chapter 09(opps)/practive.ipynb Cell 4\u001b[0m line \u001b[0;36m1\n\u001b[0;32m----> <a href='vscode-notebook-cell:/home/shahzad/Documents/GitHub/python-learning/chapter%2009%28opps%29/practive.ipynb#W3sZmlsZQ%3D%3D?line=0'>1</a>\u001b[0m abc1 : Teacher \u001b[39m=\u001b[39m Teacher(\u001b[39m3\u001b[39;49m)\n",
      "\u001b[0;31mTypeError\u001b[0m: Teacher.__init__() missing 1 required positional argument: 'teacher_name'"
     ]
    }
   ],
   "source": [
    "abc1 : Teacher = Teacher(3)"
   ]
  },
  {
   "cell_type": "code",
   "execution_count": 4,
   "metadata": {},
   "outputs": [
    {
     "name": "stdout",
     "output_type": "stream",
     "text": [
      "Sir Zia Khan\n",
      "1\n",
      "PIAIC\n",
      "Muhammad Qasim\n",
      "2\n",
      "PIAIC\n"
     ]
    }
   ],
   "source": [
    "print(obj1.teacher_name)\n",
    "print(obj1.teacher_id)\n",
    "print(obj1.organization)\n",
    "\n",
    "print(obj2.teacher_name)\n",
    "print(obj2.teacher_id)\n",
    "print(obj2.organization)"
   ]
  },
  {
   "cell_type": "code",
   "execution_count": 5,
   "metadata": {},
   "outputs": [
    {
     "name": "stdout",
     "output_type": "stream",
     "text": [
      "Muhammad Qasim is teaching Generative AI\n"
     ]
    }
   ],
   "source": [
    "obj2.teaching(\"Generative AI\")"
   ]
  },
  {
   "cell_type": "code",
   "execution_count": 6,
   "metadata": {},
   "outputs": [
    {
     "name": "stdout",
     "output_type": "stream",
     "text": [
      "Sir Zia Khan is teaching Deep learning\n"
     ]
    }
   ],
   "source": [
    "obj1.teaching(\"Deep learning\")"
   ]
  },
  {
   "cell_type": "code",
   "execution_count": 7,
   "metadata": {},
   "outputs": [
    {
     "data": {
      "text/plain": [
       "['__class__',\n",
       " '__delattr__',\n",
       " '__dict__',\n",
       " '__dir__',\n",
       " '__doc__',\n",
       " '__eq__',\n",
       " '__format__',\n",
       " '__ge__',\n",
       " '__getattribute__',\n",
       " '__getstate__',\n",
       " '__gt__',\n",
       " '__hash__',\n",
       " '__init__',\n",
       " '__init_subclass__',\n",
       " '__le__',\n",
       " '__lt__',\n",
       " '__module__',\n",
       " '__ne__',\n",
       " '__new__',\n",
       " '__reduce__',\n",
       " '__reduce_ex__',\n",
       " '__repr__',\n",
       " '__setattr__',\n",
       " '__sizeof__',\n",
       " '__str__',\n",
       " '__subclasshook__',\n",
       " '__weakref__',\n",
       " 'organization',\n",
       " 'speak',\n",
       " 'teacher_id',\n",
       " 'teacher_name',\n",
       " 'teaching']"
      ]
     },
     "execution_count": 7,
     "metadata": {},
     "output_type": "execute_result"
    }
   ],
   "source": [
    "dir(obj1)"
   ]
  },
  {
   "cell_type": "markdown",
   "metadata": {},
   "source": [
    "## Class Variable"
   ]
  },
  {
   "cell_type": "markdown",
   "metadata": {},
   "source": [
    "* Class variable\n",
    "* this valie use for all objects\n",
    "  * className.class_variable\n",
    "  * object_name.class_variable\n",
    "  \n",
    "```\n",
    "class ClassName():\n",
    "    class_variable : type = Value\n",
    "```"
   ]
  },
  {
   "cell_type": "code",
   "execution_count": 10,
   "metadata": {},
   "outputs": [
    {
     "name": "stdout",
     "output_type": "stream",
     "text": [
      "1 1\n"
     ]
    }
   ],
   "source": [
    "class Teacher():\n",
    "    counter : int = 0 # class variable\n",
    "    help_line_number : str = \"0315-2968211\"\n",
    "\n",
    "    def __init__(self, teacher_id : int , teacher_name) -> None:\n",
    "        self.teacher_id : int = teacher_id\n",
    "        self.teacher_name : str = teacher_name\n",
    "        self.otganization : str = 'PIAIC'\n",
    "        Teacher.counter += 1\n",
    "\n",
    "    def speak(self , words : str) -> None: # method\n",
    "        print(f\"{self.teacher_name} is speaking : {words} \" )\n",
    "    \n",
    "    def teaching(self , subject : str) -> None: # method\n",
    "        print(f\"{self.teacher_name} is teaching {subject}..!\")\n",
    "    \n",
    "    def details (self) -> None:\n",
    "        information : str = f\"\"\"\n",
    "            Teacher Name : {self.teacher_name}\n",
    "            Teacher ID : {self.teacher_id}\n",
    "            our help line number is : {Teacher.help_line_number}\n",
    "        \"\"\"\n",
    "        print(information)\n",
    "\n",
    "obj1 : Teacher = Teacher(1,\"Sir Zia Khan\")\n",
    "print(Teacher.counter, obj1.counter)"
   ]
  },
  {
   "cell_type": "code",
   "execution_count": 11,
   "metadata": {},
   "outputs": [
    {
     "data": {
      "text/plain": [
       "139687250754640"
      ]
     },
     "execution_count": 11,
     "metadata": {},
     "output_type": "execute_result"
    }
   ],
   "source": [
    "id(obj1)"
   ]
  },
  {
   "cell_type": "code",
   "execution_count": 12,
   "metadata": {},
   "outputs": [
    {
     "name": "stdout",
     "output_type": "stream",
     "text": [
      "2 2\n"
     ]
    }
   ],
   "source": [
    "obj2 : Teacher = Teacher(1,\"Sir Muhammad Qasim\")\n",
    "print(Teacher.counter, obj1.counter)"
   ]
  },
  {
   "cell_type": "code",
   "execution_count": 13,
   "metadata": {},
   "outputs": [
    {
     "data": {
      "text/plain": [
       "139687250543952"
      ]
     },
     "execution_count": 13,
     "metadata": {},
     "output_type": "execute_result"
    }
   ],
   "source": [
    "id(obj2)"
   ]
  },
  {
   "cell_type": "code",
   "execution_count": 14,
   "metadata": {},
   "outputs": [
    {
     "name": "stdout",
     "output_type": "stream",
     "text": [
      "2\n",
      "2\n",
      "2\n",
      "0315-2968211\n",
      "0315-2968211\n",
      "0315-2968211\n"
     ]
    }
   ],
   "source": [
    "print(obj1.counter)\n",
    "print(obj2.counter)\n",
    "print(Teacher.counter)\n",
    "\n",
    "print(obj1.help_line_number)\n",
    "print(obj2.help_line_number)\n",
    "print(Teacher.help_line_number)"
   ]
  },
  {
   "cell_type": "code",
   "execution_count": 15,
   "metadata": {},
   "outputs": [
    {
     "name": "stdout",
     "output_type": "stream",
     "text": [
      "\n",
      "            Teacher Name : Sir Zia Khan\n",
      "            Teacher ID : 1\n",
      "            our help line number is : 0315-2968211\n",
      "        \n"
     ]
    }
   ],
   "source": [
    "obj1.details()"
   ]
  },
  {
   "cell_type": "markdown",
   "metadata": {},
   "source": [
    "#### 1.Inheritence\n",
    "\n",
    "```python\n",
    "class ChildClass (ParentClass):\n",
    "    pass\n",
    "```"
   ]
  },
  {
   "cell_type": "code",
   "execution_count": 16,
   "metadata": {},
   "outputs": [
    {
     "name": "stdout",
     "output_type": "stream",
     "text": [
      "Brown\n",
      "black\n",
      "Parent method speak : Pakistan Zinda bad!\n",
      "Parent method watching : TV\n",
      "\n",
      " ======= Child object ======= \n",
      "\n",
      "Parent method watching : cinema\n",
      "None\n",
      "Parent method speak : Pakistan Zinda bad!\n",
      "None\n",
      "Brown\n",
      "black\n"
     ]
    }
   ],
   "source": [
    "class Parents():\n",
    "    def __init__(self):\n",
    "        self.eye_color : str = \"Brown\"\n",
    "        self.hair_color : str = \"black\"\n",
    "    \n",
    "    def speak(self, words : str) -> None:\n",
    "        print(f\"Parent method speak : {words}\")\n",
    "\n",
    "    def watching(self , object_name : str) -> None:\n",
    "        print(f\"Parent method watching : {object_name}\")\n",
    "\n",
    "class Child(Parents):\n",
    "    pass\n",
    "\n",
    "obj1 : Parents = Parents()\n",
    "\n",
    "print(obj1.eye_color)\n",
    "print(obj1.hair_color)\n",
    "obj1.speak(\"Pakistan Zinda bad!\")\n",
    "obj1.watching(\"TV\")\n",
    "\n",
    "print(\"\\n ======= Child object ======= \\n\")\n",
    "## Child object\n",
    "\n",
    "obj2 : Child = Child()\n",
    "print(obj2.watching(\"cinema\"))\n",
    "print(obj2.speak(\"Pakistan Zinda bad!\"))\n",
    "print(obj2.eye_color)\n",
    "print(obj2.hair_color)"
   ]
  },
  {
   "cell_type": "code",
   "execution_count": 17,
   "metadata": {},
   "outputs": [
    {
     "name": "stdout",
     "output_type": "stream",
     "text": [
      "Brown\n",
      "black\n",
      "Parent method speak: Pakistan zinda bad!\n",
      "You are looking TV!\n",
      "\n",
      "======Child object=======\n",
      "\n",
      "You are looking Cenima!\n",
      "Parent method speak: Hello World\n",
      "Brown\n",
      "black\n",
      "Child method for teaching : Generative AI\n"
     ]
    }
   ],
   "source": [
    "class Parents():\n",
    "    def __init__(self)->None:\n",
    "        self.eye_color : str = \"Brown\"\n",
    "        self.hair_color : str = \"black\"\n",
    "\n",
    "    def speak(self, words: str)->None:\n",
    "        print(f\"Parent method speak: {words}\")\n",
    "\n",
    "    def watching(self, object_name : str)->None:\n",
    "        print(f\"You are looking {object_name}!\")\n",
    "\n",
    "\n",
    "class Child(Parents):\n",
    "    def teaching(self, subject : str = None)->None:\n",
    "        print(f'Child method for teaching : {subject}')\n",
    "     \n",
    "\n",
    "\n",
    "obj1 : Parents = Parents()\n",
    "print(obj1.eye_color)\n",
    "print(obj1.hair_color)\n",
    "obj1.speak(\"Pakistan zinda bad!\")\n",
    "obj1.watching(\"TV\")\n",
    "\n",
    "\n",
    "print(\"\\n======Child object=======\\n\")\n",
    "### Child object \n",
    "\n",
    "obj2 : Child = Child()\n",
    "obj2.watching(\"Cenima\")\n",
    "obj2.speak(\"Hello World\")\n",
    "print(obj2.eye_color)\n",
    "print(obj2.hair_color)\n",
    "obj2.teaching(\"Generative AI\")"
   ]
  },
  {
   "cell_type": "code",
   "execution_count": 19,
   "metadata": {},
   "outputs": [
    {
     "ename": "TypeError",
     "evalue": "Developer.__init__() takes 2 positional arguments but 3 were given",
     "output_type": "error",
     "traceback": [
      "\u001b[0;31m---------------------------------------------------------------------------\u001b[0m",
      "\u001b[0;31mTypeError\u001b[0m                                 Traceback (most recent call last)",
      "\u001b[1;32m/home/shahzad/Documents/GitHub/python-learning/chapter 09(opps)/practive.ipynb Cell 20\u001b[0m line \u001b[0;36m2\n\u001b[1;32m     <a href='vscode-notebook-cell:/home/shahzad/Documents/GitHub/python-learning/chapter%2009%28opps%29/practive.ipynb#X25sZmlsZQ%3D%3D?line=17'>18</a>\u001b[0m         \u001b[39mself\u001b[39m\u001b[39m.\u001b[39mprogramming_skills : \u001b[39mlist\u001b[39m[\u001b[39mstr\u001b[39m] \u001b[39m=\u001b[39m [\u001b[39m\"\u001b[39m\u001b[39mpython\u001b[39m\u001b[39m\"\u001b[39m]\n\u001b[1;32m     <a href='vscode-notebook-cell:/home/shahzad/Documents/GitHub/python-learning/chapter%2009%28opps%29/practive.ipynb#X25sZmlsZQ%3D%3D?line=21'>22</a>\u001b[0m designe1 : Designer \u001b[39m=\u001b[39m Designer(\u001b[39m\"\u001b[39m\u001b[39mAnimation Artist\u001b[39m\u001b[39m\"\u001b[39m,\u001b[39m\"\u001b[39m\u001b[39mAsif Khan\u001b[39m\u001b[39m\"\u001b[39m)\n\u001b[0;32m---> <a href='vscode-notebook-cell:/home/shahzad/Documents/GitHub/python-learning/chapter%2009%28opps%29/practive.ipynb#X25sZmlsZQ%3D%3D?line=23'>24</a>\u001b[0m dev1 : Developer \u001b[39m=\u001b[39m Developer(\u001b[39m\"\u001b[39;49m\u001b[39mGenAI Engineer\u001b[39;49m\u001b[39m\"\u001b[39;49m,\u001b[39m\"\u001b[39;49m\u001b[39mIsfahan\u001b[39;49m\u001b[39m\"\u001b[39;49m)\n\u001b[1;32m     <a href='vscode-notebook-cell:/home/shahzad/Documents/GitHub/python-learning/chapter%2009%28opps%29/practive.ipynb#X25sZmlsZQ%3D%3D?line=25'>26</a>\u001b[0m \u001b[39mprint\u001b[39m(designe1\u001b[39m.\u001b[39mtitle)\n\u001b[1;32m     <a href='vscode-notebook-cell:/home/shahzad/Documents/GitHub/python-learning/chapter%2009%28opps%29/practive.ipynb#X25sZmlsZQ%3D%3D?line=27'>28</a>\u001b[0m \u001b[39mprint\u001b[39m(dev1\u001b[39m.\u001b[39mprogramming_skills)\n",
      "\u001b[0;31mTypeError\u001b[0m: Developer.__init__() takes 2 positional arguments but 3 were given"
     ]
    }
   ],
   "source": [
    "class Employee():\n",
    "    def __init__(self, name:str) -> None:\n",
    "        self.name : str = name\n",
    "        self.education : str  = \"\"\n",
    "        self.department : str = \"\"\n",
    "\n",
    "class Designer(Employee):\n",
    "    def __init__(self, title : str, name: str) -> None:\n",
    "        super().__init__(name)\n",
    "\n",
    "        self.title : str = title\n",
    "\n",
    "\n",
    "class Developer(Employee):\n",
    "    def __init__(self, title:str) -> None:\n",
    "        super().__init__(title)\n",
    "        self.title: str = title\n",
    "        self.programming_skills : list[str] = [\"python\"]\n",
    "\n",
    "\n",
    "\n",
    "designe1 : Designer = Designer(\"Animation Artist\",\"Asif Khan\")\n",
    "\n",
    "dev1 : Developer = Developer(\"GenAI Engineer\",\"Isfahan\")\n",
    "\n",
    "print(designe1.title)\n",
    "\n",
    "print(dev1.programming_skills)\n",
    "    "
   ]
  },
  {
   "cell_type": "code",
   "execution_count": 21,
   "metadata": {},
   "outputs": [
    {
     "name": "stdout",
     "output_type": "stream",
     "text": [
      "Animation artist\n",
      "['Python']\n"
     ]
    }
   ],
   "source": [
    "from typing import List\n",
    "\n",
    "class Employee:\n",
    "    def __init__(self, name : str) -> None:\n",
    "        self.name = name\n",
    "        self.education : str = \"\"\n",
    "        self.department : str = \"\"\n",
    "\n",
    "class Designer(Employee):\n",
    "    def __init__(self, title : str , name : str) -> None:\n",
    "        super().__init__(name)\n",
    "        self.title = title\n",
    "\n",
    "class Developer(Employee):\n",
    "    def __init__(self, title : str , name: str) -> None:\n",
    "        super().__init__(name)\n",
    "        self.title = title\n",
    "        self.programming_languages : List[str] = [\"Python\"]\n",
    "\n",
    "designer1 : Designer = Designer(\"Animation artist\" , \"John\")\n",
    "dev1 : Developer = Developer(\"Developer\" , \"Jane\")\n",
    "\n",
    "print(designer1.title)\n",
    "print(dev1.programming_languages)"
   ]
  },
  {
   "cell_type": "markdown",
   "metadata": {},
   "source": [
    "### 1. Encapsulation\n",
    "\n",
    "Encapsulation: The bundling of data with the methods that operate on that data. It restricts direct access to some of an object's components and can prevent the accidental modification of data."
   ]
  },
  {
   "cell_type": "markdown",
   "metadata": {},
   "source": [
    "### 2. Abstraction\n",
    "Abstraction: The concept of hiding the complex reality while exposing only the necessary parts. It helps to reduce programming complexity and effort.\n",
    "\n",
    "### 3. Inheritance\n",
    "Inheritance: A mechanism wherein a new class inherits properties and behavior (methods) from another class. This helps to create a new class based on an existing class.\n",
    "\n",
    "### Polymorphism\n",
    "Polymorphism: The ability of different classes to respond to the same message (method call) in different ways. This allows for code to work with objects of various classes as if they were objects of a common superclass."
   ]
  },
  {
   "cell_type": "code",
   "execution_count": null,
   "metadata": {},
   "outputs": [],
   "source": []
  }
 ],
 "metadata": {
  "kernelspec": {
   "display_name": "p-learning",
   "language": "python",
   "name": "python3"
  },
  "language_info": {
   "codemirror_mode": {
    "name": "ipython",
    "version": 3
   },
   "file_extension": ".py",
   "mimetype": "text/x-python",
   "name": "python",
   "nbconvert_exporter": "python",
   "pygments_lexer": "ipython3",
   "version": "3.11.5"
  }
 },
 "nbformat": 4,
 "nbformat_minor": 2
}
