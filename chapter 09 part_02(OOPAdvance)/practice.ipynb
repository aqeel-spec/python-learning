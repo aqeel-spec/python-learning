{
 "cells": [
  {
   "cell_type": "markdown",
   "metadata": {},
   "source": [
    "## Multiple Inheritence"
   ]
  },
  {
   "cell_type": "markdown",
   "metadata": {},
   "source": [
    "Multiple inheritance allows a class to inherit from more than one base class."
   ]
  },
  {
   "cell_type": "code",
   "execution_count": 1,
   "metadata": {},
   "outputs": [
    {
     "name": "stdout",
     "output_type": "stream",
     "text": [
      "base1\n"
     ]
    }
   ],
   "source": [
    "class Base1:\n",
    "    def method(self)-> str:\n",
    "        return \"base1\"\n",
    "\n",
    "class Base2:\n",
    "    def method(self)-> str:\n",
    "        return \"base2\"\n",
    "    \n",
    "# Drived class see the position of main classes\n",
    "# like       1st    2nd   -> Base1 result = base1    \n",
    "class Drived(Base1,Base2): # Base1 return value get \n",
    "    pass\n",
    "\n",
    "obj = Drived()\n",
    "print(obj.method())"
   ]
  },
  {
   "cell_type": "code",
   "execution_count": 3,
   "metadata": {},
   "outputs": [
    {
     "name": "stdout",
     "output_type": "stream",
     "text": [
      "base2\n"
     ]
    }
   ],
   "source": [
    "class Base1:\n",
    "    def method(self)-> str:\n",
    "        return \"base1\"\n",
    "\n",
    "class Base2:\n",
    "    def method(self)-> str:\n",
    "        return \"base2\"\n",
    "# like       1st    2nd   -> Base2 result = base2       \n",
    "class Drived(Base2,Base1):\n",
    "    pass\n",
    "\n",
    "obj = Drived()\n",
    "print(obj.method())"
   ]
  },
  {
   "cell_type": "markdown",
   "metadata": {},
   "source": [
    "## Function Overloading with @overload Decorator"
   ]
  },
  {
   "cell_type": "markdown",
   "metadata": {},
   "source": [
    "Function overloading allows defining multiple versions of a function with different types of parameters."
   ]
  },
  {
   "cell_type": "code",
   "execution_count": 4,
   "metadata": {},
   "outputs": [
    {
     "name": "stdout",
     "output_type": "stream",
     "text": [
      "3\n",
      "4.0\n"
     ]
    }
   ],
   "source": [
    "from typing import overload\n",
    "\n",
    "@overload\n",
    "def add(x : int , y  :int) -> int:\n",
    "    ...\n",
    "\n",
    "@overload\n",
    "def add(x : float , y  :float) -> float:\n",
    "    ...\n",
    "\n",
    "def add(x,y):\n",
    "    return x+y\n",
    "\n",
    "print(add(1,2))     # output : 3\n",
    "print(add(1.5,2.5)) # output : 4.0   "
   ]
  },
  {
   "cell_type": "markdown",
   "metadata": {},
   "source": [
    "## Method Overloading with @overload Decorator"
   ]
  },
  {
   "cell_type": "markdown",
   "metadata": {},
   "source": [
    "Method overloading can be achieved in a similar manner to function overloading."
   ]
  },
  {
   "cell_type": "code",
   "execution_count": 5,
   "metadata": {},
   "outputs": [
    {
     "name": "stdout",
     "output_type": "stream",
     "text": [
      "3\n",
      "4.0\n"
     ]
    }
   ],
   "source": [
    "from typing import overload\n",
    "\n",
    "class Calculator:\n",
    "    @overload\n",
    "    def add(self, x: int, y: int) -> int:\n",
    "        ...\n",
    "    \n",
    "    @overload\n",
    "    def add(self, x: float, y: float) -> float:\n",
    "        ...\n",
    "    \n",
    "    def add(self, x, y):\n",
    "        return x + y\n",
    "    \n",
    "\n",
    "calc = Calculator()\n",
    "\n",
    "print(calc.add(1, 2))\n",
    "print(calc.add(1.5, 2.5))"
   ]
  },
  {
   "cell_type": "markdown",
   "metadata": {},
   "source": [
    "## Method Overriding"
   ]
  },
  {
   "cell_type": "markdown",
   "metadata": {},
   "source": [
    "Method overriding allows a subclass to provide a specific implementation of a method that is already defined in its superclass."
   ]
  },
  {
   "cell_type": "code",
   "execution_count": 7,
   "metadata": {},
   "outputs": [
    {
     "name": "stdout",
     "output_type": "stream",
     "text": [
      "<class '__main__.Dog'>\n"
     ]
    },
    {
     "data": {
      "text/plain": [
       "'Woof!'"
      ]
     },
     "execution_count": 7,
     "metadata": {},
     "output_type": "execute_result"
    }
   ],
   "source": [
    "class Animal:\n",
    "    def speak(self) -> str:\n",
    "        return \"Some generic animal sound\"\n",
    "    \n",
    "class Dog(Animal):\n",
    "    def speak(self) -> str:\n",
    "        return \"Woof!\"\n",
    "    \n",
    "dog : Animal = Dog() # type  = Dog\n",
    "\n",
    "print(type(dog))\n",
    "\n",
    "dog.speak()"
   ]
  },
  {
   "cell_type": "markdown",
   "metadata": {},
   "source": [
    "## Polymorphism"
   ]
  },
  {
   "cell_type": "markdown",
   "metadata": {},
   "source": [
    "Polymorphism allows objects of different classes to be treated as objects of a common superclass."
   ]
  },
  {
   "cell_type": "code",
   "execution_count": 8,
   "metadata": {},
   "outputs": [
    {
     "name": "stdout",
     "output_type": "stream",
     "text": [
      "Woof!\n",
      "Meow\n"
     ]
    }
   ],
   "source": [
    "class Cat(Animal):\n",
    "    def speak(self) -> str:\n",
    "        return \"Meow\"\n",
    "\n",
    "def animal_sound(animal: Animal) -> str:\n",
    "    return animal.speak()\n",
    "\n",
    "print(animal_sound(Dog()))  # Output: Bark\n",
    "print(animal_sound(Cat()))  # Output: Meow"
   ]
  },
  {
   "cell_type": "markdown",
   "metadata": {},
   "source": [
    "## Using `__call__()`\n",
    "The `__call__()` method allows an object to be called like a function."
   ]
  },
  {
   "cell_type": "code",
   "execution_count": 9,
   "metadata": {},
   "outputs": [
    {
     "name": "stdout",
     "output_type": "stream",
     "text": [
      "12\n"
     ]
    }
   ],
   "source": [
    "from typing import Any\n",
    "\n",
    "\n",
    "class Multuplier:\n",
    "    def __call__(self, x : int , y : int) -> int:\n",
    "        return x * y\n",
    "    \n",
    "multiply = Multuplier()\n",
    "print(multiply(3,4))"
   ]
  },
  {
   "cell_type": "markdown",
   "metadata": {},
   "source": [
    "## The `object` Class\n",
    "Every class in Python 3 implicitly inherits from the `object` class, which is the base class for all classes."
   ]
  },
  {
   "cell_type": "code",
   "execution_count": 10,
   "metadata": {},
   "outputs": [
    {
     "name": "stdout",
     "output_type": "stream",
     "text": [
      "True\n"
     ]
    }
   ],
   "source": [
    "class MyClass:\n",
    "    pass\n",
    "\n",
    "obj = MyClass()\n",
    "print(isinstance(obj,object))"
   ]
  },
  {
   "cell_type": "code",
   "execution_count": null,
   "metadata": {},
   "outputs": [],
   "source": []
  }
 ],
 "metadata": {
  "kernelspec": {
   "display_name": "p-learning",
   "language": "python",
   "name": "python3"
  },
  "language_info": {
   "codemirror_mode": {
    "name": "ipython",
    "version": 3
   },
   "file_extension": ".py",
   "mimetype": "text/x-python",
   "name": "python",
   "nbconvert_exporter": "python",
   "pygments_lexer": "ipython3",
   "version": "3.11.5"
  }
 },
 "nbformat": 4,
 "nbformat_minor": 2
}
