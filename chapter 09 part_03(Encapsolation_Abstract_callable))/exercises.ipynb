{
 "cells": [
  {
   "cell_type": "markdown",
   "metadata": {},
   "source": [
    "## **Exercise 01**\n",
    "---"
   ]
  },
  {
   "cell_type": "markdown",
   "metadata": {},
   "source": [
    "#### **9-1. Restaurant**\n",
    "Make a class called Restaurant. The `__init__()` method for Restaurant should store two attributes: \n",
    "a `restaurant_name` and a `cuisine_type`. Make a method called `describe_restaurant()` that prints these two pieces of information, and a method called `open_restaurant()` that prints a message indicating that the restaurant is open.\n",
    "\n",
    "Make an instance called `restaurant` from your class. Print the two attributes individually, and then call both methods."
   ]
  },
  {
   "cell_type": "code",
   "execution_count": 8,
   "metadata": {},
   "outputs": [
    {
     "name": "stdout",
     "output_type": "stream",
     "text": [
      "Pizza Hut\n",
      "Pizza\n",
      "The name of the resturant is (((Pizza Hut))) and the cuisine type is ((Pizza))\n",
      "((Pizza Hut)) is open now\n"
     ]
    }
   ],
   "source": [
    "# making a class having name Resturants\n",
    "class Resturants(): # () -> used in latest python but : -> used in old python \n",
    "\n",
    "    # initialize the __init__() method for resturants\n",
    "    def __init__(self, resturant_name : str,cuisine_type: str):\n",
    "        # two attributes having name resturant_name and cuisine_type\n",
    "        self.resturant_name  = resturant_name\n",
    "        self.cuisine_type = cuisine_type\n",
    "    \n",
    "    # describe method to show above attributes\n",
    "    def describe_resturant(self):\n",
    "        print(f\"The name of the resturant is ((({self.resturant_name}))) and the cuisine type is (({self.cuisine_type}))\")\n",
    "    \n",
    "    def open_resturant(self):\n",
    "        print(f\"(({self.resturant_name})) is open now\")\n",
    "\n",
    "# making a object of class Resturants  \n",
    "resturant : Resturants = Resturants(\"Pizza Hut\",\"Pizza\")\n",
    "\n",
    "# printing the two attributes\n",
    "print(resturant.resturant_name)\n",
    "print(resturant.cuisine_type)\n",
    "\n",
    "\n",
    "# calling describe_resturant method\n",
    "resturant.describe_resturant()\n",
    "resturant.open_resturant()\n"
   ]
  },
  {
   "cell_type": "markdown",
   "metadata": {},
   "source": [
    "### **9-2. Three Restaurants**: \n",
    "\n",
    "Start with your class from `Exercise 9-1`. Create `three` different instances from the class,\n",
    " \n",
    "and call `describe_restaurant()` for each instance."
   ]
  },
  {
   "cell_type": "code",
   "execution_count": 9,
   "metadata": {},
   "outputs": [
    {
     "name": "stdout",
     "output_type": "stream",
     "text": [
      "The name of the resturant is (((Pizza Hut))) and the cuisine type is ((Fast Food ))\n",
      "The name of the resturant is (((McDonalds))) and the cuisine type is ((Fast Food ))\n",
      "The name of the resturant is (((KFC))) and the cuisine type is ((Fast Food ))\n"
     ]
    }
   ],
   "source": [
    "class Resturants(): # () -> used in latest python but : -> used in old python \n",
    "\n",
    "    # initialize the __init__() method for resturants\n",
    "    def __init__(self, resturant_name : str,cuisine_type: str):\n",
    "        # two attributes having name resturant_name and cuisine_type\n",
    "        self.resturant_name  = resturant_name\n",
    "        self.cuisine_type = cuisine_type\n",
    "    \n",
    "    # describe method to show above attributes\n",
    "    def describe_resturant(self):\n",
    "        print(f\"The name of the resturant is ((({self.resturant_name}))) and the cuisine type is (({self.cuisine_type}))\")\n",
    "    \n",
    "    def open_resturant(self):\n",
    "        print(f\"(({self.resturant_name})) is open now\")\n",
    "\n",
    "# creating three different instances from previous class\n",
    "fast_food : Resturants = Resturants(\"Pizza Hut\",\"Fast Food \")\n",
    "resturant2 : Resturants = Resturants(\"McDonalds\",\"Fast Food \")\n",
    "resturant3 : Resturants = Resturants(\"KFC\",\"Fast Food \")\n",
    "\n",
    "# calling describe method for each instance\n",
    "fast_food.describe_resturant()\n",
    "resturant2.describe_resturant()\n",
    "resturant3.describe_resturant()"
   ]
  },
  {
   "cell_type": "markdown",
   "metadata": {},
   "source": [
    "### **9-3. Users**\n",
    "\n",
    "Make a class called `User`. Create `two` attributes called `first_name` and `last_name`, \n",
    "\n",
    "and then create `several` other `attributes` that are typically stored in a `user profile`. Make a method called `describe_user() \n",
    "\n",
    "`that prints a summary of the `user’s` information. Make another method called `greet_user()` \n",
    "\n",
    "that prints a personalized greeting to the user.\n",
    "\n",
    "Create several instances representing different users, and call both methods for each user."
   ]
  },
  {
   "cell_type": "code",
   "execution_count": 22,
   "metadata": {},
   "outputs": [
    {
     "name": "stdout",
     "output_type": "stream",
     "text": [
      "\n",
      "Welcome Aqeel Shahzad!\n",
      "\n",
      "---------------------------------------------------------------------------------------------------\n",
      "\n",
      "First Name : Aqeel\n",
      "Last Name : Shahzad\n",
      "Age : 21\n",
      "City : Pakistan\n",
      "\n",
      "***************************************************************************************************\n",
      "\n",
      "\n",
      "Welcome Umar Faraz!\n",
      "\n",
      "---------------------------------------------------------------------------------------------------\n",
      "\n",
      "First Name : Umar\n",
      "Last Name : Faraz\n",
      "Age : 22\n",
      "City : Pakistan\n",
      "\n",
      "***************************************************************************************************\n",
      "\n",
      "\n",
      "Welcome Wasif Hiader!\n",
      "\n",
      "---------------------------------------------------------------------------------------------------\n",
      "\n",
      "First Name : Wasif\n",
      "Last Name : Hiader\n",
      "Age : 22\n",
      "City : Pakistan\n",
      "\n",
      "***************************************************************************************************\n",
      "\n",
      "\n",
      "Welcome Abdul Rehman!\n",
      "\n",
      "---------------------------------------------------------------------------------------------------\n",
      "\n",
      "First Name : Abdul\n",
      "Last Name : Rehman\n",
      "Age : 30\n",
      "City : Pakistan\n",
      "\n",
      "***************************************************************************************************\n",
      "\n"
     ]
    }
   ],
   "source": [
    "# class having name User\n",
    "class User():\n",
    "    def __init__(self,first_name : str,last_name : str , **more):\n",
    "        self.first_name : str =first_name\n",
    "        self.last_name : str =last_name\n",
    "        self.age : int =more.get('age',0)\n",
    "        self.city : str =more.get('city','')\n",
    "\n",
    "    \n",
    "    def describe_user(self):\n",
    "        print(f\"First Name : {self.first_name}\")\n",
    "        print(f\"Last Name : {self.last_name}\")\n",
    "        print(f\"Age : {self.age}\")\n",
    "        print(f\"City : {self.city}\")\n",
    "\n",
    "    \n",
    "    def greet_user(self):\n",
    "        print(f\"\\nWelcome {self.first_name} {self.last_name}!\")\n",
    "\n",
    "first_user : User = User('Aqeel','Shahzad',age=21,city='Pakistan' )\n",
    "second_user : User = User('Umar','Faraz',age=22,city='Pakistan' )\n",
    "third_user : User = User('Wasif','Hiader',age=22,city='Pakistan' )\n",
    "fourth_user : User = User('Abdul','Rehman',age=30,city='Pakistan' )\n",
    "\n",
    "dashline: str = \"\".join(\"-\" for i in range(1, 100) )\n",
    "mul_line: str = \"\".join(\"*\" for i in range(1, 100) )\n",
    "\n",
    "first_user.greet_user()\n",
    "print(f\"\\n{dashline}\\n\") # just for priting\n",
    "first_user.describe_user()  \n",
    "print(f\"\\n{mul_line}\\n\") # just for priting\n",
    "\n",
    "second_user.greet_user()\n",
    "print(f\"\\n{dashline}\\n\")  # just for priting\n",
    "second_user.describe_user()\n",
    "print(f\"\\n{mul_line}\\n\") #  # just for priting\n",
    "\n",
    "third_user.greet_user()\n",
    "print(f\"\\n{dashline}\\n\")  # just for priting\n",
    "third_user.describe_user()\n",
    "print(f\"\\n{mul_line}\\n\") #  # just for priting\n",
    "\n",
    "fourth_user.greet_user()\n",
    "print(f\"\\n{dashline}\\n\")  # just for priting\n",
    "fourth_user.describe_user()\n",
    "print(f\"\\n{mul_line}\\n\") #  # just for priting"
   ]
  },
  {
   "cell_type": "markdown",
   "metadata": {},
   "source": [
    "## **Exercise 02**\n",
    "---"
   ]
  },
  {
   "cell_type": "markdown",
   "metadata": {},
   "source": [
    "#### **9-4. Number Served**\n",
    "\n",
    "Start with your program from `Exercise 9-1` (`page 162`).\n",
    "\n",
    "Add an attribute called `number_served` with a default value of 0. Create an\n",
    "\n",
    "instance called `restaurant` from this class. Print the number of customers the\n",
    "\n",
    "restaurant has served, and then change this value and print it again."
   ]
  },
  {
   "cell_type": "markdown",
   "metadata": {},
   "source": [
    "* Add a `method` called `set_number_served()` that lets you set the number of customers that have been served. \n",
    "* Call this method with a new number and print the value again."
   ]
  },
  {
   "cell_type": "markdown",
   "metadata": {},
   "source": [
    "* Add a method called `increment_number_served()` that lets you increment\n",
    "the number of customers who’ve been served. Call this method with any number\n",
    "you like that could represent how many customers were served in, say, a day of\n",
    "business."
   ]
  },
  {
   "cell_type": "code",
   "execution_count": 1,
   "metadata": {},
   "outputs": [
    {
     "name": "stdout",
     "output_type": "stream",
     "text": [
      "The resturant has served 0 customers\n",
      "The resturant has served 10 customers\n",
      "The resturant has served 20 customers\n",
      "The resturant has served 30 customers\n"
     ]
    }
   ],
   "source": [
    "class Resturants(): # () -> used in latest python but : -> used in old python \n",
    "\n",
    "    # initialize the __init__() method for resturants\n",
    "    def __init__(self, resturant_name : str,cuisine_type: str):\n",
    "        # two attributes having name resturant_name and cuisine_type\n",
    "        self.resturant_name : str  = resturant_name\n",
    "        self.cuisine_type : str = cuisine_type\n",
    "        self.number_served : int = 0\n",
    "    \n",
    "    # describe method to show above attributes\n",
    "    def describe_resturant(self):\n",
    "        print(f\"The name of the resturant is ((({self.resturant_name}))) and the cuisine type is (({self.cuisine_type}))\")\n",
    "    \n",
    "    def open_resturant(self):\n",
    "        print(f\"(({self.resturant_name})) is open now\")\n",
    "    \n",
    "    # method set_number_served\n",
    "    def set_number_served(self, number_served : int):\n",
    "        self.number_served = number_served\n",
    "\n",
    "    # decreament method that let you increament the no of customers\n",
    "    def increament_number_served(self, increament : int):\n",
    "        self.number_served += increament\n",
    "\n",
    "\n",
    "resturant : Resturants = Resturants(\"Pizza Hut\",\"Pizza\")\n",
    "\n",
    "# priting number of customers that resturant has server\n",
    "print(f\"The resturant has served {resturant.number_served} customers\")\n",
    "\n",
    "# Change the value and print it again\n",
    "resturant.number_served = 10\n",
    "print(f\"The resturant has served {resturant.number_served} customers\")\n",
    "\n",
    "# calling the function set_number_served\n",
    "resturant.set_number_served(20)\n",
    "print(f\"The resturant has served {resturant.number_served} customers\")\n",
    "\n",
    "# calling the function increament_number_served\n",
    "resturant.increament_number_served(10)\n",
    "print(f\"The resturant has served {resturant.number_served} customers\")"
   ]
  },
  {
   "cell_type": "code",
   "execution_count": 8,
   "metadata": {},
   "outputs": [],
   "source": [
    "dashline: str = \"\".join(\"-\" for i in range(1, 100) )\n",
    "mul_line: str = \"\".join(\"*\" for i in range(1, 100) )"
   ]
  },
  {
   "cell_type": "markdown",
   "metadata": {},
   "source": [
    "## **9-5. Login Attempts**\n",
    "\n",
    "Add an attribute called `login_attempts` to your User class from `Exercise 9-3 (page 162)`. \n",
    "Write a method called `increment_login_attempts()` that increments the value of `login_attempts` by 1. \n",
    "Write another method called `reset_login_attempts()` that resets the value of `login_attempts` to 0.\n",
    "\n",
    "Make an instance of the User class and call `increment_login_attempts()` several times. \n",
    "Print the value of login_attempts to make sure it was incremented properly, and then call reset_login_attempts(). \n",
    "Print login_attempts again to make sure it was reset to 0."
   ]
  },
  {
   "cell_type": "code",
   "execution_count": 6,
   "metadata": {},
   "outputs": [
    {
     "name": "stdout",
     "output_type": "stream",
     "text": [
      "User login attempts : 4\n",
      "---------------------------------------------------------------------------------------------------\n",
      "User login attempts after reset   : 0\n"
     ]
    }
   ],
   "source": [
    "# code from Exercise 9-3 (page 162)\n",
    "# class having name User\n",
    "class User():\n",
    "    def __init__(self,first_name : str,last_name : str , **more):\n",
    "        self.first_name : str =first_name\n",
    "        self.last_name : str =last_name\n",
    "        self.age : int =more.get('age',0)\n",
    "        self.city : str =more.get('city','')\n",
    "        # add an attribute for login_attempts\n",
    "        self.login_attempts : int = 0\n",
    "\n",
    "    \n",
    "    def describe_user(self):\n",
    "        print(f\"First Name : {self.first_name}\")\n",
    "        print(f\"Last Name : {self.last_name}\")\n",
    "        print(f\"Age : {self.age}\")\n",
    "        print(f\"City : {self.city}\")\n",
    "\n",
    "    \n",
    "    def greet_user(self):\n",
    "        print(f\"\\nWelcome {self.first_name} {self.last_name}!\")\n",
    "    \n",
    "    # method that increments login_attempts by 1\n",
    "    def increment_login_attempts(self):\n",
    "        self.login_attempts += 1\n",
    "\n",
    "    # another method that resets login_attempts to 0\n",
    "    def reset_login_attempts(self):\n",
    "        self.login_attempts = 0\n",
    "\n",
    "# instance of user class and increament login attempts several times\n",
    "user : User = User('Aqeel','Shahzad')\n",
    "\n",
    "# calling several times\n",
    "user.increment_login_attempts()\n",
    "user.increment_login_attempts()\n",
    "user.increment_login_attempts()\n",
    "user.increment_login_attempts()\n",
    "\n",
    "print(f\"User login attempts : {user.login_attempts}\")\n",
    "print(dashline)\n",
    "\n",
    "# at end call reset login attempts\n",
    "user.reset_login_attempts()\n",
    "print(f\"User login attempts after reset   : {user.login_attempts}\")\n",
    "\n",
    "\n"
   ]
  },
  {
   "cell_type": "markdown",
   "metadata": {},
   "source": [
    "## **Exercise 03**\n",
    "---"
   ]
  },
  {
   "cell_type": "markdown",
   "metadata": {},
   "source": [
    "#### **9-6. Ice Cream Stand**\n",
    "An `ice cream` stand is a specific kind of restaurant. Write a class called `IceCreamStand` that `inherits` from the Restaurant \n",
    "\n",
    "class you wrote in `Exercise 9-1` (page 162) or `Exercise 9-4` (page 166). \n",
    "\n",
    "Either version of the class will work; just pick the one you like better. \n",
    "\n",
    "Add an attribute called `flavors` that stores a list of ice cream flavors. \n",
    "\n",
    "Write a method that `displays` these flavors. Create an instance of `IceCreamStand`, and call this method."
   ]
  },
  {
   "cell_type": "code",
   "execution_count": 2,
   "metadata": {},
   "outputs": [
    {
     "name": "stdout",
     "output_type": "stream",
     "text": [
      "The flavors available are : ['Vanilla', 'Chocolate', 'Strawberry']\n",
      "Vanilla\n",
      "Chocolate\n",
      "Strawberry\n"
     ]
    }
   ],
   "source": [
    "# code from previous exercise 9-4\n",
    "class Resturants(): # () -> used in latest python but : -> used in old python \n",
    "\n",
    "    # initialize the __init__() method for resturants\n",
    "    def __init__(self, resturant_name : str,cuisine_type: str):\n",
    "        # two attributes having name resturant_name and cuisine_type\n",
    "        self.resturant_name : str  = resturant_name\n",
    "        self.cuisine_type : str = cuisine_type\n",
    "        self.number_served : int = 0\n",
    "    \n",
    "    # describe method to show above attributes\n",
    "    def describe_resturant(self):\n",
    "        print(f\"The name of the resturant is ((({self.resturant_name}))) and the cuisine type is (({self.cuisine_type}))\")\n",
    "    \n",
    "    def open_resturant(self):\n",
    "        print(f\"(({self.resturant_name})) is open now\")\n",
    "    \n",
    "    # method set_number_served\n",
    "    def set_number_served(self, number_served : int):\n",
    "        self.number_served = number_served\n",
    "\n",
    "    # decreament method that let you increament the no of customers\n",
    "    def increament_number_served(self, increament : int):\n",
    "        self.number_served += increament\n",
    "\n",
    "# class that inherits from Resturant\n",
    "class IceCreamStand(Resturants):\n",
    "    def __init__(self, resturant_name : str, cuisine_type : str):\n",
    "        super().__init__(resturant_name, cuisine_type)\n",
    "        self.flavors : list[str] = []\n",
    "    \n",
    "    def show_flavors(self):\n",
    "        print(f\"The flavors available are : {self.flavors}\")\n",
    "        for flavor in self.flavors:\n",
    "            print(flavor)\n",
    "\n",
    "ice_cream_stand : IceCreamStand = IceCreamStand(\"Ice Cream Stand\", \"Ice Cream\")\n",
    "ice_cream_stand.flavors  = [\"Vanilla\", \"Chocolate\", \"Strawberry\"]\n",
    "ice_cream_stand.show_flavors()"
   ]
  },
  {
   "cell_type": "markdown",
   "metadata": {},
   "source": [
    "## **9-7. Admin**\n",
    "An administrator is a special kind of user. Write a class called `Admin` \n",
    "\n",
    "that inherits from the `User` class you wrote in `Exercise 9-3` (page 162) or `Exercise 9-5` (page 167). \n",
    "\n",
    "Add an `attribute`, `privileges`, that stores a list of strings like \n",
    "\n",
    "`\"can add post\"`, `\"can delete post\"`, `\"can ban user\"`, and so on.\n",
    "\n",
    "Write a method called `show_privileges()` that lists the `administrator’s` set of `privileges`. \n",
    "\n",
    "Create an instance of Admin, and call your method."
   ]
  },
  {
   "cell_type": "code",
   "execution_count": 9,
   "metadata": {},
   "outputs": [
    {
     "name": "stdout",
     "output_type": "stream",
     "text": [
      "First Name : Aqeel\n",
      "Last Name : Shahzad\n",
      "Age : 20\n",
      "City : Chiniot\n",
      "***************************************************************************************************\n",
      "Admin has following privileges : ['can add post', 'can delete post', 'can ban user ']\n"
     ]
    }
   ],
   "source": [
    "# code from Exercise 9-5 (page 167)\n",
    "class User():\n",
    "    def __init__(self,first_name : str,last_name : str , **more):\n",
    "        self.first_name : str =first_name\n",
    "        self.last_name : str =last_name\n",
    "        self.age : int =more.get('age',0)\n",
    "        self.city : str =more.get('city','')\n",
    "        # add an attribute for login_attempts\n",
    "        self.login_attempts : int = 0\n",
    "        \n",
    "         # attribute to store list of privileges \n",
    "        self.privileges : list[str] = [\"can add post\", \"can delete post\", \"can ban user \"]\n",
    "\n",
    "\n",
    "    \n",
    "    def describe_user(self):\n",
    "        print(f\"First Name : {self.first_name}\")\n",
    "        print(f\"Last Name : {self.last_name}\")\n",
    "        print(f\"Age : {self.age}\")\n",
    "        print(f\"City : {self.city}\")\n",
    "\n",
    "    \n",
    "    def greet_user(self):\n",
    "        print(f\"\\nWelcome {self.first_name} {self.last_name}!\")\n",
    "    \n",
    "    # method that increments login_attempts by 1\n",
    "    def increment_login_attempts(self):\n",
    "        self.login_attempts += 1\n",
    "\n",
    "    # another method that resets login_attempts to 0\n",
    "    def reset_login_attempts(self):\n",
    "        self.login_attempts = 0\n",
    "\n",
    "    # method that shows adminiter privileges\n",
    "    def show_privileges(self):\n",
    "        print(f\"Admin has following privileges : {self.privileges}\")\n",
    "\n",
    "class Admin(User):\n",
    "    def __init__(self,first_name : str,last_name : str , **more):\n",
    "        super().__init__(first_name,last_name,**more)\n",
    "       \n",
    "\n",
    "# create an admin instance \n",
    "admin : Admin = Admin('Aqeel','Shahzad', age = \"20\", city=\"Chiniot\")\n",
    "admin.describe_user()\n",
    "\n",
    "print(mul_line)\n",
    "\n",
    "# call show_privileges method\n",
    "admin.show_privileges()"
   ]
  },
  {
   "cell_type": "markdown",
   "metadata": {},
   "source": [
    "###  **9-8. Privileges**\n",
    "Write a separate `Privileges` class. The class should have one `attribute`, `privileges`, \n",
    "\n",
    "that stores a list of strings as described in `Exercise 9-7`.\n",
    "\n",
    "Move the `show_privileges()` method to this class. Make a Privileges instance as an attribute in the Admin class. \n",
    "\n",
    "Create a new instance of `Admin` and use your method to show its privileges."
   ]
  },
  {
   "cell_type": "code",
   "execution_count": 11,
   "metadata": {},
   "outputs": [
    {
     "name": "stdout",
     "output_type": "stream",
     "text": [
      "can add post\n",
      "can delete post\n",
      "can ban user\n"
     ]
    }
   ],
   "source": [
    "class Privileges():\n",
    "    def __init__(self,privileges : list[str] = []):\n",
    "        self.privileges : list[str] = privileges\n",
    "    def show_privileges(self):\n",
    "        for privilege in self.privileges:\n",
    "            print(privilege)\n",
    "\n",
    "class Admin(User):\n",
    "    def __init__(self,first_name : str,last_name : str , **more):\n",
    "        super().__init__(first_name,last_name,**more)\n",
    "        privileges_instance : Privileges = Privileges(privileges=[\"can add post\",\"can delete post\",\"can ban user\"])\n",
    "        self.privileges : Privileges   = privileges_instance\n",
    "\n",
    "# show admin instances \n",
    "admin_instance : Admin = Admin(\"Aqeel\",\"Shahzad\")\n",
    "admin_instance.privileges.show_privileges()"
   ]
  },
  {
   "cell_type": "markdown",
   "metadata": {},
   "source": [
    "### **9-9. Battery Upgrade**\n",
    "Use the final version of `electric_car.py` from this section.\n",
    "\n",
    "Add a method to the Battery class called `upgrade_battery()`. \n",
    "\n",
    "This method should check the `battery size` and set the `capacity to 65` if it isn’t already. \n",
    "\n",
    "Make an electric car with a default battery size, call `get_range()` once, \n",
    "\n",
    "and then call `get_range()` a second time after upgrading the battery. You should see an\n",
    "\n",
    "increase in the `car’s` range."
   ]
  },
  {
   "cell_type": "code",
   "execution_count": 21,
   "metadata": {},
   "outputs": [
    {
     "name": "stdout",
     "output_type": "stream",
     "text": [
      "The car's name is: 2023 Tesla Model S\n",
      "This car has 0 miles on it.\n",
      "\n",
      "This car has a 65-kWh battery.\n",
      "This car can go about 250 miles on a full charge.\n",
      "***************************************************************************************************\n",
      "Battery upgraded to 85-kWh.\n",
      "This car can go about 315 miles on a full charge.\n"
     ]
    }
   ],
   "source": [
    "# final version of electric_Car.py\n",
    "class Car:\n",
    "    \"\"\"A simple attempt to represent a car.\"\"\"\n",
    "    def __init__(self, make : str, model : str, year : int):\n",
    "        \"\"\"Initialize attributes to describe a car.\"\"\"\n",
    "        self.make : str= make\n",
    "        self.model : str= model\n",
    "        self.year : int = year\n",
    "        self.odometer_reading : int = 0\n",
    "\n",
    "    def get_descriptive_name(self) -> str:\n",
    "        \"\"\"Return a neatly formatted descriptive name.\"\"\"\n",
    "        long_name : str = f\"{self.year} {self.make} {self.model}\"\n",
    "        return long_name.title()\n",
    "    \n",
    "    def read_odometer(self) -> None:\n",
    "        \"\"\"Print a statement showing the car's mileage.\"\"\"\n",
    "        print(f\"This car has {self.odometer_reading} miles on it.\")\n",
    "    \n",
    "    def update_odometer(self, milage : int) -> None:\n",
    "        \"\"\"\n",
    "        Set the odometer reading to the given value.\n",
    "        Reject the change if it attempts to roll the odometer back.\n",
    "        \"\"\"\n",
    "        if milage >= self.odometer_reading:\n",
    "            self.odometer_reading = milage\n",
    "        else:\n",
    "            print(\"You can't roll back an odometer!\")\n",
    "    \n",
    "    # increament an attribute value through a method\n",
    "    def increment_odometer(self, miles : int) -> None:\n",
    "        \"\"\"Add the given amount to the odometer reading.\"\"\"\n",
    "        self.odometer_reading += miles\n",
    "\n",
    "class Bettery(Car):\n",
    "    \"\"\"A simple attempt to model a battery for an electric car.\"\"\"\n",
    "    def __init__(self, battery_size : int = 65):\n",
    "        \"\"\"Initialize the battery's attributes.\"\"\"\n",
    "        self.battery_size : int = battery_size\n",
    "    \n",
    "    def describe_battery(self):\n",
    "        \"\"\"Print a statement describing the battery size.\"\"\"\n",
    "        print(f\"\\nThis car has a {self.battery_size}-kWh battery.\")\n",
    "    \n",
    "    def upgrade_battery(self) -> None:\n",
    "        \"\"\"Upgrade the battery if it isn't 85 kWh.\"\"\"\n",
    "        if self.battery_size != 85:\n",
    "            self.battery_size = 85\n",
    "            print(f\"Battery upgraded to {self.battery_size}-kWh.\")\n",
    "        else:\n",
    "            print(\"Battery already upgraded.\")\n",
    "\n",
    "class ElectricCar(Bettery):\n",
    "    \"\"\"Represent aspects of a car, specific to electric vehicles.\"\"\"\n",
    "    def __init__(self, make : str, model : str, year : int):\n",
    "        \"\"\"\n",
    "        Initialize attributes of the parent class.\n",
    "        Then initialize attributes specific to an electric car.\n",
    "        \"\"\"\n",
    "        super().__init__()\n",
    "        self.make = make\n",
    "        self.model = model\n",
    "        self.year = year\n",
    "        self.odometer_reading = 0\n",
    "        self.battery_size = 65\n",
    "    \n",
    "    def get_range(self ) -> None:\n",
    "        \"\"\"Print a statement about the range this battery provides.\"\"\"\n",
    "        if self.battery_size == 65:\n",
    "            self.odometer_reading = 250\n",
    "        elif self.battery_size == 85:\n",
    "            self.odometer_reading : int = 315\n",
    "        print(f\"This car can go about {self.odometer_reading} miles on a full charge.\")\n",
    "\n",
    "\n",
    "my_tesla = ElectricCar(\"Tesla\", \"Model S\", 2023)\n",
    "\n",
    "# Get the car's descriptive name\n",
    "car_name = my_tesla.get_descriptive_name()\n",
    "print(f\"The car's name is: {car_name}\")\n",
    "\n",
    "# Read the car's mileage\n",
    "my_tesla.read_odometer()\n",
    "\n",
    "# Update the car's mileage\n",
    "my_tesla.update_odometer(100)\n",
    "\n",
    "# describe battery size\n",
    "my_tesla.describe_battery()\n",
    "\n",
    "# Get the car's range\n",
    "my_tesla.get_range()\n",
    "\n",
    "print(mul_line)\n",
    "\n",
    "# upgrade battery\n",
    "my_tesla.upgrade_battery()\n",
    "\n",
    "# again print the car's milage\n",
    "my_tesla.get_range()\n",
    " \n"
   ]
  },
  {
   "cell_type": "markdown",
   "metadata": {},
   "source": [
    "## **Exercise 04**\n",
    "---"
   ]
  },
  {
   "cell_type": "markdown",
   "metadata": {},
   "source": [
    "### **9-10. Imported Restaurant**\n",
    "\n",
    "Using your latest `Restaurant` class, store it in a module. \n",
    "\n",
    "Make a separate file that `imports Restaurant`. \n",
    "\n",
    "Make a Restaurant `instance`, and call one of `Restaurant’s` methods to show that the import statement is working properly."
   ]
  },
  {
   "cell_type": "code",
   "execution_count": 22,
   "metadata": {},
   "outputs": [
    {
     "name": "stdout",
     "output_type": "stream",
     "text": [
      "The name of the resturant is (((Pizza Hut))) and the cuisine type is ((Italian))\n"
     ]
    }
   ],
   "source": [
    "from restaurant import Resturants\n",
    "\n",
    "resturant_instance : Resturants = Resturants('Pizza Hut', 'Italian')\n",
    "\n",
    "resturant_instance.describe_resturant()"
   ]
  },
  {
   "cell_type": "markdown",
   "metadata": {},
   "source": [
    "### **9-11. Imported Admin**\n",
    "\n",
    "Start with your work from `Exercise 9-8` (page 173). Store the classes `User`, \n",
    "\n",
    "`Privileges`, and `Admin` in one module. Create a separate file,make an Admin instance, \n",
    "\n",
    "and call `show_privileges()` to show that everything is working correctly."
   ]
  },
  {
   "cell_type": "code",
   "execution_count": 24,
   "metadata": {},
   "outputs": [
    {
     "name": "stdout",
     "output_type": "stream",
     "text": [
      "can add post\n",
      "can delete post\n",
      "can ban user\n"
     ]
    }
   ],
   "source": [
    "from user import Admin\n",
    "\n",
    "# making an admin instance\n",
    "admin_instance : Admin = Admin(\"Aqeel\", \"Shahzad\", password = \"admin\")\n",
    "\n",
    "# calling show privillages\n",
    "admin_instance.privileges.show_privileges()"
   ]
  },
  {
   "cell_type": "markdown",
   "metadata": {},
   "source": [
    "### **9-12. Multiple Modules**\n",
    "Store the User class in one module, and store the `Privileges` and `Admin` classes in a separate module. \n",
    "\n",
    "In a separate file, create an `Admin` instance and call `show_privileges`() \n",
    "\n",
    "to show that everything is still working correctly."
   ]
  },
  {
   "cell_type": "code",
   "execution_count": 25,
   "metadata": {},
   "outputs": [],
   "source": [
    "# same but little change import all modules in a separate file \n",
    "# and then call here"
   ]
  },
  {
   "cell_type": "markdown",
   "metadata": {},
   "source": [
    "## **Exercise 05**\n",
    "---"
   ]
  },
  {
   "cell_type": "markdown",
   "metadata": {},
   "source": [
    "### **9-13. Dice**\n",
    "Make a class `Die` with one attribute called `sides`, which has a `default value` of `6`. \n",
    "\n",
    "Write a method called `roll_die()` that prints a random number between `1` and the number of `sides` the die has. \n",
    "\n",
    "Make a `6-sided` die androll it `10` times.\n",
    "\n",
    "Make a `10-side`d die and a `20-sided` die. Roll each die `10` times."
   ]
  },
  {
   "cell_type": "code",
   "execution_count": 36,
   "metadata": {},
   "outputs": [
    {
     "name": "stdout",
     "output_type": "stream",
     "text": [
      "All random enrolled dies 10 times in 6 sided die : \n",
      "\t [1, 5, 6, 5, 2, 2, 4, 2, 5, 5]\n",
      "\n",
      "***************************************************************************************************\n",
      "All random enrolled dies 10 times in 10 sided die : \n",
      "\t [1, 10, 9, 1, 9, 10, 10, 10, 9, 9]\n",
      "\n",
      "***************************************************************************************************\n",
      "All random enrolled dies 10 times in 20 sided die : \n",
      "\t [15, 10, 12, 7, 2, 13, 18, 6, 13, 9]\n",
      "\n"
     ]
    }
   ],
   "source": [
    "from random import randint\n",
    "class Die():\n",
    "    def __init__(self, sides : int =6):\n",
    "        self.sides : int = sides\n",
    "    \n",
    "    def roll_die(self):\n",
    "        \"\"\"6 sided die roller\n",
    "        Returns:\n",
    "            int: random number between 1 and 6\n",
    "        \"\"\"\n",
    "        return randint(1, self.sides)\n",
    "    \n",
    "# making a seprate list to show clear result of rolled dies\n",
    "die_six_sided : list[int] = []  \n",
    "\n",
    "die : Die = Die()\n",
    "# enrolling die 10 times\n",
    "for i in range(10):\n",
    "    die_six_sided.append(die.roll_die())\n",
    "    # print(die.roll_die())\n",
    "print(f\"All random enrolled dies 10 times in 6 sided die : \\n\\t {die_six_sided}\\n\")\n",
    "\n",
    "print(mul_line)\n",
    "\n",
    "\n",
    "\n",
    "# now making a 10 sided die\n",
    "die : Die = Die(sides=10)\n",
    "# Roll the die 10 times and store the results in a list\n",
    "rolls : list[int] = [die.roll_die() for i in range(10)]\n",
    "print(f\"All random enrolled dies 10 times in 10 sided die : \\n\\t {rolls}\\n\")\n",
    "\n",
    "print(mul_line)\n",
    "\n",
    "# also make a 20 side die\n",
    "die : Die = Die(sides=20)\n",
    "# Roll the die 20 times and store the results in a list\n",
    "rolls : list[int] = [die.roll_die() for i in range(10)]\n",
    "print(f\"All random enrolled dies 10 times in 20 sided die : \\n\\t {rolls}\\n\")"
   ]
  },
  {
   "cell_type": "markdown",
   "metadata": {},
   "source": [
    "### **9-14. Lottery:** \n",
    "Make a `list` or `tuple` containing a series of `10 numbers` and `5 letters`.\n",
    "\n",
    "Randomly select `4 numbers` or `letters` from the `list` and print a message saying that\n",
    "\n",
    "any `ticket` matching these `4` `numbers` or `letters` wins a `prize`."
   ]
  },
  {
   "cell_type": "code",
   "execution_count": 87,
   "metadata": {},
   "outputs": [
    {
     "name": "stdout",
     "output_type": "stream",
     "text": [
      "\t\tWelcome to the lottery game!.\n",
      "\n",
      "\t\t.............................\n",
      "\n",
      "Your ticket: 1\n",
      "Your ticket 1 is not in : [5, 8, 5, 5] \t-> \trandomly selected series\n",
      "You lost!\n",
      "Better luck next time!\n",
      "***************************************************************************************************\n"
     ]
    }
   ],
   "source": [
    "from typing import Union\n",
    "from random import randint\n",
    "\n",
    "# list or tuple containing series of 10 number and 5 letters\n",
    "series: list[Union[int, str]] = [1, 2, 3, 4, 5, 6, 7, 8, 9, 10, \"a\", \"b\", \"c\", \"d\", \"e\"]\n",
    "\n",
    "# selecting 4 number or letters from list\n",
    "#                                  0    15 = length\n",
    "selected_tickets = [series[randint(0, len(series) - 1)] for i in range(4)] # like -> [1,4,'e',9]\n",
    "\n",
    "# _____________________________________________________________________________________#\n",
    "print(\"\\t\\tWelcome to the lottery game!.\\n\")\n",
    "md_line : str = \"\".join(\".\" for i in range(1, len(\"Welcome to the lottery game!..\")) )\n",
    "print(f\"\\t\\t{md_line}\\n\")\n",
    "# _____________________________________________________________________________________#\n",
    "\n",
    "# print message ant ticket matcing these number or letters wins a prize\n",
    "for ticket in series: # checking all user ticket one by one\n",
    "    print(f\"Your ticket: {ticket}\")\n",
    "    if chr in selected_tickets:\n",
    "        print(f\"Selected ticket from series {ticket} : \\t series = {selected_tickets} -> \\trandomly selected series\")\n",
    "        print(\"You win a prize! \")\n",
    "        print(dashline)\n",
    "        break\n",
    "    else:\n",
    "        print(f\"Your ticket {ticket} is not in : {selected_tickets} \\t-> \\trandomly selected series\")\n",
    "        print(\"You lost!\")\n",
    "        print(\"Better luck next time!\")\n",
    "        print(mul_line)\n",
    "        break\n",
    "\n"
   ]
  },
  {
   "cell_type": "markdown",
   "metadata": {},
   "source": [
    "### **9-15. Lottery Analysis**\n",
    "You can use a `loop` to see how hard it might be to win the kind of `lottery` you just modeled. \n",
    "\n",
    "Make a `list` or `tuple` called `my_ticket`. Write a `loop` that `keeps pulling` numbers until your `ticket` wins. \n",
    "\n",
    "Print a message reporting how many `times` the `loop` had to run to give you a `winning` ticket."
   ]
  },
  {
   "cell_type": "code",
   "execution_count": 106,
   "metadata": {},
   "outputs": [
    {
     "name": "stdout",
     "output_type": "stream",
     "text": [
      "you lose 1\n",
      "---------------------------------------------------------------------------------------------------\n",
      "you win 2\n",
      "[1, 2]\n",
      "Loop executes 2 times.\n"
     ]
    }
   ],
   "source": [
    "from typing import Union\n",
    "from random import randint\n",
    "\n",
    "# list or tuple containing series of 10 number and 5 letters\n",
    "series: list[Union[int, str]] = [1, 2, 3, 4, 5, 6, 7, 8, 9, 10, \"a\", \"b\", \"c\", \"d\", \"e\"]\n",
    "\n",
    "# list of my tickets\n",
    "my_tickets : list[Union[int,str]] = []\n",
    "\n",
    "# selecting 4 number or letters from list\n",
    "#                                  0    15 = length\n",
    "selected_tickets = [series[randint(0, len(series) - 1)] for i in range(4)] # like -> [1,4,'e',9]\n",
    "\n",
    "# loop untill your ticket wins also counting how many times loop execute\n",
    "for your_ticket in series:\n",
    "    if your_ticket in selected_tickets:\n",
    "        my_tickets.append(your_ticket)\n",
    "        print(dashline)\n",
    "        print(f\"you win {your_ticket}\")\n",
    "        break\n",
    "    else:\n",
    "        my_tickets.append(your_ticket)\n",
    "        print(f\"you lose {your_ticket}\")\n",
    "        continue\n",
    "# loop executations \n",
    "print(my_tickets)\n",
    "print(f\"Loop executes {len(my_tickets)} times.\")\n"
   ]
  },
  {
   "cell_type": "markdown",
   "metadata": {},
   "source": [
    "### **9-16. Python Module of the Week**\n",
    "One excellent resource for exploring the `Python standard library` is a site called `Python Module` of the Week. \n",
    "\n",
    "Go to https://pymotw.com and look at the table of contents. Find a module that looks interesting to you and read about it, \n",
    "\n",
    "perhaps starting with the random module."
   ]
  },
  {
   "cell_type": "code",
   "execution_count": null,
   "metadata": {},
   "outputs": [],
   "source": []
  }
 ],
 "metadata": {
  "kernelspec": {
   "display_name": "p-learning",
   "language": "python",
   "name": "python3"
  },
  "language_info": {
   "codemirror_mode": {
    "name": "ipython",
    "version": 3
   },
   "file_extension": ".py",
   "mimetype": "text/x-python",
   "name": "python",
   "nbconvert_exporter": "python",
   "pygments_lexer": "ipython3",
   "version": "3.11.5"
  }
 },
 "nbformat": 4,
 "nbformat_minor": 2
}
