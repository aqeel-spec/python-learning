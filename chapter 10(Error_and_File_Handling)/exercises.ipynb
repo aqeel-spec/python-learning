{
 "cells": [
  {
   "cell_type": "markdown",
   "metadata": {},
   "source": [
    "# **Exercises Chp 10 Files aand error Handling**\n",
    "\n",
    "---"
   ]
  },
  {
   "cell_type": "markdown",
   "metadata": {},
   "source": [
    "## Exercise 01"
   ]
  },
  {
   "cell_type": "markdown",
   "metadata": {},
   "source": [
    "### **10-1. Learning Python**\n",
    "\n",
    "Open a `blank file` in your text editor and `write a few lines`\n",
    "\n",
    "`summarizing` what you’ve learned about Python so far. Start each line with the\n",
    "\n",
    "phrase In `Python` `you can. . . .` Save the file as `learning_python.txt` in the same\n",
    "\n",
    "`directory` as your exercises from this chapter. Write a program that reads the file\n",
    "\n",
    "and prints what you wrote two times: print the contents once by reading in the\n",
    "\n",
    "entire file, and once by storing the lines in a list and then `looping over each line`."
   ]
  },
  {
   "cell_type": "code",
   "execution_count": 36,
   "metadata": {},
   "outputs": [
    {
     "name": "stdout",
     "output_type": "stream",
     "text": [
      "I'm learning file and error handling in this chapter.In python we can read and write data.\n",
      "\n",
      "I'm learning file and error handling in this chapter.\n",
      "\n",
      "In python we can read and write data.\n"
     ]
    }
   ],
   "source": [
    "\n",
    "lines : list[str] = []\n",
    "\n",
    "with open('learning_python.txt','w+') as file: # w+ -> read , write and create file if not exists\n",
    "    # write data to file\n",
    "    lines.append(\"I'm learning file and error handling in this chapter.\")\n",
    "    lines.append(\"In python we can read and write data.\")\n",
    "    file.writelines(lines)\n",
    "\n",
    "    file.seek(0)\n",
    "\n",
    "    # now read data from file\n",
    "    data = file.read()\n",
    "    print(data)\n",
    "\n",
    "    # looping over each line\n",
    "    for line in lines:\n",
    "        print(f\"\\n{line}\")\n",
    "\n"
   ]
  },
  {
   "cell_type": "markdown",
   "metadata": {},
   "source": [
    "### **10-2. Learning C**\n",
    "You can use the replace() method to replace any word in a string with a different word. \n",
    "\n",
    "Here’s a quick example showing how to replace 'dog' with 'cat' in a sentence:\n",
    "\n",
    "---\n",
    "```python\n",
    ">>> message = \"I really like dogs.\"\n",
    ">>> message.replace('dog', 'cat')\n",
    "'I really like cats.'\n",
    "```\n",
    "---\n",
    "\n",
    "Read in each line from the file you just created, learning_python.txt, \n",
    "\n",
    "and replace the word Python with the name of another language, such as C. \n",
    "\n",
    "Print each modified line to the screen."
   ]
  },
  {
   "cell_type": "code",
   "execution_count": 60,
   "metadata": {},
   "outputs": [
    {
     "name": "stdout",
     "output_type": "stream",
     "text": [
      "Original Lines :\n",
      "\n",
      "I'm learning file and error handling in this chapter.\n",
      "In python we can read and write data.\n",
      "\n",
      "Modified Lines :\n",
      "\n",
      "I'm learning file and error handling in this chapter.\n",
      "In C we can read and write data.\n",
      "\n",
      "\n"
     ]
    }
   ],
   "source": [
    "\n",
    "lines : list[str] = []\n",
    "\n",
    "with open('learning_python.txt','w+') as file: # w+ -> read , write and create file if not exists\n",
    "    # write data to file\n",
    "    lines.append(\"I'm learning file and error handling in this chapter.\")\n",
    "    lines.append(\"In python we can read and write data.\")\n",
    "\n",
    "    # looping over each line\n",
    "    print(\"Original Lines :\\n\")\n",
    "    for line in lines:\n",
    "        print(f\"{line}\")\n",
    "        line = line.replace('python','C')\n",
    "        file.write(line)\n",
    "        file.write('\\n')\n",
    "    \n",
    "    # Seek back to the beginning of the file\n",
    "    file.seek(0)\n",
    "\n",
    "    # Read the data from the file\n",
    "    data : str = file.read()\n",
    "    print(f\"\\nModified Lines :\\n\\n{data}\\n\")\n",
    "\n"
   ]
  },
  {
   "cell_type": "markdown",
   "metadata": {},
   "source": [
    "### **10-3. Simpler Code**\n",
    "\n",
    "The program `file_reader.py` in this section uses a temporary\n",
    "\n",
    "variable, lines, to show how `splitlines()` works. You can skip the temporary\n",
    "\n",
    "variable and loop directly over the list that `splitlines() returns`:\n",
    "\n",
    "---\n",
    "```python\n",
    "for line in contents.splitlines():\n",
    "```\n",
    "\n",
    "---\n",
    "\n",
    "Remove the temporary variable from each of the programs in this section,\n",
    "\n",
    "to make them more concise."
   ]
  },
  {
   "cell_type": "code",
   "execution_count": 61,
   "metadata": {},
   "outputs": [
    {
     "name": "stdout",
     "output_type": "stream",
     "text": [
      "Original file items :\n",
      "\n",
      "I'm learning file and error handling in this chapter.\n",
      "In C we can read and write data.\n",
      "\n",
      "Modified file items :\n",
      "\n",
      "I'm learning file and error handling in this chapter.\n",
      "In C we can read and write data.\n",
      "I'm learning file and error handling in this chapter.\n",
      "In Python we can read and write data.\n",
      "\n",
      "\n"
     ]
    }
   ],
   "source": [
    "\n",
    "with open('learning_python.txt','r+') as file:\n",
    "    lines : list[str] = file.read().splitlines()\n",
    "\n",
    "    # looping over each line\n",
    "    print(\"Original file items :\\n\")\n",
    "    for line in lines:\n",
    "        print(f\"{line}\")\n",
    "        line = line.replace('C','Python')\n",
    "        file.write(line)\n",
    "        file.write('\\n')\n",
    "\n",
    "    \n",
    "    # Seek back to the beginning of the file\n",
    "    file.seek(0)\n",
    "\n",
    "    # Read the data from the file\n",
    "    data : str = file.read()\n",
    "    print(f\"\\nModified file items :\\n\\n{data}\\n\")\n",
    "        \n"
   ]
  },
  {
   "cell_type": "markdown",
   "metadata": {},
   "source": [
    "## **Exercie 02**"
   ]
  },
  {
   "cell_type": "markdown",
   "metadata": {},
   "source": [
    "### **10-4. Guest**\n",
    "\n",
    "Write a program that `prompts` the user for their name. \n",
    "\n",
    "When they respond, write their name to a file called `guest.txt`."
   ]
  },
  {
   "cell_type": "code",
   "execution_count": 62,
   "metadata": {},
   "outputs": [
    {
     "name": "stdout",
     "output_type": "stream",
     "text": [
      "Your name is added to the guest.txt file\n"
     ]
    }
   ],
   "source": [
    "with open(\"guest.txt\",'a') as file:\n",
    "    name = input(\"Enter your name: \")\n",
    "    file.write(name + \"\\n\")\n",
    "    print(\"Your name is added to the guest.txt file\")\n",
    "    file.close()"
   ]
  },
  {
   "cell_type": "markdown",
   "metadata": {},
   "source": [
    "### **10-5. Guest Book**\n",
    "\n",
    "Write a while loop that `prompts` users for their name. \n",
    "\n",
    "`Collect all the names` that are entered, and then `write` these names to a file called\n",
    "\n",
    "`guest_book.txt`. Make sure each entry appears on a `new line` in the file."
   ]
  },
  {
   "cell_type": "code",
   "execution_count": 63,
   "metadata": {},
   "outputs": [
    {
     "name": "stdout",
     "output_type": "stream",
     "text": [
      "Hi Aqeel Shahzad, you have been added to the guest book.\n",
      "\n",
      "Hi Xartash Haider, you have been added to the guest book.\n",
      "\n",
      "Hi Dr Aamir, you have been added to the guest book.\n",
      "\n",
      "Hi Usman Haider, you have been added to the guest book.\n",
      "\n",
      "Hi Umar Draz, you have been added to the guest book.\n",
      "\n",
      "Hi Tahir Abbas, you have been added to the guest book.\n",
      "\n",
      "Goodbye!\n"
     ]
    }
   ],
   "source": [
    "\n",
    "exit_keywords : list[str] = ['q','quit','exit']\n",
    "\n",
    "with open('guest_book.txt','a') as file:\n",
    "    while True:\n",
    "        name = input(\"What is your name? (Enter 'q' to quit)\")\n",
    "        if name in exit_keywords:\n",
    "            print(\"Goodbye!\")\n",
    "            break\n",
    "        else:\n",
    "            file.write(name + '\\n')\n",
    "            print(\"Hi \" + name + \", you have been added to the guest book.\")\n",
    "            print()"
   ]
  },
  {
   "cell_type": "markdown",
   "metadata": {},
   "source": [
    "## **Exercise 03**\n",
    "---"
   ]
  },
  {
   "cell_type": "markdown",
   "metadata": {},
   "source": [
    "### **10-6. Addition**\n",
    "\n",
    "One common problem when prompting for numerical input\n",
    "\n",
    "occurs when people provide text instead of numbers. When you try to convert\n",
    "\n",
    "the `input` to an `int`, you’ll get a `ValueError`. Write a program that `prompts` for\n",
    "\n",
    "`two numbers`. Add them together and print the `result`. Catch the `ValueError` if\n",
    "\n",
    "either input value is not a number, and print a `friendly` `error` message. Test your\n",
    "\n",
    "program by entering `two` numbers and then by entering some text instead of a\n",
    "number."
   ]
  },
  {
   "cell_type": "code",
   "execution_count": 75,
   "metadata": {},
   "outputs": [
    {
     "name": "stdout",
     "output_type": "stream",
     "text": [
      "Sum of your numbers is = 11\n"
     ]
    }
   ],
   "source": [
    "try:\n",
    "    number1 : int = int(input(\"Enter the first number : \"))\n",
    "    number2 : int = int(input(\"Enter the second number : \"))\n",
    "\n",
    "except ValueError:\n",
    "    print(\"Please enter a valid number\")\n",
    "else:\n",
    "    print(f\"Sum of your numbers is = {number1 + number2}\")\n"
   ]
  },
  {
   "cell_type": "markdown",
   "metadata": {},
   "source": [
    "### **10-7. Addition Calculator**\n",
    "\n",
    "Wrap your code from `Exercise 10-5` in a while loop\n",
    "\n",
    "so the user can `continue` entering numbers, even if they make a `mistake` and\n",
    "\n",
    "enter text instead of a number."
   ]
  },
  {
   "cell_type": "code",
   "execution_count": 76,
   "metadata": {},
   "outputs": [
    {
     "name": "stdout",
     "output_type": "stream",
     "text": [
      "Sum of your numbers is = 46\n",
      "Sum of your numbers is = 57\n",
      "Sum of your numbers is = 468\n",
      "Sum of your numbers is = 4690\n",
      "Sum of your numbers is = 5590\n",
      "Please enter a valid number\n"
     ]
    }
   ],
   "source": [
    "\n",
    "while True: \n",
    "    try:\n",
    "        number1 : int = int(input(\"Enter the first number : \"))\n",
    "        number2 : int = int(input(\"Enter the second number : \"))\n",
    "            \n",
    "\n",
    "    except ValueError:\n",
    "        print(\"Please enter a valid number\")\n",
    "        break\n",
    "    else:\n",
    "        print(f\"Sum of your numbers is = {number1 + number2}\")\n"
   ]
  },
  {
   "cell_type": "markdown",
   "metadata": {},
   "source": [
    "## **10-8. Cats and Dogs**\n",
    "\n",
    "Make two files, `cats.txt` and `dogs.txt`. Store at least `three names` of `cats` in the `first file `\n",
    "\n",
    "and `three names` of `dogs` in the `second file`. \n",
    "\n",
    "Write a program that tries to read these files and print the contents of the file to the screen. \n",
    "\n",
    "Wrap your code in a `try-except block` to catch the `FileNotFound` error,\n",
    "\n",
    "and print a friendly message if a file is `missing`. Move one of the files to a `different location`\n",
    "\n",
    "on your system, and make sure the code in the except block executes properly."
   ]
  },
  {
   "cell_type": "code",
   "execution_count": 85,
   "metadata": {},
   "outputs": [
    {
     "name": "stdout",
     "output_type": "stream",
     "text": [
      "Data added to file successfully \n",
      "\n",
      "Cats names are: \n",
      "cat1\n",
      "cat2\n",
      "cat3\n",
      "\n",
      "Dogs names are: \n",
      "dog1\n",
      "dog2\n",
      "dog3\n",
      "\n"
     ]
    }
   ],
   "source": [
    "# three names of cats \n",
    "cats_names : list[str] = [\"cat1\", \"cat2\", \"cat3\"]\n",
    "\n",
    "# three names of dogs\n",
    "dogs_names : list[str] = [\"dog1\", \"dog2\", \"dog3\"]\n",
    "\n",
    "# wrap the code in try-catch block to catch FileNotFound error\n",
    "try:\n",
    "    # store three names of cat in cats.txt file and also in dogs.txt file\n",
    "    with open(\"./exercise_files/cats.txt\", \"r+\") as f:\n",
    "        for name in cats_names:\n",
    "            f.write(name + \"\\n\")\n",
    "        f.seek(0)\n",
    "        cats_data : str = f.read()\n",
    "\n",
    "    with open(\"./exercise_files/dogs.txt\", \"r+\") as f:\n",
    "        for name in dogs_names:\n",
    "            f.write(name + \"\\n\")\n",
    "        f.seek(0)\n",
    "        dogs_Data : str = f.read()\n",
    "        \n",
    "except FileNotFoundError:\n",
    "    print(\"File not found\")\n",
    "else:\n",
    "    print(\"Data added to file successfully \\n\")\n",
    "    print(f\"Cats names are: \\n{cats_data}\")\n",
    "    print(f\"Dogs names are: \\n{dogs_Data}\")"
   ]
  },
  {
   "cell_type": "markdown",
   "metadata": {},
   "source": [
    "## **10-9. Silent Cats and Dogs**\n",
    "\n",
    "Modify your `except block` in `Exercise 10-7` to `fail silently` if either file is `missing`."
   ]
  },
  {
   "cell_type": "code",
   "execution_count": 87,
   "metadata": {},
   "outputs": [
    {
     "name": "stdout",
     "output_type": "stream",
     "text": [
      "No output\n"
     ]
    }
   ],
   "source": [
    "# three names of cats \n",
    "cats_names : list[str] = [\"cat1\", \"cat2\", \"cat3\"]\n",
    "\n",
    "# three names of dogs\n",
    "dogs_names : list[str] = [\"dog1\", \"dog2\", \"dog3\"]\n",
    "\n",
    "# wrap the code in try-catch block to catch FileNotFound error\n",
    "try:\n",
    "    # store three names of cat in cats.txt file and also in dogs.txt file\n",
    "    with open(\"./exercise_files/cats1.txt\", \"r+\") as f:\n",
    "        for name in cats_names:\n",
    "            f.write(name + \"\\n\")\n",
    "        f.seek(0)\n",
    "        cats_data : str = f.read()\n",
    "\n",
    "    with open(\"./exercise_files/dogs1.txt\", \"r+\") as f:\n",
    "        for name in dogs_names:\n",
    "            f.write(name + \"\\n\")\n",
    "        f.seek(0)\n",
    "        dogs_Data : str = f.read()\n",
    "        \n",
    "except FileNotFoundError:\n",
    "    pass\n",
    "else:\n",
    "    print(\"Data added to file successfully \\n\")\n",
    "    print(f\"Cats names are: \\n{cats_data}\")\n",
    "    print(f\"Dogs names are: \\n{dogs_Data}\")\n",
    "\n",
    "print(\"No output\")"
   ]
  },
  {
   "cell_type": "markdown",
   "metadata": {},
   "source": [
    "## **10-10. Common Words**\n",
    "\n",
    "Visit Project Gutenberg (https://gutenberg.org ) and find a few texts you’d like to analyze. <br/> \n",
    "\n",
    "Download the text files for these works, or copy the <br/>\n",
    "raw text from your browser into a text file on your computer\n",
    "\n",
    "You can use the `count() method` to find out how many times a `word` or `phrase` appears in a string. <br />\n",
    "For example, the following code counts the numbe of times `'row'` appears in a string:\n",
    "\n",
    "---\n",
    "\n",
    "```python\n",
    ">>> line = \"Row, row, row your boat\"\n",
    ">>> line.count('row')\n",
    "2\n",
    ">>> line.lower().count('row')\n",
    "3\n",
    "```\n",
    "---\n",
    "\n",
    "Notice that converting the string to `lowercase` using `lower()` catches all <br/>\n",
    "appearances of the word you’re looking for, regardless of how it’s formatted.\n",
    "\n",
    "Appearances of the word you’re looking for, regardless of how it’s formatted. <br/>\n",
    "Write a program that reads the files you found at Project Gutenberg and <br/>\n",
    "determines how many times the word `'the'` appears in each text. This will be <br/>\n",
    "an approximation because it will also count words such as `'then'` and `'there'`.<br/>\n",
    "Try counting `'the '`, with a space in the string, and see how much lower your<br/>\n",
    "count is."
   ]
  },
  {
   "cell_type": "code",
   "execution_count": 92,
   "metadata": {},
   "outputs": [
    {
     "name": "stdout",
     "output_type": "stream",
     "text": [
      "no of count's in 'the':29\n",
      "no of count's in 'then':1\n",
      "no of count's in 'there':1\n",
      "no of count's in 'the ':15\n"
     ]
    }
   ],
   "source": [
    "with open('./exercise_files/test.txt', 'r') as f:\n",
    "    content : str = f.read()\n",
    "    the_counter : int = content.lower().count('the')\n",
    "    then_counter : int = content.lower().count('then')\n",
    "    there_counter : int = content.lower().count('there')\n",
    "    the_counter_with_space : int = content.lower().count('the ')\n",
    "\n",
    "    print(f\"no of count's in 'the':{the_counter}\")\n",
    "    print(f\"no of count's in 'then':{then_counter}\")\n",
    "    print(f\"no of count's in 'there':{there_counter}\")\n",
    "    print(f\"no of count's in 'the ':{the_counter_with_space}\")"
   ]
  },
  {
   "cell_type": "markdown",
   "metadata": {},
   "source": [
    "## **Exercise 04**\n",
    "---"
   ]
  },
  {
   "cell_type": "markdown",
   "metadata": {},
   "source": [
    "### **10-11. Favorite Number**\n",
    "\n",
    "Write a program that prompts for the user’s favorite number. \n",
    "\n",
    "Use `json.dumps()` to store this number in a file. Write a separate pro-\n",
    "\n",
    "gram that reads in this value and prints the message `“I know your favorite number!` `It’s _____.`”"
   ]
  },
  {
   "cell_type": "code",
   "execution_count": 1,
   "metadata": {},
   "outputs": [
    {
     "name": "stdout",
     "output_type": "stream",
     "text": [
      "I know your favorite number! It's 34. \n"
     ]
    }
   ],
   "source": [
    "import json\n",
    "\n",
    "\n",
    "fav_num : int = int(input(\"What is your name ? :\\t\"))\n",
    "\n",
    "with open('./exercise_files/username.json','w') as f:\n",
    "    # write json data\n",
    "    contents : str = json.dumps({\"fav_number\": fav_num})\n",
    "    f.write(contents)\n",
    "    f.seek(0)\n",
    "\n",
    "print(f\"I know your favorite number! It's {fav_num}. \")\n",
    "\n"
   ]
  },
  {
   "cell_type": "markdown",
   "metadata": {},
   "source": [
    "## **10-12. Favorite Number Remembered**\n",
    "\n",
    "Combine the two programs you wrote in `Exercise 10-11` into one file. If the number is already stored, \n",
    "\n",
    "report the favorite number to the user. If not, `prompt` for the user’s favorite number and store it in a file. \n",
    "\n",
    "Run the program `twice` to see that it works."
   ]
  },
  {
   "cell_type": "code",
   "execution_count": 11,
   "metadata": {},
   "outputs": [
    {
     "name": "stdout",
     "output_type": "stream",
     "text": [
      "Number added to file\n"
     ]
    }
   ],
   "source": [
    "# propmt user to check if number is already in file\n",
    "\n",
    "def check_if_number_exists(number : int):\n",
    "    with open('./exercise_files/numbers.json', 'r') as file:\n",
    "        contents = json.loads(file.read())\n",
    "        for line in contents:\n",
    "            if line == number:\n",
    "                return True\n",
    "    return False\n",
    "\n",
    "\n",
    "# prompt user to enter a number\n",
    "number : int = int(input('Enter a number: '))\n",
    "\n",
    "# check if number is already in file\n",
    "if check_if_number_exists(number):\n",
    "    print('Number already exists in file')\n",
    "else:\n",
    "    number = int(input('Enter a number: '))\n",
    "    with open('./exercise_files/numbers.json', 'a') as file:\n",
    "        num : str = json.dumps(number)\n",
    "        file.write(f'{num}\\n')\n",
    "        print('Number added to file')\n",
    "\n",
    "    "
   ]
  },
  {
   "cell_type": "markdown",
   "metadata": {},
   "source": [
    "### **10-13. User Dictionary**\n",
    "\n",
    "The `remember_me.py` example only stores one piece of information, the username. \n",
    "\n",
    "Expand this example by asking for two more pieces of information about the user, \n",
    "\n",
    "then store all the information you collect in a dictionary. \n",
    "\n",
    "Write this dictionary to a file using `json.dumps()`, and read it back in using `json.loads()`. \n",
    "\n",
    "Print a summary showing exactly what your program remembers about the user."
   ]
  },
  {
   "cell_type": "code",
   "execution_count": 11,
   "metadata": {},
   "outputs": [
    {
     "name": "stdout",
     "output_type": "stream",
     "text": [
      "User full name is: Aqeel Shahzad \n"
     ]
    }
   ],
   "source": [
    "import json\n",
    "\n",
    "with open('./exercise_files/username.json','w') as f:\n",
    "    firstname : str = input(\"Enter your first name: \")\n",
    "    lastname : str = input(\"Enter your last name: \")\n",
    "    content  = json.dumps({\"users\":{\"first_name\":firstname, \"last_name\" : lastname}})\n",
    "    f.write(content)\n",
    "    f.seek(0)\n",
    "\n",
    "with open('./exercise_files/username.json','r') as f:\n",
    "    contents : dict[str,dict[str,str]] = json.loads(f.read())\n",
    "    print(f\"User full name is: {contents['users']['first_name']} {contents['users']['last_name']}\")\n",
    "\n"
   ]
  },
  {
   "cell_type": "markdown",
   "metadata": {},
   "source": [
    "### **10-14. Verify User**\n",
    "\n",
    "The final listing for `remember_me.py` assumes either that the user has already entered \n",
    "\n",
    "their username or that the program is running for the first time. \n",
    "\n",
    "We should modify it in case the current user is not the person who last used the program.\n",
    "\n",
    "Before printing a welcome back message in `greet_user()`, ask the user if this is the correct \n",
    "\n",
    "username. If it’s not, call `get_new_username()` to get the correct username."
   ]
  },
  {
   "cell_type": "code",
   "execution_count": 52,
   "metadata": {},
   "outputs": [
    {
     "name": "stdout",
     "output_type": "stream",
     "text": [
      "Welcome back Admin!\n",
      "('\\n'\n",
      " 'List of users: \\n'\n",
      " \"{'users': [{'username': '', 'password': ''}, {'username': 'admin', \"\n",
      " \"'password': '123'}, {'username': 'admin', 'password': '123'}, {'username': \"\n",
      " \"'usman', 'password': '1234'}]} \")\n"
     ]
    }
   ],
   "source": [
    "import json\n",
    "from pprint import pprint\n",
    "\n",
    "def greet_user(user : str) -> str:\n",
    "    return f\"Welcome back {user.title()}!\"\n",
    "\n",
    "def get_new_username() -> dict[str, list[dict[str, str]]]:\n",
    "    \"\"\"Prompts the user to enter a username and password. If the username already exists and the password is correct, the user is welcomed back. If the username does not exist or the password is incorrect, the user is given the option to create a new user.\n",
    "\n",
    "    Returns:\n",
    "        A dictionary containing the list of users.\n",
    "    \"\"\"\n",
    "\n",
    "    username = input(\"What is your name? \")\n",
    "    password = input(\"What is your password? \")\n",
    "\n",
    "    with open(\"./exercise_files/username.json\", \"r\") as f:\n",
    "        users = json.load(f)\n",
    "\n",
    "    found = False\n",
    "    for user in users[\"users\"]:\n",
    "        if username == user[\"username\"]:\n",
    "            if password == user[\"password\"]:\n",
    "                print(greet_user(username))\n",
    "                found = True\n",
    "                break\n",
    "            else:\n",
    "                print(\"Wrong password\")\n",
    "\n",
    "    if not found:\n",
    "        print(\"Wrong username\")\n",
    "        new_user = input(\"Would you like to create a new user? (y/n) \")\n",
    "        if new_user == \"y\":\n",
    "            users[\"users\"].append({\"username\": username, \"password\": password})\n",
    "\n",
    "            with open(\"./exercise_files/username.json\", \"w\") as f:\n",
    "                json.dump(users, f, indent=2)\n",
    "                print(\"New user created\")\n",
    "\n",
    "        else:\n",
    "            print(\"Goodbye\")\n",
    "\n",
    "    return users\n",
    "\n",
    "# Get a new username\n",
    "users = get_new_username()\n",
    "\n",
    "# print all users\n",
    "pprint(f\"\\nList of users: \\n{users} \")\n"
   ]
  },
  {
   "cell_type": "code",
   "execution_count": null,
   "metadata": {},
   "outputs": [],
   "source": []
  }
 ],
 "metadata": {
  "kernelspec": {
   "display_name": "p-learning",
   "language": "python",
   "name": "python3"
  },
  "language_info": {
   "codemirror_mode": {
    "name": "ipython",
    "version": 3
   },
   "file_extension": ".py",
   "mimetype": "text/x-python",
   "name": "python",
   "nbconvert_exporter": "python",
   "pygments_lexer": "ipython3",
   "version": "3.11.5"
  }
 },
 "nbformat": 4,
 "nbformat_minor": 2
}
