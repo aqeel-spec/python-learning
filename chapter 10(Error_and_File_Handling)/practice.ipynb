{
 "cells": [
  {
   "cell_type": "markdown",
   "metadata": {},
   "source": [
    "# **Chpater 10 Error and file handling**"
   ]
  },
  {
   "cell_type": "markdown",
   "metadata": {},
   "source": [
    "Install the necessory packages before going to start"
   ]
  },
  {
   "cell_type": "code",
   "execution_count": 1,
   "metadata": {},
   "outputs": [
    {
     "name": "stdout",
     "output_type": "stream",
     "text": [
      "Collecting PyPDF2\n",
      "  Downloading pypdf2-3.0.1-py3-none-any.whl (232 kB)\n",
      "\u001b[2K     \u001b[90m━━━━━━━━━━━━━━━━━━━━━━━━━━━━━━━━━━━━━\u001b[0m \u001b[32m232.6/232.6 kB\u001b[0m \u001b[31m708.7 kB/s\u001b[0m eta \u001b[36m0:00:00\u001b[0ma \u001b[36m0:00:01\u001b[0m\n",
      "\u001b[?25hCollecting openpyxl\n",
      "  Downloading openpyxl-3.1.2-py2.py3-none-any.whl (249 kB)\n",
      "\u001b[2K     \u001b[90m━━━━━━━━━━━━━━━━━━━━━━━━━━━━━━━━━━━━━\u001b[0m \u001b[32m250.0/250.0 kB\u001b[0m \u001b[31m565.2 kB/s\u001b[0m eta \u001b[36m0:00:00\u001b[0ma \u001b[36m0:00:01\u001b[0m\n",
      "\u001b[?25hCollecting pydub\n",
      "  Downloading pydub-0.25.1-py2.py3-none-any.whl (32 kB)\n",
      "Collecting et-xmlfile (from openpyxl)\n",
      "  Downloading et_xmlfile-1.1.0-py3-none-any.whl (4.7 kB)\n",
      "Installing collected packages: pydub, PyPDF2, et-xmlfile, openpyxl\n",
      "Successfully installed PyPDF2-3.0.1 et-xmlfile-1.1.0 openpyxl-3.1.2 pydub-0.25.1\n"
     ]
    }
   ],
   "source": [
    "!pip install PyPDF2 openpyxl pydub"
   ]
  },
  {
   "cell_type": "markdown",
   "metadata": {},
   "source": [
    "# Python Error Handling and File Handling Guide\n",
    "\n",
    "This guide provides an overview of error handling techniques in Python, including creating custom errors and dynamic error handling. It also covers file handling with various access modifiers and reading files of different types such as CSV, PDF, Excel, and audio files.\n",
    "\n",
    "## YouTube link\n",
    "[2 hour live session](https://youtube.com/live/v79aciliCkM)\n",
    "\n",
    "## Table of Contents\n",
    "\n",
    "- [Error Handling](#error-handling)\n",
    "  - [Try-Except-Else](#try-except-else)\n",
    "  - [Multiple Except Blocks](#multiple-except-blocks)\n",
    "  - [Creating Custom Errors](#creating-custom-errors)\n",
    "  - [Dynamic Error Handling](#dynamic-error-handling)\n",
    "- [File Handling with Access Modifiers](#file-handling-with-access-modifiers)\n",
    "  - [Read Mode (r)](#read-mode-r)\n",
    "  - [Read and Write Mode (r+)](#read-and-write-mode-r)\n",
    "  - [Write Mode (w)](#write-mode-w)\n",
    "  - [Write and Read Mode (w+)](#write-and-read-mode-w)\n",
    "  - [Append Mode (a)](#append-mode-a)\n",
    "  - [Append and Read Mode (a+)](#append-and-read-mode-a)\n",
    "  - [Binary Read Mode (rb)](#binary-read-mode-rb)\n",
    "- [Reading Files](#reading-files)\n",
    "  - [Reading CSV Files](#reading-csv-files)\n",
    "  - [Reading PDF Files](#reading-pdf-files)\n",
    "  - [Reading Excel Files](#reading-excel-files)\n",
    "  - [Reading Audio Files](#reading-audio-files)\n",
    "\n"
   ]
  },
  {
   "cell_type": "markdown",
   "metadata": {},
   "source": [
    "## Error Handling\n",
    "\n",
    "### Try-Except-Else\n",
    "\n",
    "Using `try`, `except`, and `else` blocks allows you to handle errors gracefully and execute code when no errors occur.\n"
   ]
  },
  {
   "cell_type": "code",
   "execution_count": 2,
   "metadata": {},
   "outputs": [
    {
     "name": "stdout",
     "output_type": "stream",
     "text": [
      "Cannot divide by zero!\n"
     ]
    },
    {
     "data": {
      "text/plain": [
       "0.0"
      ]
     },
     "execution_count": 2,
     "metadata": {},
     "output_type": "execute_result"
    }
   ],
   "source": [
    "def divide(a: float, b: float) -> float:\n",
    "    try:\n",
    "        result = a / b\n",
    "    except ZeroDivisionError:\n",
    "        print(\"Cannot divide by zero!\")\n",
    "        return 0.0\n",
    "    else:\n",
    "        print(\"Division successful\")\n",
    "        return result\n",
    "\n",
    "divide(5.6,0)"
   ]
  },
  {
   "cell_type": "markdown",
   "metadata": {},
   "source": [
    "### Multiple Except Blocks\n",
    "\n",
    "You can handle different types of exceptions using multiple `except` blocks."
   ]
  },
  {
   "cell_type": "code",
   "execution_count": 7,
   "metadata": {},
   "outputs": [
    {
     "data": {
      "text/plain": [
       "5"
      ]
     },
     "execution_count": 7,
     "metadata": {},
     "output_type": "execute_result"
    }
   ],
   "source": [
    "def convert_to_int(value: str) -> int:\n",
    "    try:\n",
    "        return int(value)\n",
    "    except ValueError:\n",
    "        print(\"Invalid integer!\")\n",
    "        return 0\n",
    "    except TypeError:\n",
    "        print(\"Value must be a string!\")\n",
    "        return 0\n",
    "    \n",
    "convert_to_int(\"5\")"
   ]
  },
  {
   "cell_type": "markdown",
   "metadata": {},
   "source": [
    "### Creating Custom Errors\n",
    "\n",
    "You can create custom error classes by inheriting from the base `Exception` class."
   ]
  },
  {
   "cell_type": "code",
   "execution_count": 8,
   "metadata": {},
   "outputs": [
    {
     "ename": "NegativeValueError",
     "evalue": "Value cannot be negative",
     "output_type": "error",
     "traceback": [
      "\u001b[0;31m---------------------------------------------------------------------------\u001b[0m",
      "\u001b[0;31mNegativeValueError\u001b[0m                        Traceback (most recent call last)",
      "\u001b[1;32m/home/shahzad/Documents/GitHub/python-learning/chapter 10(Error_and_File_Handling)/practice.ipynb Cell 10\u001b[0m line \u001b[0;36m1\n\u001b[1;32m      <a href='vscode-notebook-cell:/home/shahzad/Documents/GitHub/python-learning/chapter%2010%28Error_and_File_Handling%29/practice.ipynb#X11sZmlsZQ%3D%3D?line=6'>7</a>\u001b[0m         \u001b[39mraise\u001b[39;00m NegativeValueError()\n\u001b[1;32m      <a href='vscode-notebook-cell:/home/shahzad/Documents/GitHub/python-learning/chapter%2010%28Error_and_File_Handling%29/practice.ipynb#X11sZmlsZQ%3D%3D?line=7'>8</a>\u001b[0m     \u001b[39mreturn\u001b[39;00m value \u001b[39m*\u001b[39m\u001b[39m*\u001b[39m \u001b[39m0.5\u001b[39m\n\u001b[0;32m---> <a href='vscode-notebook-cell:/home/shahzad/Documents/GitHub/python-learning/chapter%2010%28Error_and_File_Handling%29/practice.ipynb#X11sZmlsZQ%3D%3D?line=9'>10</a>\u001b[0m sqrt(\u001b[39m-\u001b[39;49m\u001b[39m5\u001b[39;49m)\n",
      "\u001b[1;32m/home/shahzad/Documents/GitHub/python-learning/chapter 10(Error_and_File_Handling)/practice.ipynb Cell 10\u001b[0m line \u001b[0;36m7\n\u001b[1;32m      <a href='vscode-notebook-cell:/home/shahzad/Documents/GitHub/python-learning/chapter%2010%28Error_and_File_Handling%29/practice.ipynb#X11sZmlsZQ%3D%3D?line=4'>5</a>\u001b[0m \u001b[39mdef\u001b[39;00m \u001b[39msqrt\u001b[39m(value: \u001b[39mfloat\u001b[39m) \u001b[39m-\u001b[39m\u001b[39m>\u001b[39m \u001b[39mfloat\u001b[39m:\n\u001b[1;32m      <a href='vscode-notebook-cell:/home/shahzad/Documents/GitHub/python-learning/chapter%2010%28Error_and_File_Handling%29/practice.ipynb#X11sZmlsZQ%3D%3D?line=5'>6</a>\u001b[0m     \u001b[39mif\u001b[39;00m value \u001b[39m<\u001b[39m \u001b[39m0\u001b[39m:\n\u001b[0;32m----> <a href='vscode-notebook-cell:/home/shahzad/Documents/GitHub/python-learning/chapter%2010%28Error_and_File_Handling%29/practice.ipynb#X11sZmlsZQ%3D%3D?line=6'>7</a>\u001b[0m         \u001b[39mraise\u001b[39;00m NegativeValueError()\n\u001b[1;32m      <a href='vscode-notebook-cell:/home/shahzad/Documents/GitHub/python-learning/chapter%2010%28Error_and_File_Handling%29/practice.ipynb#X11sZmlsZQ%3D%3D?line=7'>8</a>\u001b[0m     \u001b[39mreturn\u001b[39;00m value \u001b[39m*\u001b[39m\u001b[39m*\u001b[39m \u001b[39m0.5\u001b[39m\n",
      "\u001b[0;31mNegativeValueError\u001b[0m: Value cannot be negative"
     ]
    }
   ],
   "source": [
    "class NegativeValueError(Exception):\n",
    "    def __str__(self) -> str:\n",
    "        return \"Value cannot be negative\"\n",
    "\n",
    "def sqrt(value: float) -> float:\n",
    "    if value < 0:\n",
    "        raise NegativeValueError()\n",
    "    return value ** 0.5\n",
    "\n",
    "sqrt(-5)"
   ]
  },
  {
   "cell_type": "markdown",
   "metadata": {},
   "source": [
    "### Dynamic Error Handling\n",
    "You can handle errors dynamically by capturing the `exception` and analyzing it."
   ]
  },
  {
   "cell_type": "code",
   "execution_count": 10,
   "metadata": {},
   "outputs": [
    {
     "name": "stdout",
     "output_type": "stream",
     "text": [
      "An error occurred: invalid literal for int() with base 10: 'SADf'\n"
     ]
    },
    {
     "data": {
      "text/plain": [
       "0"
      ]
     },
     "execution_count": 10,
     "metadata": {},
     "output_type": "execute_result"
    }
   ],
   "source": [
    "def dynamic_error_handling(value: str) -> int:\n",
    "    try:\n",
    "        return int(value)\n",
    "    except Exception as e:\n",
    "        print(f\"An error occurred: {str(e)}\")\n",
    "        return 0\n",
    "    \n",
    "dynamic_error_handling(\"SADf\")"
   ]
  },
  {
   "cell_type": "markdown",
   "metadata": {},
   "source": [
    "## File Handling with Access Modifiers\n",
    "---\n",
    "\n",
    "### Read Mode (r)\n",
    "\n",
    "Opens a file for reading."
   ]
  },
  {
   "cell_type": "code",
   "execution_count": 12,
   "metadata": {},
   "outputs": [
    {
     "name": "stdout",
     "output_type": "stream",
     "text": [
      "Hello , Aqeel Shahzad\n",
      "\n",
      "Python is a general-purpose programming language that is used for a wide variety of applications, including web development, data science, machine learning, and artificial intelligence. It is a popular language for beginners because it is relatively easy to learn and has a large and active community.\n",
      "\n",
      "Here are some of the key features of Python:\n",
      "\n",
      "* Easy to learn and use\n",
      "* Powerful and versatile\n",
      "* Open source and free to use\n",
      "* Large and active community\n",
      "* Wide range of libraries and frameworks available\n",
      "\n",
      "Python is used by many large companies, including Google, Facebook, and Amazon. It is also used by many universities and research institutions.\n",
      "\n",
      "Here are some examples of what Python can be used for:\n",
      "\n",
      "* Web development: Python can be used to develop web applications using frameworks such as Django and Flask.\n",
      "* Data science: Python is a popular language for data science because of its powerful libraries such as NumPy and Pandas.\n",
      "* Machine learning: Python is also a popular language for machine learning because of its libraries such as TensorFlow and PyTorch.\n",
      "* Artificial intelligence: Python is used to develop artificial intelligence applications such as natural language processing and computer vision.\n",
      "\n",
      "Python is a powerful and versatile language that can be used for a wide variety of applications. It is a popular language for beginners and experienced programmers alike.\n",
      "\n"
     ]
    }
   ],
   "source": [
    "with open('file.txt','r') as f:\n",
    "    content = f.read()\n",
    "    print(content)"
   ]
  },
  {
   "cell_type": "markdown",
   "metadata": {},
   "source": [
    "#### Read and Write Modifier\n",
    "open a file for reading and writing."
   ]
  },
  {
   "cell_type": "code",
   "execution_count": 14,
   "metadata": {},
   "outputs": [
    {
     "name": "stdout",
     "output_type": "stream",
     "text": [
      "Hello , Aqeel Shahzad\n",
      "\n",
      "Python is a general-purpose programming language that is used for a wide variety of applications, including web development, data science, machine learning, and artificial intelligence. It is a popular language for beginners because it is relatively easy to learn and has a large and active community.\n",
      "\n",
      "Here are some of the key features of Python:\n",
      "\n",
      "* Easy to learn and use\n",
      "* Powerful and versatile\n",
      "* Open source and free to use\n",
      "* Large and active community\n",
      "* Wide range of libraries and frameworks available\n",
      "\n",
      "\n"
     ]
    }
   ],
   "source": [
    "with open('file.txt', 'r+') as f:\n",
    "    content = f.read()\n",
    "    print(content)\n",
    "    f.write('Welcome Aqeel') # this will add text at last of file\n",
    "\n",
    "# here is some issue we cannot get updated data"
   ]
  },
  {
   "cell_type": "code",
   "execution_count": 20,
   "metadata": {},
   "outputs": [
    {
     "name": "stdout",
     "output_type": "stream",
     "text": [
      "Welcome Aqeel Shahzad\n",
      "\n",
      "Python is a general-purpose programming language that is used for a wide variety of applications, including web development, data science, machine learning, and artificial intelligence. It is a popular language for beginners because it is relatively easy to learn and has a large and active community.\n",
      "\n",
      "Here are some of the key features of Python:\n",
      "\n",
      "* Easy to learn and use\n",
      "* Powerful and versatile\n",
      "* Open source and free to use\n",
      "* Large and active community\n",
      "* Wide range of libraries and frameworks available\n",
      "\n"
     ]
    }
   ],
   "source": [
    "with open('file.txt', 'r+') as f:\n",
    "    f.write('Welcome Aqeel') # this will add text at last of file\n",
    "    f.seek(0) # we use seek to get updated data\n",
    "    content = f.read()\n",
    "    print(content)"
   ]
  },
  {
   "cell_type": "markdown",
   "metadata": {},
   "source": [
    "#### Write Mode (w)\n",
    "\n",
    "Opens a file for writing, creates the file if it does not exist, and truncates the file if it exists."
   ]
  },
  {
   "cell_type": "code",
   "execution_count": 23,
   "metadata": {},
   "outputs": [],
   "source": [
    "with open('file2.txt','w') as f:\n",
    "    f.write('Hello World') # this overwrite all data"
   ]
  },
  {
   "cell_type": "markdown",
   "metadata": {},
   "source": [
    "#### Write and Read Mode (w+)\n",
    "\n",
    "Open a file for writing and reading."
   ]
  },
  {
   "cell_type": "code",
   "execution_count": 28,
   "metadata": {},
   "outputs": [
    {
     "name": "stdout",
     "output_type": "stream",
     "text": [
      "Welcome , Aqeel Shahzad\n"
     ]
    }
   ],
   "source": [
    "with open(\"file2.txt\", 'w+') as f:\n",
    "    f.write(\"Welcome , Aqeel Shahzad\")\n",
    "    f.seek(0)\n",
    "    print(f.read())"
   ]
  },
  {
   "cell_type": "markdown",
   "metadata": {},
   "source": [
    "#### Append Mode (a)\n",
    "\n",
    "Open a file for appending and reading"
   ]
  },
  {
   "cell_type": "code",
   "execution_count": 32,
   "metadata": {},
   "outputs": [],
   "source": [
    "with open('file2.txt','a') as f:\n",
    "    f.write(\"\\tis learning python\")"
   ]
  },
  {
   "cell_type": "markdown",
   "metadata": {},
   "source": [
    "#### Append and Read Mode (a+)\n",
    "\n",
    "Open a file for appending and reading"
   ]
  },
  {
   "cell_type": "code",
   "execution_count": 34,
   "metadata": {},
   "outputs": [
    {
     "name": "stdout",
     "output_type": "stream",
     "text": [
      "Welcome , Aqeel Shahzad\tis learning python\n",
      "Appending line\n"
     ]
    }
   ],
   "source": [
    "with open('file2.txt', 'a+') as f:\n",
    "    f.write(\"\\nAppending line\")\n",
    "    f.seek(0)\n",
    "    print(f.read())\n"
   ]
  },
  {
   "cell_type": "markdown",
   "metadata": {},
   "source": [
    "#### Binary Read Mode (rb)\n",
    "\n",
    "Open a file in binary read mode"
   ]
  },
  {
   "cell_type": "code",
   "execution_count": 35,
   "metadata": {},
   "outputs": [
    {
     "name": "stdout",
     "output_type": "stream",
     "text": [
      "b'Welcome , Aqeel Shahzad\\tis learning python\\nAppending line'\n"
     ]
    }
   ],
   "source": [
    "with open('file2.txt', 'rb') as f:\n",
    "    content = f.read()\n",
    "    print(content)"
   ]
  },
  {
   "cell_type": "markdown",
   "metadata": {},
   "source": [
    "### Reading Files\n",
    "\n",
    "#### Reading CSV Files\n",
    "\n",
    "You can use the `CSV` module to read CSV files"
   ]
  },
  {
   "cell_type": "code",
   "execution_count": 36,
   "metadata": {},
   "outputs": [
    {
     "name": "stdout",
     "output_type": "stream",
     "text": [
      "['id', 'name', 'education']\n",
      "['1', 'Sir Zia', 'Master']\n",
      "['2', 'Sir Inam', 'Master']\n",
      "['3', 'Muhammad Qasim', 'MSDS']\n"
     ]
    }
   ],
   "source": [
    "import csv\n",
    "\n",
    "with open('data.csv', 'r') as f:\n",
    "    reader = csv.reader(f)\n",
    "    for row in reader:\n",
    "        print(row)"
   ]
  },
  {
   "cell_type": "markdown",
   "metadata": {},
   "source": [
    "#### Reading PDF Files\n",
    "\n",
    "We can use the `PyPDF2` library to read PDF files\n"
   ]
  },
  {
   "cell_type": "code",
   "execution_count": 41,
   "metadata": {},
   "outputs": [
    {
     "ename": "DeprecationError",
     "evalue": "PdfFileReader is deprecated and was removed in PyPDF2 3.0.0. Use PdfReader instead.",
     "output_type": "error",
     "traceback": [
      "\u001b[0;31m---------------------------------------------------------------------------\u001b[0m",
      "\u001b[0;31mDeprecationError\u001b[0m                          Traceback (most recent call last)",
      "\u001b[1;32m/home/shahzad/Documents/GitHub/python-learning/chapter 10(Error_and_File_Handling)/practice.ipynb Cell 31\u001b[0m line \u001b[0;36m4\n\u001b[1;32m      <a href='vscode-notebook-cell:/home/shahzad/Documents/GitHub/python-learning/chapter%2010%28Error_and_File_Handling%29/practice.ipynb#X42sZmlsZQ%3D%3D?line=0'>1</a>\u001b[0m \u001b[39mimport\u001b[39;00m \u001b[39mPyPDF2\u001b[39;00m\n\u001b[1;32m      <a href='vscode-notebook-cell:/home/shahzad/Documents/GitHub/python-learning/chapter%2010%28Error_and_File_Handling%29/practice.ipynb#X42sZmlsZQ%3D%3D?line=2'>3</a>\u001b[0m \u001b[39mwith\u001b[39;00m \u001b[39mopen\u001b[39m(\u001b[39m'\u001b[39m\u001b[39mmypdf.pdf\u001b[39m\u001b[39m'\u001b[39m, \u001b[39m'\u001b[39m\u001b[39mrb\u001b[39m\u001b[39m'\u001b[39m) \u001b[39mas\u001b[39;00m f:\n\u001b[0;32m----> <a href='vscode-notebook-cell:/home/shahzad/Documents/GitHub/python-learning/chapter%2010%28Error_and_File_Handling%29/practice.ipynb#X42sZmlsZQ%3D%3D?line=3'>4</a>\u001b[0m     reader \u001b[39m=\u001b[39m PyPDF2\u001b[39m.\u001b[39;49mPdfFileReader(f)\n\u001b[1;32m      <a href='vscode-notebook-cell:/home/shahzad/Documents/GitHub/python-learning/chapter%2010%28Error_and_File_Handling%29/practice.ipynb#X42sZmlsZQ%3D%3D?line=4'>5</a>\u001b[0m     text \u001b[39m=\u001b[39m reader\u001b[39m.\u001b[39mgetPage(\u001b[39m0\u001b[39m)\u001b[39m.\u001b[39mextractText()\n\u001b[1;32m      <a href='vscode-notebook-cell:/home/shahzad/Documents/GitHub/python-learning/chapter%2010%28Error_and_File_Handling%29/practice.ipynb#X42sZmlsZQ%3D%3D?line=5'>6</a>\u001b[0m     \u001b[39mprint\u001b[39m(text)\n",
      "File \u001b[0;32m~/miniconda3/envs/p-learning/lib/python3.11/site-packages/PyPDF2/_reader.py:1974\u001b[0m, in \u001b[0;36mPdfFileReader.__init__\u001b[0;34m(self, *args, **kwargs)\u001b[0m\n\u001b[1;32m   1973\u001b[0m \u001b[39mdef\u001b[39;00m \u001b[39m__init__\u001b[39m(\u001b[39mself\u001b[39m, \u001b[39m*\u001b[39margs: Any, \u001b[39m*\u001b[39m\u001b[39m*\u001b[39mkwargs: Any) \u001b[39m-\u001b[39m\u001b[39m>\u001b[39m \u001b[39mNone\u001b[39;00m:\n\u001b[0;32m-> 1974\u001b[0m     deprecation_with_replacement(\u001b[39m\"\u001b[39;49m\u001b[39mPdfFileReader\u001b[39;49m\u001b[39m\"\u001b[39;49m, \u001b[39m\"\u001b[39;49m\u001b[39mPdfReader\u001b[39;49m\u001b[39m\"\u001b[39;49m, \u001b[39m\"\u001b[39;49m\u001b[39m3.0.0\u001b[39;49m\u001b[39m\"\u001b[39;49m)\n\u001b[1;32m   1975\u001b[0m     \u001b[39mif\u001b[39;00m \u001b[39m\"\u001b[39m\u001b[39mstrict\u001b[39m\u001b[39m\"\u001b[39m \u001b[39mnot\u001b[39;00m \u001b[39min\u001b[39;00m kwargs \u001b[39mand\u001b[39;00m \u001b[39mlen\u001b[39m(args) \u001b[39m<\u001b[39m \u001b[39m2\u001b[39m:\n\u001b[1;32m   1976\u001b[0m         kwargs[\u001b[39m\"\u001b[39m\u001b[39mstrict\u001b[39m\u001b[39m\"\u001b[39m] \u001b[39m=\u001b[39m \u001b[39mTrue\u001b[39;00m  \u001b[39m# maintain the default\u001b[39;00m\n",
      "File \u001b[0;32m~/miniconda3/envs/p-learning/lib/python3.11/site-packages/PyPDF2/_utils.py:369\u001b[0m, in \u001b[0;36mdeprecation_with_replacement\u001b[0;34m(old_name, new_name, removed_in)\u001b[0m\n\u001b[1;32m    363\u001b[0m \u001b[39mdef\u001b[39;00m \u001b[39mdeprecation_with_replacement\u001b[39m(\n\u001b[1;32m    364\u001b[0m     old_name: \u001b[39mstr\u001b[39m, new_name: \u001b[39mstr\u001b[39m, removed_in: \u001b[39mstr\u001b[39m \u001b[39m=\u001b[39m \u001b[39m\"\u001b[39m\u001b[39m3.0.0\u001b[39m\u001b[39m\"\u001b[39m\n\u001b[1;32m    365\u001b[0m ) \u001b[39m-\u001b[39m\u001b[39m>\u001b[39m \u001b[39mNone\u001b[39;00m:\n\u001b[1;32m    366\u001b[0m \u001b[39m    \u001b[39m\u001b[39m\"\"\"\u001b[39;00m\n\u001b[1;32m    367\u001b[0m \u001b[39m    Raise an exception that a feature was already removed, but has a replacement.\u001b[39;00m\n\u001b[1;32m    368\u001b[0m \u001b[39m    \"\"\"\u001b[39;00m\n\u001b[0;32m--> 369\u001b[0m     deprecation(DEPR_MSG_HAPPENED\u001b[39m.\u001b[39;49mformat(old_name, removed_in, new_name))\n",
      "File \u001b[0;32m~/miniconda3/envs/p-learning/lib/python3.11/site-packages/PyPDF2/_utils.py:351\u001b[0m, in \u001b[0;36mdeprecation\u001b[0;34m(msg)\u001b[0m\n\u001b[1;32m    350\u001b[0m \u001b[39mdef\u001b[39;00m \u001b[39mdeprecation\u001b[39m(msg: \u001b[39mstr\u001b[39m) \u001b[39m-\u001b[39m\u001b[39m>\u001b[39m \u001b[39mNone\u001b[39;00m:\n\u001b[0;32m--> 351\u001b[0m     \u001b[39mraise\u001b[39;00m DeprecationError(msg)\n",
      "\u001b[0;31mDeprecationError\u001b[0m: PdfFileReader is deprecated and was removed in PyPDF2 3.0.0. Use PdfReader instead."
     ]
    }
   ],
   "source": [
    "import PyPDF2\n",
    "\n",
    "with open('mypdf.pdf', 'rb') as f:\n",
    "    reader = PyPDF2.PdfFileReader(f)\n",
    "    text = reader.getPage(0).extractText()\n",
    "    print(text)"
   ]
  },
  {
   "cell_type": "markdown",
   "metadata": {},
   "source": [
    "#### Reading excel files\n",
    "\n",
    "We can use `openpyxl` library to read Excel files"
   ]
  },
  {
   "cell_type": "code",
   "execution_count": 42,
   "metadata": {},
   "outputs": [
    {
     "name": "stdout",
     "output_type": "stream",
     "text": [
      "id\n"
     ]
    }
   ],
   "source": [
    "import openpyxl\n",
    "\n",
    "wb = openpyxl.load_workbook('demo.xlsx')\n",
    "sheet = wb.active\n",
    "cell = sheet['A1']\n",
    "\n",
    "print(cell.value)"
   ]
  },
  {
   "cell_type": "markdown",
   "metadata": {},
   "source": [
    "#### Reading Audio Files\n",
    "\n",
    "We can use `pydub` library to read audio files"
   ]
  },
  {
   "cell_type": "code",
   "execution_count": 45,
   "metadata": {},
   "outputs": [
    {
     "name": "stdout",
     "output_type": "stream",
     "text": [
      "Channels: 2\n",
      "Sample Width: 2\n",
      "Frame Rate: 8000\n",
      "Frame Width: 4\n",
      "Length (ms): 33530\n",
      "Frame Count: 268237.0\n"
     ]
    }
   ],
   "source": [
    "from pydub import AudioSegment\n",
    "\n",
    "audio = AudioSegment.from_file(\"audio.wav\")\n",
    "print(\"Channels:\", audio.channels)\n",
    "print(\"Sample Width:\", audio.sample_width)\n",
    "print(\"Frame Rate:\", audio.frame_rate)\n",
    "print(\"Frame Width:\", audio.frame_width)\n",
    "print(\"Length (ms):\", len(audio))\n",
    "print(\"Frame Count:\", audio.frame_count())"
   ]
  },
  {
   "cell_type": "markdown",
   "metadata": {},
   "source": [
    "Remember to install the necessary libraries before running the code examples.\n",
    "\n"
   ]
  },
  {
   "cell_type": "markdown",
   "metadata": {},
   "source": [
    "```python\n",
    "    pip install PyPDF2 openpyxl pydub\n",
    "```"
   ]
  },
  {
   "cell_type": "markdown",
   "metadata": {},
   "source": [
    "This README provides a comprehensive guide on various error handling and file handling techniques in Python, along with examples of reading different file types. Feel free to modify and extend it as per your project's requirements."
   ]
  },
  {
   "cell_type": "markdown",
   "metadata": {},
   "source": [
    "# **Book Code**"
   ]
  },
  {
   "cell_type": "code",
   "execution_count": 3,
   "metadata": {},
   "outputs": [
    {
     "data": {
      "text/plain": [
       "'3.1415926535\\n8979323846\\n2643383279'"
      ]
     },
     "metadata": {},
     "output_type": "display_data"
    }
   ],
   "source": [
    "with open(\"pi_digits.txt\", 'r') as file:\n",
    "    contents = file.read()\n",
    "    display(contents.rstrip())"
   ]
  },
  {
   "cell_type": "code",
   "execution_count": 8,
   "metadata": {},
   "outputs": [
    {
     "name": "stdout",
     "output_type": "stream",
     "text": [
      "3.141592653589793238462643383279\n",
      "32\n",
      "<class 'str'>\n"
     ]
    }
   ],
   "source": [
    "pi_string : str = ''\n",
    "\n",
    "with open(\"pi_digits.txt\", 'r') as file:\n",
    "    contents = file.read()\n",
    "    for line in contents.split('\\n'):\n",
    "        pi_string += line\n",
    "\n",
    "print(pi_string)\n",
    "print(len(pi_string))\n",
    "print(type(pi_string))"
   ]
  },
  {
   "cell_type": "code",
   "execution_count": 12,
   "metadata": {},
   "outputs": [
    {
     "name": "stdout",
     "output_type": "stream",
     "text": [
      "splitted lines list : ['', '3.1415926535897932384626433832795028841971693993751058209749445923078164062862089986280348253421170679']\n",
      "3.14159265358979323846264338327950288419716939937510...\n",
      "102\n"
     ]
    }
   ],
   "source": [
    "path : str = './pi_million_digits.txt'\n",
    "\n",
    "pi_string : str = ''\n",
    "\n",
    "with open(path, 'r') as file:\n",
    "    pi_values = file.read()\n",
    "    lines : list[str] = pi_values.splitlines()\n",
    "\n",
    "    print(f\"splitted lines list : {lines}\")\n",
    "\n",
    "    for line in lines :\n",
    "        pi_string += line.lstrip()\n",
    "\n",
    "print(f\"{pi_string[:52]}...\")\n",
    "print(len(pi_string))\n"
   ]
  },
  {
   "cell_type": "code",
   "execution_count": 16,
   "metadata": {},
   "outputs": [
    {
     "name": "stdout",
     "output_type": "stream",
     "text": [
      "Full values : ['', '3.1415926535897932384626433832795028841971693993751058209749445923078164062862089986280348253421170679']\n",
      "3.14159265358979323846264338327950288419716939937510...\n",
      "102\n",
      "102\n"
     ]
    }
   ],
   "source": [
    "# 2nd method to read files\n",
    "from pathlib import Path\n",
    "\n",
    "path = Path('pi_million_digits.txt')\n",
    "contents = path.read_text()\n",
    "lines = contents.splitlines()\n",
    "\n",
    "pi_string = ''\n",
    "\n",
    "for line in lines:\n",
    "    pi_string += line.lstrip()\n",
    "\n",
    "print(f\"Full values : {lines}\")\n",
    "print(f\"{pi_string[:52]}...\")\n",
    "\n",
    "# total pi values\n",
    "print(len(pi_string))\n"
   ]
  },
  {
   "cell_type": "code",
   "execution_count": 17,
   "metadata": {},
   "outputs": [
    {
     "data": {
      "text/plain": [
       "['',\n",
       " '3.1415926535897932384626433832795028841971693993751058209749445923078164062862089986280348253421170679']"
      ]
     },
     "execution_count": 17,
     "metadata": {},
     "output_type": "execute_result"
    }
   ],
   "source": [
    "lines"
   ]
  },
  {
   "cell_type": "code",
   "execution_count": 20,
   "metadata": {},
   "outputs": [
    {
     "name": "stdout",
     "output_type": "stream",
     "text": [
      "Your birthday does not appear in the first million digits of pi.\n"
     ]
    }
   ],
   "source": [
    "for line in lines:\n",
    "    pi_string += line.strip()\n",
    "\n",
    "birthday : str = input(\"Enter your birthday, in the form mmddyy: \")\n",
    "\n",
    "if birthday in pi_string:\n",
    " print(\"Your birthday appears in the first million digits of pi!\")\n",
    "else:\n",
    " print(\"Your birthday does not appear in the first million digits of pi.\")"
   ]
  },
  {
   "cell_type": "markdown",
   "metadata": {},
   "source": [
    "### **Errors** : Extra example for testing error"
   ]
  },
  {
   "cell_type": "code",
   "execution_count": 21,
   "metadata": {},
   "outputs": [
    {
     "name": "stdout",
     "output_type": "stream",
     "text": [
      "\n",
      "File found\n"
     ]
    }
   ],
   "source": [
    "try:\n",
    "    with open('abc.txt','r') as file:\n",
    "        print(file.read())\n",
    "except FileNotFoundError:\n",
    "    print('File not found')\n",
    "else:\n",
    "    print('File found')"
   ]
  },
  {
   "cell_type": "code",
   "execution_count": 22,
   "metadata": {},
   "outputs": [
    {
     "name": "stdout",
     "output_type": "stream",
     "text": [
      "File not found\n"
     ]
    }
   ],
   "source": [
    "try:\n",
    "    with open('Aqeel.txt','r') as file:\n",
    "        print(file.read())\n",
    "except FileNotFoundError:\n",
    "    print('File not found')\n",
    "else:\n",
    "    print('File found')"
   ]
  },
  {
   "cell_type": "markdown",
   "metadata": {},
   "source": [
    "#### Working with Multiple Files"
   ]
  },
  {
   "cell_type": "code",
   "execution_count": 26,
   "metadata": {},
   "outputs": [],
   "source": [
    "from pathlib import Path\n",
    "\n",
    "def count_words(path : Path ) -> None :\n",
    "    \"\"\"Count the approximate number of words in a file.\"\"\"\n",
    "    try:\n",
    "        with open(path,'r') as f:\n",
    "            contents = f.read()\n",
    "\n",
    "    except FileNotFoundError:\n",
    "        print(f\"Sorry, the file {path} does not exist.\")\n",
    "    else:\n",
    "    # Count the approximate number of words in the file:\n",
    "        words = contents.split()\n",
    "        num_words = len(words)\n",
    "        print(f\"The file {path} has about {num_words} words.\")\n"
   ]
  },
  {
   "cell_type": "code",
   "execution_count": 27,
   "metadata": {},
   "outputs": [
    {
     "name": "stdout",
     "output_type": "stream",
     "text": [
      "Sorry, the file alice.txt does not exist.\n"
     ]
    }
   ],
   "source": [
    "path : Path = Path('alice.txt')\n",
    "count_words(path)"
   ]
  },
  {
   "cell_type": "code",
   "execution_count": 29,
   "metadata": {},
   "outputs": [
    {
     "name": "stdout",
     "output_type": "stream",
     "text": [
      "The file guest.txt has about 2 words.\n"
     ]
    }
   ],
   "source": [
    "path : Path = Path('guest.txt')\n",
    "count_words(path)"
   ]
  },
  {
   "cell_type": "markdown",
   "metadata": {},
   "source": [
    "Working with Multiple Files (list of files)"
   ]
  },
  {
   "cell_type": "code",
   "execution_count": 31,
   "metadata": {},
   "outputs": [
    {
     "name": "stdout",
     "output_type": "stream",
     "text": [
      "Sorry, the file alice.txt does not exist.\n",
      "The file guest.txt has about 2 words.\n",
      "Sorry, the file moby_dick.txt does not exist.\n",
      "The file file.txt has about 88 words.\n"
     ]
    }
   ],
   "source": [
    "from pathlib import Path\n",
    "\n",
    "# def count_words(filename):\n",
    "\n",
    "filenames : list[str] = ['alice.txt', 'guest.txt', 'moby_dick.txt','file.txt']\n",
    "\n",
    "for filename in filenames:\n",
    "    path : Path= Path(filename)\n",
    "    count_words(path)"
   ]
  },
  {
   "cell_type": "markdown",
   "metadata": {},
   "source": [
    "#### Failing Silently"
   ]
  },
  {
   "cell_type": "code",
   "execution_count": 32,
   "metadata": {},
   "outputs": [],
   "source": [
    "from pathlib import Path\n",
    "\n",
    "def count_words(path : Path ) -> None :\n",
    "    \"\"\"Count the approximate number of words in a file.\"\"\"\n",
    "    try:\n",
    "        with open(path,'r') as f:\n",
    "            contents = f.read()\n",
    "\n",
    "    except FileNotFoundError:\n",
    "        pass\n",
    "    else:\n",
    "    # Count the approximate number of words in the file:\n",
    "        words = contents.split()\n",
    "        num_words = len(words)\n",
    "        print(f\"The file {path} has about {num_words} words.\")\n"
   ]
  },
  {
   "cell_type": "code",
   "execution_count": 33,
   "metadata": {},
   "outputs": [
    {
     "name": "stdout",
     "output_type": "stream",
     "text": [
      "The file guest.txt has about 2 words.\n",
      "The file file.txt has about 88 words.\n"
     ]
    }
   ],
   "source": [
    "from pathlib import Path\n",
    "\n",
    "# def count_words(filename):\n",
    "\n",
    "filenames : list[str] = ['alice.txt', 'guest.txt', 'moby_dick.txt','file.txt']\n",
    "\n",
    "for filename in filenames:\n",
    "    path : Path= Path(filename)\n",
    "    count_words(path)"
   ]
  },
  {
   "cell_type": "markdown",
   "metadata": {},
   "source": [
    "### Using json.dumps() and json.loads()"
   ]
  },
  {
   "cell_type": "markdown",
   "metadata": {},
   "source": [
    "Let’s write a short program that stores a set of numbers and another program <br/>\n",
    "that reads these numbers back into `memory`. The first program will <br/>\n",
    "use `json.dumps()` to store the set of numbers, and the second program will use <br/>\n",
    "`json.loads()`."
   ]
  },
  {
   "cell_type": "code",
   "execution_count": 37,
   "metadata": {},
   "outputs": [
    {
     "name": "stdout",
     "output_type": "stream",
     "text": [
      "[1, 2, 3, 4, 5]\n"
     ]
    }
   ],
   "source": [
    "import json\n",
    "\n",
    "\n",
    "numbers : list[int] = [1, 2, 3, 4, 5]\n",
    "\n",
    "with open('./exercise_files/numbers.json','w+') as f:\n",
    "    # write json data\n",
    "    contents = json.dumps(numbers)\n",
    "    f.write(contents)\n",
    "    f.seek(0)\n",
    "\n",
    "    # read json data\n",
    "    j_content = f.read()\n",
    "    numbers = json.loads(j_content)\n",
    "    print(numbers)\n"
   ]
  },
  {
   "cell_type": "markdown",
   "metadata": {},
   "source": [
    "#### Saving and Reading User-Generated Data"
   ]
  },
  {
   "cell_type": "code",
   "execution_count": 48,
   "metadata": {},
   "outputs": [
    {
     "name": "stdout",
     "output_type": "stream",
     "text": [
      "We'll remember you when you come back, Aqeel Shahzad!\n"
     ]
    }
   ],
   "source": [
    "import json\n",
    "\n",
    "\n",
    "username : str = input(\"What is your name ? :\\t\")\n",
    "\n",
    "with open('./exercise_files/username.json','w') as f:\n",
    "    # write json data\n",
    "    contents : str = json.dumps([{\"username\": username}])\n",
    "    f.write(contents)\n",
    "    f.seek(0)\n",
    "\n",
    "print(f\"We'll remember you when you come back, {username}!\")\n",
    "\n"
   ]
  },
  {
   "cell_type": "code",
   "execution_count": 63,
   "metadata": {},
   "outputs": [
    {
     "name": "stdout",
     "output_type": "stream",
     "text": [
      "[{\"username\": \"Aqeel Shahzad\"}]\n",
      "Json data is : [{'username': 'Aqeel Shahzad'}]\n",
      "We'll remember you when you come back, Aqeel Shahzad!\n"
     ]
    }
   ],
   "source": [
    "import json\n",
    "\n",
    "\n",
    "with open('./exercise_files/username.json','r') as f:\n",
    "    # read json data\n",
    "    contents : str = f.read()\n",
    "    username : list[dict[str,str]] = json.loads(contents)\n",
    "\n",
    "\n",
    "print(f\"Json data is : {username}\")\n",
    "print(f\"We'll remember you when you come back, {username[0]['username']}!\")\n",
    "\n"
   ]
  },
  {
   "cell_type": "code",
   "execution_count": 3,
   "metadata": {},
   "outputs": [
    {
     "name": "stdout",
     "output_type": "stream",
     "text": [
      "Welcome back, Aqeel Shahzad!\n"
     ]
    }
   ],
   "source": [
    "import json\n",
    "from pathlib import Path\n",
    "\n",
    "path = Path('./exercise_files/numbers.json')\n",
    "\n",
    "if path.exists():\n",
    "    with path.open() as file:\n",
    "        username : dict[str,str] = json.load(file)\n",
    "        print(f\"Welcome back, {username['username']}!\")\n",
    "else:\n",
    "    newUser : str = input(\"What is your name? :\\t\") \n",
    "    username : dict[str,str] = {\"username\": newUser}\n",
    "    with path.open('w') as file:\n",
    "        json.dump({\"username\": username}, file)\n",
    "        print(f\"We'll remember you when you come back, {username}!\")"
   ]
  },
  {
   "cell_type": "code",
   "execution_count": 9,
   "metadata": {},
   "outputs": [
    {
     "name": "stdout",
     "output_type": "stream",
     "text": [
      "Welcome back, Aqeel Shahzad!\n"
     ]
    }
   ],
   "source": [
    "import json\n",
    "def greet_user():\n",
    "    \"\"\"Greet the user by name.\"\"\"\n",
    "    path : Path = Path('./exercise_files/numbers.json')\n",
    "\n",
    "    if path.exists():\n",
    "        with path.open() as file:\n",
    "            username : dict[str,str] = json.load(file)\n",
    "            print(f\"Welcome back, {username['username']}!\")\n",
    "    else:\n",
    "        newUser : str = input(\"What is your name? :\\t\") \n",
    "        username : dict[str,str] = {\"username\": newUser}\n",
    "        with path.open('w') as file:\n",
    "            json.dump({\"username\": username}, file)\n",
    "            print(f\"We'll remember you when you come back, {username}!\")\n",
    "\n",
    "greet_user()"
   ]
  },
  {
   "cell_type": "code",
   "execution_count": null,
   "metadata": {},
   "outputs": [],
   "source": []
  }
 ],
 "metadata": {
  "kernelspec": {
   "display_name": "p-learning",
   "language": "python",
   "name": "python3"
  },
  "language_info": {
   "codemirror_mode": {
    "name": "ipython",
    "version": 3
   },
   "file_extension": ".py",
   "mimetype": "text/x-python",
   "name": "python",
   "nbconvert_exporter": "python",
   "pygments_lexer": "ipython3",
   "version": "3.11.5"
  }
 },
 "nbformat": 4,
 "nbformat_minor": 2
}
