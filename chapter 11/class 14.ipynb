{
 "cells": [
  {
   "cell_type": "code",
   "execution_count": 4,
   "metadata": {},
   "outputs": [
    {
     "name": "stdout",
     "output_type": "stream",
     "text": [
      "object height  6 feet\n",
      "object eye color Brown\n",
      "MOther Speaking function Pakistan zinda bad\n"
     ]
    }
   ],
   "source": [
    "class Mother :\n",
    "    def __init__(self , name : str) -> None:\n",
    "        self.name : str = name\n",
    "        self.eye_color : str = \"Brown\"\n",
    "\n",
    "    def speaking(self,words : str) -> str:\n",
    "        return f\"MOther Speaking function {words}\"\n",
    "    \n",
    "class Father:\n",
    "    def __init__(self, name : str) -> None:\n",
    "        self.name : str = name\n",
    "        self.height : str = \"6 feet\"\n",
    "    \n",
    "    def speaking(self,words : str) -> str:\n",
    "        return f\"Father Speaking function {words}\"\n",
    "\n",
    "\n",
    "class Child(Mother, Father):\n",
    "    def __init__(self, mother_name : str , father_name : str , child_name) -> None:\n",
    "        Mother.__init__(self, mother_name)\n",
    "        Father.__init__(self, father_name)\n",
    "        self.child_name : str = child_name\n",
    "\n",
    "qasim : Child = Child(\"Qasim mother\", \"Muhammad Aslam\", \"Qasim Ali\")\n",
    "\n",
    "print(f\"object height  {qasim.height}\")\n",
    "print(f\"object eye color {qasim.eye_color}\")\n",
    "\n",
    "print(qasim.speaking(\"Pakistan zinda bad\"))"
   ]
  },
  {
   "cell_type": "code",
   "execution_count": 2,
   "metadata": {},
   "outputs": [
    {
     "data": {
      "text/plain": [
       "['__class__',\n",
       " '__delattr__',\n",
       " '__dict__',\n",
       " '__dir__',\n",
       " '__doc__',\n",
       " '__eq__',\n",
       " '__format__',\n",
       " '__ge__',\n",
       " '__getattribute__',\n",
       " '__getstate__',\n",
       " '__gt__',\n",
       " '__hash__',\n",
       " '__init__',\n",
       " '__init_subclass__',\n",
       " '__le__',\n",
       " '__lt__',\n",
       " '__module__',\n",
       " '__ne__',\n",
       " '__new__',\n",
       " '__reduce__',\n",
       " '__reduce_ex__',\n",
       " '__repr__',\n",
       " '__setattr__',\n",
       " '__sizeof__',\n",
       " '__str__',\n",
       " '__subclasshook__',\n",
       " '__weakref__',\n",
       " 'child_name',\n",
       " 'height',\n",
       " 'name',\n",
       " 'speaking']"
      ]
     },
     "execution_count": 2,
     "metadata": {},
     "output_type": "execute_result"
    }
   ],
   "source": [
    "dir(qasim)"
   ]
  },
  {
   "cell_type": "code",
   "execution_count": 5,
   "metadata": {},
   "outputs": [
    {
     "name": "stdout",
     "output_type": "stream",
     "text": [
      "object height  6 feet\n",
      "object eye color Brown\n",
      "Father Speaking function Pakistan zinda bad\n"
     ]
    }
   ],
   "source": [
    "class Mother :\n",
    "    def __init__(self , name : str) -> None:\n",
    "        self.name : str = name\n",
    "        self.eye_color : str = \"Brown\"\n",
    "\n",
    "    def speaking(self,words : str) -> str:\n",
    "        return f\"MOther Speaking function {words}\"\n",
    "    \n",
    "class Father:\n",
    "    def __init__(self, name : str) -> None:\n",
    "        self.name : str = name\n",
    "        self.height : str = \"6 feet\"\n",
    "    \n",
    "    def speaking(self,words : str) -> str:\n",
    "        return f\"Father Speaking function {words}\"\n",
    "\n",
    "\n",
    "class Child(Father,Mother):\n",
    "    def __init__(self, mother_name : str , father_name : str , child_name) -> None:\n",
    "        Mother.__init__(self, mother_name)\n",
    "        Father.__init__(self, father_name)\n",
    "        self.child_name : str = child_name\n",
    "\n",
    "qasim : Child = Child(\"Qasim mother\", \"Muhammad Aslam\", \"Qasim Ali\")\n",
    "\n",
    "print(f\"object height  {qasim.height}\")\n",
    "print(f\"object eye color {qasim.eye_color}\")\n",
    "\n",
    "print(qasim.speaking(\"Pakistan zinda bad\"))"
   ]
  },
  {
   "cell_type": "markdown",
   "metadata": {},
   "source": [
    "## Overloading"
   ]
  },
  {
   "cell_type": "code",
   "execution_count": 7,
   "metadata": {},
   "outputs": [
    {
     "name": "stdout",
     "output_type": "stream",
     "text": [
      "10.7\n",
      "10\n"
     ]
    }
   ],
   "source": [
    "class Adder():\n",
    "    def add(self , x : int , y : int) -> int:\n",
    "        return x + y\n",
    "    \n",
    "obj : Adder = Adder()\n",
    "\n",
    "\n",
    "print(obj.add(7.0,3.7))\n",
    "print(obj.add(7,3))\n"
   ]
  },
  {
   "cell_type": "markdown",
   "metadata": {},
   "source": [
    "overloading : one type of function perform different behaviours"
   ]
  },
  {
   "cell_type": "markdown",
   "metadata": {},
   "source": [
    "# cncapsulation \n",
    "\n",
    "means we can create and update data in s fucntion\n",
    "_underscore means protected after self.\n",
    "\n",
    "_ = 1 underscore mean private \n",
    "\n",
    "__ = dundder (also called protected)\n",
    "\n"
   ]
  },
  {
   "cell_type": "markdown",
   "metadata": {},
   "source": []
  }
 ],
 "metadata": {
  "kernelspec": {
   "display_name": "p-learning",
   "language": "python",
   "name": "python3"
  },
  "language_info": {
   "codemirror_mode": {
    "name": "ipython",
    "version": 3
   },
   "file_extension": ".py",
   "mimetype": "text/x-python",
   "name": "python",
   "nbconvert_exporter": "python",
   "pygments_lexer": "ipython3",
   "version": "3.11.5"
  }
 },
 "nbformat": 4,
 "nbformat_minor": 2
}
