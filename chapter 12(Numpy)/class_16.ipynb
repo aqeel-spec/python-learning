{
 "cells": [
  {
   "cell_type": "markdown",
   "metadata": {},
   "source": []
  },
  {
   "cell_type": "code",
   "execution_count": 1,
   "metadata": {},
   "outputs": [
    {
     "name": "stdout",
     "output_type": "stream",
     "text": [
      "Collecting nptyping\n",
      "  Downloading nptyping-2.5.0-py3-none-any.whl (37 kB)\n",
      "Collecting beartype\n",
      "  Downloading beartype-0.16.4-py3-none-any.whl.metadata (29 kB)\n",
      "Requirement already satisfied: numpy<2.0.0,>=1.20.0 in /home/shahzad/miniconda3/envs/p-learning/lib/python3.11/site-packages (from nptyping) (1.26.1)\n",
      "Downloading beartype-0.16.4-py3-none-any.whl (819 kB)\n",
      "\u001b[2K   \u001b[90m━━━━━━━━━━━━━━━━━━━━━━━━━━━━━━━━━━━━━━━\u001b[0m \u001b[32m819.1/819.1 kB\u001b[0m \u001b[31m340.9 kB/s\u001b[0m eta \u001b[36m0:00:00\u001b[0m00:01\u001b[0m00:01\u001b[0m\n",
      "\u001b[?25hInstalling collected packages: nptyping, beartype\n",
      "Successfully installed beartype-0.16.4 nptyping-2.5.0\n"
     ]
    }
   ],
   "source": [
    "!pip install nptyping beartype"
   ]
  },
  {
   "cell_type": "code",
   "execution_count": 3,
   "metadata": {},
   "outputs": [
    {
     "data": {
      "text/plain": [
       "array(1000)"
      ]
     },
     "metadata": {},
     "output_type": "display_data"
    },
    {
     "data": {
      "text/plain": [
       "()"
      ]
     },
     "metadata": {},
     "output_type": "display_data"
    },
    {
     "data": {
      "text/plain": [
       "dtype('int64')"
      ]
     },
     "metadata": {},
     "output_type": "display_data"
    },
    {
     "data": {
      "text/plain": [
       "numpy.ndarray"
      ]
     },
     "metadata": {},
     "output_type": "display_data"
    },
    {
     "data": {
      "text/plain": [
       "0"
      ]
     },
     "metadata": {},
     "output_type": "display_data"
    },
    {
     "data": {
      "text/plain": [
       "1"
      ]
     },
     "metadata": {},
     "output_type": "display_data"
    },
    {
     "data": {
      "text/plain": [
       "8"
      ]
     },
     "metadata": {},
     "output_type": "display_data"
    }
   ],
   "source": [
    "import numpy as np\n",
    "\n",
    "a : np.ndarray = np.array(1000)\n",
    "\n",
    "display(a) # prints\n",
    "display(a.shape) # prints the shape of the object () = 0 -Denormalize\n",
    "display(a.dtype) # prints the datatype of the object\n",
    "display(type(a)) \n",
    "display(a.ndim) # prints the number of dimensions of the object\n",
    "display(a.size) # prints the number of elements of the object\n",
    "display(a.itemsize) # prints the size of each element of the object"
   ]
  },
  {
   "cell_type": "markdown",
   "metadata": {},
   "source": [
    "## Vector type"
   ]
  },
  {
   "cell_type": "code",
   "execution_count": null,
   "metadata": {},
   "outputs": [],
   "source": [
    "import numpy as np\n",
    "\n",
    "a : np.ndarray = np.array([1,2,3,4]) # object to store [1,2,3,4] = vector\n",
    "\n",
    "display(a) # prints\n",
    "display(a.shape) # prints the shape of the object () = 0 -Denormalize\n",
    "display(a.dtype) # prints the datatype of the object\n",
    "display(type(a)) \n",
    "display(a.ndim) # prints the number of dimensions of the object\n",
    "display(a.size) # prints the number of elements of the object\n",
    "display(a.itemsize) # prints the size of each element of the object"
   ]
  }
 ],
 "metadata": {
  "kernelspec": {
   "display_name": "p-learning",
   "language": "python",
   "name": "python3"
  },
  "language_info": {
   "codemirror_mode": {
    "name": "ipython",
    "version": 3
   },
   "file_extension": ".py",
   "mimetype": "text/x-python",
   "name": "python",
   "nbconvert_exporter": "python",
   "pygments_lexer": "ipython3",
   "version": "3.11.5"
  }
 },
 "nbformat": 4,
 "nbformat_minor": 2
}
