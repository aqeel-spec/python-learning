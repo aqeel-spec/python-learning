{
 "cells": [
  {
   "cell_type": "markdown",
   "metadata": {},
   "source": [
    "# **Onsite Class 01**\n",
    "\n",
    "## Implementation 50 methods of numpy "
   ]
  },
  {
   "cell_type": "code",
   "execution_count": 1,
   "metadata": {},
   "outputs": [
    {
     "name": "stdout",
     "output_type": "stream",
     "text": [
      "Requirement already satisfied: numpy in /home/shahzad/miniconda3/envs/p-learning/lib/python3.11/site-packages (1.26.1)\n",
      "Requirement already satisfied: nptyping in /home/shahzad/miniconda3/envs/p-learning/lib/python3.11/site-packages (2.5.0)\n",
      "Note: you may need to restart the kernel to use updated packages.\n"
     ]
    }
   ],
   "source": [
    "%pip install numpy nptyping numpy"
   ]
  },
  {
   "cell_type": "code",
   "execution_count": 4,
   "metadata": {},
   "outputs": [
    {
     "data": {
      "text/plain": [
       "array(1000)"
      ]
     },
     "metadata": {},
     "output_type": "display_data"
    },
    {
     "data": {
      "text/plain": [
       "()"
      ]
     },
     "metadata": {},
     "output_type": "display_data"
    },
    {
     "data": {
      "text/plain": [
       "dtype('int64')"
      ]
     },
     "metadata": {},
     "output_type": "display_data"
    },
    {
     "data": {
      "text/plain": [
       "numpy.ndarray"
      ]
     },
     "metadata": {},
     "output_type": "display_data"
    },
    {
     "data": {
      "text/plain": [
       "0"
      ]
     },
     "metadata": {},
     "output_type": "display_data"
    },
    {
     "data": {
      "text/plain": [
       "1"
      ]
     },
     "metadata": {},
     "output_type": "display_data"
    },
    {
     "data": {
      "text/plain": [
       "8"
      ]
     },
     "metadata": {},
     "output_type": "display_data"
    }
   ],
   "source": [
    "from nptyping import NDArray , Shape, UInt64\n",
    "import numpy as np\n",
    "\n",
    "a : np.ndarray = np.array(1000)\n",
    "\n",
    "\n",
    "display(a)\n",
    "display(a.shape)\n",
    "display(a.dtype)\n",
    "display(type(a))\n",
    "display(a.ndim)\n",
    "display(a.size)\n",
    "display(a.itemsize)"
   ]
  },
  {
   "cell_type": "markdown",
   "metadata": {},
   "source": [
    "# **Array creations**"
   ]
  },
  {
   "cell_type": "code",
   "execution_count": 70,
   "metadata": {},
   "outputs": [
    {
     "data": {
      "text/html": [
       "<div>\n",
       "<style scoped>\n",
       "    .dataframe tbody tr th:only-of-type {\n",
       "        vertical-align: middle;\n",
       "    }\n",
       "\n",
       "    .dataframe tbody tr th {\n",
       "        vertical-align: top;\n",
       "    }\n",
       "\n",
       "    .dataframe thead th {\n",
       "        text-align: right;\n",
       "    }\n",
       "</style>\n",
       "<table border=\"1\" class=\"dataframe\">\n",
       "  <thead>\n",
       "    <tr style=\"text-align: right;\">\n",
       "      <th></th>\n",
       "      <th>Method</th>\n",
       "      <th>Description</th>\n",
       "      <th>Example</th>\n",
       "    </tr>\n",
       "  </thead>\n",
       "  <tbody>\n",
       "    <tr>\n",
       "      <th>0</th>\n",
       "      <td>array()</td>\n",
       "      <td>Create a new NumPy array from a Python list, t...</td>\n",
       "      <td>np.array([1, 2, 3, 4, 5])</td>\n",
       "    </tr>\n",
       "    <tr>\n",
       "      <th>1</th>\n",
       "      <td>empty()</td>\n",
       "      <td>Create a new NumPy array of a given shape and ...</td>\n",
       "      <td>np.empty((2, 3), dtype=int)</td>\n",
       "    </tr>\n",
       "    <tr>\n",
       "      <th>2</th>\n",
       "      <td>empty_like()</td>\n",
       "      <td>Create a new NumPy array with the same shape a...</td>\n",
       "      <td>np.empty_like(my_array)</td>\n",
       "    </tr>\n",
       "    <tr>\n",
       "      <th>3</th>\n",
       "      <td>eye()</td>\n",
       "      <td>Create a new NumPy identity matrix of a given ...</td>\n",
       "      <td>np.eye(3)</td>\n",
       "    </tr>\n",
       "    <tr>\n",
       "      <th>4</th>\n",
       "      <td>fromfile()</td>\n",
       "      <td>Create a new NumPy array from a binary file.</td>\n",
       "      <td>np.fromfile(\"my_file.bin\", dtype=int)</td>\n",
       "    </tr>\n",
       "    <tr>\n",
       "      <th>5</th>\n",
       "      <td>fromfunction()</td>\n",
       "      <td>Create a new NumPy array from a function that ...</td>\n",
       "      <td>np.fromfunction(lambda i, j: i * j, (3, 3))</td>\n",
       "    </tr>\n",
       "    <tr>\n",
       "      <th>6</th>\n",
       "      <td>identity()</td>\n",
       "      <td>Create a new NumPy identity matrix of a given ...</td>\n",
       "      <td>np.identity(3)</td>\n",
       "    </tr>\n",
       "    <tr>\n",
       "      <th>7</th>\n",
       "      <td>linspace()</td>\n",
       "      <td>Create a new NumPy array with evenly spaced el...</td>\n",
       "      <td>np.linspace(0, 10, 10)</td>\n",
       "    </tr>\n",
       "    <tr>\n",
       "      <th>8</th>\n",
       "      <td>logspace()</td>\n",
       "      <td>Create a new NumPy array with evenly spaced el...</td>\n",
       "      <td>np.logspace(1, 10, 10)</td>\n",
       "    </tr>\n",
       "    <tr>\n",
       "      <th>9</th>\n",
       "      <td>mgrid()</td>\n",
       "      <td>Create a new NumPy meshgrid of evenly spaced p...</td>\n",
       "      <td>mgrid[0:3, 0:3]</td>\n",
       "    </tr>\n",
       "    <tr>\n",
       "      <th>10</th>\n",
       "      <td>ogrid()</td>\n",
       "      <td>Create a new NumPy open meshgrid of evenly spa...</td>\n",
       "      <td>ogrid[0:3, 0:3]</td>\n",
       "    </tr>\n",
       "    <tr>\n",
       "      <th>11</th>\n",
       "      <td>ones()</td>\n",
       "      <td>Create a new NumPy array of a given shape and ...</td>\n",
       "      <td>np.ones((2, 3), dtype=int)</td>\n",
       "    </tr>\n",
       "    <tr>\n",
       "      <th>12</th>\n",
       "      <td>ones_like()</td>\n",
       "      <td>Create a new NumPy array with the same shape a...</td>\n",
       "      <td>np.ones_like(my_array)</td>\n",
       "    </tr>\n",
       "    <tr>\n",
       "      <th>13</th>\n",
       "      <td>r_()</td>\n",
       "      <td>Concatenate two NumPy arrays along the first a...</td>\n",
       "      <td>np.r_[my_array1, my_array2]</td>\n",
       "    </tr>\n",
       "    <tr>\n",
       "      <th>14</th>\n",
       "      <td>zeros()</td>\n",
       "      <td>Create a new NumPy array of a given shape and ...</td>\n",
       "      <td>np.zeros((2, 3), dtype=int)</td>\n",
       "    </tr>\n",
       "    <tr>\n",
       "      <th>15</th>\n",
       "      <td>zeros_like()</td>\n",
       "      <td>Create a new NumPy array with the same shape a...</td>\n",
       "      <td>np.zeros_like(my_array)</td>\n",
       "    </tr>\n",
       "  </tbody>\n",
       "</table>\n",
       "</div>"
      ],
      "text/plain": [
       "            Method                                        Description  \\\n",
       "0          array()  Create a new NumPy array from a Python list, t...   \n",
       "1          empty()  Create a new NumPy array of a given shape and ...   \n",
       "2     empty_like()  Create a new NumPy array with the same shape a...   \n",
       "3            eye()  Create a new NumPy identity matrix of a given ...   \n",
       "4       fromfile()       Create a new NumPy array from a binary file.   \n",
       "5   fromfunction()  Create a new NumPy array from a function that ...   \n",
       "6       identity()  Create a new NumPy identity matrix of a given ...   \n",
       "7       linspace()  Create a new NumPy array with evenly spaced el...   \n",
       "8       logspace()  Create a new NumPy array with evenly spaced el...   \n",
       "9          mgrid()  Create a new NumPy meshgrid of evenly spaced p...   \n",
       "10         ogrid()  Create a new NumPy open meshgrid of evenly spa...   \n",
       "11          ones()  Create a new NumPy array of a given shape and ...   \n",
       "12     ones_like()  Create a new NumPy array with the same shape a...   \n",
       "13            r_()  Concatenate two NumPy arrays along the first a...   \n",
       "14         zeros()  Create a new NumPy array of a given shape and ...   \n",
       "15    zeros_like()  Create a new NumPy array with the same shape a...   \n",
       "\n",
       "                                        Example  \n",
       "0                     np.array([1, 2, 3, 4, 5])  \n",
       "1                   np.empty((2, 3), dtype=int)  \n",
       "2                       np.empty_like(my_array)  \n",
       "3                                     np.eye(3)  \n",
       "4         np.fromfile(\"my_file.bin\", dtype=int)  \n",
       "5   np.fromfunction(lambda i, j: i * j, (3, 3))  \n",
       "6                                np.identity(3)  \n",
       "7                        np.linspace(0, 10, 10)  \n",
       "8                        np.logspace(1, 10, 10)  \n",
       "9                               mgrid[0:3, 0:3]  \n",
       "10                              ogrid[0:3, 0:3]  \n",
       "11                   np.ones((2, 3), dtype=int)  \n",
       "12                       np.ones_like(my_array)  \n",
       "13                  np.r_[my_array1, my_array2]  \n",
       "14                  np.zeros((2, 3), dtype=int)  \n",
       "15                      np.zeros_like(my_array)  "
      ]
     },
     "execution_count": 70,
     "metadata": {},
     "output_type": "execute_result"
    }
   ],
   "source": [
    "import pandas as pd\n",
    "\n",
    "table_data : pd.DataFrame = pd.read_excel(\"./arr_creation.xlsx\")\n",
    "\n",
    "table_data"
   ]
  },
  {
   "cell_type": "markdown",
   "metadata": {},
   "source": [
    "#### Method 01 ( arange() )\n",
    "\n",
    "Create a new NumPy array from a Python list, tuple, or other sequence."
   ]
  },
  {
   "cell_type": "code",
   "execution_count": 5,
   "metadata": {},
   "outputs": [
    {
     "data": {
      "text/plain": [
       "array([ 1,  2,  3,  4,  5,  6,  7,  8,  9, 10])"
      ]
     },
     "execution_count": 5,
     "metadata": {},
     "output_type": "execute_result"
    }
   ],
   "source": [
    "from typing import Any\n",
    "\n",
    "\n",
    "arr1_list : NDArray[Shape[\"10\"],Any] = np.arange(1,11)\n",
    "\n",
    "arr1_list"
   ]
  },
  {
   "cell_type": "markdown",
   "metadata": {},
   "source": [
    "#### Method 02 ( array() ) \n",
    "\n",
    "Create a new NumPy array from a Python list, tuple, or other sequence."
   ]
  },
  {
   "cell_type": "code",
   "execution_count": 11,
   "metadata": {},
   "outputs": [
    {
     "data": {
      "text/plain": [
       "array([1, 2, 4, 5, 6, 7, 8])"
      ]
     },
     "execution_count": 11,
     "metadata": {},
     "output_type": "execute_result"
    }
   ],
   "source": [
    "from typing import Any\n",
    "\n",
    "d1 : NDArray[Shape[\"10\"], Any] = np.array([1,2,4,5,6,7,8])\n",
    "\n",
    "d1"
   ]
  },
  {
   "cell_type": "code",
   "execution_count": 12,
   "metadata": {},
   "outputs": [
    {
     "data": {
      "text/plain": [
       "array([ 6,  7,  9, 10, 11, 12, 13])"
      ]
     },
     "execution_count": 12,
     "metadata": {},
     "output_type": "execute_result"
    }
   ],
   "source": [
    "d1 + 5"
   ]
  },
  {
   "cell_type": "code",
   "execution_count": 15,
   "metadata": {},
   "outputs": [
    {
     "name": "stdout",
     "output_type": "stream",
     "text": [
      "CPU times: user 2.41 ms, sys: 532 µs, total: 2.94 ms\n",
      "Wall time: 1.96 ms\n"
     ]
    },
    {
     "data": {
      "text/plain": [
       "array([     6,      7,      8, ..., 100002, 100003, 100004])"
      ]
     },
     "execution_count": 15,
     "metadata": {},
     "output_type": "execute_result"
    }
   ],
   "source": [
    "%%time\n",
    "\n",
    "data : NDArray[Shape[\"10\"],Any] = np.arange(1,100000)\n",
    "\n",
    "data + 5 # addition operation"
   ]
  },
  {
   "cell_type": "markdown",
   "metadata": {},
   "source": [
    "# method 03 ( empty() )\n",
    "\n",
    "Create a new NumPy array of a given shape and data type, initialized with all zeros."
   ]
  },
  {
   "cell_type": "markdown",
   "metadata": {},
   "source": [
    "### syntax\n",
    "\n",
    "```python\n",
    "empty(shape, dtype=float, order='C', *, like=None)\n",
    "\n",
    "```\n",
    "Return a new array of given shape and type, without initializing entries"
   ]
  },
  {
   "cell_type": "code",
   "execution_count": 35,
   "metadata": {},
   "outputs": [
    {
     "data": {
      "text/plain": [
       "array([[50438108,        0,        0],\n",
       "       [       0,        0,        0]])"
      ]
     },
     "execution_count": 35,
     "metadata": {},
     "output_type": "execute_result"
    }
   ],
   "source": [
    "from nptyping import NDArray\n",
    "\n",
    "my_array : NDArray[Shape['10'], Any] = np.empty((2, 3), dtype=int)\n",
    "\n",
    "my_array\n",
    "\n",
    "# This will not raise an error\n",
    "# my_array = np.array([[1, 2, 3], [4, 5, 6]], dtype=int)\n"
   ]
  },
  {
   "cell_type": "markdown",
   "metadata": {},
   "source": [
    "## method 04 **empty_like()**"
   ]
  },
  {
   "cell_type": "markdown",
   "metadata": {},
   "source": [
    "Create a new `NumPy` array with the same shape and data type as an existing \n",
    "\n",
    "NumPy array, initialized with all zeros."
   ]
  },
  {
   "cell_type": "code",
   "execution_count": 38,
   "metadata": {},
   "outputs": [
    {
     "data": {
      "text/plain": [
       "array([[0., 0.],\n",
       "       [0., 0.]])"
      ]
     },
     "execution_count": 38,
     "metadata": {},
     "output_type": "execute_result"
    }
   ],
   "source": [
    "import numpy as np\n",
    "arr2 : NDArray[Shape[\"Size\"],Any] = np.zeros((2,2))\n",
    "\n",
    "arr2"
   ]
  },
  {
   "cell_type": "markdown",
   "metadata": {},
   "source": [
    "# M5 **eye**"
   ]
  },
  {
   "cell_type": "markdown",
   "metadata": {},
   "source": [
    "Create a new NumPy identity matrix of a given size."
   ]
  },
  {
   "cell_type": "markdown",
   "metadata": {},
   "source": [
    "**Syntax**\n",
    "\n",
    "```raw\n",
    "Parameters\n",
    "N : int\n",
    "  Number of rows in the output.\n",
    "M : int, optional\n",
    "  Number of columns in the output. If None, defaults to N.\n",
    "k : int, optional\n",
    "  Index of the diagonal: 0 (the default) refers to the main diagonal, a positive value refers to an upper diagonal, and a negative value to a lower diagonal.\n",
    "dtype : data-type, optional\n",
    "  Data-type of the returned array.\n",
    "```"
   ]
  },
  {
   "cell_type": "code",
   "execution_count": 40,
   "metadata": {},
   "outputs": [
    {
     "data": {
      "text/plain": [
       "array([[1., 0.],\n",
       "       [0., 1.],\n",
       "       [0., 0.]])"
      ]
     },
     "execution_count": 40,
     "metadata": {},
     "output_type": "execute_result"
    }
   ],
   "source": [
    "arr3 : NDArray[Shape['Size'],Any] = np.eye(3,2) # N=no. of rows M=no. oof colums\n",
    "\n",
    "arr3"
   ]
  },
  {
   "cell_type": "markdown",
   "metadata": {},
   "source": [
    "## M6 **fromfile()**"
   ]
  },
  {
   "cell_type": "markdown",
   "metadata": {},
   "source": [
    "Create a new NumPy array from a binary file."
   ]
  },
  {
   "cell_type": "code",
   "execution_count": 45,
   "metadata": {},
   "outputs": [
    {
     "name": "stdout",
     "output_type": "stream",
     "text": [
      "[7953766455951712592 7070758498948708896 8534158704748487777\n",
      " 8026294636872933477]\n",
      "Pakistan zinda badWE love our co\n"
     ]
    }
   ],
   "source": [
    "# Create a NumPy array of binary code.\n",
    "arr4 : NDArray[Shape[\"Size\"],Any] = np.fromfile(\"abc1.txt\",dtype=int)\n",
    "\n",
    "# printing encoded data in numeric form\n",
    "print(arr4) \n",
    "\n",
    "# decode binary string\n",
    "decode_string : str = b\"\".join(arr4).decode()\n",
    "print(decode_string)\n",
    "\n"
   ]
  },
  {
   "cell_type": "markdown",
   "metadata": {},
   "source": [
    "## M7 **fromfunction**"
   ]
  },
  {
   "cell_type": "markdown",
   "metadata": {},
   "source": [
    "Create a new NumPy array from a function that takes an array of \n",
    "\n",
    "indices as input and returns an array of values as output."
   ]
  },
  {
   "cell_type": "code",
   "execution_count": 47,
   "metadata": {},
   "outputs": [
    {
     "name": "stdout",
     "output_type": "stream",
     "text": [
      "[[ 0.  0.  0.  0.  0.  0.]\n",
      " [ 0.  1.  2.  3.  4.  5.]\n",
      " [ 0.  2.  4.  6.  8. 10.]]\n"
     ]
    }
   ],
   "source": [
    "m7 : NDArray[Shape[\"Size\"],Any] = np.fromfunction(lambda i , j : i * j , (3,6)) # 3 = row , 6 = columns\n",
    "\n",
    "print(m7)"
   ]
  },
  {
   "cell_type": "markdown",
   "metadata": {},
   "source": [
    "## M8 **Identity**\n",
    "\n",
    "Create a new NumPy identity matrix of a given size."
   ]
  },
  {
   "cell_type": "code",
   "execution_count": 49,
   "metadata": {},
   "outputs": [
    {
     "data": {
      "text/plain": [
       "array([[1., 0., 0.],\n",
       "       [0., 1., 0.],\n",
       "       [0., 0., 1.]])"
      ]
     },
     "execution_count": 49,
     "metadata": {},
     "output_type": "execute_result"
    }
   ],
   "source": [
    "m8 : NDArray[Shape['Size'],Any] = np.identity(3) # creates an identity matrics\n",
    "\n",
    "m8"
   ]
  },
  {
   "cell_type": "markdown",
   "metadata": {},
   "source": [
    "## M9 **linespace()**\n",
    "\n",
    "Create a new NumPy array with evenly spaced elements between a given start and end point."
   ]
  },
  {
   "cell_type": "code",
   "execution_count": 50,
   "metadata": {},
   "outputs": [
    {
     "data": {
      "text/plain": [
       "array([ 0.        ,  1.11111111,  2.22222222,  3.33333333,  4.44444444,\n",
       "        5.55555556,  6.66666667,  7.77777778,  8.88888889, 10.        ])"
      ]
     },
     "execution_count": 50,
     "metadata": {},
     "output_type": "execute_result"
    }
   ],
   "source": [
    "m9 : NDArray[Shape['Size'],Any] = np.linspace(0,10,10) # start , stop , num = number of samples to generate\n",
    "\n",
    "m9"
   ]
  },
  {
   "cell_type": "markdown",
   "metadata": {},
   "source": [
    "## m10 **logspace()**\n",
    "Create a new NumPy array with evenly spaced elements on a logarithmic scale \n",
    "\n",
    "between a given start and end point.\n"
   ]
  },
  {
   "cell_type": "code",
   "execution_count": 51,
   "metadata": {},
   "outputs": [
    {
     "data": {
      "text/plain": [
       "array([1.e+01, 1.e+02, 1.e+03, 1.e+04, 1.e+05, 1.e+06, 1.e+07, 1.e+08,\n",
       "       1.e+09, 1.e+10])"
      ]
     },
     "execution_count": 51,
     "metadata": {},
     "output_type": "execute_result"
    }
   ],
   "source": [
    "m10 : NDArray[Shape['Size'],Any] = np.logspace(1,10,10) # start , stop , num = supported index\n",
    "\n",
    "m10"
   ]
  },
  {
   "cell_type": "markdown",
   "metadata": {},
   "source": [
    "## m11 **mgrid()**\n",
    "\n",
    "Create a new NumPy meshgrid of evenly spaced points in two or more dimensions."
   ]
  },
  {
   "cell_type": "code",
   "execution_count": 52,
   "metadata": {},
   "outputs": [
    {
     "data": {
      "text/plain": [
       "array([[[0, 0, 0],\n",
       "        [1, 1, 1],\n",
       "        [2, 2, 2]],\n",
       "\n",
       "       [[0, 1, 2],\n",
       "        [0, 1, 2],\n",
       "        [0, 1, 2]]])"
      ]
     },
     "execution_count": 52,
     "metadata": {},
     "output_type": "execute_result"
    }
   ],
   "source": [
    "m11 : NDArray[Shape['Size'],Any] = np.mgrid[0:3, 0:3]\n",
    "\n",
    "m11"
   ]
  },
  {
   "cell_type": "markdown",
   "metadata": {},
   "source": [
    "## m12 **ogrid**\n",
    "\n",
    "Create a new NumPy open meshgrid of evenly spaced points in two or more dimensions."
   ]
  },
  {
   "cell_type": "code",
   "execution_count": 60,
   "metadata": {},
   "outputs": [
    {
     "data": {
      "text/plain": [
       "[array([[0],\n",
       "        [1],\n",
       "        [2]]),\n",
       " array([[0, 1, 2]])]"
      ]
     },
     "execution_count": 60,
     "metadata": {},
     "output_type": "execute_result"
    }
   ],
   "source": [
    "m12 : list[NDArray] = np.ogrid[0:3,0:3]\n",
    "\n",
    "m12"
   ]
  },
  {
   "cell_type": "markdown",
   "metadata": {},
   "source": [
    "## m13 **ones()**\n",
    "\n",
    "Create a new NumPy array of a given shape and data type, initialized with all ones."
   ]
  },
  {
   "cell_type": "code",
   "execution_count": 62,
   "metadata": {},
   "outputs": [
    {
     "data": {
      "text/plain": [
       "array([[1, 1, 1],\n",
       "       [1, 1, 1]])"
      ]
     },
     "execution_count": 62,
     "metadata": {},
     "output_type": "execute_result"
    }
   ],
   "source": [
    "m13 : NDArray[Shape['Size'],Any] = np.ones((2,3), dtype=int) # 2 = rows , 3 = columns\n",
    "\n",
    "m13"
   ]
  },
  {
   "cell_type": "markdown",
   "metadata": {},
   "source": [
    "## m14 **ones_like()**\n",
    "\n",
    "Create a new NumPy array with the same shape and data type as an \n",
    "\n",
    "existing NumPy array, initialized with all ones."
   ]
  },
  {
   "cell_type": "code",
   "execution_count": 64,
   "metadata": {},
   "outputs": [
    {
     "data": {
      "text/plain": [
       "array([1, 1, 1, 1, 1])"
      ]
     },
     "execution_count": 64,
     "metadata": {},
     "output_type": "execute_result"
    }
   ],
   "source": [
    "m14 : NDArray[Shape['Size'],Any] = np.ones_like([1,2,3,4,5]) # 2 = rows , 3 = columns\n",
    "\n",
    "m14"
   ]
  },
  {
   "cell_type": "markdown",
   "metadata": {},
   "source": [
    "## m15 **r_()**\n",
    "Concatenate two `NumPy` arrays along the `first` axis.\n"
   ]
  },
  {
   "cell_type": "code",
   "execution_count": 65,
   "metadata": {},
   "outputs": [
    {
     "data": {
      "text/plain": [
       "array(['a', 'b', 'c', '1', '2', '3'], dtype='<U21')"
      ]
     },
     "execution_count": 65,
     "metadata": {},
     "output_type": "execute_result"
    }
   ],
   "source": [
    "m15 : NDArray[Shape['Size'],Any] = np.r_[['a','b','c'],[1,2,3]]\n",
    "\n",
    "m15"
   ]
  },
  {
   "cell_type": "markdown",
   "metadata": {},
   "source": [
    "## m16 **zeros()**\n",
    "\n",
    "Create a new NumPy array of a given shape and data type, initialized with all zeros."
   ]
  },
  {
   "cell_type": "code",
   "execution_count": 67,
   "metadata": {},
   "outputs": [
    {
     "data": {
      "text/plain": [
       "array([[0, 0, 0, 0],\n",
       "       [0, 0, 0, 0]])"
      ]
     },
     "execution_count": 67,
     "metadata": {},
     "output_type": "execute_result"
    }
   ],
   "source": [
    "m16 : NDArray[Shape['Size'],Any] = np.zeros((2,4),dtype=int)\n",
    "\n",
    "m16"
   ]
  },
  {
   "cell_type": "markdown",
   "metadata": {},
   "source": [
    "## m17 **zeros_like()**\n",
    "Create a new NumPy array with the same shape and data type as an \n",
    "\n",
    "existing NumPy array, initialized with all zeros.\n"
   ]
  },
  {
   "cell_type": "code",
   "execution_count": 68,
   "metadata": {},
   "outputs": [
    {
     "data": {
      "text/plain": [
       "array([0, 0, 0, 0])"
      ]
     },
     "execution_count": 68,
     "metadata": {},
     "output_type": "execute_result"
    }
   ],
   "source": [
    "m17 : NDArray[Shape['Size'],Any] = np.zeros_like([1,2,3,4])\n",
    "\n",
    "m17"
   ]
  },
  {
   "cell_type": "markdown",
   "metadata": {},
   "source": [
    "# **Array operations**"
   ]
  },
  {
   "cell_type": "code",
   "execution_count": 69,
   "metadata": {},
   "outputs": [
    {
     "data": {
      "text/html": [
       "<div>\n",
       "<style scoped>\n",
       "    .dataframe tbody tr th:only-of-type {\n",
       "        vertical-align: middle;\n",
       "    }\n",
       "\n",
       "    .dataframe tbody tr th {\n",
       "        vertical-align: top;\n",
       "    }\n",
       "\n",
       "    .dataframe thead th {\n",
       "        text-align: right;\n",
       "    }\n",
       "</style>\n",
       "<table border=\"1\" class=\"dataframe\">\n",
       "  <thead>\n",
       "    <tr style=\"text-align: right;\">\n",
       "      <th></th>\n",
       "      <th>Method</th>\n",
       "      <th>Description</th>\n",
       "      <th>Example</th>\n",
       "    </tr>\n",
       "  </thead>\n",
       "  <tbody>\n",
       "    <tr>\n",
       "      <th>0</th>\n",
       "      <td>add()</td>\n",
       "      <td>Add two NumPy arrays.</td>\n",
       "      <td>np.add(my_array1, my_array2)</td>\n",
       "    </tr>\n",
       "    <tr>\n",
       "      <th>1</th>\n",
       "      <td>subtract()</td>\n",
       "      <td>Subtract two NumPy arrays.</td>\n",
       "      <td>np.subtract(my_array1, my_array2)</td>\n",
       "    </tr>\n",
       "    <tr>\n",
       "      <th>2</th>\n",
       "      <td>multiply()</td>\n",
       "      <td>Multiply two NumPy arrays.</td>\n",
       "      <td>np.multiply(my_array1, my_array2)</td>\n",
       "    </tr>\n",
       "    <tr>\n",
       "      <th>3</th>\n",
       "      <td>divide()</td>\n",
       "      <td>Divide two NumPy arrays.</td>\n",
       "      <td>np.divide(my_array1, my_array2)</td>\n",
       "    </tr>\n",
       "    <tr>\n",
       "      <th>4</th>\n",
       "      <td>mod()</td>\n",
       "      <td>Compute the remainder of dividing two NumPy ar...</td>\n",
       "      <td>np.mod(my_array1, my_array2)</td>\n",
       "    </tr>\n",
       "    <tr>\n",
       "      <th>5</th>\n",
       "      <td>power()</td>\n",
       "      <td>Raise a NumPy array to a power.</td>\n",
       "      <td>np.power(my_array, 2)</td>\n",
       "    </tr>\n",
       "    <tr>\n",
       "      <th>6</th>\n",
       "      <td>maximum()</td>\n",
       "      <td>Return the element-wise maximum of two NumPy a...</td>\n",
       "      <td>np.maximum(my_array1, my_array2)</td>\n",
       "    </tr>\n",
       "    <tr>\n",
       "      <th>7</th>\n",
       "      <td>minimum()</td>\n",
       "      <td>Return the element-wise minimum of two NumPy a...</td>\n",
       "      <td>np.minimum(my_array1, my_array2)</td>\n",
       "    </tr>\n",
       "    <tr>\n",
       "      <th>8</th>\n",
       "      <td>sum()</td>\n",
       "      <td>Sum the elements of a NumPy array.</td>\n",
       "      <td>np.sum(my_array)</td>\n",
       "    </tr>\n",
       "    <tr>\n",
       "      <th>9</th>\n",
       "      <td>mean()</td>\n",
       "      <td>Compute the mean of the elements of a NumPy ar...</td>\n",
       "      <td>np.mean(my_array)</td>\n",
       "    </tr>\n",
       "    <tr>\n",
       "      <th>10</th>\n",
       "      <td>median()</td>\n",
       "      <td>Compute the median of the elements of a NumPy ...</td>\n",
       "      <td>np.median(my_array)</td>\n",
       "    </tr>\n",
       "  </tbody>\n",
       "</table>\n",
       "</div>"
      ],
      "text/plain": [
       "        Method                                        Description  \\\n",
       "0        add()                              Add two NumPy arrays.   \n",
       "1   subtract()                         Subtract two NumPy arrays.   \n",
       "2   multiply()                         Multiply two NumPy arrays.   \n",
       "3     divide()                           Divide two NumPy arrays.   \n",
       "4        mod()  Compute the remainder of dividing two NumPy ar...   \n",
       "5      power()                    Raise a NumPy array to a power.   \n",
       "6    maximum()  Return the element-wise maximum of two NumPy a...   \n",
       "7    minimum()  Return the element-wise minimum of two NumPy a...   \n",
       "8        sum()                 Sum the elements of a NumPy array.   \n",
       "9       mean()  Compute the mean of the elements of a NumPy ar...   \n",
       "10    median()  Compute the median of the elements of a NumPy ...   \n",
       "\n",
       "                              Example  \n",
       "0        np.add(my_array1, my_array2)  \n",
       "1   np.subtract(my_array1, my_array2)  \n",
       "2   np.multiply(my_array1, my_array2)  \n",
       "3     np.divide(my_array1, my_array2)  \n",
       "4        np.mod(my_array1, my_array2)  \n",
       "5               np.power(my_array, 2)  \n",
       "6    np.maximum(my_array1, my_array2)  \n",
       "7    np.minimum(my_array1, my_array2)  \n",
       "8                    np.sum(my_array)  \n",
       "9                   np.mean(my_array)  \n",
       "10                np.median(my_array)  "
      ]
     },
     "execution_count": 69,
     "metadata": {},
     "output_type": "execute_result"
    }
   ],
   "source": [
    "import pandas as pd\n",
    "\n",
    "table_data : pd.DataFrame = pd.read_excel(\"./arr_operations.xlsx\")\n",
    "\n",
    "table_data"
   ]
  },
  {
   "cell_type": "markdown",
   "metadata": {},
   "source": [
    "## m18 **add()**\n",
    " "
   ]
  },
  {
   "cell_type": "code",
   "execution_count": 73,
   "metadata": {},
   "outputs": [
    {
     "name": "stdout",
     "output_type": "stream",
     "text": [
      "[ 7  9 11 13 15]\n"
     ]
    }
   ],
   "source": [
    "import numpy as np\n",
    "from nptyping import NDArray, Shape\n",
    "from typing import Any, Generic\n",
    "\n",
    "# Create two NumPy arrays\n",
    "a : NDArray[Shape['Size'], Any] = np.array([1, 2, 3, 4, 5])\n",
    "b : NDArray[Shape['Size'], Any] = np.array([6, 7, 8, 9, 10])\n",
    "\n",
    "# Add the two arrays\n",
    "c : NDArray[Shape['Size'], Any] = np.add(a, b)\n",
    "\n",
    "# Print the result\n",
    "print(c)\n",
    "\n",
    "# Output: [7 9 11 13 15]\n"
   ]
  },
  {
   "cell_type": "markdown",
   "metadata": {},
   "source": [
    "## m19 **subtract()**"
   ]
  },
  {
   "cell_type": "code",
   "execution_count": 75,
   "metadata": {},
   "outputs": [
    {
     "name": "stdout",
     "output_type": "stream",
     "text": [
      "[5 5 5 5 5]\n"
     ]
    }
   ],
   "source": [
    "# Create two NumPy arrays\n",
    "a : NDArray[Shape['Size'], Any] = np.array([1, 2, 3, 4, 5])\n",
    "b : NDArray[Shape['Size1','Size2'], Any] = np.array([6, 7, 8, 9, 10])\n",
    "\n",
    "# Add the two arrays\n",
    "c : NDArray[Shape['Size'], Any] = np.subtract(b,a)\n",
    "\n",
    "# Print the result\n",
    "print(c)"
   ]
  },
  {
   "cell_type": "markdown",
   "metadata": {},
   "source": [
    "## m20 **multiply()**"
   ]
  },
  {
   "cell_type": "code",
   "execution_count": 77,
   "metadata": {},
   "outputs": [
    {
     "name": "stdout",
     "output_type": "stream",
     "text": [
      "a : [1 2 3 4 5]\n",
      "b : [ 6  7  8  9 10]\n",
      "[ 6 14 24 36 50]\n"
     ]
    }
   ],
   "source": [
    "\n",
    "print(f\"a : {a}\")\n",
    "print(f\"b : {b}\")\n",
    "# Add the two arrays\n",
    "c : NDArray[Shape['Size'], Any] = np.multiply(b,a)\n",
    "\n",
    "# Print the result\n",
    "print(c)"
   ]
  },
  {
   "cell_type": "markdown",
   "metadata": {},
   "source": [
    "## m21 **divide()**"
   ]
  },
  {
   "cell_type": "code",
   "execution_count": 78,
   "metadata": {},
   "outputs": [
    {
     "name": "stdout",
     "output_type": "stream",
     "text": [
      "a : [1 2 3 4 5]\n",
      "b : [ 6  7  8  9 10]\n",
      "[6.         3.5        2.66666667 2.25       2.        ]\n"
     ]
    }
   ],
   "source": [
    "\n",
    "print(f\"a : {a}\")\n",
    "print(f\"b : {b}\")\n",
    "# Add the two arrays\n",
    "c : NDArray[Shape['Size'], Any] = np.divide(b,a)\n",
    "\n",
    "# Print the result\n",
    "print(c)"
   ]
  },
  {
   "cell_type": "markdown",
   "metadata": {},
   "source": [
    "## m22 **mode()**"
   ]
  },
  {
   "cell_type": "code",
   "execution_count": 80,
   "metadata": {},
   "outputs": [
    {
     "name": "stdout",
     "output_type": "stream",
     "text": [
      "a : [1 2 3 4 5]\n",
      "b : [ 6  7  8  9 10]\n",
      "[1 2 3 4 5]\n"
     ]
    }
   ],
   "source": [
    "\n",
    "print(f\"a : {a}\")\n",
    "print(f\"b : {b}\")\n",
    "# Add the two arrays\n",
    "c : NDArray[Shape['Size'], Any] = np.mod(a,b)\n",
    "\n",
    "# Print the result\n",
    "print(c)"
   ]
  },
  {
   "cell_type": "markdown",
   "metadata": {},
   "source": [
    "## m23 **power()**"
   ]
  },
  {
   "cell_type": "code",
   "execution_count": 81,
   "metadata": {},
   "outputs": [
    {
     "name": "stdout",
     "output_type": "stream",
     "text": [
      "a : [1 2 3 4 5]\n",
      "b : [ 6  7  8  9 10]\n",
      "[     6     49    512   6561 100000]\n"
     ]
    }
   ],
   "source": [
    "\n",
    "print(f\"a : {a}\")\n",
    "print(f\"b : {b}\")\n",
    "# Add the two arrays\n",
    "c : NDArray[Shape['Size'], Any] = np.power(b,a)\n",
    "\n",
    "# Print the result\n",
    "print(c)"
   ]
  },
  {
   "cell_type": "markdown",
   "metadata": {},
   "source": [
    "## m24 **max()**"
   ]
  },
  {
   "cell_type": "code",
   "execution_count": 84,
   "metadata": {},
   "outputs": [
    {
     "name": "stdout",
     "output_type": "stream",
     "text": [
      "a : [1 2 3 4 5]\n",
      "b : [ 6  7  8  9 10]\n",
      "[ 6  7  8  9 10]\n"
     ]
    }
   ],
   "source": [
    "\n",
    "print(f\"a : {a}\")\n",
    "print(f\"b : {b}\")\n",
    "# Add the two arrays\n",
    "c : NDArray[Shape['Size'], Any] = np.maximum(b,a)\n",
    "\n",
    "# Print the result\n",
    "print(c)"
   ]
  },
  {
   "cell_type": "markdown",
   "metadata": {},
   "source": [
    "## m25 **min()**"
   ]
  },
  {
   "cell_type": "code",
   "execution_count": 85,
   "metadata": {},
   "outputs": [
    {
     "name": "stdout",
     "output_type": "stream",
     "text": [
      "a : [1 2 3 4 5]\n",
      "b : [ 6  7  8  9 10]\n",
      "[1 2 3 4 5]\n"
     ]
    }
   ],
   "source": [
    "\n",
    "print(f\"a : {a}\")\n",
    "print(f\"b : {b}\")\n",
    "# Add the two arrays\n",
    "c : NDArray[Shape['Size'], Any] = np.minimum(b,a)\n",
    "\n",
    "# Print the result\n",
    "print(c)"
   ]
  },
  {
   "cell_type": "markdown",
   "metadata": {},
   "source": [
    "## m26 **mean()**"
   ]
  },
  {
   "cell_type": "code",
   "execution_count": 90,
   "metadata": {},
   "outputs": [
    {
     "name": "stdout",
     "output_type": "stream",
     "text": [
      "a : [1 2 3 4 5]\n",
      "b : [ 6  7  8  9 10]\n",
      "mean of b is : 8.0\n"
     ]
    }
   ],
   "source": [
    "\n",
    "print(f\"a : {a}\")\n",
    "print(f\"b : {b}\")\n",
    "\n",
    "# Print the result\n",
    "print(f\"mean of b is : {np.mean(b)}\")"
   ]
  },
  {
   "cell_type": "markdown",
   "metadata": {},
   "source": [
    "## m27 **median()**"
   ]
  },
  {
   "cell_type": "code",
   "execution_count": 94,
   "metadata": {},
   "outputs": [
    {
     "name": "stdout",
     "output_type": "stream",
     "text": [
      "a : [1 2 3 4 5]\n",
      "mean of a is : 3.0\n"
     ]
    }
   ],
   "source": [
    "\n",
    "print(f\"a : {a}\")\n",
    "# Add the two arrays\n",
    "c : NDArray[Shape['Size'], Any] = np.median(a)\n",
    "\n",
    "# Print the result\n",
    "print(f\"mean of a is : {c}\")"
   ]
  },
  {
   "cell_type": "markdown",
   "metadata": {},
   "source": [
    "# Remaining new methods"
   ]
  },
  {
   "cell_type": "code",
   "execution_count": 95,
   "metadata": {},
   "outputs": [
    {
     "data": {
      "text/html": [
       "<div>\n",
       "<style scoped>\n",
       "    .dataframe tbody tr th:only-of-type {\n",
       "        vertical-align: middle;\n",
       "    }\n",
       "\n",
       "    .dataframe tbody tr th {\n",
       "        vertical-align: top;\n",
       "    }\n",
       "\n",
       "    .dataframe thead th {\n",
       "        text-align: right;\n",
       "    }\n",
       "</style>\n",
       "<table border=\"1\" class=\"dataframe\">\n",
       "  <thead>\n",
       "    <tr style=\"text-align: right;\">\n",
       "      <th></th>\n",
       "      <th>Method</th>\n",
       "      <th>Description</th>\n",
       "      <th>Example</th>\n",
       "    </tr>\n",
       "  </thead>\n",
       "  <tbody>\n",
       "    <tr>\n",
       "      <th>0</th>\n",
       "      <td>Save and Load Array Data</td>\n",
       "      <td>NaN</td>\n",
       "      <td>NaN</td>\n",
       "    </tr>\n",
       "    <tr>\n",
       "      <th>1</th>\n",
       "      <td>save()</td>\n",
       "      <td>Save a NumPy array to a binary file.</td>\n",
       "      <td>np.save(\"my_array.npy\", my_array)</td>\n",
       "    </tr>\n",
       "    <tr>\n",
       "      <th>2</th>\n",
       "      <td>load()</td>\n",
       "      <td>Load a NumPy array from a binary file.</td>\n",
       "      <td>my_array = np.load(\"my_array.npy\")</td>\n",
       "    </tr>\n",
       "    <tr>\n",
       "      <th>3</th>\n",
       "      <td>savetxt()</td>\n",
       "      <td>Save a NumPy array to a text file.</td>\n",
       "      <td>np.savetxt(\"my_array.txt\", my_array)</td>\n",
       "    </tr>\n",
       "    <tr>\n",
       "      <th>4</th>\n",
       "      <td>loadtxt()</td>\n",
       "      <td>Load a NumPy array from a text file.</td>\n",
       "      <td>my_array = np.loadtxt(\"my_array.txt\")</td>\n",
       "    </tr>\n",
       "    <tr>\n",
       "      <th>5</th>\n",
       "      <td>Others</td>\n",
       "      <td>NaN</td>\n",
       "      <td>NaN</td>\n",
       "    </tr>\n",
       "    <tr>\n",
       "      <th>6</th>\n",
       "      <td>copy()</td>\n",
       "      <td>Create a new copy of a NumPy array.</td>\n",
       "      <td>my_array_copy = np.copy(my_array)</td>\n",
       "    </tr>\n",
       "    <tr>\n",
       "      <th>7</th>\n",
       "      <td>view()</td>\n",
       "      <td>Create a new view of a NumPy array.</td>\n",
       "      <td>my_array_view = np.view(my_array)</td>\n",
       "    </tr>\n",
       "    <tr>\n",
       "      <th>8</th>\n",
       "      <td>ravel()</td>\n",
       "      <td>Flatten a NumPy array into a one-dimensional a...</td>\n",
       "      <td>my_array_flattened = np.ravel(my_array)</td>\n",
       "    </tr>\n",
       "    <tr>\n",
       "      <th>9</th>\n",
       "      <td>reshape()</td>\n",
       "      <td>Reshape a NumPy array into a new shape.</td>\n",
       "      <td>my_array_reshaped = np.reshape(my_array, (3, 3))</td>\n",
       "    </tr>\n",
       "    <tr>\n",
       "      <th>10</th>\n",
       "      <td>resize()</td>\n",
       "      <td>Resize a NumPy array to a new shape.</td>\n",
       "      <td>my_array.resize((3, 3))</td>\n",
       "    </tr>\n",
       "    <tr>\n",
       "      <th>11</th>\n",
       "      <td>squeeze()</td>\n",
       "      <td>Remove any axes of a NumPy array that have onl...</td>\n",
       "      <td>my_array_squeezed = np.squeeze(my_array)</td>\n",
       "    </tr>\n",
       "    <tr>\n",
       "      <th>12</th>\n",
       "      <td>swapaxes()</td>\n",
       "      <td>Swap two axes of a NumPy array.</td>\n",
       "      <td>my_array_swapped = np.swapaxes(my_array, 0, 1)</td>\n",
       "    </tr>\n",
       "    <tr>\n",
       "      <th>13</th>\n",
       "      <td>take()</td>\n",
       "      <td>Extract elements from a NumPy array at given i...</td>\n",
       "      <td>my_array_subset = np.take(my_array, [0, 2, 4])</td>\n",
       "    </tr>\n",
       "    <tr>\n",
       "      <th>14</th>\n",
       "      <td>transpose()</td>\n",
       "      <td>Transpose a NumPy array.</td>\n",
       "      <td>my_array_transposed = np.transpose(my_array)</td>\n",
       "    </tr>\n",
       "    <tr>\n",
       "      <th>15</th>\n",
       "      <td>sort()</td>\n",
       "      <td>Sort the elements of a NumPy array in ascendin...</td>\n",
       "      <td>my_array_sorted = np.sort(my_array)</td>\n",
       "    </tr>\n",
       "    <tr>\n",
       "      <th>16</th>\n",
       "      <td>argsort()</td>\n",
       "      <td>Return the indices of the elements of a NumPy ...</td>\n",
       "      <td>my_array_sorted_indices = np.argsort(my_array)</td>\n",
       "    </tr>\n",
       "    <tr>\n",
       "      <th>17</th>\n",
       "      <td>argmin()</td>\n",
       "      <td>Return the index of the smallest element in a ...</td>\n",
       "      <td>my_array_min_index = np.argmin(my_array)</td>\n",
       "    </tr>\n",
       "    <tr>\n",
       "      <th>18</th>\n",
       "      <td>argmax()</td>\n",
       "      <td>Return the index of the largest element in a N...</td>\n",
       "      <td>my_array_max_index = np.argmax(my_array)</td>\n",
       "    </tr>\n",
       "    <tr>\n",
       "      <th>19</th>\n",
       "      <td>searchsorted()</td>\n",
       "      <td>Find the indices at which the elements of a Nu...</td>\n",
       "      <td>my_array_search_indices = np.searchsorted(my_a...</td>\n",
       "    </tr>\n",
       "    <tr>\n",
       "      <th>20</th>\n",
       "      <td>clip()</td>\n",
       "      <td>Limit the elements of a NumPy array to a given...</td>\n",
       "      <td>my_array_clipped = np.clip(my_array, 0, 10)</td>\n",
       "    </tr>\n",
       "    <tr>\n",
       "      <th>21</th>\n",
       "      <td>round()</td>\n",
       "      <td>Round the elements of a NumPy array to a given...</td>\n",
       "      <td>my_array_rounded = np.round(my_array, 2)</td>\n",
       "    </tr>\n",
       "    <tr>\n",
       "      <th>22</th>\n",
       "      <td>ceil()</td>\n",
       "      <td>Round the elements of a NumPy array up to the ...</td>\n",
       "      <td>my_array_ceiled = np.ceil(my_array)</td>\n",
       "    </tr>\n",
       "    <tr>\n",
       "      <th>23</th>\n",
       "      <td>floor()</td>\n",
       "      <td>Round the elements of a NumPy array down to th...</td>\n",
       "      <td>my_array_floored = np.floor(my_array)</td>\n",
       "    </tr>\n",
       "    <tr>\n",
       "      <th>24</th>\n",
       "      <td>around()</td>\n",
       "      <td>Round the elements of a NumPy array to the nea...</td>\n",
       "      <td>my_array_rounded = np.around(my_array)</td>\n",
       "    </tr>\n",
       "    <tr>\n",
       "      <th>25</th>\n",
       "      <td>isfinite()</td>\n",
       "      <td>Return a NumPy array of booleans indicating wh...</td>\n",
       "      <td>my_array_isfinite = np.isfinite(my_array)</td>\n",
       "    </tr>\n",
       "    <tr>\n",
       "      <th>26</th>\n",
       "      <td>isnan()</td>\n",
       "      <td>Return a NumPy array of booleans indicating wh...</td>\n",
       "      <td>my_array_isnan = np.isnan(my_array)</td>\n",
       "    </tr>\n",
       "    <tr>\n",
       "      <th>27</th>\n",
       "      <td>isinf()</td>\n",
       "      <td>NaN</td>\n",
       "      <td>NaN</td>\n",
       "    </tr>\n",
       "  </tbody>\n",
       "</table>\n",
       "</div>"
      ],
      "text/plain": [
       "                      Method  \\\n",
       "0   Save and Load Array Data   \n",
       "1                     save()   \n",
       "2                     load()   \n",
       "3                  savetxt()   \n",
       "4                  loadtxt()   \n",
       "5                     Others   \n",
       "6                     copy()   \n",
       "7                     view()   \n",
       "8                    ravel()   \n",
       "9                  reshape()   \n",
       "10                  resize()   \n",
       "11                 squeeze()   \n",
       "12                swapaxes()   \n",
       "13                    take()   \n",
       "14               transpose()   \n",
       "15                    sort()   \n",
       "16                 argsort()   \n",
       "17                  argmin()   \n",
       "18                  argmax()   \n",
       "19            searchsorted()   \n",
       "20                    clip()   \n",
       "21                   round()   \n",
       "22                    ceil()   \n",
       "23                   floor()   \n",
       "24                  around()   \n",
       "25                isfinite()   \n",
       "26                   isnan()   \n",
       "27                   isinf()   \n",
       "\n",
       "                                          Description  \\\n",
       "0                                                 NaN   \n",
       "1                Save a NumPy array to a binary file.   \n",
       "2              Load a NumPy array from a binary file.   \n",
       "3                  Save a NumPy array to a text file.   \n",
       "4                Load a NumPy array from a text file.   \n",
       "5                                                 NaN   \n",
       "6                 Create a new copy of a NumPy array.   \n",
       "7                 Create a new view of a NumPy array.   \n",
       "8   Flatten a NumPy array into a one-dimensional a...   \n",
       "9             Reshape a NumPy array into a new shape.   \n",
       "10               Resize a NumPy array to a new shape.   \n",
       "11  Remove any axes of a NumPy array that have onl...   \n",
       "12                    Swap two axes of a NumPy array.   \n",
       "13  Extract elements from a NumPy array at given i...   \n",
       "14                           Transpose a NumPy array.   \n",
       "15  Sort the elements of a NumPy array in ascendin...   \n",
       "16  Return the indices of the elements of a NumPy ...   \n",
       "17  Return the index of the smallest element in a ...   \n",
       "18  Return the index of the largest element in a N...   \n",
       "19  Find the indices at which the elements of a Nu...   \n",
       "20  Limit the elements of a NumPy array to a given...   \n",
       "21  Round the elements of a NumPy array to a given...   \n",
       "22  Round the elements of a NumPy array up to the ...   \n",
       "23  Round the elements of a NumPy array down to th...   \n",
       "24  Round the elements of a NumPy array to the nea...   \n",
       "25  Return a NumPy array of booleans indicating wh...   \n",
       "26  Return a NumPy array of booleans indicating wh...   \n",
       "27                                                NaN   \n",
       "\n",
       "                                              Example  \n",
       "0                                                 NaN  \n",
       "1                   np.save(\"my_array.npy\", my_array)  \n",
       "2                  my_array = np.load(\"my_array.npy\")  \n",
       "3                np.savetxt(\"my_array.txt\", my_array)  \n",
       "4               my_array = np.loadtxt(\"my_array.txt\")  \n",
       "5                                                 NaN  \n",
       "6                   my_array_copy = np.copy(my_array)  \n",
       "7                   my_array_view = np.view(my_array)  \n",
       "8             my_array_flattened = np.ravel(my_array)  \n",
       "9    my_array_reshaped = np.reshape(my_array, (3, 3))  \n",
       "10                            my_array.resize((3, 3))  \n",
       "11           my_array_squeezed = np.squeeze(my_array)  \n",
       "12     my_array_swapped = np.swapaxes(my_array, 0, 1)  \n",
       "13     my_array_subset = np.take(my_array, [0, 2, 4])  \n",
       "14       my_array_transposed = np.transpose(my_array)  \n",
       "15                my_array_sorted = np.sort(my_array)  \n",
       "16     my_array_sorted_indices = np.argsort(my_array)  \n",
       "17           my_array_min_index = np.argmin(my_array)  \n",
       "18           my_array_max_index = np.argmax(my_array)  \n",
       "19  my_array_search_indices = np.searchsorted(my_a...  \n",
       "20        my_array_clipped = np.clip(my_array, 0, 10)  \n",
       "21           my_array_rounded = np.round(my_array, 2)  \n",
       "22                my_array_ceiled = np.ceil(my_array)  \n",
       "23              my_array_floored = np.floor(my_array)  \n",
       "24             my_array_rounded = np.around(my_array)  \n",
       "25          my_array_isfinite = np.isfinite(my_array)  \n",
       "26                my_array_isnan = np.isnan(my_array)  \n",
       "27                                                NaN  "
      ]
     },
     "execution_count": 95,
     "metadata": {},
     "output_type": "execute_result"
    }
   ],
   "source": [
    "import pandas as pd\n",
    "\n",
    "table_data : pd.DataFrame = pd.read_csv(\"./explain this _Save and Load Array Data_ and _others_ in table form - explain this _Save and Load Array Data_ and _others_ in table form.csv\")\n",
    "\n",
    "table_data"
   ]
  },
  {
   "cell_type": "code",
   "execution_count": null,
   "metadata": {},
   "outputs": [],
   "source": []
  }
 ],
 "metadata": {
  "kernelspec": {
   "display_name": "p-learning",
   "language": "python",
   "name": "python3"
  },
  "language_info": {
   "codemirror_mode": {
    "name": "ipython",
    "version": 3
   },
   "file_extension": ".py",
   "mimetype": "text/x-python",
   "name": "python",
   "nbconvert_exporter": "python",
   "pygments_lexer": "ipython3",
   "version": "3.11.5"
  }
 },
 "nbformat": 4,
 "nbformat_minor": 2
}
